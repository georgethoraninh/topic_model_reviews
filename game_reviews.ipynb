{
  "nbformat": 4,
  "nbformat_minor": 0,
  "metadata": {
    "colab": {
      "name": "game_reviews.ipynb",
      "provenance": [],
      "collapsed_sections": [],
      "toc_visible": true,
      "authorship_tag": "ABX9TyPbly59aeJr+EN8tI5X/iY8"
    },
    "kernelspec": {
      "name": "python3",
      "display_name": "Python 3"
    }
  },
  "cells": [
    {
      "cell_type": "markdown",
      "metadata": {
        "id": "2PukqYlZmbft",
        "colab_type": "text"
      },
      "source": [
        "# Aspect Based Sentiment Analysis on Zynga Poker Reviews"
      ]
    },
    {
      "cell_type": "markdown",
      "metadata": {
        "id": "94YwYPq30_U0",
        "colab_type": "text"
      },
      "source": [
        "## Data Acquisition"
      ]
    },
    {
      "cell_type": "markdown",
      "metadata": {
        "id": "QXxJNQii1I2w",
        "colab_type": "text"
      },
      "source": [
        "We are extracting Bingo Pop review data from the [Google Play store](https://play.google.com/store/apps/details?id=com.zynga.livepoker&showAllReviews=true). We decided to focus primarily on the Google Play store as opposed to Apple App store because of the vast amount of ratings and reviews Google Play provided."
      ]
    },
    {
      "cell_type": "code",
      "metadata": {
        "id": "WRkxxafWxrJZ",
        "colab_type": "code",
        "colab": {
          "base_uri": "https://localhost:8080/",
          "height": 51
        },
        "outputId": "0a7e6ebb-f75c-4911-b93b-5fcc03c86573"
      },
      "source": [
        "!pip install -qq google-play-scraper"
      ],
      "execution_count": 1,
      "outputs": [
        {
          "output_type": "stream",
          "text": [
            "\u001b[?25l\r\u001b[K     |██████▉                         | 10kB 19.4MB/s eta 0:00:01\r\u001b[K     |█████████████▊                  | 20kB 2.8MB/s eta 0:00:01\r\u001b[K     |████████████████████▌           | 30kB 3.4MB/s eta 0:00:01\r\u001b[K     |███████████████████████████▍    | 40kB 3.8MB/s eta 0:00:01\r\u001b[K     |████████████████████████████████| 51kB 2.4MB/s \n",
            "\u001b[?25h  Building wheel for google-play-scraper (setup.py) ... \u001b[?25l\u001b[?25hdone\n"
          ],
          "name": "stdout"
        }
      ]
    },
    {
      "cell_type": "markdown",
      "metadata": {
        "id": "72Ci5h0MuoZx",
        "colab_type": "text"
      },
      "source": [
        "### Import Libraries"
      ]
    },
    {
      "cell_type": "code",
      "metadata": {
        "id": "5wQh34cu0Sye",
        "colab_type": "code",
        "colab": {
          "base_uri": "https://localhost:8080/",
          "height": 51
        },
        "outputId": "1262f470-9ce0-45d7-846f-d4e8f6c2e33e"
      },
      "source": [
        "import json\n",
        "import pandas as pd\n",
        "pd.set_option('display.max_colwidth', 1000)\n",
        "from tqdm import tqdm\n",
        "\n",
        "import seaborn as sns\n",
        "plt.style.use('fivethirtyeight')\n",
        "import matplotlib.pyplot as plt\n",
        "%matplotlib inline\n",
        "\n",
        "import warnings\n",
        "warnings.simplefilter(\"ignore\")\n",
        "\n",
        "from pygments import highlight\n",
        "from pygments.lexers import JsonLexer\n",
        "from pygments.formatters import TerminalFormatter\n",
        "\n",
        "from google_play_scraper import Sort, reviews, app\n",
        "\n",
        "import nltk\n",
        "from nltk import FreqDist\n",
        "import string\n",
        "nltk.download('stopwords')\n",
        "from nltk.corpus import stopwords"
      ],
      "execution_count": 162,
      "outputs": [
        {
          "output_type": "stream",
          "text": [
            "[nltk_data] Downloading package stopwords to /root/nltk_data...\n",
            "[nltk_data]   Package stopwords is already up-to-date!\n"
          ],
          "name": "stdout"
        }
      ]
    },
    {
      "cell_type": "code",
      "metadata": {
        "id": "nhjKNea407LA",
        "colab_type": "code",
        "colab": {}
      },
      "source": [
        "app_packages = [\n",
        "    'com.zynga.livepoker'\n",
        "]"
      ],
      "execution_count": 3,
      "outputs": []
    },
    {
      "cell_type": "code",
      "metadata": {
        "id": "A9qAY8Ff5R-h",
        "colab_type": "code",
        "colab": {
          "base_uri": "https://localhost:8080/",
          "height": 34
        },
        "outputId": "eb10c558-b0c4-4265-e91c-b211ab78ae12"
      },
      "source": [
        "app_info = []\n",
        "\n",
        "for game in tqdm(app_packages):\n",
        "    info = app(game, lang = 'en', country = 'us')\n",
        "    del info['comments']\n",
        "    app_info.append(info)"
      ],
      "execution_count": 4,
      "outputs": [
        {
          "output_type": "stream",
          "text": [
            "100%|██████████| 1/1 [00:00<00:00,  6.55it/s]\n"
          ],
          "name": "stderr"
        }
      ]
    },
    {
      "cell_type": "markdown",
      "metadata": {
        "id": "mKSC8CfP768u",
        "colab_type": "text"
      },
      "source": [
        "Aids in highlighting important information in the JSON."
      ]
    },
    {
      "cell_type": "code",
      "metadata": {
        "id": "Ye6Q5uN_6Puv",
        "colab_type": "code",
        "colab": {}
      },
      "source": [
        "def print_json(json_object):\n",
        "    json_str = json.dumps(\n",
        "        json_object,\n",
        "        indent = 2,\n",
        "        sort_keys = True,\n",
        "        default = str\n",
        "    )\n",
        "\n",
        "    print(highlight(json_str, JsonLexer(), TerminalFormatter()))"
      ],
      "execution_count": 5,
      "outputs": []
    },
    {
      "cell_type": "code",
      "metadata": {
        "id": "DdHxO-1V6UO4",
        "colab_type": "code",
        "colab": {
          "base_uri": "https://localhost:8080/",
          "height": 1000
        },
        "outputId": "4ba8513c-ba35-4041-82a5-c60f0be7b42a"
      },
      "source": [
        "print_json(app_info[0])"
      ],
      "execution_count": 6,
      "outputs": [
        {
          "output_type": "stream",
          "text": [
            "{\n",
            "  \u001b[34;01m\"adSupported\"\u001b[39;49;00m: \u001b[34mtrue\u001b[39;49;00m,\n",
            "  \u001b[34;01m\"androidVersion\"\u001b[39;49;00m: \u001b[33m\"4.1\"\u001b[39;49;00m,\n",
            "  \u001b[34;01m\"androidVersionText\"\u001b[39;49;00m: \u001b[33m\"4.1 and up\"\u001b[39;49;00m,\n",
            "  \u001b[34;01m\"appId\"\u001b[39;49;00m: \u001b[33m\"com.zynga.livepoker\"\u001b[39;49;00m,\n",
            "  \u001b[34;01m\"containsAds\"\u001b[39;49;00m: \u001b[34mtrue\u001b[39;49;00m,\n",
            "  \u001b[34;01m\"contentRating\"\u001b[39;49;00m: \u001b[33m\"Teen\"\u001b[39;49;00m,\n",
            "  \u001b[34;01m\"contentRatingDescription\"\u001b[39;49;00m: \u001b[33m\"Simulated Gambling\"\u001b[39;49;00m,\n",
            "  \u001b[34;01m\"currency\"\u001b[39;49;00m: \u001b[33m\"USD\"\u001b[39;49;00m,\n",
            "  \u001b[34;01m\"description\"\u001b[39;49;00m: \u001b[33m\"\\ufeffJoin one of the world's most popular free poker games with more tables, more tournaments, more jackpots, and more players to challenge than ever before! Whether you prefer casual Texas Holdem Poker or competitive tournaments, Zynga Poker is your home for authentic gameplay.\\r\\n\\r\\n==ZYNGA POKER FEATURES==\\r\\n\\r\\nAUTHENTIC WORLD POKER TOUR EXPERIENCE \\u2013 Play Holdem poker games like a pro at the WPT Final Table in the new WPT Tournament mode!\\r\\n\\r\\nHIGHER STAKES, BIGGER PAYOUTS \\u2013 Higher buy-ins mean you can win even more virtual chips for every tournament you play.\\r\\n\\r\\nFASTER TOURNAMENTS \\u2013 Compete at the traditional 9-person table or the new 5-person table for faster play.\\r\\n\\r\\nVIP PROGRAM \\u2013 Earn in-game benefits and features by reaching higher Tiers in our VIP Program! Enjoy exclusive chip package offerings and special poker game modes.\\r\\n\\r\\nFREE CHIPS \\u2013 Get a welcome bonus of 60,000 FREE chips just for downloading your new favorite, free Holdem poker game! Plus, win a daily bonus of up to $45,000,000 in in-game money!\\r\\n\\r\\nTEXAS HOLDEM YOUR WAY \\u2013 Stay casual with a classic, free Texas Holdem game or turn up the heat and go for the high-stakes jackpot. It\\u2019s up to you how high the stakes go! Texas Holdem Poker games for all experience and skill levels! \\r\\n\\r\\nFAIR PLAY \\u2013 Zynga Poker is officially certified to play like a real table experience. Take your online poker games anywhere and know that you\\u2019re getting the true Vegas-style game.\\r\\n\\r\\nVARIETY \\u2013 Play poker free and however you want! Join a Sit n Go game or a casual online poker game, and win generous in-game payouts! 5 player or 9 player, fast or slow, join the table and stakes you want. Zynga Poker caters to all playing types and skill levels.\\r\\n\\r\\nLEAGUES \\u2013 Join millions of players across the World competing in our online Poker Season competition. Win the most chips to come out on top and become the Texas Holdem Poker champion!\\r\\n\\r\\nSOCIAL POKER EXPERIENCE \\u2013 Challenge your friends to poker games, or meet new friends online. Zynga Poker has the strongest community of any poker game.\\r\\n\\r\\nPLAY ANYWHERE \\u2013 Take your favorite poker game anywhere for free. Play seamlessly across all web and mobile versions -- just log in with your Facebook profile!\\r\\n\\r\\nZynga Poker is the destination for video poker players, social casino fans and table top poker players alike. If you\\u2019re a fan of the Vegas casino experience, you\\u2019ll feel right at home in our friendly poker community!\\r\\n\\r\\nDownload Zynga Poker and start playing today for free! The classic casino card game, now for mobile and online play!\\r\\n\\r\\nTALK TO US \\u2013 Let us know what you'd like to see next by hitting us up on Facebook or Twitter:\\r\\nFacebook: https://www.facebook.com/TexasHoldEm/\\r\\nTwitter: https://twitter.com/zyngapoker\\r\\n\\r\\nAdditional Information:\\r\\n\\u00b7 This free poker game is intended for an adult audience and does not offer real money gambling or an opportunity to win real money or prizes. Practice or success at social gaming does not imply future success at real money gambling.\\r\\n\\u00b7 The game is free to play; however, in-app purchases are available for additional content and in-game currency.\\r\\n\\u00b7 Use of this application is governed by Zynga\\u2019s Terms of Service, found at www.zynga.com/legal/terms-of-service.\\r\\n\\u00b7 For information about how Zynga uses personal data, please read our privacy policy at www.zynga.com/privacy/policy.\"\u001b[39;49;00m,\n",
            "  \u001b[34;01m\"descriptionHTML\"\u001b[39;49;00m: \u001b[33m\"\\ufeffJoin one of the world&#39;s most popular free poker games with more tables, more tournaments, more jackpots, and more players to challenge than ever before! Whether you prefer casual Texas Holdem Poker or competitive tournaments, Zynga Poker is your home for authentic gameplay.<br><br>==ZYNGA POKER FEATURES==<br><br>AUTHENTIC WORLD POKER TOUR EXPERIENCE \\u2013 Play Holdem poker games like a pro at the WPT Final Table in the new WPT Tournament mode!<br><br>HIGHER STAKES, BIGGER PAYOUTS \\u2013 Higher buy-ins mean you can win even more virtual chips for every tournament you play.<br><br>FASTER TOURNAMENTS \\u2013 Compete at the traditional 9-person table or the new 5-person table for faster play.<br><br>VIP PROGRAM \\u2013 Earn in-game benefits and features by reaching higher Tiers in our VIP Program! Enjoy exclusive chip package offerings and special poker game modes.<br><br>FREE CHIPS \\u2013 Get a welcome bonus of 60,000 FREE chips just for downloading your new favorite, free Holdem poker game! Plus, win a daily bonus of up to $45,000,000 in in-game money!<br><br>TEXAS HOLDEM YOUR WAY \\u2013 Stay casual with a classic, free Texas Holdem game or turn up the heat and go for the high-stakes jackpot. It\\u2019s up to you how high the stakes go! Texas Holdem Poker games for all experience and skill levels! <br><br>FAIR PLAY \\u2013 Zynga Poker is officially certified to play like a real table experience. Take your online poker games anywhere and know that you\\u2019re getting the true Vegas-style game.<br><br>VARIETY \\u2013 Play poker free and however you want! Join a Sit n Go game or a casual online poker game, and win generous in-game payouts! 5 player or 9 player, fast or slow, join the table and stakes you want. Zynga Poker caters to all playing types and skill levels.<br><br>LEAGUES \\u2013 Join millions of players across the World competing in our online Poker Season competition. Win the most chips to come out on top and become the Texas Holdem Poker champion!<br><br>SOCIAL POKER EXPERIENCE \\u2013 Challenge your friends to poker games, or meet new friends online. Zynga Poker has the strongest community of any poker game.<br><br>PLAY ANYWHERE \\u2013 Take your favorite poker game anywhere for free. Play seamlessly across all web and mobile versions -- just log in with your Facebook profile!<br><br>Zynga Poker is the destination for video poker players, social casino fans and table top poker players alike. If you\\u2019re a fan of the Vegas casino experience, you\\u2019ll feel right at home in our friendly poker community!<br><br>Download Zynga Poker and start playing today for free! The classic casino card game, now for mobile and online play!<br><br>TALK TO US \\u2013 Let us know what you&#39;d like to see next by hitting us up on Facebook or Twitter:<br>Facebook: https://www.facebook.com/TexasHoldEm/<br>Twitter: https://twitter.com/zyngapoker<br><br>Additional Information:<br>\\u00b7 This free poker game is intended for an adult audience and does not offer real money gambling or an opportunity to win real money or prizes. Practice or success at social gaming does not imply future success at real money gambling.<br>\\u00b7 The game is free to play; however, in-app purchases are available for additional content and in-game currency.<br>\\u00b7 Use of this application is governed by Zynga\\u2019s Terms of Service, found at www.zynga.com/legal/terms-of-service.<br>\\u00b7 For information about how Zynga uses personal data, please read our privacy policy at www.zynga.com/privacy/policy.\"\u001b[39;49;00m,\n",
            "  \u001b[34;01m\"developer\"\u001b[39;49;00m: \u001b[33m\"Zynga\"\u001b[39;49;00m,\n",
            "  \u001b[34;01m\"developerAddress\"\u001b[39;49;00m: \u001b[33m\"699 8th Street, San Francisco. CA\"\u001b[39;49;00m,\n",
            "  \u001b[34;01m\"developerEmail\"\u001b[39;49;00m: \u001b[33m\"android.support@zynga.com\"\u001b[39;49;00m,\n",
            "  \u001b[34;01m\"developerId\"\u001b[39;49;00m: \u001b[33m\"6690081412016968981\"\u001b[39;49;00m,\n",
            "  \u001b[34;01m\"developerInternalID\"\u001b[39;49;00m: \u001b[33m\"6690081412016968981\"\u001b[39;49;00m,\n",
            "  \u001b[34;01m\"developerWebsite\"\u001b[39;49;00m: \u001b[33m\"https://www.zynga.com/\"\u001b[39;49;00m,\n",
            "  \u001b[34;01m\"free\"\u001b[39;49;00m: \u001b[34mtrue\u001b[39;49;00m,\n",
            "  \u001b[34;01m\"genre\"\u001b[39;49;00m: \u001b[33m\"Casino\"\u001b[39;49;00m,\n",
            "  \u001b[34;01m\"genreId\"\u001b[39;49;00m: \u001b[33m\"GAME_CASINO\"\u001b[39;49;00m,\n",
            "  \u001b[34;01m\"headerImage\"\u001b[39;49;00m: \u001b[33m\"https://lh3.googleusercontent.com/-RCYQ1qcOmOizZyd67YA9ofIOabJMI10SkoYJoZ9l4xvVu_7AKhZQ5cBKl6969c2WHc\"\u001b[39;49;00m,\n",
            "  \u001b[34;01m\"histogram\"\u001b[39;49;00m: [\n",
            "    \u001b[34m238262\u001b[39;49;00m,\n",
            "    \u001b[34m42106\u001b[39;49;00m,\n",
            "    \u001b[34m100989\u001b[39;49;00m,\n",
            "    \u001b[34m291847\u001b[39;49;00m,\n",
            "    \u001b[34m1799543\u001b[39;49;00m\n",
            "  ],\n",
            "  \u001b[34;01m\"icon\"\u001b[39;49;00m: \u001b[33m\"https://lh3.googleusercontent.com/JYfNHIlJVGCnAwZx1XexiunJMStcZYyBRe6ERMGec8W9YHmxeJdKxUHJ_qFvzxMU7Q\"\u001b[39;49;00m,\n",
            "  \u001b[34;01m\"installs\"\u001b[39;49;00m: \u001b[33m\"50,000,000+\"\u001b[39;49;00m,\n",
            "  \u001b[34;01m\"minInstalls\"\u001b[39;49;00m: \u001b[34m50000000\u001b[39;49;00m,\n",
            "  \u001b[34;01m\"offersIAP\"\u001b[39;49;00m: \u001b[34mtrue\u001b[39;49;00m,\n",
            "  \u001b[34;01m\"originalPrice\"\u001b[39;49;00m: \u001b[34mnull\u001b[39;49;00m,\n",
            "  \u001b[34;01m\"price\"\u001b[39;49;00m: \u001b[34m0\u001b[39;49;00m,\n",
            "  \u001b[34;01m\"privacyPolicy\"\u001b[39;49;00m: \u001b[33m\"https://www.zynga.com/privacy/policy\"\u001b[39;49;00m,\n",
            "  \u001b[34;01m\"ratings\"\u001b[39;49;00m: \u001b[34m2472750\u001b[39;49;00m,\n",
            "  \u001b[34;01m\"recentChanges\"\u001b[39;49;00m: \u001b[33m\"More Rewards, More Challenges, More FREE CHIPS!  Play in all new challenges to earn tons and tons of free chips!\"\u001b[39;49;00m,\n",
            "  \u001b[34;01m\"recentChangesHTML\"\u001b[39;49;00m: \u001b[33m\"More Rewards, More Challenges, More FREE CHIPS!  Play in all new challenges to earn tons and tons of free chips!\"\u001b[39;49;00m,\n",
            "  \u001b[34;01m\"released\"\u001b[39;49;00m: \u001b[33m\"Dec 21, 2010\"\u001b[39;49;00m,\n",
            "  \u001b[34;01m\"reviews\"\u001b[39;49;00m: \u001b[34m709411\u001b[39;49;00m,\n",
            "  \u001b[34;01m\"sale\"\u001b[39;49;00m: \u001b[34mfalse\u001b[39;49;00m,\n",
            "  \u001b[34;01m\"saleText\"\u001b[39;49;00m: \u001b[34mnull\u001b[39;49;00m,\n",
            "  \u001b[34;01m\"saleTime\"\u001b[39;49;00m: \u001b[34mnull\u001b[39;49;00m,\n",
            "  \u001b[34;01m\"score\"\u001b[39;49;00m: \u001b[34m4.3637867\u001b[39;49;00m,\n",
            "  \u001b[34;01m\"screenshots\"\u001b[39;49;00m: [\n",
            "    \u001b[33m\"https://lh3.googleusercontent.com/EOnSIIWRUUmUpxvKXeqdtSpVmdwQe8SGHXMiqN6EDslHDElBXt38QaMIjaT-GUOxRnU\"\u001b[39;49;00m,\n",
            "    \u001b[33m\"https://lh3.googleusercontent.com/h_dh42T7Fv9jigt2R2U8Ywh2_oEvqYQPphqKlzncHc18Kg6MaUotSycw7r3R3IQYJjAk\"\u001b[39;49;00m,\n",
            "    \u001b[33m\"https://lh3.googleusercontent.com/YqrSskn6zU4ur1NOBcvLCPTYvi_4kcQEJqWMPHuDHSHOKCsLWh3-zcBmBhO946DwsQ\"\u001b[39;49;00m,\n",
            "    \u001b[33m\"https://lh3.googleusercontent.com/7WvmnDVjlKPTMHJpgLNs_nGSphDmziJ0XF9T9mkMJ1wd2re72iS86NwUoHmnLWO3hZo\"\u001b[39;49;00m,\n",
            "    \u001b[33m\"https://lh3.googleusercontent.com/rNVJFaKPSLMNISoRhQ4oENwT4VahCJAEgovq-zdoEYQn3PE3rrB2o50MQUWY7myhsg\"\u001b[39;49;00m,\n",
            "    \u001b[33m\"https://lh3.googleusercontent.com/0KvbdVNx3L4jUq4ahFb_yRhzrFy_R5UK4RYQdh8d3WWgEHzpTPnuo7zfRGL_QOMdfAM\"\u001b[39;49;00m,\n",
            "    \u001b[33m\"https://lh3.googleusercontent.com/DpK81ERjpovKcDoT7EflxAZ0VPabMzkO65pESvHv6givjwZelvszlV6-_0YtvwMsRKZs\"\u001b[39;49;00m,\n",
            "    \u001b[33m\"https://lh3.googleusercontent.com/_y03gsw6b_lRExHtkBAkkycv0864L3V4vOobwi_OiFe-dOyIRYof5dUTs-HrXdjkKqE\"\u001b[39;49;00m,\n",
            "    \u001b[33m\"https://lh3.googleusercontent.com/0oKKG9-sTMAVinkH4x52E3xudRoTURZ3bq8W2ceKAv3yHqVsguXDcf_j5ZdfGmEvCMo\"\u001b[39;49;00m,\n",
            "    \u001b[33m\"https://lh3.googleusercontent.com/8HjvL-21q0I1TybskhaKJgY7w66mV5Bz1OiKS2U73fv70ha3Nc2H6w_Ahqu5b-lLBXY\"\u001b[39;49;00m,\n",
            "    \u001b[33m\"https://lh3.googleusercontent.com/h5Y5Jp8sxuJMVa9wfSJZJ5_y4Mp0VPJgBHTtfMr1KwjBmhFK_eUhsNJpxxD4YlKVWw\"\u001b[39;49;00m,\n",
            "    \u001b[33m\"https://lh3.googleusercontent.com/6G0ATlUxSxVh4nCkvaHVCWq-9e4kRbpnO3iGuV2p77RMZWSKS2wspud8LDAxUWL35vo\"\u001b[39;49;00m,\n",
            "    \u001b[33m\"https://lh3.googleusercontent.com/xqMJTyK25AR2A_HfpE3CD1U8Qc8wy8URz-0Kb1dDJMcKZkPfLBhTTZONxS_gf55Bo_8\"\u001b[39;49;00m,\n",
            "    \u001b[33m\"https://lh3.googleusercontent.com/Fl2ZMqeJKWTeWpx_zIloB7rnOXoGg0l8DasszfLS91R8l3AfNy_N8p7PxmywNP2OgA\"\u001b[39;49;00m,\n",
            "    \u001b[33m\"https://lh3.googleusercontent.com/yEAJID1SCBzIBcazRRwYrGCS-1wRnwB6zgXiI3ztE0CdsboSh5Qt2B6q_R9DKhOJgQ\"\u001b[39;49;00m\n",
            "  ],\n",
            "  \u001b[34;01m\"size\"\u001b[39;49;00m: \u001b[33m\"86M\"\u001b[39;49;00m,\n",
            "  \u001b[34;01m\"summary\"\u001b[39;49;00m: \u001b[33m\"Be the stars. Play the most exciting series of Hold'em Poker game in the world!\"\u001b[39;49;00m,\n",
            "  \u001b[34;01m\"summaryHTML\"\u001b[39;49;00m: \u001b[33m\"Be the stars. Play the most exciting series of Hold&#39;em Poker game in the world!\"\u001b[39;49;00m,\n",
            "  \u001b[34;01m\"title\"\u001b[39;49;00m: \u001b[33m\"Zynga Poker \\u2013 Free Texas Holdem Online Card Games\"\u001b[39;49;00m,\n",
            "  \u001b[34;01m\"updated\"\u001b[39;49;00m: \u001b[34m1591909492\u001b[39;49;00m,\n",
            "  \u001b[34;01m\"url\"\u001b[39;49;00m: \u001b[33m\"https://play.google.com/store/apps/details?id=com.zynga.livepoker&hl=en&gl=us\"\u001b[39;49;00m,\n",
            "  \u001b[34;01m\"version\"\u001b[39;49;00m: \u001b[33m\"21.94\"\u001b[39;49;00m,\n",
            "  \u001b[34;01m\"video\"\u001b[39;49;00m: \u001b[34mnull\u001b[39;49;00m,\n",
            "  \u001b[34;01m\"videoImage\"\u001b[39;49;00m: \u001b[34mnull\u001b[39;49;00m\n",
            "}\n",
            "\n"
          ],
          "name": "stdout"
        }
      ]
    },
    {
      "cell_type": "code",
      "metadata": {
        "id": "LDBDsUCZ9b8u",
        "colab_type": "code",
        "colab": {
          "base_uri": "https://localhost:8080/",
          "height": 219
        },
        "outputId": "56fb9295-267b-4bf5-f2bf-d00add5b5aec"
      },
      "source": [
        "app_info_df = pd.DataFrame(app_info)\n",
        "app_info_df.head()"
      ],
      "execution_count": 7,
      "outputs": [
        {
          "output_type": "execute_result",
          "data": {
            "text/html": [
              "<div>\n",
              "<style scoped>\n",
              "    .dataframe tbody tr th:only-of-type {\n",
              "        vertical-align: middle;\n",
              "    }\n",
              "\n",
              "    .dataframe tbody tr th {\n",
              "        vertical-align: top;\n",
              "    }\n",
              "\n",
              "    .dataframe thead th {\n",
              "        text-align: right;\n",
              "    }\n",
              "</style>\n",
              "<table border=\"1\" class=\"dataframe\">\n",
              "  <thead>\n",
              "    <tr style=\"text-align: right;\">\n",
              "      <th></th>\n",
              "      <th>title</th>\n",
              "      <th>description</th>\n",
              "      <th>descriptionHTML</th>\n",
              "      <th>summary</th>\n",
              "      <th>summaryHTML</th>\n",
              "      <th>installs</th>\n",
              "      <th>minInstalls</th>\n",
              "      <th>score</th>\n",
              "      <th>ratings</th>\n",
              "      <th>reviews</th>\n",
              "      <th>histogram</th>\n",
              "      <th>price</th>\n",
              "      <th>free</th>\n",
              "      <th>currency</th>\n",
              "      <th>sale</th>\n",
              "      <th>saleTime</th>\n",
              "      <th>originalPrice</th>\n",
              "      <th>saleText</th>\n",
              "      <th>offersIAP</th>\n",
              "      <th>size</th>\n",
              "      <th>androidVersion</th>\n",
              "      <th>androidVersionText</th>\n",
              "      <th>developer</th>\n",
              "      <th>developerId</th>\n",
              "      <th>developerEmail</th>\n",
              "      <th>developerWebsite</th>\n",
              "      <th>developerAddress</th>\n",
              "      <th>privacyPolicy</th>\n",
              "      <th>developerInternalID</th>\n",
              "      <th>genre</th>\n",
              "      <th>genreId</th>\n",
              "      <th>icon</th>\n",
              "      <th>headerImage</th>\n",
              "      <th>screenshots</th>\n",
              "      <th>video</th>\n",
              "      <th>videoImage</th>\n",
              "      <th>contentRating</th>\n",
              "      <th>contentRatingDescription</th>\n",
              "      <th>adSupported</th>\n",
              "      <th>containsAds</th>\n",
              "      <th>released</th>\n",
              "      <th>updated</th>\n",
              "      <th>version</th>\n",
              "      <th>recentChanges</th>\n",
              "      <th>recentChangesHTML</th>\n",
              "      <th>appId</th>\n",
              "      <th>url</th>\n",
              "    </tr>\n",
              "  </thead>\n",
              "  <tbody>\n",
              "    <tr>\n",
              "      <th>0</th>\n",
              "      <td>Zynga Poker – Free Texas Holdem Online Card Games</td>\n",
              "      <td>﻿Join one of the world's most popular free pok...</td>\n",
              "      <td>﻿Join one of the world&amp;#39;s most popular free...</td>\n",
              "      <td>Be the stars. Play the most exciting series of...</td>\n",
              "      <td>Be the stars. Play the most exciting series of...</td>\n",
              "      <td>50,000,000+</td>\n",
              "      <td>50000000</td>\n",
              "      <td>4.363787</td>\n",
              "      <td>2472750</td>\n",
              "      <td>709411</td>\n",
              "      <td>[238262, 42106, 100989, 291847, 1799543]</td>\n",
              "      <td>0</td>\n",
              "      <td>True</td>\n",
              "      <td>USD</td>\n",
              "      <td>False</td>\n",
              "      <td>None</td>\n",
              "      <td>None</td>\n",
              "      <td>None</td>\n",
              "      <td>True</td>\n",
              "      <td>86M</td>\n",
              "      <td>4.1</td>\n",
              "      <td>4.1 and up</td>\n",
              "      <td>Zynga</td>\n",
              "      <td>6690081412016968981</td>\n",
              "      <td>android.support@zynga.com</td>\n",
              "      <td>https://www.zynga.com/</td>\n",
              "      <td>699 8th Street, San Francisco. CA</td>\n",
              "      <td>https://www.zynga.com/privacy/policy</td>\n",
              "      <td>6690081412016968981</td>\n",
              "      <td>Casino</td>\n",
              "      <td>GAME_CASINO</td>\n",
              "      <td>https://lh3.googleusercontent.com/JYfNHIlJVGCn...</td>\n",
              "      <td>https://lh3.googleusercontent.com/-RCYQ1qcOmOi...</td>\n",
              "      <td>[https://lh3.googleusercontent.com/EOnSIIWRUUm...</td>\n",
              "      <td>None</td>\n",
              "      <td>None</td>\n",
              "      <td>Teen</td>\n",
              "      <td>Simulated Gambling</td>\n",
              "      <td>True</td>\n",
              "      <td>True</td>\n",
              "      <td>Dec 21, 2010</td>\n",
              "      <td>1591909492</td>\n",
              "      <td>21.94</td>\n",
              "      <td>More Rewards, More Challenges, More FREE CHIPS...</td>\n",
              "      <td>More Rewards, More Challenges, More FREE CHIPS...</td>\n",
              "      <td>com.zynga.livepoker</td>\n",
              "      <td>https://play.google.com/store/apps/details?id=...</td>\n",
              "    </tr>\n",
              "  </tbody>\n",
              "</table>\n",
              "</div>"
            ],
            "text/plain": [
              "                                               title  ...                                                url\n",
              "0  Zynga Poker – Free Texas Holdem Online Card Games  ...  https://play.google.com/store/apps/details?id=...\n",
              "\n",
              "[1 rows x 47 columns]"
            ]
          },
          "metadata": {
            "tags": []
          },
          "execution_count": 7
        }
      ]
    },
    {
      "cell_type": "code",
      "metadata": {
        "id": "4PB98L3y_Dkl",
        "colab_type": "code",
        "colab": {}
      },
      "source": [
        "app_info_df.to_csv('games.csv', index = None, header = True)"
      ],
      "execution_count": 8,
      "outputs": []
    },
    {
      "cell_type": "markdown",
      "metadata": {
        "id": "5QBPs-eVBUxZ",
        "colab_type": "text"
      },
      "source": [
        "### Extract game reviews"
      ]
    },
    {
      "cell_type": "markdown",
      "metadata": {
        "id": "DcPu4_LoMTjs",
        "colab_type": "text"
      },
      "source": [
        "We can filter by different ratings: 1 - 5 star. As well, we can sort reviews by most relevant, rating or newest. In this case, we will sort by the newest reviews to get an idea of what users are saying most recently and also will be able to see the change over time."
      ]
    },
    {
      "cell_type": "code",
      "metadata": {
        "id": "5K8DOQek_fhx",
        "colab_type": "code",
        "colab": {
          "base_uri": "https://localhost:8080/",
          "height": 34
        },
        "outputId": "b0d0a463-17ea-4ca8-8101-2b278bf823ad"
      },
      "source": [
        "game_reviews = []\n",
        "\n",
        "for game in tqdm(app_packages):\n",
        "    for score in list(range(1, 6)):\n",
        "        rvs, _ = reviews(\n",
        "            game,\n",
        "            lang = 'en',\n",
        "            country = 'us',\n",
        "            sort = Sort.NEWEST,\n",
        "            count = 100000,\n",
        "            filter_score_with = score\n",
        "        )\n",
        "        game_reviews.extend(rvs)"
      ],
      "execution_count": 9,
      "outputs": [
        {
          "output_type": "stream",
          "text": [
            "100%|██████████| 1/1 [05:44<00:00, 344.01s/it]\n"
          ],
          "name": "stderr"
        }
      ]
    },
    {
      "cell_type": "markdown",
      "metadata": {
        "id": "Q_Lg98e_JkCP",
        "colab_type": "text"
      },
      "source": [
        "### Sample review"
      ]
    },
    {
      "cell_type": "code",
      "metadata": {
        "id": "YwkBQamsESKu",
        "colab_type": "code",
        "colab": {
          "base_uri": "https://localhost:8080/",
          "height": 258
        },
        "outputId": "93098381-b89c-4c11-cb1f-e91346fe8f75"
      },
      "source": [
        "print_json(game_reviews[12])"
      ],
      "execution_count": 11,
      "outputs": [
        {
          "output_type": "stream",
          "text": [
            "{\n",
            "  \u001b[34;01m\"at\"\u001b[39;49;00m: \u001b[33m\"2020-06-21 17:57:26\"\u001b[39;49;00m,\n",
            "  \u001b[34;01m\"content\"\u001b[39;49;00m: \u001b[33m\"Daily friend bonus doesn't work after the first month!! Seport doesn't see a problem after numerous screenshots and proof!! Very bad!!!\"\u001b[39;49;00m,\n",
            "  \u001b[34;01m\"repliedAt\"\u001b[39;49;00m: \u001b[33m\"2020-03-02 06:17:11\"\u001b[39;49;00m,\n",
            "  \u001b[34;01m\"replyContent\"\u001b[39;49;00m: \u001b[33m\"Hi Chrizandr\\u0117, thank you for taking the time to leave us such a nice review. For gameplay concerns, you can reach out to us at http://zynga.my/ContactSupport Have a good day!\"\u001b[39;49;00m,\n",
            "  \u001b[34;01m\"reviewCreatedVersion\"\u001b[39;49;00m: \u001b[33m\"21.89\"\u001b[39;49;00m,\n",
            "  \u001b[34;01m\"reviewId\"\u001b[39;49;00m: \u001b[33m\"gp:AOqpTOFRzTVHsPuHG3FFpZDV2oDl-sjSnkW1588xFGfi1-1_SJ0je8uJwXu0TcbKtTjqhrk89hyv9NZ_ejR_Hw\"\u001b[39;49;00m,\n",
            "  \u001b[34;01m\"score\"\u001b[39;49;00m: \u001b[34m1\u001b[39;49;00m,\n",
            "  \u001b[34;01m\"thumbsUpCount\"\u001b[39;49;00m: \u001b[34m0\u001b[39;49;00m,\n",
            "  \u001b[34;01m\"userImage\"\u001b[39;49;00m: \u001b[33m\"https://lh3.googleusercontent.com/-0C4hHe5AcB8/AAAAAAAAAAI/AAAAAAAAAAA/AMZuucmFrxcXzaEdDHi9xEPTDXIuFczlWw/photo.jpg\"\u001b[39;49;00m,\n",
            "  \u001b[34;01m\"userName\"\u001b[39;49;00m: \u001b[33m\"Chrizandr\\u0117 Naude\"\u001b[39;49;00m\n",
            "}\n",
            "\n"
          ],
          "name": "stdout"
        }
      ]
    },
    {
      "cell_type": "markdown",
      "metadata": {
        "id": "KACSoIxnP93a",
        "colab_type": "text"
      },
      "source": [
        "Key Information:\n",
        "- `at` - Date & time a user left feedback\n",
        "- `content` - Feedback given by the user\n",
        "- `reviewCreatedVersion` - Current version of game\n",
        "- `score` - Rating given be the user\n",
        "- `thumbsUpCount` - Amount of people who also agreed with the review"
      ]
    },
    {
      "cell_type": "code",
      "metadata": {
        "id": "RLOoxIc8Ejoc",
        "colab_type": "code",
        "colab": {
          "base_uri": "https://localhost:8080/",
          "height": 34
        },
        "outputId": "90bdbf30-6ed3-4ae8-a6e6-53813567a5f7"
      },
      "source": [
        "game_reviews_df = pd.DataFrame(game_reviews)\n",
        "game_reviews_df.shape"
      ],
      "execution_count": 12,
      "outputs": [
        {
          "output_type": "execute_result",
          "data": {
            "text/plain": [
              "(197096, 10)"
            ]
          },
          "metadata": {
            "tags": []
          },
          "execution_count": 12
        }
      ]
    },
    {
      "cell_type": "markdown",
      "metadata": {
        "id": "x6Kh-Q7JLn0m",
        "colab_type": "text"
      },
      "source": [
        "The Google Play store has approxiamately 2.5 million ratings and reviews. Of those reviews, 197,096 of them have feedback."
      ]
    },
    {
      "cell_type": "code",
      "metadata": {
        "id": "9WThc9EJQgPf",
        "colab_type": "code",
        "colab": {
          "base_uri": "https://localhost:8080/",
          "height": 119
        },
        "outputId": "88db9feb-2e13-4cb7-a8e9-6391337b70e7"
      },
      "source": [
        "game_reviews_df['score'].value_counts(normalize=True)"
      ],
      "execution_count": 13,
      "outputs": [
        {
          "output_type": "execute_result",
          "data": {
            "text/plain": [
              "5    0.507367\n",
              "1    0.189547\n",
              "4    0.179420\n",
              "3    0.076308\n",
              "2    0.047358\n",
              "Name: score, dtype: float64"
            ]
          },
          "metadata": {
            "tags": []
          },
          "execution_count": 13
        }
      ]
    },
    {
      "cell_type": "markdown",
      "metadata": {
        "id": "jLNqqagYQwgs",
        "colab_type": "text"
      },
      "source": [
        "Majority of reviews - 50% are 5 star ratings."
      ]
    },
    {
      "cell_type": "markdown",
      "metadata": {
        "id": "v6HtetdhMB27",
        "colab_type": "text"
      },
      "source": [
        "### Save dataframe to CSV"
      ]
    },
    {
      "cell_type": "code",
      "metadata": {
        "id": "-jGxu9UoKZbp",
        "colab_type": "code",
        "colab": {}
      },
      "source": [
        "game_reviews_df.to_csv('game_reviews.csv', index = None, header = True)"
      ],
      "execution_count": 14,
      "outputs": []
    },
    {
      "cell_type": "markdown",
      "metadata": {
        "id": "hnFPW9q_rgFN",
        "colab_type": "text"
      },
      "source": [
        "## Data Cleaning"
      ]
    },
    {
      "cell_type": "code",
      "metadata": {
        "id": "gTz8TIw8ritg",
        "colab_type": "code",
        "colab": {}
      },
      "source": [
        "clean_data_df = game_reviews_df[['at','content','score','thumbsUpCount','reviewCreatedVersion']]"
      ],
      "execution_count": 136,
      "outputs": []
    },
    {
      "cell_type": "code",
      "metadata": {
        "id": "_hKtIQCRvmP_",
        "colab_type": "code",
        "colab": {}
      },
      "source": [
        "clean_data_df.columns = ['date','review','rating','thumbs_up','version']"
      ],
      "execution_count": 137,
      "outputs": []
    },
    {
      "cell_type": "code",
      "metadata": {
        "id": "CbeQcRv8sX17",
        "colab_type": "code",
        "colab": {
          "base_uri": "https://localhost:8080/",
          "height": 221
        },
        "outputId": "b926e2fb-83f5-411d-bbd8-12e66852a5e4"
      },
      "source": [
        "clean_data_df.info()"
      ],
      "execution_count": 138,
      "outputs": [
        {
          "output_type": "stream",
          "text": [
            "<class 'pandas.core.frame.DataFrame'>\n",
            "RangeIndex: 197096 entries, 0 to 197095\n",
            "Data columns (total 5 columns):\n",
            " #   Column     Non-Null Count   Dtype         \n",
            "---  ------     --------------   -----         \n",
            " 0   date       197096 non-null  datetime64[ns]\n",
            " 1   review     196847 non-null  object        \n",
            " 2   rating     197096 non-null  int64         \n",
            " 3   thumbs_up  197096 non-null  int64         \n",
            " 4   version    168724 non-null  object        \n",
            "dtypes: datetime64[ns](1), int64(2), object(2)\n",
            "memory usage: 7.5+ MB\n"
          ],
          "name": "stdout"
        }
      ]
    },
    {
      "cell_type": "markdown",
      "metadata": {
        "id": "QcIV9JFHtC9B",
        "colab_type": "text"
      },
      "source": [
        "There are 249(.001%) reviews with no text and 28372(14%) of the reviews do not have an associated version number."
      ]
    },
    {
      "cell_type": "code",
      "metadata": {
        "id": "oRGxzBkuyv6d",
        "colab_type": "code",
        "colab": {}
      },
      "source": [
        "# Drop the null reviews\n",
        "clean_data_df = clean_data_df[~clean_data_df['review'].isna()]"
      ],
      "execution_count": 139,
      "outputs": []
    },
    {
      "cell_type": "code",
      "metadata": {
        "id": "IH4cGosAy__5",
        "colab_type": "code",
        "colab": {
          "base_uri": "https://localhost:8080/",
          "height": 34
        },
        "outputId": "ff1b12e0-d3c4-4c90-c693-88eb68bd14a2"
      },
      "source": [
        "clean_data_df.shape"
      ],
      "execution_count": 140,
      "outputs": [
        {
          "output_type": "execute_result",
          "data": {
            "text/plain": [
              "(196847, 5)"
            ]
          },
          "metadata": {
            "tags": []
          },
          "execution_count": 140
        }
      ]
    },
    {
      "cell_type": "code",
      "metadata": {
        "id": "m6DbJhI5sqXb",
        "colab_type": "code",
        "colab": {}
      },
      "source": [
        "# Function to plot the most frequent terms\n",
        "def freq_words(x, terms = 30):\n",
        "    all_words = ' '.join([str(text) for text in x])\n",
        "    all_words = all_words.split()\n",
        "\n",
        "    fdist = FreqDist(all_words)\n",
        "    words_df = pd.DataFrame({'word':list(fdist.keys()), 'count':list(fdist.values())})\n",
        "\n",
        "    # selecting top 20 most frequent words\n",
        "    d = words_df.nlargest(columns = 'count', n = terms) \n",
        "    plt.figure(figsize=(20,5))\n",
        "    ax = sns.barplot(data=d, x = 'word', y = 'count', palette = 'Blues_r')\n",
        "    ax.set(ylabel = 'Count')\n",
        "    plt.show()"
      ],
      "execution_count": 141,
      "outputs": []
    },
    {
      "cell_type": "code",
      "metadata": {
        "id": "STUtEci6tF1k",
        "colab_type": "code",
        "colab": {
          "base_uri": "https://localhost:8080/",
          "height": 336
        },
        "outputId": "90dc0833-c2c7-417e-e5a7-991d2a55d57f"
      },
      "source": [
        "freq_words(clean_data_df['review'])"
      ],
      "execution_count": 142,
      "outputs": [
        {
          "output_type": "display_data",
          "data": {
            "image/png": "[encoded data removed]",
            "text/plain": [
              "<Figure size 1440x360 with 1 Axes>"
            ]
          },
          "metadata": {
            "tags": [],
            "image/png": {
              "width": 1328,
              "height": 319
            },
            "needs_background": "light"
          }
        }
      ]
    },
    {
      "cell_type": "markdown",
      "metadata": {
        "id": "L5LvROuMuKhl",
        "colab_type": "text"
      },
      "source": [
        "Common words such as: to, I, the, it are not important for our task. Thus, we will get rid of any unnecessary words."
      ]
    },
    {
      "cell_type": "code",
      "metadata": {
        "id": "S0u97_55xMjx",
        "colab_type": "code",
        "colab": {}
      },
      "source": [
        "#convert to lower case\n",
        "clean_data_df['review'] = clean_data_df['review'].str.lower()"
      ],
      "execution_count": 143,
      "outputs": []
    },
    {
      "cell_type": "code",
      "metadata": {
        "id": "GxOOQHDaxwv6",
        "colab_type": "code",
        "colab": {}
      },
      "source": [
        "#url removal\n",
        "clean_data_df['review'] = clean_data_df['review'].str.replace(r'(https|http)?:\\/(\\w|\\.|\\/|\\?|\\=|\\&|\\%)*\\b','')\n",
        "clean_data_df['review'] = clean_data_df['review'].str.replace(r'www\\.\\S+\\.com','')"
      ],
      "execution_count": 144,
      "outputs": []
    },
    {
      "cell_type": "code",
      "metadata": {
        "id": "aqbMWjMlxz7L",
        "colab_type": "code",
        "colab": {}
      },
      "source": [
        "#hashtags removal\n",
        "clean_data_df['review'] = clean_data_df['review'].str.replace(r'#\\S+', '')"
      ],
      "execution_count": 145,
      "outputs": []
    },
    {
      "cell_type": "code",
      "metadata": {
        "id": "Nooujh1ax5tX",
        "colab_type": "code",
        "colab": {}
      },
      "source": [
        "#emoji removal\n",
        "clean_data_df['review'] = clean_data_df['review'].str.replace(r'[^\\x00-\\x7F]+', '')"
      ],
      "execution_count": 146,
      "outputs": []
    },
    {
      "cell_type": "code",
      "metadata": {
        "id": "mfAJrj-hx8g6",
        "colab_type": "code",
        "colab": {}
      },
      "source": [
        "#html tag removal\n",
        "clean_data_df['review'] = clean_data_df['review'].str.replace(r'<.*?>', '')"
      ],
      "execution_count": 147,
      "outputs": []
    },
    {
      "cell_type": "code",
      "metadata": {
        "id": "GBetq5-3yHyV",
        "colab_type": "code",
        "colab": {}
      },
      "source": [
        "#removes extra spaces\n",
        "clean_data_df['review'] = clean_data_df['review'].str.replace(r' +', ' ')"
      ],
      "execution_count": 148,
      "outputs": []
    },
    {
      "cell_type": "code",
      "metadata": {
        "id": "Vfk9cQ9QyJ_5",
        "colab_type": "code",
        "colab": {}
      },
      "source": [
        "#punctuation removal\n",
        "clean_data_df['review'] = clean_data_df['review'].str.replace('[{}]'.format(string.punctuation), '')"
      ],
      "execution_count": 149,
      "outputs": []
    },
    {
      "cell_type": "code",
      "metadata": {
        "id": "B-zbrb58zvNY",
        "colab_type": "code",
        "colab": {
          "base_uri": "https://localhost:8080/",
          "height": 204
        },
        "outputId": "3118904e-67ad-46be-a36f-6c2ecf94526a"
      },
      "source": [
        "clean_data_df.head()"
      ],
      "execution_count": 150,
      "outputs": [
        {
          "output_type": "execute_result",
          "data": {
            "text/html": [
              "<div>\n",
              "<style scoped>\n",
              "    .dataframe tbody tr th:only-of-type {\n",
              "        vertical-align: middle;\n",
              "    }\n",
              "\n",
              "    .dataframe tbody tr th {\n",
              "        vertical-align: top;\n",
              "    }\n",
              "\n",
              "    .dataframe thead th {\n",
              "        text-align: right;\n",
              "    }\n",
              "</style>\n",
              "<table border=\"1\" class=\"dataframe\">\n",
              "  <thead>\n",
              "    <tr style=\"text-align: right;\">\n",
              "      <th></th>\n",
              "      <th>date</th>\n",
              "      <th>review</th>\n",
              "      <th>rating</th>\n",
              "      <th>thumbs_up</th>\n",
              "      <th>version</th>\n",
              "    </tr>\n",
              "  </thead>\n",
              "  <tbody>\n",
              "    <tr>\n",
              "      <th>0</th>\n",
              "      <td>2020-06-22 00:40:06</td>\n",
              "      <td>they have the antention to make you loose in o...</td>\n",
              "      <td>1</td>\n",
              "      <td>0</td>\n",
              "      <td>None</td>\n",
              "    </tr>\n",
              "    <tr>\n",
              "      <th>1</th>\n",
              "      <td>2020-06-22 00:02:06</td>\n",
              "      <td>zynga is rigged and only favors facebook players</td>\n",
              "      <td>1</td>\n",
              "      <td>0</td>\n",
              "      <td>21.94</td>\n",
              "    </tr>\n",
              "    <tr>\n",
              "      <th>2</th>\n",
              "      <td>2020-06-21 23:36:19</td>\n",
              "      <td>hopeless poker game restriction betting</td>\n",
              "      <td>1</td>\n",
              "      <td>0</td>\n",
              "      <td>21.94</td>\n",
              "    </tr>\n",
              "    <tr>\n",
              "      <th>3</th>\n",
              "      <td>2020-06-21 23:11:39</td>\n",
              "      <td>very bad  after a few months playing they cut ...</td>\n",
              "      <td>1</td>\n",
              "      <td>0</td>\n",
              "      <td>21.94</td>\n",
              "    </tr>\n",
              "    <tr>\n",
              "      <th>4</th>\n",
              "      <td>2020-06-21 22:52:18</td>\n",
              "      <td>i tried a lot to log in but not responsed i l...</td>\n",
              "      <td>1</td>\n",
              "      <td>0</td>\n",
              "      <td>21.94</td>\n",
              "    </tr>\n",
              "  </tbody>\n",
              "</table>\n",
              "</div>"
            ],
            "text/plain": [
              "                 date  ... version\n",
              "0 2020-06-22 00:40:06  ...    None\n",
              "1 2020-06-22 00:02:06  ...   21.94\n",
              "2 2020-06-21 23:36:19  ...   21.94\n",
              "3 2020-06-21 23:11:39  ...   21.94\n",
              "4 2020-06-21 22:52:18  ...   21.94\n",
              "\n",
              "[5 rows x 5 columns]"
            ]
          },
          "metadata": {
            "tags": []
          },
          "execution_count": 150
        }
      ]
    },
    {
      "cell_type": "code",
      "metadata": {
        "id": "R6Y6ELyR1eTb",
        "colab_type": "code",
        "colab": {
          "base_uri": "https://localhost:8080/",
          "height": 204
        },
        "outputId": "c6d6491f-f3b0-415a-8b12-c09eca26c4e0"
      },
      "source": [
        "clean_data_df.head()\n"
      ],
      "execution_count": 153,
      "outputs": [
        {
          "output_type": "execute_result",
          "data": {
            "text/html": [
              "<div>\n",
              "<style scoped>\n",
              "    .dataframe tbody tr th:only-of-type {\n",
              "        vertical-align: middle;\n",
              "    }\n",
              "\n",
              "    .dataframe tbody tr th {\n",
              "        vertical-align: top;\n",
              "    }\n",
              "\n",
              "    .dataframe thead th {\n",
              "        text-align: right;\n",
              "    }\n",
              "</style>\n",
              "<table border=\"1\" class=\"dataframe\">\n",
              "  <thead>\n",
              "    <tr style=\"text-align: right;\">\n",
              "      <th></th>\n",
              "      <th>date</th>\n",
              "      <th>review</th>\n",
              "      <th>rating</th>\n",
              "      <th>thumbs_up</th>\n",
              "      <th>version</th>\n",
              "    </tr>\n",
              "  </thead>\n",
              "  <tbody>\n",
              "    <tr>\n",
              "      <th>0</th>\n",
              "      <td>2020-06-22 00:40:06</td>\n",
              "      <td>antention make loose order buy bad ecperince r...</td>\n",
              "      <td>1</td>\n",
              "      <td>0</td>\n",
              "      <td>None</td>\n",
              "    </tr>\n",
              "    <tr>\n",
              "      <th>1</th>\n",
              "      <td>2020-06-22 00:02:06</td>\n",
              "      <td>zynga rigged favors facebook players</td>\n",
              "      <td>1</td>\n",
              "      <td>0</td>\n",
              "      <td>21.94</td>\n",
              "    </tr>\n",
              "    <tr>\n",
              "      <th>2</th>\n",
              "      <td>2020-06-21 23:36:19</td>\n",
              "      <td>hopeless poker game restriction betting</td>\n",
              "      <td>1</td>\n",
              "      <td>0</td>\n",
              "      <td>21.94</td>\n",
              "    </tr>\n",
              "    <tr>\n",
              "      <th>3</th>\n",
              "      <td>2020-06-21 23:11:39</td>\n",
              "      <td>bad months playing cut stakes tables except 2 ...</td>\n",
              "      <td>1</td>\n",
              "      <td>0</td>\n",
              "      <td>21.94</td>\n",
              "    </tr>\n",
              "    <tr>\n",
              "      <th>4</th>\n",
              "      <td>2020-06-21 22:52:18</td>\n",
              "      <td>tried lot log responsed loged facebook 2010 wo...</td>\n",
              "      <td>1</td>\n",
              "      <td>0</td>\n",
              "      <td>21.94</td>\n",
              "    </tr>\n",
              "  </tbody>\n",
              "</table>\n",
              "</div>"
            ],
            "text/plain": [
              "                 date  ... version\n",
              "0 2020-06-22 00:40:06  ...    None\n",
              "1 2020-06-22 00:02:06  ...   21.94\n",
              "2 2020-06-21 23:36:19  ...   21.94\n",
              "3 2020-06-21 23:11:39  ...   21.94\n",
              "4 2020-06-21 22:52:18  ...   21.94\n",
              "\n",
              "[5 rows x 5 columns]"
            ]
          },
          "metadata": {
            "tags": []
          },
          "execution_count": 153
        }
      ]
    },
    {
      "cell_type": "code",
      "metadata": {
        "id": "hJwTgGt90x7X",
        "colab_type": "code",
        "colab": {}
      },
      "source": [
        "# Function to remove stopwords\n",
        "def remove_stopwords(rev):\n",
        "    rev_new = ' '.join([i for i in rev if i not in stop_words])\n",
        "    return rev_new"
      ],
      "execution_count": 151,
      "outputs": []
    },
    {
      "cell_type": "code",
      "metadata": {
        "id": "m280vEa901sq",
        "colab_type": "code",
        "colab": {}
      },
      "source": [
        "# Remove stopwords from the text\n",
        "clean_data_df['review'] = [remove_stopwords(r.split()) for r in clean_data_df['review']]"
      ],
      "execution_count": 152,
      "outputs": []
    },
    {
      "cell_type": "code",
      "metadata": {
        "id": "HTfpL48DyOct",
        "colab_type": "code",
        "colab": {}
      },
      "source": [
        "#stop words removes\n",
        "stop_words = stopwords.words('english')\n",
        "clean_data_df['review'] = clean_data_df['review'].apply(lambda x: [item for item in x if item not in stop_words])"
      ],
      "execution_count": 134,
      "outputs": []
    },
    {
      "cell_type": "code",
      "metadata": {
        "id": "fsmLGF-mwh_b",
        "colab_type": "code",
        "colab": {
          "base_uri": "https://localhost:8080/",
          "height": 335
        },
        "outputId": "7ff6dbca-ec7d-450c-e752-ea8a38c3e5a6"
      },
      "source": [
        "freq_words(clean_data_df['review'])"
      ],
      "execution_count": 164,
      "outputs": [
        {
          "output_type": "display_data",
          "data": {
            "image/png": "[encoded data removed]",
            "text/plain": [
              "<Figure size 1440x360 with 1 Axes>"
            ]
          },
          "metadata": {
            "tags": [],
            "image/png": {
              "width": 1328,
              "height": 318
            },
            "needs_background": "light"
          }
        }
      ]
    },
    {
      "cell_type": "markdown",
      "metadata": {
        "id": "QGXsAGit3KOo",
        "colab_type": "text"
      },
      "source": [
        "We now have more relevant terms we can use to build our model."
      ]
    },
    {
      "cell_type": "code",
      "metadata": {
        "id": "MTPQMuSD2NgF",
        "colab_type": "code",
        "colab": {}
      },
      "source": [
        ""
      ],
      "execution_count": null,
      "outputs": []
    }
  ]
}