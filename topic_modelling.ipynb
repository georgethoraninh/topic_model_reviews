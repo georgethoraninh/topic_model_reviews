{
 "cells": [
  {
   "cell_type": "markdown",
   "metadata": {
    "colab_type": "text",
    "id": "Y0ukgG-7dPZB"
   },
   "source": [
    "# Topic Modeling"
   ]
  },
  {
   "cell_type": "markdown",
   "metadata": {
    "colab_type": "text",
    "id": "kh_CKtgbdT8d"
   },
   "source": [
    "Game reviews are a great source of information for players. From the company's point of view, online reviews can be used to gauge feedback on the game. However, since these reviews can be overwhelming in terms of numbers and information, we can use topic modeling to find key insights. This enables people wanting to play the game to quickly extract key information without having the tedious task of going through every review. As well, this serves as another avenue of information that the company can use to inform product decisions."
   ]
  },
  {
   "cell_type": "markdown",
   "metadata": {
    "colab_type": "text",
    "id": "5SfhgDcPlks_"
   },
   "source": [
    "### Import Libraries"
   ]
  },
  {
   "cell_type": "code",
   "execution_count": 162,
   "metadata": {
    "colab": {
     "base_uri": "https://localhost:8080/"
    },
    "colab_type": "code",
    "id": "Y_ovu7N9yRkl",
    "outputId": "a78e51a4-168c-48fe-89e3-8e7f75057451"
   },
   "outputs": [
    {
     "name": "stderr",
     "output_type": "stream",
     "text": [
      "[nltk_data] Downloading package stopwords to\n",
      "[nltk_data]     /Users/gthorani/nltk_data...\n",
      "[nltk_data]   Package stopwords is already up-to-date!\n"
     ]
    }
   ],
   "source": [
    "import pandas as pd\n",
    "pd.set_option('display.max_colwidth', 1000)\n",
    "pd.set_option('display.max_rows', 500)\n",
    "import numpy as np\n",
    "import re\n",
    "import pprint as pp\n",
    "from datetime import datetime\n",
    "import pickle\n",
    "from pprint import pprint\n",
    "import warnings\n",
    "warnings.simplefilter(\"ignore\")\n",
    "\n",
    "# Natural language processing libraries\n",
    "import nltk\n",
    "from nltk import FreqDist\n",
    "nltk.download('stopwords')\n",
    "from nltk.corpus import stopwords\n",
    "import spacy\n",
    "\n",
    "# Library for unsupervised topic modeling\n",
    "import gensim\n",
    "from gensim import corpora\n",
    "from gensim.models import CoherenceModel\n",
    "\n",
    "# Libraries for visualization\n",
    "import pyLDAvis\n",
    "import pyLDAvis.gensim\n",
    "import matplotlib.pyplot as plt\n",
    "import seaborn as sns\n",
    "plt.style.use('fivethirtyeight')\n",
    "%matplotlib inline\n",
    "from pylab import rcParams\n",
    "rcParams['figure.figsize'] = 16, 8"
   ]
  },
  {
   "cell_type": "code",
   "execution_count": 144,
   "metadata": {
    "colab": {},
    "colab_type": "code",
    "id": "bJEmKHh4UtKT"
   },
   "outputs": [],
   "source": [
    "df = pd.read_csv('game_reviews.csv')"
   ]
  },
  {
   "cell_type": "code",
   "execution_count": 131,
   "metadata": {
    "colab": {
     "base_uri": "https://localhost:8080/",
     "height": 1000
    },
    "colab_type": "code",
    "id": "MnvZeiIkUv1-",
    "outputId": "1141435d-a01c-4b3b-c5e9-3d42dd4270dc"
   },
   "outputs": [
    {
     "data": {
      "text/html": [
       "<div>\n",
       "<style scoped>\n",
       "    .dataframe tbody tr th:only-of-type {\n",
       "        vertical-align: middle;\n",
       "    }\n",
       "\n",
       "    .dataframe tbody tr th {\n",
       "        vertical-align: top;\n",
       "    }\n",
       "\n",
       "    .dataframe thead th {\n",
       "        text-align: right;\n",
       "    }\n",
       "</style>\n",
       "<table border=\"1\" class=\"dataframe\">\n",
       "  <thead>\n",
       "    <tr style=\"text-align: right;\">\n",
       "      <th></th>\n",
       "      <th>reviewId</th>\n",
       "      <th>userName</th>\n",
       "      <th>userImage</th>\n",
       "      <th>content</th>\n",
       "      <th>score</th>\n",
       "      <th>thumbsUpCount</th>\n",
       "      <th>reviewCreatedVersion</th>\n",
       "      <th>at</th>\n",
       "      <th>replyContent</th>\n",
       "      <th>repliedAt</th>\n",
       "    </tr>\n",
       "  </thead>\n",
       "  <tbody>\n",
       "    <tr>\n",
       "      <th>0</th>\n",
       "      <td>gp:AOqpTOEG_RTpX1xcPi63E1XUWl_oInN9kAGs79n7WFowsa5at9eD8FCoNyHwF5MZGmjI-ejwkD338fCW65ixrg</td>\n",
       "      <td>ahmed gamal</td>\n",
       "      <td>https://lh3.googleusercontent.com/-_pEzLxFt3No/AAAAAAAAAAI/AAAAAAAAAAA/AMZuucm54H8j-gkfIXvvHKTqUrixcUpAZQ/photo.jpg</td>\n",
       "      <td>They have the antention to make you loose in order to buy very very bad ecperince not recommend at all</td>\n",
       "      <td>1</td>\n",
       "      <td>0</td>\n",
       "      <td>NaN</td>\n",
       "      <td>2020-06-22 00:40:06</td>\n",
       "      <td>NaN</td>\n",
       "      <td>NaN</td>\n",
       "    </tr>\n",
       "  </tbody>\n",
       "</table>\n",
       "</div>"
      ],
      "text/plain": [
       "                                                                                    reviewId  \\\n",
       "0  gp:AOqpTOEG_RTpX1xcPi63E1XUWl_oInN9kAGs79n7WFowsa5at9eD8FCoNyHwF5MZGmjI-ejwkD338fCW65ixrg   \n",
       "\n",
       "      userName  \\\n",
       "0  ahmed gamal   \n",
       "\n",
       "                                                                                                             userImage  \\\n",
       "0  https://lh3.googleusercontent.com/-_pEzLxFt3No/AAAAAAAAAAI/AAAAAAAAAAA/AMZuucm54H8j-gkfIXvvHKTqUrixcUpAZQ/photo.jpg   \n",
       "\n",
       "                                                                                                  content  \\\n",
       "0  They have the antention to make you loose in order to buy very very bad ecperince not recommend at all   \n",
       "\n",
       "   score  thumbsUpCount reviewCreatedVersion                   at  \\\n",
       "0      1              0                  NaN  2020-06-22 00:40:06   \n",
       "\n",
       "  replyContent repliedAt  \n",
       "0          NaN       NaN  "
      ]
     },
     "execution_count": 131,
     "metadata": {},
     "output_type": "execute_result"
    }
   ],
   "source": [
    "df.head(1)"
   ]
  },
  {
   "cell_type": "markdown",
   "metadata": {
    "colab_type": "text",
    "id": "Cst4NeiQm5dH"
   },
   "source": [
    "## Data Preprocessing"
   ]
  },
  {
   "cell_type": "code",
   "execution_count": 5,
   "metadata": {
    "colab": {},
    "colab_type": "code",
    "id": "BWEtTZ97sl1B"
   },
   "outputs": [],
   "source": [
    "clean_df = df[['at','content','score','thumbsUpCount','reviewCreatedVersion']]"
   ]
  },
  {
   "cell_type": "code",
   "execution_count": 6,
   "metadata": {
    "colab": {},
    "colab_type": "code",
    "id": "WyHzu9UjrEXY"
   },
   "outputs": [],
   "source": [
    "clean_df.columns = ['date','review','rating','thumbs_up','version']"
   ]
  },
  {
   "cell_type": "code",
   "execution_count": 7,
   "metadata": {},
   "outputs": [
    {
     "name": "stdout",
     "output_type": "stream",
     "text": [
      "<class 'pandas.core.frame.DataFrame'>\n",
      "RangeIndex: 197096 entries, 0 to 197095\n",
      "Data columns (total 5 columns):\n",
      " #   Column     Non-Null Count   Dtype \n",
      "---  ------     --------------   ----- \n",
      " 0   date       197096 non-null  object\n",
      " 1   review     196843 non-null  object\n",
      " 2   rating     197096 non-null  int64 \n",
      " 3   thumbs_up  197096 non-null  int64 \n",
      " 4   version    168724 non-null  object\n",
      "dtypes: int64(2), object(3)\n",
      "memory usage: 7.5+ MB\n"
     ]
    }
   ],
   "source": [
    "clean_df.info()"
   ]
  },
  {
   "cell_type": "markdown",
   "metadata": {},
   "source": [
    "There are 253(.001%) reviews with no text and 28372(14%) of the reviews do not have an associated version number."
   ]
  },
  {
   "cell_type": "code",
   "execution_count": 8,
   "metadata": {},
   "outputs": [],
   "source": [
    "# Drop the null reviews\n",
    "clean_df = clean_df[~clean_df['review'].isna()]"
   ]
  },
  {
   "cell_type": "code",
   "execution_count": 9,
   "metadata": {},
   "outputs": [
    {
     "data": {
      "text/plain": [
       "(196843, 5)"
      ]
     },
     "execution_count": 9,
     "metadata": {},
     "output_type": "execute_result"
    }
   ],
   "source": [
    "clean_df.shape"
   ]
  },
  {
   "cell_type": "code",
   "execution_count": 10,
   "metadata": {
    "colab": {},
    "colab_type": "code",
    "id": "4OccVaKzm5Ej"
   },
   "outputs": [],
   "source": [
    "# Function to plot the most frequent terms\n",
    "def freq_words(x, terms = 30):\n",
    "    all_words = ' '.join([str(text) for text in x])\n",
    "    all_words = all_words.split()\n",
    "\n",
    "    fdist = FreqDist(all_words)\n",
    "    words_df = pd.DataFrame({'word':list(fdist.keys()), 'count':list(fdist.values())})\n",
    "\n",
    "    # selecting top 20 most frequent words\n",
    "    d = words_df.nlargest(columns = 'count', n = terms) \n",
    "    plt.figure(figsize=(20,5))\n",
    "    ax = sns.barplot(data=d, x = 'word', y = 'count', palette = 'Blues_r')\n",
    "    ax.set(ylabel = 'Count')\n",
    "    plt.show()"
   ]
  },
  {
   "cell_type": "code",
   "execution_count": 11,
   "metadata": {
    "colab": {
     "base_uri": "https://localhost:8080/",
     "height": 222
    },
    "colab_type": "code",
    "id": "s26LYyY1kF-j",
    "outputId": "dec4178b-12e1-4732-d3e4-284a0a5ed7d2"
   },
   "outputs": [
    {
     "data": {
      "image/png": "[encoded data removed]",
      "text/plain": [
       "<Figure size 1440x360 with 1 Axes>"
      ]
     },
     "metadata": {
      "needs_background": "light"
     },
     "output_type": "display_data"
    }
   ],
   "source": [
    "freq_words(clean_df['review'])"
   ]
  },
  {
   "cell_type": "markdown",
   "metadata": {
    "colab_type": "text",
    "id": "I0PvSmSppjlm"
   },
   "source": [
    "Common words such as: to, I, the, it are not important for our task. Thus, we will get rid of any unnecessary words."
   ]
  },
  {
   "cell_type": "code",
   "execution_count": 12,
   "metadata": {
    "colab": {},
    "colab_type": "code",
    "id": "na7mBN8Xn_uL"
   },
   "outputs": [],
   "source": [
    "# remove unwanted characters, numbers and symbols\n",
    "clean_df['review'] = clean_df['review'].str.replace('[^a-zA-Z#]', ' ')"
   ]
  },
  {
   "cell_type": "code",
   "execution_count": 13,
   "metadata": {},
   "outputs": [],
   "source": [
    "#emoji removal\n",
    "clean_df['review'] = clean_df['review'].str.replace(r'[^\\x00-\\x7F]+', '')"
   ]
  },
  {
   "cell_type": "code",
   "execution_count": 14,
   "metadata": {
    "colab": {},
    "colab_type": "code",
    "id": "Z8jljOHYrQit"
   },
   "outputs": [],
   "source": [
    "stop_words = stopwords.words('english')"
   ]
  },
  {
   "cell_type": "code",
   "execution_count": 15,
   "metadata": {
    "colab": {},
    "colab_type": "code",
    "id": "gOG9PC1orXZi"
   },
   "outputs": [],
   "source": [
    "# Function to remove stopwords\n",
    "def remove_stopwords(review):\n",
    "    clean_review = ' '.join([i for i in review if i not in stop_words])\n",
    "    return clean_review"
   ]
  },
  {
   "cell_type": "code",
   "execution_count": 16,
   "metadata": {
    "colab": {},
    "colab_type": "code",
    "id": "h8JLbEt1rjXJ"
   },
   "outputs": [],
   "source": [
    "# Remove short words (length < 3)\n",
    "clean_df['review'] = clean_df['review'].apply(lambda x: ' '.join([w for w in x.split() if len(w)>2]))"
   ]
  },
  {
   "cell_type": "code",
   "execution_count": 17,
   "metadata": {
    "colab": {},
    "colab_type": "code",
    "id": "zPjDuVsHrvuq"
   },
   "outputs": [],
   "source": [
    "# Remove stopwords from the text\n",
    "reviews = [remove_stopwords(r.split()) for r in clean_df['review']]"
   ]
  },
  {
   "cell_type": "code",
   "execution_count": 18,
   "metadata": {
    "colab": {},
    "colab_type": "code",
    "id": "mpOzCzFMs566"
   },
   "outputs": [],
   "source": [
    "# Makes entire text lowercase\n",
    "reviews = [r.lower() for r in reviews]"
   ]
  },
  {
   "cell_type": "code",
   "execution_count": 19,
   "metadata": {
    "colab": {
     "base_uri": "https://localhost:8080/",
     "height": 222
    },
    "colab_type": "code",
    "id": "4XicIzSNs9JA",
    "outputId": "0a55a0e3-0fe1-424f-cacb-1d0e14a61706"
   },
   "outputs": [
    {
     "data": {
      "image/png": "[encoded data removed]",
      "text/plain": [
       "<Figure size 1440x360 with 1 Axes>"
      ]
     },
     "metadata": {
      "needs_background": "light"
     },
     "output_type": "display_data"
    }
   ],
   "source": [
    "freq_words(reviews)"
   ]
  },
  {
   "cell_type": "markdown",
   "metadata": {
    "colab_type": "text",
    "id": "i3sZtKt-tLdw"
   },
   "source": [
    "We can see some improvement as the most frequent words are **game, play, poker, chips, table** which are all relevant with Zynga Poker. There are still redundant words such as, **this, get** and **the**. "
   ]
  },
  {
   "cell_type": "code",
   "execution_count": null,
   "metadata": {
    "colab": {
     "base_uri": "https://localhost:8080/",
     "height": 496
    },
    "colab_type": "code",
    "id": "kcJhJDmts9yS",
    "outputId": "1f81237f-e394-49c0-8a3c-b03263a56c35"
   },
   "outputs": [],
   "source": [
    "!python -m spacy download en"
   ]
  },
  {
   "cell_type": "markdown",
   "metadata": {
    "colab_type": "text",
    "id": "yndeSmWBuaGb"
   },
   "source": [
    "### Tokenization & Lemmatization"
   ]
  },
  {
   "cell_type": "code",
   "execution_count": 21,
   "metadata": {
    "colab": {
     "base_uri": "https://localhost:8080/",
     "height": 255
    },
    "colab_type": "code",
    "id": "DdnPmbL4uv0t",
    "outputId": "f1b68bfd-2b7e-4e98-a806-473c219933c9"
   },
   "outputs": [
    {
     "name": "stdout",
     "output_type": "stream",
     "text": [
      "['daily',\n",
      " 'friend',\n",
      " 'bonus',\n",
      " 'work',\n",
      " 'first',\n",
      " 'month',\n",
      " 'seport',\n",
      " 'see',\n",
      " 'problem',\n",
      " 'numerous',\n",
      " 'screenshots',\n",
      " 'proof',\n",
      " 'very',\n",
      " 'bad']\n"
     ]
    }
   ],
   "source": [
    "token_reviews = pd.Series(reviews).apply(lambda x: x.split())\n",
    "pp.pprint(token_reviews[12])"
   ]
  },
  {
   "cell_type": "code",
   "execution_count": 22,
   "metadata": {
    "colab": {},
    "colab_type": "code",
    "id": "5S8YTOEtuBf7"
   },
   "outputs": [],
   "source": [
    "nlp = spacy.load('en', disable=['parser', 'ner'])\n",
    "\n",
    "def lemmatize(texts, tags=['NOUN', 'ADJ']): # Filters nouns and adjectives\n",
    "    output = []\n",
    "    for sent in texts:\n",
    "        doc = nlp(' '.join(sent)) \n",
    "        output.append([token.lemma_ for token in doc if token.pos_ in tags])\n",
    "    return output"
   ]
  },
  {
   "cell_type": "code",
   "execution_count": 27,
   "metadata": {
    "colab": {
     "base_uri": "https://localhost:8080/",
     "height": 34
    },
    "colab_type": "code",
    "id": "qJXk2XrFucZq",
    "outputId": "d90bfd36-bd39-4674-b924-50d89a45d6c6"
   },
   "outputs": [
    {
     "name": "stdout",
     "output_type": "stream",
     "text": [
      "['antention', 'loose', 'order', 'bad', 'ecperince', 'recommend']\n"
     ]
    }
   ],
   "source": [
    "lem_reviews = lemmatize(token_reviews)\n",
    "print(lem_reviews[0]) # print lemmatized review"
   ]
  },
  {
   "cell_type": "code",
   "execution_count": 28,
   "metadata": {
    "colab": {
     "base_uri": "https://localhost:8080/",
     "height": 34
    },
    "colab_type": "code",
    "id": "XcR5sFCWwCvp",
    "outputId": "c9aeb90c-80a4-4ea6-9ccf-fc1bff17e055",
    "scrolled": true
   },
   "outputs": [
    {
     "data": {
      "text/plain": [
       "196843"
      ]
     },
     "execution_count": 28,
     "metadata": {},
     "output_type": "execute_result"
    }
   ],
   "source": [
    "len(lem_reviews)"
   ]
  },
  {
   "cell_type": "code",
   "execution_count": 29,
   "metadata": {},
   "outputs": [],
   "source": [
    "# Save the lemmatized reviews because it takes so long!\n",
    "with open('lem_reviews.txt', 'wb') as fp:   #Pickling\n",
    "    pickle.dump(lem_reviews, fp)"
   ]
  },
  {
   "cell_type": "code",
   "execution_count": 30,
   "metadata": {},
   "outputs": [],
   "source": [
    "with open('lem_reviews.txt', 'rb') as fp:   # Unpickling\n",
    "    texts = pickle.load(fp)                 # This will be used to create our corpus"
   ]
  },
  {
   "cell_type": "markdown",
   "metadata": {
    "colab_type": "text",
    "id": "lDz0EI6jv0z0"
   },
   "source": [
    "Removed further noise from the text (i.e., **this** is removed)."
   ]
  },
  {
   "cell_type": "code",
   "execution_count": 32,
   "metadata": {
    "colab": {},
    "colab_type": "code",
    "id": "f9oPJTtovTgv"
   },
   "outputs": [],
   "source": [
    "reviews_clean = []\n",
    "for i in range(len(texts)):\n",
    "    reviews_clean.append(' '.join(texts[i]))\n",
    "\n",
    "clean_df['clean_review'] = reviews_clean"
   ]
  },
  {
   "cell_type": "code",
   "execution_count": 33,
   "metadata": {},
   "outputs": [
    {
     "data": {
      "text/plain": [
       "0.1626321484634963"
      ]
     },
     "execution_count": 33,
     "metadata": {},
     "output_type": "execute_result"
    }
   ],
   "source": [
    "32013/196843"
   ]
  },
  {
   "cell_type": "code",
   "execution_count": 34,
   "metadata": {
    "colab": {
     "base_uri": "https://localhost:8080/",
     "height": 34
    },
    "colab_type": "code",
    "id": "mFnpF3hUwTvB",
    "outputId": "cb408839-bb6d-4751-dcfa-11601a5abef5"
   },
   "outputs": [
    {
     "data": {
      "text/plain": [
       "(32013, 6)"
      ]
     },
     "execution_count": 34,
     "metadata": {},
     "output_type": "execute_result"
    }
   ],
   "source": [
    "clean_df[clean_df['clean_review']==''].shape"
   ]
  },
  {
   "cell_type": "markdown",
   "metadata": {
    "colab_type": "text",
    "id": "I8KJCeXMwoRp"
   },
   "source": [
    "32013 (16%) reviews were removed from the original data set as these reviews did not give helpful information and are now empty after pre-processing."
   ]
  },
  {
   "cell_type": "code",
   "execution_count": 35,
   "metadata": {
    "colab": {
     "base_uri": "https://localhost:8080/",
     "height": 222
    },
    "colab_type": "code",
    "id": "llRgocwSxKgy",
    "outputId": "e13502f0-2fbb-4ceb-f4c1-a4bbe4332dac"
   },
   "outputs": [
    {
     "data": {
      "image/png": "[encoded data removed]",
      "text/plain": [
       "<Figure size 1440x360 with 1 Axes>"
      ]
     },
     "metadata": {
      "needs_background": "light"
     },
     "output_type": "display_data"
    }
   ],
   "source": [
    "freq_words(clean_df['clean_review'])"
   ]
  },
  {
   "cell_type": "markdown",
   "metadata": {
    "colab_type": "text",
    "id": "8xxi4zldyLAm"
   },
   "source": [
    "We now have more relevant terms we can use to build our topic model."
   ]
  },
  {
   "cell_type": "markdown",
   "metadata": {
    "colab_type": "text",
    "id": "4QDMLw0YzDPk"
   },
   "source": [
    "## LDA Model"
   ]
  },
  {
   "cell_type": "code",
   "execution_count": 36,
   "metadata": {
    "colab": {},
    "colab_type": "code",
    "id": "EzkfW41qyDFj"
   },
   "outputs": [],
   "source": [
    "# Creates a dictionary to hold all unique terms and assigns an index\n",
    "id2word = corpora.Dictionary(texts)"
   ]
  },
  {
   "cell_type": "code",
   "execution_count": 37,
   "metadata": {
    "colab": {},
    "colab_type": "code",
    "id": "BR1x9eE-y8-H"
   },
   "outputs": [],
   "source": [
    "# Converts the list of review into a Document Term Matrix\n",
    "corpus = [id2word.doc2bow(review) for review in texts]"
   ]
  },
  {
   "cell_type": "code",
   "execution_count": 38,
   "metadata": {},
   "outputs": [
    {
     "data": {
      "text/plain": [
       "[(0, 1), (1, 1), (2, 1), (3, 1), (4, 1), (5, 1)]"
      ]
     },
     "execution_count": 38,
     "metadata": {},
     "output_type": "execute_result"
    }
   ],
   "source": [
    "corpus[0]"
   ]
  },
  {
   "cell_type": "markdown",
   "metadata": {},
   "source": [
    "Gensim creates a unique id for each word in the document. The produced corpus shown above is a mapping of (word_id, word_frequency)."
   ]
  },
  {
   "cell_type": "code",
   "execution_count": 72,
   "metadata": {
    "colab": {},
    "colab_type": "code",
    "id": "m5SFYirizN8X"
   },
   "outputs": [],
   "source": [
    "# Creates object for LDA model using the gensim library\n",
    "LDA = gensim.models.ldamodel.LdaModel\n",
    "\n",
    "# Build LDA model\n",
    "lda_model =LDA(corpus=corpus,\n",
    "               id2word=id2word,\n",
    "               num_topics=5, \n",
    "               random_state=100,\n",
    "               update_every=1,\n",
    "               chunksize=100,\n",
    "               passes=10,\n",
    "               alpha='auto',\n",
    "               per_word_topics=True)"
   ]
  },
  {
   "cell_type": "markdown",
   "metadata": {},
   "source": [
    "The model is built with 5 different topics where each topic is a combination of keywords and each keyword has a certain weight associated to the topic."
   ]
  },
  {
   "cell_type": "code",
   "execution_count": null,
   "metadata": {},
   "outputs": [],
   "source": [
    "# Save the LDA model!\n",
    "with open('lda_model.pkl', 'wb') as fp:   #Pickling\n",
    "    pickle.dump(lda_model, fp)"
   ]
  },
  {
   "cell_type": "code",
   "execution_count": 39,
   "metadata": {},
   "outputs": [],
   "source": [
    "with open('lda_model.pkl', 'rb') as fp:   # Unpickling\n",
    "    lda_model = pickle.load(fp)                 # This will be used to create our corpus"
   ]
  },
  {
   "cell_type": "code",
   "execution_count": 40,
   "metadata": {
    "colab": {
     "base_uri": "https://localhost:8080/",
     "height": 207
    },
    "colab_type": "code",
    "id": "tKeF3csVzvro",
    "outputId": "e842a351-fec1-4579-92ef-d48cb08809b9"
   },
   "outputs": [
    {
     "data": {
      "text/plain": [
       "[(0,\n",
       "  '0.119*\"amazing\" + 0.052*\"hand\" + 0.046*\"new\" + 0.043*\"card\" + 0.028*\"win\" + 0.025*\"update\" + 0.022*\"tournament\" + 0.020*\"different\" + 0.019*\"site\" + 0.019*\"version\"'),\n",
       " (1,\n",
       "  '0.096*\"year\" + 0.060*\"playing\" + 0.044*\"fantastic\" + 0.033*\"hour\" + 0.032*\"enjoy\" + 0.024*\"able\" + 0.024*\"account\" + 0.023*\"interesting\" + 0.022*\"use\" + 0.019*\"long\"'),\n",
       " (2,\n",
       "  '0.174*\"poker\" + 0.130*\"fun\" + 0.090*\"time\" + 0.075*\"play\" + 0.056*\"app\" + 0.040*\"addictive\" + 0.025*\"real\" + 0.024*\"player\" + 0.023*\"way\" + 0.021*\"lot\"'),\n",
       " (3,\n",
       "  '0.368*\"great\" + 0.194*\"awesome\" + 0.031*\"excellent\" + 0.030*\"thank\" + 0.026*\"table\" + 0.024*\"graphic\" + 0.019*\"job\" + 0.014*\"work\" + 0.013*\"favorite\" + 0.011*\"phone\"'),\n",
       " (4,\n",
       "  '0.310*\"game\" + 0.238*\"good\" + 0.084*\"love\" + 0.074*\"nice\" + 0.040*\"chip\" + 0.018*\"cool\" + 0.014*\"money\" + 0.012*\"free\" + 0.011*\"well\" + 0.010*\"people\"')]"
      ]
     },
     "execution_count": 40,
     "metadata": {},
     "output_type": "execute_result"
    }
   ],
   "source": [
    "lda_model.print_topics()"
   ]
  },
  {
   "cell_type": "markdown",
   "metadata": {
    "colab_type": "text",
    "id": "pWNEHS_t2ULr"
   },
   "source": [
    "**Topic 3** seems to be about a positive experience and time consuming because it has terms: **fun, time, addictive**.  "
   ]
  },
  {
   "cell_type": "code",
   "execution_count": 77,
   "metadata": {
    "colab": {
     "base_uri": "https://localhost:8080/",
     "height": 51
    },
    "colab_type": "code",
    "id": "trFeb5iYXpSp",
    "outputId": "aaac78c9-9fa8-4b6f-88c8-e5faa1945457"
   },
   "outputs": [
    {
     "name": "stdout",
     "output_type": "stream",
     "text": [
      "\n",
      "Perplexity:  -6.55033709643975\n",
      "\n",
      "Coherence Score:  0.3674213932813827\n"
     ]
    }
   ],
   "source": [
    "# Compute Perplexity\n",
    "print('\\nPerplexity: ', lda_model.log_perplexity(corpus))  # a measure of how good the model is. Lower means better.\n",
    "\n",
    "# Compute Coherence Score\n",
    "coherence_model_lda = CoherenceModel(model=lda_model, texts=texts, dictionary=id2word, coherence='c_v')\n",
    "coherence_lda = coherence_model_lda.get_coherence()\n",
    "print('\\nCoherence Score: ', coherence_lda)"
   ]
  },
  {
   "cell_type": "markdown",
   "metadata": {
    "colab_type": "text",
    "id": "4pjzvVe12wor"
   },
   "source": [
    "## Visualization"
   ]
  },
  {
   "cell_type": "code",
   "execution_count": 79,
   "metadata": {
    "colab": {
     "base_uri": "https://localhost:8080/",
     "height": 881
    },
    "colab_type": "code",
    "id": "QVQuXBwv1kO3",
    "outputId": "66839d36-f934-497c-d357-0dfdaf8028fc"
   },
   "outputs": [
    {
     "data": {
      "text/html": [
       "\n",
       "<link rel=\"stylesheet\" type=\"text/css\" href=\"https://cdn.rawgit.com/bmabey/pyLDAvis/files/ldavis.v1.0.0.css\">\n",
       "\n",
       "\n",
       "<div id=\"ldavis_el389657504333608193759418\"></div>\n",
       "<script type=\"text/javascript\">\n",
       "\n",
       "var ldavis_el389657504333608193759418_data = {\"mdsDat\": {\"x\": [0.42820299681901497, -0.04857441990543183, -0.09391262568256606, -0.14477648476746047, -0.1409394664635559], \"y\": [0.049260810250017995, -0.39785671971032205, 0.19166646995734912, 0.07866342855742228, 0.07826601094553257], \"topics\": [1, 2, 3, 4, 5], \"cluster\": [1, 1, 1, 1, 1], \"Freq\": [41.156761169433594, 27.261796951293945, 14.69307804107666, 10.207416534423828, 6.680947303771973]}, \"tinfo\": {\"Term\": [\"game\", \"great\", \"good\", \"poker\", \"awesome\", \"fun\", \"time\", \"love\", \"amazing\", \"nice\", \"play\", \"app\", \"year\", \"chip\", \"addictive\", \"hand\", \"playing\", \"new\", \"card\", \"excellent\", \"real\", \"player\", \"thank\", \"way\", \"fantastic\", \"lot\", \"table\", \"friend\", \"easy\", \"graphic\", \"game\", \"good\", \"love\", \"nice\", \"chip\", \"cool\", \"money\", \"free\", \"well\", \"people\", \"perfect\", \"much\", \"thing\", \"brilliant\", \"fair\", \"day\", \"lol\", \"gift\", \"gameplay\", \"guy\", \"life\", \"other\", \"spin\", \"more\", \"experience\", \"top\", \"last\", \"alot\", \"super\", \"mobile\", \"poker\", \"fun\", \"time\", \"play\", \"app\", \"addictive\", \"real\", \"player\", \"way\", \"lot\", \"friend\", \"easy\", \"bad\", \"big\", \"problem\", \"many\", \"bonus\", \"enjoyable\", \"fast\", \"online\", \"option\", \"world\", \"quick\", \"jump\", \"entertaining\", \"reward\", \"level\", \"killer\", \"coin\", \"exciting\", \"great\", \"awesome\", \"excellent\", \"thank\", \"table\", \"graphic\", \"job\", \"work\", \"favorite\", \"phone\", \"challenge\", \"little\", \"casino\", \"bit\", \"realistic\", \"happy\", \"bet\", \"full\", \"high\", \"thumb\", \"point\", \"button\", \"facebook\", \"application\", \"improvement\", \"screen\", \"available\", \"open\", \"glitch\", \"type\", \"offline\", \"amazing\", \"hand\", \"new\", \"card\", \"win\", \"update\", \"tournament\", \"different\", \"site\", \"version\", \"star\", \"wonderful\", \"stress\", \"simple\", \"one\", \"awesomeness\", \"amount\", \"interaction\", \"addicting\", \"gambling\", \"decent\", \"number\", \"sit\", \"man\", \"rate\", \"opinion\", \"fabulous\", \"download\", \"fold\", \"classic\", \"year\", \"playing\", \"fantastic\", \"hour\", \"enjoy\", \"able\", \"account\", \"interesting\", \"use\", \"long\", \"gold\", \"slow\", \"action\", \"overall\", \"fix\", \"lucky\", \"pace\", \"error\", \"hold\", \"challenging\", \"family\", \"place\", \"quality\", \"fan\", \"chat\", \"seat\", \"buy\", \"small\", \"beginner\", \"class\"], \"Freq\": [79035.0, 33552.0, 60653.0, 29410.0, 17670.0, 21943.0, 15226.0, 21470.0, 7526.0, 18965.0, 12616.0, 9527.0, 3962.0, 10170.0, 6841.0, 3268.0, 2484.0, 2926.0, 2713.0, 2855.0, 4186.0, 4003.0, 2690.0, 3856.0, 1827.0, 3539.0, 2369.0, 3484.0, 3354.0, 2152.0, 79033.859375, 60651.58984375, 21468.9296875, 18964.013671875, 10168.5166015625, 4642.103515625, 3655.03857421875, 3059.154541015625, 2691.114501953125, 2559.002685546875, 2302.239990234375, 2048.50439453125, 1805.437255859375, 1686.9493408203125, 1434.9334716796875, 1343.642333984375, 1239.3167724609375, 1225.452392578125, 1073.5980224609375, 961.0634765625, 835.629638671875, 827.4979248046875, 810.4237060546875, 792.5769653320312, 701.810302734375, 682.2866821289062, 627.8242797851562, 611.9498901367188, 542.2535400390625, 535.7529296875, 29408.8515625, 21941.654296875, 15224.931640625, 12614.67578125, 9526.3134765625, 6840.53369140625, 4185.126953125, 4002.401611328125, 3854.673828125, 3538.240234375, 3483.0634765625, 3353.32275390625, 1752.6475830078125, 1564.8621826171875, 1422.1197509765625, 1378.408447265625, 1310.3291015625, 1211.55322265625, 1176.55224609375, 1130.4349365234375, 1046.4610595703125, 833.3974609375, 760.4105224609375, 631.9757690429688, 608.5769653320312, 573.59619140625, 564.7591552734375, 555.3673706054688, 556.209228515625, 542.3179931640625, 33551.2265625, 17668.6015625, 2854.126708984375, 2689.05712890625, 2368.44482421875, 2150.669677734375, 1691.203857421875, 1250.6553955078125, 1177.1290283203125, 1020.98291015625, 885.4231567382812, 782.8707885742188, 637.4263305664062, 620.8141479492188, 604.04931640625, 589.9310913085938, 579.71044921875, 575.7964477539062, 507.3524169921875, 407.97637939453125, 391.6537170410156, 372.1420593261719, 367.1623840332031, 326.8383483886719, 326.9231262207031, 331.5804138183594, 313.0854797363281, 308.9162292480469, 265.2245788574219, 257.6931457519531, 260.9638366699219, 7524.787109375, 3266.679931640625, 2925.5166015625, 2711.99853515625, 1759.2506103515625, 1558.345458984375, 1404.7567138671875, 1251.9288330078125, 1203.346923828125, 1195.3809814453125, 1076.34033203125, 868.1005249023438, 598.239013671875, 589.9277954101562, 547.4004516601562, 522.925048828125, 497.25836181640625, 475.311279296875, 420.5324401855469, 413.8681945800781, 414.7758483886719, 385.59698486328125, 381.9346008300781, 338.744384765625, 335.33184814453125, 338.8721008300781, 325.84259033203125, 323.398681640625, 308.9510498046875, 307.3250732421875, 3960.774169921875, 2482.96923828125, 1825.6556396484375, 1378.6702880859375, 1328.675048828125, 997.7853393554688, 985.974853515625, 963.9727783203125, 928.04931640625, 780.5188598632812, 774.3619995117188, 754.0851440429688, 610.1199340820312, 585.1240234375, 559.8467407226562, 475.3264465332031, 476.4264831542969, 472.3900146484375, 397.2027282714844, 376.75396728515625, 366.3249206542969, 363.0307922363281, 344.3472900390625, 290.610107421875, 282.949462890625, 304.3799133300781, 285.0084533691406, 271.492919921875, 257.33392333984375, 223.0381317138672], \"Total\": [79035.0, 33552.0, 60653.0, 29410.0, 17670.0, 21943.0, 15226.0, 21470.0, 7526.0, 18965.0, 12616.0, 9527.0, 3962.0, 10170.0, 6841.0, 3268.0, 2484.0, 2926.0, 2713.0, 2855.0, 4186.0, 4003.0, 2690.0, 3856.0, 1827.0, 3539.0, 2369.0, 3484.0, 3354.0, 2152.0, 79035.375, 60653.11328125, 21470.453125, 18965.533203125, 10170.0478515625, 4643.6279296875, 3656.5634765625, 3060.672119140625, 2692.6396484375, 2560.52392578125, 2303.764404296875, 2050.03466796875, 1806.9737548828125, 1688.4688720703125, 1436.473388671875, 1345.1690673828125, 1240.84326171875, 1226.998291015625, 1075.1292724609375, 962.59375, 837.1696166992188, 829.0237426757812, 811.9432983398438, 794.1038818359375, 703.3316040039062, 683.8159790039062, 629.366455078125, 613.4764404296875, 543.7623901367188, 537.2838134765625, 29410.302734375, 21943.1015625, 15226.3857421875, 12616.123046875, 9527.763671875, 6841.986328125, 4186.576171875, 4003.852783203125, 3856.125244140625, 3539.686767578125, 3484.513671875, 3354.772216796875, 1754.0927734375, 1566.326171875, 1423.5802001953125, 1379.8599853515625, 1311.7926025390625, 1213.005615234375, 1178.0006103515625, 1131.8779296875, 1047.914794921875, 834.841552734375, 761.867431640625, 633.4404907226562, 610.0303344726562, 575.0615844726562, 566.2066040039062, 556.804443359375, 557.6571655273438, 543.76416015625, 33552.71484375, 17670.091796875, 2855.613525390625, 2690.54150390625, 2369.93115234375, 2152.1611328125, 1692.6939697265625, 1252.1475830078125, 1178.6243896484375, 1022.4746704101562, 886.9185791015625, 784.3648071289062, 638.90869140625, 622.3148193359375, 605.5335083007812, 591.4103393554688, 581.2125854492188, 577.294921875, 508.84307861328125, 409.4671630859375, 393.1578369140625, 373.6290588378906, 368.6939392089844, 328.33221435546875, 328.4195251464844, 333.1104431152344, 314.5748596191406, 310.5026550292969, 266.7245178222656, 259.1950378417969, 262.48590087890625, 7526.1708984375, 3268.0576171875, 2926.89794921875, 2713.37939453125, 1760.6341552734375, 1559.7320556640625, 1406.1361083984375, 1253.314697265625, 1204.7318115234375, 1196.7584228515625, 1077.725341796875, 869.4793090820312, 599.6277465820312, 591.3037719726562, 548.7974853515625, 524.3347778320312, 498.6456604003906, 476.71923828125, 421.9151306152344, 415.2504577636719, 416.1686706542969, 386.9815979003906, 383.33599853515625, 340.12347412109375, 336.71014404296875, 340.27642822265625, 327.2215270996094, 324.789794921875, 310.33953857421875, 308.7423400878906, 3962.196533203125, 2484.3916015625, 1827.0723876953125, 1380.08837890625, 1330.1024169921875, 999.20703125, 987.4063720703125, 965.3914794921875, 929.4778442382812, 781.9439697265625, 775.790771484375, 755.5133666992188, 611.5444946289062, 586.5471801757812, 561.283203125, 476.7471008300781, 477.8554382324219, 473.8282470703125, 398.6380920410156, 378.1767578125, 367.748291015625, 364.4552307128906, 345.7835693359375, 292.0312805175781, 284.36724853515625, 305.9063415527344, 286.4548034667969, 272.9397888183594, 258.77655029296875, 224.47268676757812], \"Category\": [\"Default\", \"Default\", \"Default\", \"Default\", \"Default\", \"Default\", \"Default\", \"Default\", \"Default\", \"Default\", \"Default\", \"Default\", \"Default\", \"Default\", \"Default\", \"Default\", \"Default\", \"Default\", \"Default\", \"Default\", \"Default\", \"Default\", \"Default\", \"Default\", \"Default\", \"Default\", \"Default\", \"Default\", \"Default\", \"Default\", \"Topic1\", \"Topic1\", \"Topic1\", \"Topic1\", \"Topic1\", \"Topic1\", \"Topic1\", \"Topic1\", \"Topic1\", \"Topic1\", \"Topic1\", \"Topic1\", \"Topic1\", \"Topic1\", \"Topic1\", \"Topic1\", \"Topic1\", \"Topic1\", \"Topic1\", \"Topic1\", \"Topic1\", \"Topic1\", \"Topic1\", \"Topic1\", \"Topic1\", \"Topic1\", \"Topic1\", \"Topic1\", \"Topic1\", \"Topic1\", \"Topic2\", \"Topic2\", \"Topic2\", \"Topic2\", \"Topic2\", \"Topic2\", \"Topic2\", \"Topic2\", \"Topic2\", \"Topic2\", \"Topic2\", \"Topic2\", \"Topic2\", \"Topic2\", \"Topic2\", \"Topic2\", \"Topic2\", \"Topic2\", \"Topic2\", \"Topic2\", \"Topic2\", \"Topic2\", \"Topic2\", \"Topic2\", \"Topic2\", \"Topic2\", \"Topic2\", \"Topic2\", \"Topic2\", \"Topic2\", \"Topic3\", \"Topic3\", \"Topic3\", \"Topic3\", \"Topic3\", \"Topic3\", \"Topic3\", \"Topic3\", \"Topic3\", \"Topic3\", \"Topic3\", \"Topic3\", \"Topic3\", \"Topic3\", \"Topic3\", \"Topic3\", \"Topic3\", \"Topic3\", \"Topic3\", \"Topic3\", \"Topic3\", \"Topic3\", \"Topic3\", \"Topic3\", \"Topic3\", \"Topic3\", \"Topic3\", \"Topic3\", \"Topic3\", \"Topic3\", \"Topic3\", \"Topic4\", \"Topic4\", \"Topic4\", \"Topic4\", \"Topic4\", \"Topic4\", \"Topic4\", \"Topic4\", \"Topic4\", \"Topic4\", \"Topic4\", \"Topic4\", \"Topic4\", \"Topic4\", \"Topic4\", \"Topic4\", \"Topic4\", \"Topic4\", \"Topic4\", \"Topic4\", \"Topic4\", \"Topic4\", \"Topic4\", \"Topic4\", \"Topic4\", \"Topic4\", \"Topic4\", \"Topic4\", \"Topic4\", \"Topic4\", \"Topic5\", \"Topic5\", \"Topic5\", \"Topic5\", \"Topic5\", \"Topic5\", \"Topic5\", \"Topic5\", \"Topic5\", \"Topic5\", \"Topic5\", \"Topic5\", \"Topic5\", \"Topic5\", \"Topic5\", \"Topic5\", \"Topic5\", \"Topic5\", \"Topic5\", \"Topic5\", \"Topic5\", \"Topic5\", \"Topic5\", \"Topic5\", \"Topic5\", \"Topic5\", \"Topic5\", \"Topic5\", \"Topic5\", \"Topic5\"], \"logprob\": [30.0, 29.0, 28.0, 27.0, 26.0, 25.0, 24.0, 23.0, 22.0, 21.0, 20.0, 19.0, 18.0, 17.0, 16.0, 15.0, 14.0, 13.0, 12.0, 11.0, 10.0, 9.0, 8.0, 7.0, 6.0, 5.0, 4.0, 3.0, 2.0, 1.0, -1.1726000308990479, -1.437399983406067, -2.4758999347686768, -2.5999999046325684, -3.2232000827789307, -4.007400035858154, -4.246399879455566, -4.4243998527526855, -4.552599906921387, -4.60290002822876, -4.708600044250488, -4.825399875640869, -4.951700210571289, -5.019599914550781, -5.181399822235107, -5.247099876403809, -5.328000068664551, -5.339200019836426, -5.471499919891357, -5.582200050354004, -5.722099781036377, -5.731900215148926, -5.752699851989746, -5.775000095367432, -5.896599769592285, -5.924799919128418, -6.007999897003174, -6.033599853515625, -6.1545000076293945, -6.166600227355957, -1.7493000030517578, -2.0422000885009766, -2.4077000617980957, -2.5957999229431152, -2.8766000270843506, -3.2077999114990234, -3.6991000175476074, -3.7437000274658203, -3.7813000679016113, -3.867000102996826, -3.882699966430664, -3.9207000732421875, -4.569499969482422, -4.682799816131592, -4.778500080108643, -4.809700012207031, -4.860300064086914, -4.938700199127197, -4.9679999351501465, -5.007999897003174, -5.08519983291626, -5.312900066375732, -5.4045000076293945, -5.5894999504089355, -5.627200126647949, -5.686399936676025, -5.702000141143799, -5.718699932098389, -5.717199802398682, -5.742499828338623, -0.9994000196456909, -1.6406999826431274, -3.46370005607605, -3.5232999324798584, -3.6503000259399414, -3.7467000484466553, -3.9870998859405518, -4.28879976272583, -4.349400043487549, -4.491700172424316, -4.634200096130371, -4.757299900054932, -4.962800025939941, -4.989200115203857, -5.016600131988525, -5.040299892425537, -5.057700157165527, -5.064499855041504, -5.191100120544434, -5.40910005569458, -5.449900150299072, -5.500999927520752, -5.514500141143799, -5.630799770355225, -5.630499839782715, -5.616399765014648, -5.673799991607666, -5.68720006942749, -5.839700222015381, -5.868500232696533, -5.855899810791016, -2.130000114440918, -2.9644999504089355, -3.0748000144958496, -3.150599956512451, -3.583400011062622, -3.7046000957489014, -3.8083999156951904, -3.9235999584198, -3.963099956512451, -3.9697999954223633, -4.074699878692627, -4.289700031280518, -4.6620001792907715, -4.676000118255615, -4.750800132751465, -4.796599864959717, -4.84689998626709, -4.892000198364258, -5.014500141143799, -5.0304999351501465, -5.028299808502197, -5.101200103759766, -5.110799789428711, -5.230800151824951, -5.240900039672852, -5.230400085449219, -5.269599914550781, -5.277100086212158, -5.322800159454346, -5.328100204467773, -2.3480000495910645, -2.8148999214172363, -3.122499942779541, -3.4033000469207764, -3.440200090408325, -3.726599931716919, -3.7385001182556152, -3.7611000537872314, -3.799099922180176, -3.9721999168395996, -3.98009991645813, -4.0065999031066895, -4.218500137329102, -4.260300159454346, -4.304500102996826, -4.468100070953369, -4.465799808502197, -4.474299907684326, -4.64769983291626, -4.7006001472473145, -4.728600025177002, -4.73769998550415, -4.790500164031982, -4.96019983291626, -4.9868998527526855, -4.913899898529053, -4.979599952697754, -5.028200149536133, -5.0817999839782715, -5.224800109863281], \"loglift\": [30.0, 29.0, 28.0, 27.0, 26.0, 25.0, 24.0, 23.0, 22.0, 21.0, 20.0, 19.0, 18.0, 17.0, 16.0, 15.0, 14.0, 13.0, 12.0, 11.0, 10.0, 9.0, 8.0, 7.0, 6.0, 5.0, 4.0, 3.0, 2.0, 1.0, 0.8877999782562256, 0.8877999782562256, 0.8877000212669373, 0.8877000212669373, 0.8876000046730042, 0.887499988079071, 0.8873999714851379, 0.8873000144958496, 0.8871999979019165, 0.8871999979019165, 0.8870999813079834, 0.8870000243186951, 0.886900007724762, 0.886900007724762, 0.8866999745368958, 0.8866000175476074, 0.8866000175476074, 0.8865000009536743, 0.8863999843597412, 0.8862000107765198, 0.8859000205993652, 0.8859000205993652, 0.8859000205993652, 0.8859000205993652, 0.8855999708175659, 0.8855000138282776, 0.8852999806404114, 0.8852999806404114, 0.8849999904632568, 0.8848999738693237, 1.2996000051498413, 1.2996000051498413, 1.2996000051498413, 1.2996000051498413, 1.2994999885559082, 1.2994999885559082, 1.299299955368042, 1.299299955368042, 1.299299955368042, 1.299299955368042, 1.299299955368042, 1.299299955368042, 1.2989000082015991, 1.298699975013733, 1.298699975013733, 1.2985999584197998, 1.2985999584197998, 1.2984999418258667, 1.2984999418258667, 1.2984000444412231, 1.29830002784729, 1.2979999780654907, 1.2977999448776245, 1.2973999977111816, 1.2972999811172485, 1.2970999479293823, 1.2970999479293823, 1.2970999479293823, 1.2970999479293823, 1.2970000505447388, 1.9177000522613525, 1.9177000522613525, 1.9172999858856201, 1.917199969291687, 1.917199969291687, 1.917099952697754, 1.9169000387191772, 1.916599988937378, 1.9164999723434448, 1.9163000583648682, 1.916100025177002, 1.9158999919891357, 1.9155000448226929, 1.9154000282287598, 1.9153000116348267, 1.9153000116348267, 1.9151999950408936, 1.9151999950408936, 1.9148999452590942, 1.9141000509262085, 1.9140000343322754, 1.9138000011444092, 1.913599967956543, 1.9132000207901, 1.9132000207901, 1.9132000207901, 1.9129999876022339, 1.9127000570297241, 1.9121999740600586, 1.9119999408721924, 1.9119999408721924, 2.281899929046631, 2.281599998474121, 2.281599998474121, 2.2815001010894775, 2.2813000679016113, 2.2811999320983887, 2.281100034713745, 2.280900001525879, 2.280900001525879, 2.280900001525879, 2.2808001041412354, 2.2804999351501465, 2.2797000408172607, 2.2797000408172607, 2.2795000076293945, 2.279400110244751, 2.2792999744415283, 2.279099941253662, 2.2788000106811523, 2.278700113296509, 2.278700113296509, 2.2785000801086426, 2.27839994430542, 2.2780001163482666, 2.2780001163482666, 2.277899980545044, 2.2778000831604004, 2.2778000831604004, 2.277600049972534, 2.2774999141693115, 2.7056000232696533, 2.7053000926971436, 2.7051000595092773, 2.704900026321411, 2.7047998905181885, 2.7044999599456787, 2.7044999599456787, 2.704400062561035, 2.704400062561035, 2.7040998935699463, 2.7040998935699463, 2.7039999961853027, 2.7035999298095703, 2.7035000324249268, 2.7032999992370605, 2.702899932861328, 2.702899932861328, 2.702899932861328, 2.7023000717163086, 2.7021000385284424, 2.7019999027252197, 2.7019999027252197, 2.70169997215271, 2.7009999752044678, 2.700900077819824, 2.700900077819824, 2.7007999420166016, 2.7005999088287354, 2.7002999782562256, 2.69950008392334]}, \"token.table\": {\"Topic\": [5, 5, 5, 4, 2, 1, 4, 4, 2, 3, 3, 3, 4, 2, 5, 3, 2, 3, 2, 1, 3, 5, 4, 3, 3, 5, 5, 1, 5, 4, 2, 1, 1, 4, 4, 4, 2, 5, 2, 2, 5, 3, 2, 1, 4, 3, 1, 5, 5, 5, 2, 3, 5, 4, 1, 2, 3, 2, 4, 1, 1, 1, 3, 5, 1, 3, 3, 1, 4, 3, 3, 5, 5, 3, 4, 5, 3, 2, 2, 1, 2, 1, 3, 1, 5, 2, 1, 5, 4, 2, 1, 1, 1, 1, 4, 1, 4, 3, 4, 2, 3, 4, 2, 1, 5, 5, 1, 1, 3, 5, 2, 2, 5, 3, 2, 2, 5, 2, 4, 2, 3, 2, 3, 5, 4, 4, 4, 5, 5, 1, 4, 4, 1, 3, 3, 1, 3, 2, 1, 4, 3, 4, 5, 4, 2, 1, 4, 4, 3, 2, 5], \"Freq\": [0.9987919926643372, 0.9985756874084473, 0.9974744319915771, 0.9978309869766235, 0.9998558163642883, 0.997593343257904, 0.9998444318771362, 0.9966997504234314, 0.9998148679733276, 0.9959424734115601, 0.9949936866760254, 0.9999381899833679, 0.9974543452262878, 0.9993770122528076, 0.9931347966194153, 0.9979137182235718, 0.9991533160209656, 0.9978871941566467, 0.9986334443092346, 0.9991300702095032, 0.9956399202346802, 0.9949213266372681, 0.9994916319847107, 0.9970125555992126, 0.9978368282318115, 0.9968883395195007, 0.9951919913291931, 0.9998969435691833, 0.9934393763542175, 0.994356632232666, 0.9970283508300781, 0.9996494054794312, 0.99913090467453, 0.997191846370697, 0.9989510178565979, 0.9944893717765808, 0.9994717240333557, 0.9991711974143982, 0.9991709589958191, 0.9983109831809998, 0.9961415529251099, 0.9994349479675293, 0.9967556595802307, 0.9981067180633545, 0.9962669610977173, 0.9954055547714233, 0.9989743232727051, 0.9952459335327148, 0.9964686036109924, 0.9994130730628967, 0.9991505742073059, 0.9986218214035034, 0.9977138042449951, 0.9956836104393005, 0.9994536638259888, 0.999565601348877, 0.9977568984031677, 0.9999498128890991, 0.9969886541366577, 0.9999825954437256, 0.9989496469497681, 0.998371422290802, 0.9935344457626343, 0.9976916909217834, 0.9999816417694092, 0.9994604587554932, 0.9999489188194275, 0.9983443021774292, 0.9996764063835144, 0.9976152777671814, 0.9963778853416443, 0.9958907961845398, 0.9992113709449768, 0.9956777095794678, 0.996393620967865, 0.9985586404800415, 0.9989992380142212, 0.9977259039878845, 0.996759295463562, 0.9978288412094116, 0.9978689551353455, 0.9986028671264648, 0.998259961605072, 0.9985145330429077, 0.9987927675247192, 0.9995234608650208, 0.9999323487281799, 0.9963353872299194, 0.9966968894004822, 0.9986520409584045, 0.9976105690002441, 0.9995723962783813, 0.9986099004745483, 0.999495267868042, 0.9996932148933411, 0.9999191761016846, 0.9974634647369385, 0.994339108467102, 0.9967246651649475, 0.9983408451080322, 0.9951605796813965, 0.9962488412857056, 0.9981727600097656, 0.9975588917732239, 0.9973621964454651, 0.9961171746253967, 0.9994048476219177, 0.999234139919281, 0.9985577464103699, 0.9960070848464966, 0.9999110102653503, 0.9995372295379639, 0.9994398355484009, 0.9970550537109375, 0.9999557137489319, 0.9988899827003479, 0.9948419332504272, 0.9975488781929016, 0.9949210286140442, 0.9996235370635986, 0.9974675178527832, 0.9981539845466614, 0.996666431427002, 0.9937682151794434, 0.9977951049804688, 0.9965147972106934, 0.9985625147819519, 0.9979969263076782, 0.9928929805755615, 0.997606635093689, 0.9983990788459778, 0.9972854256629944, 0.9967588782310486, 0.9991851449012756, 0.999427080154419, 0.9989076852798462, 0.9964169263839722, 0.999908983707428, 0.9973443746566772, 0.9991920590400696, 0.9953894019126892, 0.9988895058631897, 0.9984100461006165, 0.9985306859016418, 0.9997081756591797, 0.9993910789489746, 0.9990718364715576, 0.9982986450195312, 0.9990835189819336, 0.9977941513061523, 0.9996979832649231], \"Term\": [\"able\", \"account\", \"action\", \"addicting\", \"addictive\", \"alot\", \"amazing\", \"amount\", \"app\", \"application\", \"available\", \"awesome\", \"awesomeness\", \"bad\", \"beginner\", \"bet\", \"big\", \"bit\", \"bonus\", \"brilliant\", \"button\", \"buy\", \"card\", \"casino\", \"challenge\", \"challenging\", \"chat\", \"chip\", \"class\", \"classic\", \"coin\", \"cool\", \"day\", \"decent\", \"different\", \"download\", \"easy\", \"enjoy\", \"enjoyable\", \"entertaining\", \"error\", \"excellent\", \"exciting\", \"experience\", \"fabulous\", \"facebook\", \"fair\", \"family\", \"fan\", \"fantastic\", \"fast\", \"favorite\", \"fix\", \"fold\", \"free\", \"friend\", \"full\", \"fun\", \"gambling\", \"game\", \"gameplay\", \"gift\", \"glitch\", \"gold\", \"good\", \"graphic\", \"great\", \"guy\", \"hand\", \"happy\", \"high\", \"hold\", \"hour\", \"improvement\", \"interaction\", \"interesting\", \"job\", \"jump\", \"killer\", \"last\", \"level\", \"life\", \"little\", \"lol\", \"long\", \"lot\", \"love\", \"lucky\", \"man\", \"many\", \"mobile\", \"money\", \"more\", \"much\", \"new\", \"nice\", \"number\", \"offline\", \"one\", \"online\", \"open\", \"opinion\", \"option\", \"other\", \"overall\", \"pace\", \"people\", \"perfect\", \"phone\", \"place\", \"play\", \"player\", \"playing\", \"point\", \"poker\", \"problem\", \"quality\", \"quick\", \"rate\", \"real\", \"realistic\", \"reward\", \"screen\", \"seat\", \"simple\", \"sit\", \"site\", \"slow\", \"small\", \"spin\", \"star\", \"stress\", \"super\", \"table\", \"thank\", \"thing\", \"thumb\", \"time\", \"top\", \"tournament\", \"type\", \"update\", \"use\", \"version\", \"way\", \"well\", \"win\", \"wonderful\", \"work\", \"world\", \"year\"]}, \"R\": 30, \"lambda.step\": 0.01, \"plot.opts\": {\"xlab\": \"PC1\", \"ylab\": \"PC2\"}, \"topic.order\": [5, 3, 4, 1, 2]};\n",
       "\n",
       "function LDAvis_load_lib(url, callback){\n",
       "  var s = document.createElement('script');\n",
       "  s.src = url;\n",
       "  s.async = true;\n",
       "  s.onreadystatechange = s.onload = callback;\n",
       "  s.onerror = function(){console.warn(\"failed to load library \" + url);};\n",
       "  document.getElementsByTagName(\"head\")[0].appendChild(s);\n",
       "}\n",
       "\n",
       "if(typeof(LDAvis) !== \"undefined\"){\n",
       "   // already loaded: just create the visualization\n",
       "   !function(LDAvis){\n",
       "       new LDAvis(\"#\" + \"ldavis_el389657504333608193759418\", ldavis_el389657504333608193759418_data);\n",
       "   }(LDAvis);\n",
       "}else if(typeof define === \"function\" && define.amd){\n",
       "   // require.js is available: use it to load d3/LDAvis\n",
       "   require.config({paths: {d3: \"https://cdnjs.cloudflare.com/ajax/libs/d3/3.5.5/d3.min\"}});\n",
       "   require([\"d3\"], function(d3){\n",
       "      window.d3 = d3;\n",
       "      LDAvis_load_lib(\"https://cdn.rawgit.com/bmabey/pyLDAvis/files/ldavis.v1.0.0.js\", function(){\n",
       "        new LDAvis(\"#\" + \"ldavis_el389657504333608193759418\", ldavis_el389657504333608193759418_data);\n",
       "      });\n",
       "    });\n",
       "}else{\n",
       "    // require.js not available: dynamically load d3 & LDAvis\n",
       "    LDAvis_load_lib(\"https://cdnjs.cloudflare.com/ajax/libs/d3/3.5.5/d3.min.js\", function(){\n",
       "         LDAvis_load_lib(\"https://cdn.rawgit.com/bmabey/pyLDAvis/files/ldavis.v1.0.0.js\", function(){\n",
       "                 new LDAvis(\"#\" + \"ldavis_el389657504333608193759418\", ldavis_el389657504333608193759418_data);\n",
       "            })\n",
       "         });\n",
       "}\n",
       "</script>"
      ],
      "text/plain": [
       "PreparedData(topic_coordinates=              x         y  topics  cluster       Freq\n",
       "topic                                                \n",
       "4      0.428203  0.049261       1        1  41.156761\n",
       "2     -0.048574 -0.397857       2        1  27.261797\n",
       "3     -0.093913  0.191666       3        1  14.693078\n",
       "0     -0.144776  0.078663       4        1  10.207417\n",
       "1     -0.140939  0.078266       5        1   6.680947, topic_info=          Term          Freq         Total Category  logprob  loglift\n",
       "42        game  79035.000000  79035.000000  Default  30.0000  30.0000\n",
       "181      great  33552.000000  33552.000000  Default  29.0000  29.0000\n",
       "103       good  60653.000000  60653.000000  Default  28.0000  28.0000\n",
       "9        poker  29410.000000  29410.000000  Default  27.0000  27.0000\n",
       "528    awesome  17670.000000  17670.000000  Default  26.0000  26.0000\n",
       "...        ...           ...           ...      ...      ...      ...\n",
       "518       seat    304.379913    305.906342   Topic5  -4.9139   2.7009\n",
       "587        buy    285.008453    286.454803   Topic5  -4.9796   2.7008\n",
       "227      small    271.492920    272.939789   Topic5  -5.0282   2.7006\n",
       "1995  beginner    257.333923    258.776550   Topic5  -5.0818   2.7003\n",
       "1836     class    223.038132    224.472687   Topic5  -5.2248   2.6995\n",
       "\n",
       "[181 rows x 6 columns], token_table=      Topic      Freq       Term\n",
       "term                            \n",
       "187       5  0.998792       able\n",
       "111       5  0.998576    account\n",
       "365       5  0.997474     action\n",
       "8435      4  0.997831  addicting\n",
       "1153      2  0.999856  addictive\n",
       "...     ...       ...        ...\n",
       "145       4  0.999072        win\n",
       "846       4  0.998299  wonderful\n",
       "63        3  0.999084       work\n",
       "171       2  0.997794      world\n",
       "283       5  0.999698       year\n",
       "\n",
       "[151 rows x 3 columns], R=30, lambda_step=0.01, plot_opts={'xlab': 'PC1', 'ylab': 'PC2'}, topic_order=[5, 3, 4, 1, 2])"
      ]
     },
     "execution_count": 79,
     "metadata": {},
     "output_type": "execute_result"
    }
   ],
   "source": [
    "pyLDAvis.enable_notebook()\n",
    "vis = pyLDAvis.gensim.prepare(lda_model, corpus, id2word)\n",
    "vis"
   ]
  },
  {
   "cell_type": "markdown",
   "metadata": {},
   "source": [
    "- Topic 1 is the most prevalent as it has the largest bubble\n",
    "- This model may not be the best to describe the topics from the reviews as there are overlapping bubbles (Topics 3-5) in top left quadrant\n",
    "    - This may indicate that there are only 3 definitive topics"
   ]
  },
  {
   "cell_type": "markdown",
   "metadata": {
    "colab_type": "text",
    "id": "yL2i5PzJCnzT"
   },
   "source": [
    "## LDA Mallet Model "
   ]
  },
  {
   "cell_type": "markdown",
   "metadata": {},
   "source": [
    "Let's see if Mallet's version gives better quality topics."
   ]
  },
  {
   "cell_type": "code",
   "execution_count": 82,
   "metadata": {
    "colab": {
     "base_uri": "https://localhost:8080/",
     "height": 361
    },
    "colab_type": "code",
    "id": "LPc0-knQCm_X",
    "outputId": "a3ef78b5-ca11-4b8e-8b86-9e83e2ab30f2"
   },
   "outputs": [],
   "source": [
    "# Download File: http://mallet.cs.umass.edu/dist/mallet-2.0.8.zip\n",
    "mallet_path = 'mallet-2.0.8/bin/mallet' # update this path\n",
    "ldamallet = gensim.models.wrappers.LdaMallet(mallet_path, corpus=corpus, num_topics=5, id2word=id2word)"
   ]
  },
  {
   "cell_type": "code",
   "execution_count": 83,
   "metadata": {},
   "outputs": [
    {
     "data": {
      "text/plain": [
       "[(0,\n",
       "  [('great', 0.12863114922140317),\n",
       "   ('fun', 0.12103682179179777),\n",
       "   ('game', 0.11138346896754583),\n",
       "   ('nice', 0.09415361577338242),\n",
       "   ('love', 0.06315235896567399),\n",
       "   ('awesome', 0.051653905463102445),\n",
       "   ('update', 0.04298995445186248),\n",
       "   ('lot', 0.027409104279385678),\n",
       "   ('cool', 0.020625908065853158),\n",
       "   ('version', 0.020242626282434107)]),\n",
       " (1,\n",
       "  [('table', 0.061680182528220946),\n",
       "   ('time', 0.0528272219990942),\n",
       "   ('app', 0.043760628252565735),\n",
       "   ('problem', 0.0253625355699307),\n",
       "   ('star', 0.024132008237696862),\n",
       "   ('fix', 0.022431487827179273),\n",
       "   ('connection', 0.021329140425386462),\n",
       "   ('account', 0.02038915426881895),\n",
       "   ('tournament', 0.020149885065329037),\n",
       "   ('thing', 0.016313032480794375)]),\n",
       " (2,\n",
       "  [('chip', 0.14237551238206117),\n",
       "   ('hand', 0.0796284168910233),\n",
       "   ('money', 0.05354645193108411),\n",
       "   ('player', 0.04903506431557075),\n",
       "   ('card', 0.04099056489364283),\n",
       "   ('people', 0.03498346633033383),\n",
       "   ('win', 0.02132802962316169),\n",
       "   ('bad', 0.02102888743360256),\n",
       "   ('big', 0.01603240437556089),\n",
       "   ('fair', 0.012030366974702273)]),\n",
       " (3,\n",
       "  [('game', 0.11840829351716356),\n",
       "   ('play', 0.08845360461221108),\n",
       "   ('time', 0.07851866217669563),\n",
       "   ('app', 0.05440857560958409),\n",
       "   ('friend', 0.042781078650893),\n",
       "   ('free', 0.02977838114212169),\n",
       "   ('day', 0.0262874874380719),\n",
       "   ('notification', 0.01786879176290132),\n",
       "   ('gift', 0.016696345140076518),\n",
       "   ('phone', 0.016431883495830323)]),\n",
       " (4,\n",
       "  [('good', 0.289419861131837),\n",
       "   ('game', 0.26001351813976353),\n",
       "   ('poker', 0.1478041800897113),\n",
       "   ('real', 0.030161252095750563),\n",
       "   ('bad', 0.02182213990396854),\n",
       "   ('year', 0.019171180028265202),\n",
       "   ('playing', 0.013553251814854153),\n",
       "   ('site', 0.011270968478155915),\n",
       "   ('experience', 0.008137217896612564),\n",
       "   ('level', 0.007996769691277288)])]"
      ]
     },
     "execution_count": 83,
     "metadata": {},
     "output_type": "execute_result"
    }
   ],
   "source": [
    "ldamallet.show_topics(formatted=False)"
   ]
  },
  {
   "cell_type": "code",
   "execution_count": 85,
   "metadata": {},
   "outputs": [
    {
     "name": "stdout",
     "output_type": "stream",
     "text": [
      "\n",
      "Coherence Score:  0.5235269043821272\n"
     ]
    }
   ],
   "source": [
    "# Compute Coherence Score\n",
    "coherence_model_ldamallet = CoherenceModel(model=ldamallet, texts=texts, dictionary=id2word, coherence='c_v')\n",
    "coherence_ldamallet = coherence_model_ldamallet.get_coherence()\n",
    "print('\\nCoherence Score: ', coherence_ldamallet)"
   ]
  },
  {
   "cell_type": "markdown",
   "metadata": {},
   "source": [
    "By using a different LDA algorithm, the coherence score increased from 0.37 to 0.52."
   ]
  },
  {
   "cell_type": "markdown",
   "metadata": {},
   "source": [
    "### Find optimal # of topics"
   ]
  },
  {
   "cell_type": "code",
   "execution_count": 86,
   "metadata": {
    "colab": {},
    "colab_type": "code",
    "id": "80VwN0gZYBo6"
   },
   "outputs": [],
   "source": [
    "def compute_coherence_values(dictionary, corpus, texts, limit, start=2, step=3):\n",
    "    \"\"\"\n",
    "    Compute c_v coherence for various number of topics\n",
    "\n",
    "    Parameters:\n",
    "    ----------\n",
    "    dictionary : Gensim dictionary\n",
    "    corpus : Gensim corpus\n",
    "    texts : List of input texts\n",
    "    limit : Max num of topics\n",
    "\n",
    "    Returns:\n",
    "    -------\n",
    "    model_list : List of LDA topic models\n",
    "    coherence_values : Coherence values corresponding to the LDA model with respective number of topics\n",
    "    \"\"\"\n",
    "    coherence_values = []\n",
    "    model_list = []\n",
    "    for num_topics in range(start, limit, step):\n",
    "        model = gensim.models.wrappers.LdaMallet(mallet_path, corpus=corpus, num_topics=num_topics, id2word=id2word)\n",
    "        model_list.append(model)\n",
    "        coherencemodel = CoherenceModel(model=model, texts=texts, dictionary=dictionary, coherence='c_v')\n",
    "        coherence_values.append(coherencemodel.get_coherence())\n",
    "\n",
    "    return model_list, coherence_values"
   ]
  },
  {
   "cell_type": "code",
   "execution_count": 87,
   "metadata": {
    "colab": {},
    "colab_type": "code",
    "id": "jXOuxZ_zCBz7"
   },
   "outputs": [],
   "source": [
    "model_list, coherence_values = compute_coherence_values(dictionary=id2word, corpus=corpus, texts=texts, start=2, limit=40, step=6)"
   ]
  },
  {
   "cell_type": "code",
   "execution_count": 88,
   "metadata": {},
   "outputs": [],
   "source": [
    "# Save the LDA model list!\n",
    "with open('lda_model_list.pkl', 'wb') as fp:   #Pickling\n",
    "    pickle.dump(model_list, fp)"
   ]
  },
  {
   "cell_type": "code",
   "execution_count": 41,
   "metadata": {},
   "outputs": [],
   "source": [
    "with open('lda_model_list.pkl', 'rb') as fp:   # Unpickling\n",
    "    model_list = pickle.load(fp)                 # This will be used to create our corpus"
   ]
  },
  {
   "cell_type": "code",
   "execution_count": 89,
   "metadata": {},
   "outputs": [],
   "source": [
    "# Save the coherence values\n",
    "with open('coherence_values.pkl', 'wb') as fp:   #Pickling\n",
    "    pickle.dump(coherence_values, fp)"
   ]
  },
  {
   "cell_type": "code",
   "execution_count": 42,
   "metadata": {},
   "outputs": [],
   "source": [
    "with open('coherence_values.pkl', 'rb') as fp:   # Unpickling\n",
    "    coherence_values = pickle.load(fp)                 # This will be used to create our corpus"
   ]
  },
  {
   "cell_type": "code",
   "execution_count": 43,
   "metadata": {},
   "outputs": [
    {
     "data": {
      "image/png": "[encoded data removed]",
      "text/plain": [
       "<Figure size 1152x576 with 1 Axes>"
      ]
     },
     "metadata": {
      "needs_background": "light"
     },
     "output_type": "display_data"
    }
   ],
   "source": [
    "# Show graph\n",
    "limit=40; start=2; step=6;\n",
    "x = range(start, limit, step)\n",
    "plt.plot(x, coherence_values)\n",
    "plt.xlabel(\"Num Topics\")\n",
    "plt.ylabel(\"Coherence score\")\n",
    "plt.legend((\"coherence_values\"), loc='best')\n",
    "plt.show()"
   ]
  },
  {
   "cell_type": "code",
   "execution_count": 44,
   "metadata": {},
   "outputs": [
    {
     "name": "stdout",
     "output_type": "stream",
     "text": [
      "Num Topics = 2  has Coherence Value of 0.458\n",
      "Num Topics = 8  has Coherence Value of 0.5366\n",
      "Num Topics = 14  has Coherence Value of 0.5615\n",
      "Num Topics = 20  has Coherence Value of 0.5705\n",
      "Num Topics = 26  has Coherence Value of 0.5468\n",
      "Num Topics = 32  has Coherence Value of 0.5261\n",
      "Num Topics = 38  has Coherence Value of 0.5116\n"
     ]
    }
   ],
   "source": [
    "# Print the coherence scores\n",
    "for m, cv in zip(x, coherence_values):\n",
    "    print(\"Num Topics =\", m, \" has Coherence Value of\", round(cv, 4))"
   ]
  },
  {
   "cell_type": "markdown",
   "metadata": {},
   "source": [
    "There's a peak at 20 topics. It is also possible to go with 14 topics as the difference in coherence is only 0.85."
   ]
  },
  {
   "cell_type": "code",
   "execution_count": 45,
   "metadata": {},
   "outputs": [
    {
     "name": "stdout",
     "output_type": "stream",
     "text": [
      "[(0,\n",
      "  '0.197*\"game\" + 0.105*\"day\" + 0.101*\"play\" + 0.067*\"gift\" + 0.067*\"thing\" + '\n",
      "  '0.039*\"hour\" + 0.036*\"ad\" + 0.032*\"stupid\" + 0.032*\"happy\" + 0.023*\"week\"'),\n",
      " (1,\n",
      "  '0.285*\"game\" + 0.123*\"love\" + 0.120*\"nice\" + 0.119*\"awesome\" + 0.086*\"cool\" '\n",
      "  '+ 0.054*\"good\" + 0.035*\"excellent\" + 0.017*\"brilliant\" + 0.017*\"lol\" + '\n",
      "  '0.016*\"interesting\"'),\n",
      " (2,\n",
      "  '0.463*\"chip\" + 0.109*\"free\" + 0.059*\"spin\" + 0.037*\"bonus\" + 0.028*\"coin\" + '\n",
      "  '0.021*\"gold\" + 0.020*\"purchase\" + 0.019*\"lucky\" + 0.019*\"video\" + '\n",
      "  '0.015*\"daily\"'),\n",
      " (3,\n",
      "  '0.103*\"problem\" + 0.092*\"fix\" + 0.087*\"connection\" + 0.061*\"app\" + '\n",
      "  '0.059*\"issue\" + 0.054*\"error\" + 0.043*\"bug\" + 0.031*\"internet\" + '\n",
      "  '0.025*\"work\" + 0.021*\"open\"'),\n",
      " (4,\n",
      "  '0.490*\"great\" + 0.089*\"game\" + 0.039*\"slow\" + 0.039*\"graphic\" + 0.031*\"fun\" '\n",
      "  '+ 0.025*\"enjoyable\" + 0.022*\"fast\" + 0.022*\"job\" + 0.020*\"fantastic\" + '\n",
      "  '0.019*\"bit\"'),\n",
      " (5,\n",
      "  '0.529*\"time\" + 0.033*\"long\" + 0.032*\"alot\" + 0.027*\"waste\" + 0.019*\"worth\" '\n",
      "  '+ 0.018*\"terrible\" + 0.017*\"winning\" + 0.017*\"mil\" + 0.014*\"garbage\" + '\n",
      "  '0.013*\"half\"'),\n",
      " (6,\n",
      "  '0.476*\"game\" + 0.267*\"nice\" + 0.134*\"good\" + 0.020*\"enjoy\" + '\n",
      "  '0.014*\"perfect\" + 0.013*\"wonderful\" + 0.004*\"sweet\" + 0.004*\"brilliant\" + '\n",
      "  '0.003*\"addicted\" + 0.002*\"entertaining\"'),\n",
      " (7,\n",
      "  '0.294*\"app\" + 0.089*\"phone\" + 0.069*\"notification\" + 0.039*\"annoying\" + '\n",
      "  '0.027*\"uninstalled\" + 0.026*\"uninstall\" + 0.023*\"message\" + 0.019*\"turn\" + '\n",
      "  '0.017*\"minute\" + 0.015*\"delete\"'),\n",
      " (8,\n",
      "  '0.172*\"bad\" + 0.108*\"chip\" + 0.042*\"guy\" + 0.025*\"crap\" + 0.021*\"luck\" + '\n",
      "  '0.020*\"poor\" + 0.020*\"customer\" + 0.018*\"due\" + 0.018*\"system\" + '\n",
      "  '0.017*\"horrible\"'),\n",
      " (9,\n",
      "  '0.431*\"good\" + 0.360*\"game\" + 0.124*\"poker\" + 0.018*\"favorite\" + '\n",
      "  '0.004*\"favourite\" + 0.003*\"pro\" + 0.003*\"token\" + 0.001*\"gooood\" + '\n",
      "  '0.001*\"multiplayer\" + 0.001*\"stuff\"'),\n",
      " (10,\n",
      "  '0.164*\"update\" + 0.077*\"version\" + 0.057*\"screen\" + 0.038*\"work\" + '\n",
      "  '0.032*\"load\" + 0.030*\"button\" + 0.029*\"bet\" + 0.027*\"force\" + 0.026*\"close\" '\n",
      "  '+ 0.024*\"fold\"'),\n",
      " (11,\n",
      "  '0.204*\"player\" + 0.115*\"people\" + 0.050*\"fair\" + 0.038*\"bot\" + 0.035*\"high\" '\n",
      "  '+ 0.031*\"level\" + 0.027*\"low\" + 0.018*\"computer\" + 0.015*\"stake\" + '\n",
      "  '0.014*\"cheater\"'),\n",
      " (12,\n",
      "  '0.363*\"poker\" + 0.076*\"year\" + 0.052*\"playing\" + 0.045*\"site\" + '\n",
      "  '0.038*\"play\" + 0.032*\"experience\" + 0.030*\"online\" + 0.023*\"point\" + '\n",
      "  '0.021*\"world\" + 0.019*\"realistic\"'),\n",
      " (13,\n",
      "  '0.104*\"star\" + 0.093*\"play\" + 0.084*\"account\" + 0.037*\"reason\" + '\n",
      "  '0.035*\"log\" + 0.035*\"app\" + 0.025*\"change\" + 0.025*\"download\" + '\n",
      "  '0.023*\"facebook\" + 0.021*\"rate\"'),\n",
      " (14,\n",
      "  '0.475*\"good\" + 0.324*\"game\" + 0.106*\"poker\" + 0.013*\"mind\" + '\n",
      "  '0.007*\"practice\" + 0.006*\"market\" + 0.002*\"blast\" + 0.002*\"baby\" + '\n",
      "  '0.002*\"girl\" + 0.002*\"boy\"'),\n",
      " (15,\n",
      "  '0.221*\"money\" + 0.112*\"real\" + 0.084*\"win\" + 0.061*\"big\" + 0.037*\"lose\" + '\n",
      "  '0.030*\"people\" + 0.026*\"loose\" + 0.022*\"amount\" + 0.020*\"buy\" + '\n",
      "  '0.019*\"fake\"'),\n",
      " (16,\n",
      "  '0.255*\"game\" + 0.184*\"love\" + 0.171*\"good\" + 0.093*\"awesome\" + '\n",
      "  '0.069*\"great\" + 0.061*\"addictive\" + 0.056*\"amazing\" + 0.025*\"excellent\" + '\n",
      "  '0.006*\"beautiful\" + 0.005*\"busy\"'),\n",
      " (17,\n",
      "  '0.239*\"table\" + 0.160*\"friend\" + 0.078*\"tournament\" + 0.045*\"option\" + '\n",
      "  '0.029*\"buddy\" + 0.023*\"place\" + 0.022*\"sit\" + 0.021*\"room\" + 0.020*\"top\" + '\n",
      "  '0.015*\"small\"'),\n",
      " (18,\n",
      "  '0.293*\"hand\" + 0.151*\"card\" + 0.043*\"full\" + 0.032*\"pair\" + 0.026*\"pot\" + '\n",
      "  '0.019*\"straight\" + 0.019*\"flush\" + 0.019*\"kind\" + 0.019*\"random\" + '\n",
      "  '0.019*\"person\"'),\n",
      " (19,\n",
      "  '0.443*\"fun\" + 0.135*\"play\" + 0.116*\"lot\" + 0.062*\"easy\" + 0.025*\"great\" + '\n",
      "  '0.021*\"challenge\" + 0.019*\"exciting\" + 0.013*\"quick\" + 0.012*\"control\" + '\n",
      "  '0.012*\"simple\"')]\n"
     ]
    }
   ],
   "source": [
    "# Select the model and print the topics\n",
    "optimal_model = model_list[3]\n",
    "model_topics = optimal_model.show_topics(formatted=False)\n",
    "pprint(optimal_model.print_topics(num_words=10))"
   ]
  },
  {
   "cell_type": "code",
   "execution_count": 46,
   "metadata": {},
   "outputs": [],
   "source": [
    "final_model = gensim.models.wrappers.ldamallet.malletmodel2ldamodel(optimal_model)"
   ]
  },
  {
   "cell_type": "code",
   "execution_count": 100,
   "metadata": {},
   "outputs": [
    {
     "data": {
      "text/html": [
       "\n",
       "<link rel=\"stylesheet\" type=\"text/css\" href=\"https://cdn.rawgit.com/bmabey/pyLDAvis/files/ldavis.v1.0.0.css\">\n",
       "\n",
       "\n",
       "<div id=\"ldavis_el389657492790566893037781\"></div>\n",
       "<script type=\"text/javascript\">\n",
       "\n",
       "var ldavis_el389657492790566893037781_data = {\"mdsDat\": {\"x\": [0.14843985363848378, 0.15096205341939548, 0.15657671074997342, 0.16755853720986139, 0.17120112211307179, 0.1437708897867193, 0.16623473226427468, 0.14696973161184912, 0.13859583506176246, 0.15427021394676516, -0.12581550786312265, 0.17246866857615217, 0.005499112742098227, 0.1103902196095637, -0.3324939969843896, -0.0842507678274414, -0.3289092780067764, -0.33352693428758695, -0.3208968212705847, -0.3070443744900687], \"y\": [0.04874830903524418, 0.07487244824859852, 0.10156208791947895, 0.28017297950883013, 0.2643805707166407, 0.01817995024215738, -0.12015734773848197, 0.0264363876449351, -0.234446225349653, -0.025106489885774165, -0.10846067616617032, -0.08274308197693166, -0.07734873705082436, -0.24258584444442158, 0.03136082982194773, -0.10064010302957437, 0.034093949808359114, 0.04893816051499827, 0.016542663149550885, 0.046200169031089505], \"topics\": [1, 2, 3, 4, 5, 6, 7, 8, 9, 10, 11, 12, 13, 14, 15, 16, 17, 18, 19, 20], \"cluster\": [1, 1, 1, 1, 1, 1, 1, 1, 1, 1, 1, 1, 1, 1, 1, 1, 1, 1, 1, 1], \"Freq\": [5.403780822144285, 5.234111575695026, 5.200748579991564, 5.1896310870306745, 5.172175886749684, 5.163582138217275, 5.073149683367334, 5.059724811358152, 5.057120809462536, 5.0556718200143, 5.036886358819426, 5.036018453106713, 5.031394950678685, 4.824610142081355, 4.784832672102718, 4.7791772948802365, 4.779143622936541, 4.750875871638272, 4.685439569088398, 4.681923850636814]}, \"tinfo\": {\"Term\": [\"game\", \"good\", \"time\", \"chip\", \"great\", \"fun\", \"poker\", \"hand\", \"app\", \"nice\", \"table\", \"love\", \"money\", \"player\", \"play\", \"bad\", \"update\", \"friend\", \"card\", \"awesome\", \"people\", \"real\", \"lot\", \"free\", \"day\", \"star\", \"problem\", \"fix\", \"phone\", \"connection\", \"ten\", \"everyhand\", \"river\", \"straight\", \"row\", \"scenario\", \"sequence\", \"randomizer\", \"queen\", \"premium\", \"diamond\", \"degree\", \"deuce\", \"rotation\", \"flip\", \"splitting\", \"belive\", \"ace\", \"community\", \"flawed\", \"pocket\", \"inconsistent\", \"dealing\", \"odd\", \"flop\", \"kicker\", \"randomness\", \"hand\", \"pattern\", \"common\", \"card\", \"full\", \"pair\", \"pot\", \"random\", \"flush\", \"kind\", \"house\", \"opponent\", \"unrealistic\", \"royal\", \"runner\", \"algorithm\", \"trip\", \"suit\", \"split\", \"draw\", \"set\", \"king\", \"predictable\", \"winner\", \"deck\", \"person\", \"impossible\", \"ridiculous\", \"high\", \"bet\", \"matter\", \"beat\", \"life\", \"problame\", \"woint\", \"myth\", \"casinoesque\", \"clarification\", \"breed\", \"reraise\", \"contrary\", \"sanction\", \"akshay\", \"mattress\", \"susceptible\", \"vulgar\", \"strate\", \"arm\", \"baddd\", \"piont\", \"unpleasant\", \"verdict\", \"career\", \"polictic\", \"climax\", \"trillion\", \"galore\", \"otomatikly\", \"cheekier\", \"crease\", \"socialization\", \"inatalled\", \"bumili\", \"player\", \"fair\", \"bot\", \"level\", \"low\", \"computer\", \"cheater\", \"idiot\", \"program\", \"rubbish\", \"hacker\", \"end\", \"bingo\", \"cheat\", \"dumb\", \"move\", \"cheating\", \"donkey\", \"sense\", \"hack\", \"obvious\", \"trash\", \"honest\", \"smart\", \"rid\", \"ruin\", \"favor\", \"fool\", \"robot\", \"country\", \"stake\", \"skill\", \"people\", \"talk\", \"ppl\", \"double\", \"absolute\", \"mad\", \"high\", \"word\", \"action\", \"joke\", \"type\", \"gameplay\", \"chance\", \"matter\", \"lust\", \"suxxxxx\", \"ridance\", \"selling\", \"hihgh\", \"deselected\", \"blk\", \"het\", \"discontinue\", \"tiday\", \"motive\", \"sketchy\", \"played\", \"orderd\", \"dous\", \"yar\", \"veloper\", \"wun\", \"paralegal\", \"doeant\", \"strange\", \"unworthy\", \"wrath\", \"frigin\", \"risk\", \"accurate\", \"anym\", \"carnival\", \"occurance\", \"sole\", \"money\", \"lose\", \"fake\", \"cash\", \"real\", \"loose\", \"deal\", \"dollar\", \"credit\", \"balance\", \"cheap\", \"dealer\", \"betting\", \"streak\", \"make\", \"rip\", \"tip\", \"wallet\", \"jackpot\", \"fraud\", \"glad\", \"actual\", \"trust\", \"maker\", \"purpose\", \"win\", \"difference\", \"scam\", \"loss\", \"big\", \"sale\", \"gamble\", \"casino\", \"bother\", \"bunch\", \"amount\", \"buy\", \"pay\", \"chance\", \"people\", \"joke\", \"huge\", \"improvment\", \"inexplicable\", \"frend\", \"contract\", \"machine\", \"discouraging\", \"mega\", \"uncomfortable\", \"tuff\", \"eternity\", \"blackjack\", \"takin\", \"leveling\", \"utility\", \"multiplication\", \"deception\", \"boooooo\", \"coin\", \"theam\", \"preferable\", \"booster\", \"lollipop\", \"adv\", \"donwload\", \"spinner\", \"cgip\", \"crave\", \"unpredictability\", \"soooooooooooooo\", \"checkbox\", \"free\", \"spin\", \"bonus\", \"gold\", \"lucky\", \"video\", \"slot\", \"wheel\", \"purchase\", \"leader\", \"stack\", \"price\", \"refund\", \"watch\", \"offer\", \"count\", \"charge\", \"buying\", \"extra\", \"hrs\", \"expensive\", \"payment\", \"payout\", \"cherry\", \"award\", \"buyer\", \"transaction\", \"chip\", \"mini\", \"generous\", \"cost\", \"special\", \"daily\", \"amount\", \"buy\", \"million\", \"pay\", \"total\", \"loophole\", \"compensation\", \"filing\", \"speech\", \"fluke\", \"collecting\", \"death\", \"snap\", \"zyngas\", \"consequence\", \"absurd\", \"unethical\", \"database\", \"bragging\", \"mail\", \"scrub\", \"intelligence\", \"purchaser\", \"briliant\", \"letter\", \"forum\", \"positive\", \"pack\", \"business\", \"ninja\", \"intentional\", \"bandwidth\", \"disgusting\", \"link\", \"junk\", \"bad\", \"crap\", \"luck\", \"poor\", \"customer\", \"review\", \"due\", \"guy\", \"support\", \"email\", \"service\", \"developer\", \"complaint\", \"contact\", \"horrible\", \"report\", \"man\", \"care\", \"shame\", \"mill\", \"ass\", \"software\", \"package\", \"negative\", \"result\", \"answer\", \"case\", \"piece\", \"response\", \"system\", \"side\", \"company\", \"today\", \"unfair\", \"number\", \"chip\", \"beat\", \"wrong\", \"million\", \"wbat\", \"nfc\", \"top\", \"fuker\", \"widespread\", \"sposse\", \"alternate\", \"invite\", \"surf\", \"autobet\", \"instaling\", \"wasent\", \"clumky\", \"heartache\", \"queer\", \"quote\", \"io\", \"luckybonus\", \"leptop\", \"evethough\", \"diifferent\", \"doesbt\", \"pitty\", \"jjmxhdjckckcmv\", \"becausr\", \"solituon\", \"okai\", \"indictment\", \"serval\", \"pedophile\", \"table\", \"friend\", \"tournament\", \"buddy\", \"sit\", \"feature\", \"kick\", \"tourney\", \"seat\", \"blind\", \"room\", \"list\", \"lobby\", \"prize\", \"round\", \"place\", \"request\", \"family\", \"shootout\", \"difficult\", \"private\", \"exit\", \"kicked\", \"join\", \"search\", \"weekly\", \"leave\", \"select\", \"chat\", \"small\", \"option\", \"put\", \"big\", \"gree\", \"operable\", \"slick\", \"painful\", \"horribpe\", \"aslatest\", \"dpake\", \"presidential\", \"selecting\", \"doo\", \"screwed\", \"ringtone\", \"compensated\", \"chatter\", \"wana\", \"marshalled\", \"agh\", \"upward\", \"chuckie\", \"unlock\", \"herpe\", \"toggle\", \"canvasser\", \"deductee\", \"requested\", \"bash\", \"fuh\", \"baseuh\", \"damnnnn\", \"begging\", \"notification\", \"annoying\", \"uninstalled\", \"uninstall\", \"message\", \"turn\", \"minute\", \"night\", \"pop\", \"tired\", \"sick\", \"useless\", \"setting\", \"delete\", \"bar\", \"push\", \"constant\", \"battery\", \"text\", \"spam\", \"background\", \"min\", \"reinstall\", \"ready\", \"music\", \"disable\", \"advertisement\", \"advertising\", \"pointless\", \"important\", \"face\", \"sad\", \"phone\", \"sound\", \"power\", \"app\", \"stop\", \"stupid\", \"middle\", \"installing\", \"gve\", \"obscure\", \"hundred\", \"tabel\", \"suks\", \"period\", \"aggravation\", \"killing\", \"awsm\", \"philosophy\", \"verge\", \"hideous\", \"fulltilt\", \"entire\", \"strenght\", \"grief\", \"hurt\", \"wasting\", \"shorten\", \"coincidental\", \"shark\", \"burn\", \"approach\", \"affected\", \"placing\", \"prediction\", \"ghost\", \"fixd\", \"droidx\", \"time\", \"long\", \"waste\", \"worth\", \"winning\", \"mil\", \"killer\", \"garbage\", \"pass\", \"multiple\", \"alot\", \"short\", \"shut\", \"passer\", \"worthless\", \"percent\", \"waster\", \"spare\", \"clock\", \"wait\", \"bogus\", \"glitchy\", \"frustration\", \"effort\", \"waist\", \"math\", \"delay\", \"thousand\", \"past\", \"crappy\", \"half\", \"kill\", \"loser\", \"bank\", \"terrible\", \"attention\", \"numerous\", \"total\", \"glitch\", \"freeze\", \"complete\", \"guess\", \"month\", \"billion\", \"sake\", \"suggestion\", \"detail\", \"figure\", \"code\", \"access\", \"back\", \"reinstalling\", \"picture\", \"instruction\", \"hate\", \"logged\", \"star\", \"success\", \"frust\", \"pix\", \"seize\", \"public\", \"ple\", \"mouth\", \"achievement\", \"forexample\", \"credibility\", \"entre\", \"tourament\", \"information\", \"gmail\", \"bigger\", \"abrasive\", \"badness\", \"account\", \"log\", \"reason\", \"facebook\", \"change\", \"rate\", \"user\", \"download\", \"hard\", \"rating\", \"unable\", \"guest\", \"page\", \"store\", \"sign\", \"profile\", \"sudden\", \"morning\", \"give\", \"ill\", \"info\", \"meter\", \"strength\", \"start\", \"yesterday\", \"show\", \"comment\", \"play\", \"friendly\", \"suck\", \"app\", \"week\", \"recycle\", \"phome\", \"squat\", \"troyble\", \"downgrade\", \"lottory\", \"razr\", \"beta\", \"consent\", \"junki\", \"potato\", \"exiting\", \"mist\", \"wtf\", \"collapse\", \"fycj\", \"divide\", \"indie\", \"ver\", \"sabotage\", \"foldz\", \"interation\", \"boyfriend\", \"phuq\", \"typing\", \"dammm\", \"phn\", \"rightful\", \"chipp\", \"horriblr\", \"update\", \"version\", \"screen\", \"load\", \"force\", \"close\", \"fold\", \"crash\", \"button\", \"black\", \"late\", \"check\", \"loading\", \"call\", \"raise\", \"tablet\", \"lag\", \"stuck\", \"install\", \"awful\", \"space\", \"htc\", \"droid\", \"icon\", \"home\", \"press\", \"closing\", \"original\", \"auto\", \"previous\", \"note\", \"recent\", \"lock\", \"age\", \"bet\", \"work\", \"freeze\", \"device\", \"open\", \"suck\", \"phone\", \"timeout\", \"plater\", \"racism\", \"suspense\", \"texture\", \"class\", \"recive\", \"organization\", \"accept\", \"plzzz\", \"idk\", \"emergency\", \"injoyable\", \"rubish\", \"swore\", \"barrier\", \"upgrading\", \"freezez\", \"crapy\", \"wayy\", \"woman\", \"bout\", \"sixth\", \"bike\", \"pizza\", \"inr\", \"ing\", \"anus\", \"gift\", \"thankful\", \"day\", \"hour\", \"ad\", \"thing\", \"limit\", \"decent\", \"happy\", \"couple\", \"rest\", \"hot\", \"claim\", \"collect\", \"interested\", \"tho\", \"exceptional\", \"wanna\", \"redeem\", \"tutorial\", \"timer\", \"beer\", \"everyday\", \"briefcase\", \"shop\", \"phenomenal\", \"part\", \"advertise\", \"bored\", \"run\", \"stuff\", \"doubt\", \"stupid\", \"funny\", \"week\", \"bloody\", \"waiting\", \"play\", \"fact\", \"daily\", \"coz\", \"game\", \"crazy\", \"single\", \"month\", \"hell\", \"rejoin\", \"step\", \"believable\", \"hiccup\", \"firewall\", \"carrier\", \"speedy\", \"connect\", \"risky\", \"reveal\", \"equipment\", \"dough\", \"heck\", \"php\", \"jst\", \"encounter\", \"analysis\", \"gas\", \"solve\", \"vid\", \"fbconnect\", \"traffic\", \"connetion\", \"unreliable\", \"mbp\", \"fyi\", \"wud\", \"edge\", \"reconnecting\", \"vain\", \"problem\", \"fix\", \"connection\", \"issue\", \"error\", \"bug\", \"internet\", \"mobile\", \"fine\", \"application\", \"server\", \"network\", \"hope\", \"speed\", \"datum\", \"main\", \"boot\", \"menu\", \"wifi\", \"net\", \"reconnect\", \"connected\", \"connectivity\", \"major\", \"mid\", \"buggy\", \"login\", \"minor\", \"match\", \"signal\", \"active\", \"trouble\", \"frustrating\", \"everytime\", \"disconnected\", \"middle\", \"open\", \"asap\", \"work\", \"head\", \"app\", \"glitch\", \"wrong\", \"month\", \"limitless\", \"lootss\", \"kazoo\", \"plxxx\", \"eighth\", \"firework\", \"pull\", \"risking\", \"sdcard\", \"ogni\", \"poss\", \"smith\", \"ruind\", \"tabke\", \"combos\", \"csnt\", \"tun\", \"aouth\", \"ouath\", \"wath\", \"unsatisfactory\", \"unberable\", \"gusest\", \"infomercial\", \"oversized\", \"scoreboard\", \"invade\", \"pokker\", \"pkese\", \"onther\", \"year\", \"site\", \"experience\", \"online\", \"point\", \"world\", \"reward\", \"wsop\", \"ticket\", \"live\", \"hold\", \"competitive\", \"setup\", \"social\", \"holdem\", \"web\", \"line\", \"league\", \"vip\", \"safe\", \"platform\", \"format\", \"solid\", \"interactive\", \"creator\", \"realistic\", \"playing\", \"wpt\", \"tier\", \"donk\", \"series\", \"satisfied\", \"smooth\", \"fan\", \"recommend\", \"cheer\", \"poker\", \"gaming\", \"life\", \"true\", \"play\", \"lol\", \"game\", \"stvarno\", \"tube\", \"uniinstall\", \"uninstalle\", \"offerng\", \"remembery\", \"vailable\", \"whomever\", \"disruptive\", \"featuresi\", \"bloodsucking\", \"interet\", \"uncompatible\", \"inposible\", \"otherfeature\", \"stiring\", \"everytable\", \"bullchit\", \"spacificly\", \"boooooooooo\", \"surplus\", \"yyyyyyyy\", \"tmobile\", \"freaken\", \"fuuuuuuu\", \"waited\", \"production\", \"prayer\", \"kingme\", \"bern\", \"lot\", \"easy\", \"challenge\", \"exciting\", \"quick\", \"addicting\", \"super\", \"ton\", \"learning\", \"clean\", \"mate\", \"navigate\", \"joy\", \"adictive\", \"simple\", \"perk\", \"paced\", \"pleasant\", \"toe\", \"bastard\", \"fun\", \"dunno\", \"coo\", \"extreme\", \"control\", \"classy\", \"learner\", \"billing\", \"floor\", \"comfort\", \"plenty\", \"beginner\", \"helpful\", \"stirring\", \"excitement\", \"excited\", \"drink\", \"challenging\", \"play\", \"opportunity\", \"plain\", \"fast\", \"addictive\", \"great\", \"friendly\", \"pro\", \"ball\", \"taunament\", \"abysmal\", \"involuntary\", \"portrate\", \"dumbness\", \"sending\", \"opposition\", \"hgyjfkkxtt\", \"fac\", \"advisor\", \"mainstream\", \"straigth\", \"lcd\", \"iust\", \"yday\", \"asss\", \"unsufficient\", \"curruption\", \"optn\", \"airpush\", \"powerup\", \"twll\", \"slum\", \"uuuuggggh\", \"irrelivant\", \"yousuck\", \"wood\", \"roommate\", \"oppinion\", \"intalling\", \"gooood\", \"multiplayer\", \"flow\", \"decade\", \"gem\", \"favourite\", \"experiance\", \"news\", \"realism\", \"spectacular\", \"rise\", \"fantasy\", \"begginer\", \"whack\", \"customization\", \"wery\", \"dificult\", \"badbeat\", \"hmm\", \"scene\", \"stoped\", \"orientation\", \"producer\", \"creat\", \"goof\", \"madness\", \"popularity\", \"bus\", \"token\", \"favorite\", \"regard\", \"pro\", \"good\", \"pleased\", \"sheer\", \"game\", \"poker\", \"downside\", \"sharpen\", \"silly\", \"millionaire\", \"communicate\", \"tym\", \"ally\", \"stuff\", \"froze\", \"pretty\", \"gameike\", \"vibrat\", \"sevaral\", \"bleh\", \"grinder\", \"sapce\", \"uber\", \"timespan\", \"suckie\", \"fixit\", \"imternet\", \"ballz\", \"uinstalled\", \"tryd\", \"absolutley\", \"saving\", \"experence\", \"awns\", \"mood\", \"thecard\", \"ttttttttttyt\", \"cas\", \"renind\", \"stoop\", \"rythyms\", \"sometine\", \"fren\", \"fab\", \"holl\", \"buls\", \"graphic\", \"job\", \"fantastic\", \"enjoyable\", \"slow\", \"jump\", \"improvement\", \"interface\", \"trophy\", \"boring\", \"pace\", \"entertainment\", \"competition\", \"design\", \"disconnect\", \"patience\", \"intense\", \"bit\", \"quality\", \"additive\", \"sharp\", \"key\", \"billionaire\", \"layout\", \"monkey\", \"gme\", \"variety\", \"lady\", \"neat\", \"great\", \"mode\", \"omaha\", \"event\", \"animation\", \"fast\", \"item\", \"zynga\", \"gameplay\", \"game\", \"fun\", \"addictive\", \"prrfect\", \"unbeleivable\", \"song\", \"straighf\", \"scream\", \"outof\", \"loggs\", \"knockout\", \"wna\", \"voof\", \"waaaaaaaay\", \"blah\", \"inbetween\", \"dismal\", \"friccn\", \"usable\", \"crahe\", \"majician\", \"zzzzzzz\", \"everthing\", \"gajs\", \"friand\", \"diaplay\", \"solvable\", \"onex\", \"reign\", \"slang\", \"pxx\", \"rlsr\", \"disapointing\", \"mind\", \"baby\", \"girl\", \"plss\", \"pastime\", \"earth\", \"mom\", \"market\", \"marvelous\", \"planet\", \"balanced\", \"ride\", \"sumtime\", \"poket\", \"foreigner\", \"glitching\", \"aswell\", \"conclusion\", \"pleasurable\", \"refreshing\", \"authority\", \"rigid\", \"autofold\", \"favourable\", \"boy\", \"peep\", \"taxis\", \"bare\", \"matching\", \"quirk\", \"pvp\", \"blast\", \"stare\", \"incoming\", \"grrrrrrr\", \"practice\", \"girlfriend\", \"lmao\", \"challange\", \"timepass\", \"good\", \"irritated\", \"updating\", \"train\", \"game\", \"sex\", \"poker\", \"town\", \"source\", \"dissatisfied\", \"attractive\", \"grafic\", \"smartphone\", \"showen\", \"crapped\", \"demoralizing\", \"displeasure\", \"doest\", \"itune\", \"lier\", \"freepoint\", \"lse\", \"lway\", \"ridden\", \"hermit\", \"ridicule\", \"olso\", \"byeeeeeeeeee\", \"declare\", \"positon\", \"creating\", \"softwer\", \"designation\", \"adjustable\", \"charged\", \"infinite\", \"hustling\", \"jelous\", \"output\", \"outlast\", \"splitter\", \"ggggrrrrrrrrrr\", \"randomized\", \"enjoy\", \"wonderful\", \"#\", \"thrill\", \"okey\", \"addicted\", \"stud\", \"installed\", \"updated\", \"wining\", \"persist\", \"needless\", \"bring\", \"modification\", \"goddamn\", \"poof\", \"thankz\", \"gamw\", \"react\", \"diversity\", \"frezze\", \"relevant\", \"mater\", \"disturb\", \"algood\", \"deadly\", \"root\", \"quitting\", \"college\", \"hahaha\", \"gona\", \"nice\", \"tension\", \"gambler\", \"sweet\", \"fame\", \"perfect\", \"game\", \"outstanding\", \"adventure\", \"relief\", \"playstore\", \"enjoying\", \"good\", \"gsme\", \"gambling\", \"freaking\", \"brilliant\", \"entertaining\", \"favorite\", \"addict\", \"notice\", \"collectible\", \"pimping\", \"uninsalling\", \"apear\", \"lode\", \"reocurring\", \"useing\", \"woykd\", \"developement\", \"ilost\", \"buglevel\", \"accuraye\", \"respawnable\", \"bacground\", \"suckssss\", \"progresz\", \"brill\", \"bleeb\", \"glinche\", \"etcetcetc\", \"faaaake\", \"width\", \"uninstlled\", \"maveric\", \"dserve\", \"uncomfortalble\", \"acutaull\", \"sheeple\", \"glitchez\", \"anymre\", \"sccreen\", \"beautiful\", \"busy\", \"awesomeness\", \"boss\", \"gane\", \"promo\", \"nicee\", \"test\", \"drug\", \"soooo\", \"disgraceful\", \"adrenaline\", \"hat\", \"ply\", \"marvellous\", \"counter\", \"beauty\", \"passtime\", \"grate\", \"zyng\", \"messy\", \"bread\", \"moon\", \"sucky\", \"feasible\", \"thik\", \"progressive\", \"awkward\", \"effective\", \"cip\", \"bomb\", \"amazing\", \"hooked\", \"pleasing\", \"addictive\", \"mission\", \"love\", \"awesome\", \"porker\", \"gambling\", \"excellent\", \"funn\", \"game\", \"good\", \"great\", \"sluggish\", \"costly\", \"challenging\", \"nice\", \"lovely\", \"thenk\", \"overtime\", \"cyanogenmod\", \"inst\", \"selowole\", \"cleaner\", \"shooter\", \"smtn\", \"java\", \"idgaf\", \"rediliculous\", \"troublesome\", \"bozo\", \"flipped\", \"oso\", \"applyied\", \"winng\", \"clover\", \"carzy\", \"funner\", \"respon\", \"accoun\", \"gate\", \"cumputer\", \"favourate\", \"bcas\", \"unstalling\", \"frauding\", \"snowman\", \"cool\", \"thumb\", \"stress\", \"interesting\", \"goood\", \"relaxing\", \"rock\", \"addiction\", \"female\", \"fabulous\", \"simulation\", \"colour\", \"cos\", \"wack\", \"exercise\", \"exception\", \"reliever\", \"reliver\", \"stating\", \"horrendous\", \"lime\", \"african\", \"emoticon\", \"championship\", \"guide\", \"stash\", \"vibe\", \"borderline\", \"ilike\", \"superb\", \"alright\", \"shocking\", \"brilliant\", \"exellent\", \"entertaining\", \"lol\", \"awesome\", \"excellent\", \"love\", \"haha\", \"awsome\", \"nice\", \"perfect\", \"game\", \"good\", \"amazing\", \"sweet\", \"great\"], \"Freq\": [59309.0, 37361.0, 16623.0, 18396.0, 17410.0, 14198.0, 18148.0, 9837.0, 12230.0, 11357.0, 7643.0, 8930.0, 7125.0, 6609.0, 11314.0, 5508.0, 5137.0, 5139.0, 5063.0, 6148.0, 4709.0, 3697.0, 3487.0, 3506.0, 3290.0, 3256.0, 3233.0, 2867.0, 3062.0, 2719.0, 26.967690651086343, 8.98923021702878, 614.2640648303001, 652.2185924133104, 277.66733337044457, 50.938971229829754, 16.979657076609918, 8.98923021702878, 66.91982494899203, 21.97367386384813, 50.938971229829754, 8.98923021702878, 17.97846043405756, 8.98923021702878, 35.95692086811512, 16.979657076609918, 8.98923021702878, 336.59673145985545, 87.89469545539252, 8.98923021702878, 309.6290408087691, 21.97367386384813, 35.95692086811512, 512.3861223706405, 545.3466331664126, 21.97367386384813, 17.97846043405756, 9837.214267501828, 70.9150383787826, 66.91982494899203, 5063.933022259546, 1439.2756380820526, 1065.7231823966345, 887.936184770954, 631.2437219069099, 648.2233789835199, 631.2437219069099, 616.2616715451953, 289.65297365981627, 355.57399525136066, 127.84682975329822, 118.85759953626943, 188.7738345576044, 103.8755491745548, 163.80375062141334, 78.90546523836373, 77.9066618809161, 146.82409354480342, 202.7570815618714, 110.8671726766883, 345.58596167688427, 108.869565961793, 628.247311834567, 278.66613672789225, 257.69126622149173, 448.4627074939914, 405.5141631237428, 221.7343453533766, 190.77144127249966, 164.80255397886097, 1.0897693671874757, 1.0897693671874757, 1.0897693671874757, 1.0897693671874757, 4.359077468749903, 1.0897693671874757, 5.448846835937379, 4.359077468749903, 1.0897693671874757, 1.0897693671874757, 1.0897693671874757, 3.2693081015624275, 6.538616203124855, 1.0897693671874757, 7.62838557031233, 1.0897693671874757, 1.0897693671874757, 5.448846835937379, 3.2693081015624275, 6.538616203124855, 1.0897693671874757, 1.0897693671874757, 43.590774687499035, 2.1795387343749515, 1.0897693671874757, 1.0897693671874757, 1.0897693671874757, 1.0897693671874757, 1.0897693671874757, 1.0897693671874757, 6607.271673257666, 1621.576818374964, 1237.9780011249725, 992.7798935077905, 865.2768775468559, 593.9243051171743, 453.34405674999, 389.04766408592883, 346.5466587656173, 295.32749850780596, 280.0707273671813, 446.8054405468651, 270.262803062494, 258.2753400234318, 220.13341217187013, 209.23571849999536, 166.7347131796838, 246.28787698436952, 159.10632760937148, 150.38817267187164, 141.67001773437187, 213.59479596874525, 127.50301596093466, 123.14393849218476, 99.16901241406029, 85.00201064062311, 80.64293317187321, 79.55316380468574, 77.37362507031078, 73.01454760156089, 501.29390890623887, 427.1895919374905, 3740.088468187417, 96.98947367968536, 282.25026610155624, 107.88716735156011, 156.92678887499653, 176.54263748437108, 1124.6419869374752, 214.68456533593275, 322.57173268749284, 265.9037255937441, 191.79940862499575, 280.0707273671813, 255.00603192186932, 225.5822590078075, 1.0758892519126997, 1.0758892519126997, 1.0758892519126997, 9.683003267214296, 1.0758892519126997, 1.0758892519126997, 3.2276677557380986, 1.0758892519126997, 1.0758892519126997, 1.0758892519126997, 4.303557007650799, 4.303557007650799, 20.44189578634129, 1.0758892519126997, 1.0758892519126997, 1.0758892519126997, 1.0758892519126997, 1.0758892519126997, 1.0758892519126997, 2.1517785038253994, 72.08457987815086, 1.0758892519126997, 1.0758892519126997, 1.0758892519126997, 77.46402613771437, 59.17390885519847, 1.0758892519126997, 3.2276677557380986, 1.0758892519126997, 5.3794462595634975, 7125.614515417809, 1192.0852911192712, 601.4220918191991, 588.5114207962466, 3625.7467789457974, 838.117727239993, 365.8023456503178, 420.6726974978655, 296.94543352790504, 200.1154008557621, 183.97706207707162, 558.386521742691, 142.01738125247633, 210.8742933748891, 128.03082097761126, 116.19603920657156, 177.52172656559543, 175.36994806177003, 93.60236491640485, 86.07114015301596, 75.31224763388897, 258.2134204590479, 71.00869062623816, 67.78102287050007, 66.70513361858737, 2724.1515858429552, 61.325687359023874, 427.1280330093417, 334.60155734484954, 1973.180888007891, 161.3833877869049, 94.67825416831757, 430.35570076507986, 83.91936164919056, 103.28536818361916, 693.9485674836912, 636.9264371323181, 344.28456061206384, 387.32013068857185, 969.3762159733423, 202.26717935958752, 139.86560274865096, 6.222391080181321, 3.1111955400906606, 12.444782160362642, 3.1111955400906606, 280.00759860815947, 3.1111955400906606, 38.37141166111815, 3.1111955400906606, 3.1111955400906606, 3.1111955400906606, 12.444782160362642, 12.444782160362642, 6.222391080181321, 3.1111955400906606, 3.1111955400906606, 3.1111955400906606, 3.1111955400906606, 887.7277941058685, 3.1111955400906606, 3.1111955400906606, 12.444782160362642, 3.1111955400906606, 3.1111955400906606, 3.1111955400906606, 6.222391080181321, 3.1111955400906606, 3.1111955400906606, 1.0370651800302204, 1.0370651800302204, 1.0370651800302204, 3503.2061781420844, 1894.7180839152124, 1205.069739195116, 678.2406277397641, 601.4978044175277, 600.4607392374976, 453.1974836732063, 207.41303600604405, 648.1657375188877, 151.41151628441216, 150.37445110438193, 145.18912520423083, 128.5960823237473, 274.82227270800837, 107.8547787231429, 87.1134751225385, 86.07640994250829, 162.81923326474458, 215.7095574462858, 77.77988850226653, 77.77988850226653, 67.40923670196432, 136.89260376398906, 40.445542021178596, 37.334346481087934, 36.29728130105771, 36.29728130105771, 14920.25674509478, 46.667933101359914, 52.89032418154124, 123.41075642359621, 103.70651800302203, 479.12411317396175, 330.82379242964026, 293.4894459485524, 187.70879758546988, 177.33814578516768, 144.1520600242006, 3.2359443767348886, 12.943777506939554, 3.2359443767348886, 5.3932406278914815, 5.3932406278914815, 3.2359443767348886, 26.966203139457406, 3.2359443767348886, 20.494314385987625, 5.3932406278914815, 20.494314385987625, 6.471888753469777, 3.2359443767348886, 3.2359443767348886, 48.53916565102333, 3.2359443767348886, 5.3932406278914815, 5.3932406278914815, 3.2359443767348886, 26.966203139457406, 20.494314385987625, 35.59538814408377, 36.67403626966207, 102.47157192993814, 6.471888753469777, 3.2359443767348886, 10.786481255782963, 36.67403626966207, 183.37018134831035, 139.1456081996002, 5506.4986810772025, 799.2782610535176, 671.9977822352786, 642.8742828446644, 641.7956347190863, 518.8297484031605, 585.7059321890148, 1338.6023238426658, 482.1557121334984, 451.9535646173061, 485.3916565102333, 351.6392889385246, 297.70688265960973, 261.0328463899477, 535.0094702868349, 226.5161063714422, 217.88692136681584, 210.33638448776776, 283.68445702709187, 185.52747759946695, 161.7972188367444, 160.7185707111661, 151.01073758096146, 146.69614507864827, 115.41534943687769, 115.41534943687769, 112.17940506014281, 106.78616443225133, 231.90934699933368, 566.2902659286054, 223.28016199470733, 270.74067952015236, 513.436507775269, 308.4933639153927, 323.5944376734888, 3476.482908738849, 344.0887520594765, 386.15602895703006, 278.2912163992004, 1.0589474795341893, 4.235789918136757, 645.9579625158556, 1.0589474795341893, 3.176842438602568, 1.0589474795341893, 7.412632356739326, 141.8989622575814, 1.0589474795341893, 1.0589474795341893, 1.0589474795341893, 2.1178949590683787, 1.0589474795341893, 2.1178949590683787, 3.176842438602568, 1.0589474795341893, 24.355792029286356, 1.0589474795341893, 1.0589474795341893, 1.0589474795341893, 1.0589474795341893, 1.0589474795341893, 3.176842438602568, 1.0589474795341893, 1.0589474795341893, 1.0589474795341893, 1.0589474795341893, 1.0589474795341893, 1.0589474795341893, 1.0589474795341893, 7643.48290727778, 5139.0721181794215, 2496.998156741619, 918.1074647561423, 720.0842860832488, 463.818996035975, 404.5179371820604, 340.981088410009, 321.9200337783936, 317.6842438602568, 677.7263869018813, 277.44423963795765, 354.74740564395347, 249.9116051700687, 411.9305695387997, 746.5579730716036, 209.67160094776952, 199.08212615242763, 198.0231786728934, 198.0231786728934, 181.0800190003464, 181.0800190003464, 150.3705420938549, 353.6884581644193, 141.8989622575814, 140.8400147780472, 133.42738242130787, 131.3094874622395, 356.8653006030218, 477.5853132699195, 1438.0506772074293, 147.19369965525235, 147.19369965525235, 1.0798897224923134, 1.0798897224923134, 10.798897224923135, 4.319558889969254, 1.0798897224923134, 1.0798897224923134, 1.0798897224923134, 1.0798897224923134, 4.319558889969254, 1.0798897224923134, 5.399448612461567, 1.0798897224923134, 1.0798897224923134, 6.479338334953881, 5.399448612461567, 1.0798897224923134, 1.0798897224923134, 3.2396691674769404, 1.0798897224923134, 9.71900750243082, 1.0798897224923134, 5.399448612461567, 1.0798897224923134, 1.0798897224923134, 4.319558889969254, 3.2396691674769404, 1.0798897224923134, 1.0798897224923134, 1.0798897224923134, 3.2396691674769404, 2185.696798324442, 1212.716158358868, 848.7933218789583, 821.7960788166506, 714.8869962899115, 603.6583548732033, 529.1459640212336, 426.5564403844638, 353.1239392549865, 288.3305559054477, 268.8925409005861, 263.49309228812444, 331.52614480514023, 464.3525806716948, 309.92835035529396, 208.4187164410165, 356.3636084224634, 338.0054831400941, 179.26169393372405, 149.02478170393925, 139.30577420150843, 137.1459947565238, 251.61430534070902, 195.46003977110874, 102.58952363676978, 96.1101853018159, 87.47106752187739, 82.07161890941583, 80.99172918692351, 71.27272168449268, 244.05507728326285, 235.41595950332433, 2803.3937195900457, 170.62257615378553, 120.9476489191391, 9239.536465644233, 168.4627967088009, 257.01375395317064, 199.779598661078, 16.52464848507353, 3.3049296970147064, 3.3049296970147064, 94.74131798108826, 13.219718788058826, 16.52464848507353, 175.16127394177943, 7.711502626367648, 30.84601050547059, 3.3049296970147064, 3.3049296970147064, 6.609859394029413, 3.3049296970147064, 3.3049296970147064, 89.23310181939706, 7.711502626367648, 3.3049296970147064, 7.711502626367648, 3.3049296970147064, 6.609859394029413, 3.3049296970147064, 13.219718788058826, 33.04929697014706, 3.3049296970147064, 3.3049296970147064, 3.3049296970147064, 3.3049296970147064, 15.423005252735296, 3.3049296970147064, 13.219718788058826, 16614.983230125268, 1030.03642223625, 837.248856577059, 598.1922751596619, 546.4150432397648, 534.2969676840443, 377.8636286920148, 439.555649702956, 257.7845163671471, 326.08639677211767, 996.9871252661031, 181.77113333580886, 118.97746909252943, 79.31831272835296, 78.21666949601472, 77.11502626367648, 77.11502626367648, 71.60681010198532, 57.28544808158824, 57.28544808158824, 56.18380484925001, 56.18380484925001, 55.082161616911776, 51.77723191989707, 47.37065899054413, 42.96408606119118, 39.65915636417648, 129.99390141591178, 400.9981365711177, 123.38404202188237, 416.421141823853, 159.73826868904413, 134.40047434526474, 178.46620363879413, 556.3298323308089, 93.63967474875002, 95.84296121342649, 291.93545656963244, 322.781467075103, 415.3194985915148, 142.11197697163237, 109.06268000148532, 150.92512283033827, 104.65610707213237, 31.865219720290316, 76.91604760070076, 60.4340374005506, 120.8680748011012, 124.16447684113125, 286.7869774826128, 199.981723761822, 36.26042244033036, 357.1102210032535, 38.45802380035038, 379.08623460345376, 38.45802380035038, 3256.8452155496725, 31.865219720290316, 1.098800680010011, 4.395202720040044, 1.098800680010011, 28.568817680260285, 3.2964020400300327, 9.8892061200901, 37.359223120340374, 1.098800680010011, 3.2964020400300327, 1.098800680010011, 6.592804080060065, 87.90405440080087, 15.383209520140154, 1.098800680010011, 1.098800680010011, 1.098800680010011, 2621.7384225038863, 1100.998281370031, 1170.2227242106617, 725.2084488066073, 797.729293687268, 673.5648168461368, 651.5888032459364, 775.7532800870678, 554.8943434050555, 613.1307794455861, 488.9663026044549, 352.7150182832135, 342.82581216312343, 338.4306094430834, 319.7509978829132, 386.77783936352387, 164.82010200150165, 161.5236999614716, 236.24214620215236, 114.27527072104114, 113.17647004103114, 256.0205584423326, 187.89491628171186, 398.864646843634, 161.5236999614716, 343.92461284313345, 282.3917747625728, 2921.711008146619, 228.55054144208228, 327.4426026429833, 1087.8126732099108, 277.99657204253276, 1.065275288699192, 1.065275288699192, 1.065275288699192, 1.065275288699192, 9.587477598292729, 1.065275288699192, 13.848578753089496, 243.94804111211496, 6.391651732195152, 2.130550577398384, 3.195825866097576, 7.456927020894344, 1.065275288699192, 128.89830993260225, 1.065275288699192, 1.065275288699192, 1.065275288699192, 1.065275288699192, 3.195825866097576, 1.065275288699192, 1.065275288699192, 1.065275288699192, 22.370781062683033, 1.065275288699192, 7.456927020894344, 1.065275288699192, 2.130550577398384, 2.130550577398384, 1.065275288699192, 1.065275288699192, 5137.822717396203, 2419.2401806358653, 1773.6833556841545, 991.7712937789479, 855.4160568254512, 812.8050452774835, 768.0634831521174, 691.3636623657756, 942.7686304987849, 654.079027261304, 559.2695265670758, 552.8778748348807, 445.28507067626225, 694.5594882318733, 356.86722171422934, 351.5408452707333, 320.64786189845677, 376.04217691081476, 231.16473764772468, 198.1412036980497, 187.48845081105782, 183.22734965626103, 167.24822032577316, 129.96358522130143, 207.72868129634244, 120.37610762300869, 117.18028175691111, 116.11500646821193, 247.14386697821251, 276.9715750617899, 161.9218438822772, 197.07592840935052, 140.61633810829335, 148.0732651291877, 905.4839953943132, 1179.2597445900055, 618.9249427342305, 292.9507043922778, 422.91428961357923, 250.33969284431015, 258.8618951539037, 13.243257033170345, 3.310814258292586, 6.621628516585172, 6.621628516585172, 3.310814258292586, 108.15326577089115, 3.310814258292586, 3.310814258292586, 18.761280796991322, 18.761280796991322, 20.96849030251971, 3.310814258292586, 3.310814258292586, 3.310814258292586, 3.310814258292586, 3.310814258292586, 6.621628516585172, 6.621628516585172, 3.310814258292586, 3.310814258292586, 43.04058535780362, 37.522561593982644, 6.621628516585172, 3.310814258292586, 3.310814258292586, 3.310814258292586, 13.243257033170345, 3.310814258292586, 2090.227401735386, 6.621628516585172, 3283.224139473481, 1228.3120898265495, 1135.609290594357, 2085.8129827243297, 504.3473720132373, 503.24376726047313, 995.4514869933043, 478.96446269966077, 165.54071291462932, 156.71187489251574, 141.26140835381702, 115.87849904024051, 81.66675170455045, 235.06781233877362, 56.28384239097396, 55.18023763820977, 48.5586091216246, 48.5586091216246, 155.60827013975154, 39.729771099511034, 184.3019937116206, 28.69372357186908, 27.590118819104884, 24.2793045608123, 320.04537830161667, 22.072095055283906, 143.4686178593454, 229.54978857495263, 376.32922069259064, 68.42349467138011, 1002.0731155098894, 236.17141709153782, 726.1719273188405, 76.14872794072949, 62.90547090755914, 3157.413197658363, 227.34257906942426, 428.1986440725078, 116.98210379300471, 6165.83975369356, 143.4686178593454, 217.41013629454648, 205.27048401414032, 126.91454656788247, 9.804324448343104, 68.63027113840174, 6.536216298895404, 9.804324448343104, 5.44684691574617, 7.625585682044638, 5.44684691574617, 276.6998233199054, 7.625585682044638, 3.268108149447702, 3.268108149447702, 3.268108149447702, 19.60864889668621, 5.44684691574617, 5.44684691574617, 10.89369383149234, 3.268108149447702, 3.268108149447702, 15.251171364089275, 10.89369383149234, 5.44684691574617, 9.804324448343104, 5.44684691574617, 19.60864889668621, 5.44684691574617, 10.89369383149234, 10.89369383149234, 37.03855902707395, 3.268108149447702, 5.44684691574617, 3229.9802210374787, 2866.1308470656345, 2719.065980340488, 1847.5704738211007, 1676.539480666671, 1335.566863740961, 964.0919040870721, 545.7740609577662, 520.7185651453339, 447.73081647433514, 379.1005453359334, 332.25766186051635, 382.3686534853811, 286.5041477682485, 260.3592825726669, 230.94630922763758, 180.83531760277285, 166.6735156218328, 308.2915354312332, 126.36684844531115, 105.6688301654757, 99.1326138665803, 92.59639756768489, 161.22666870608663, 81.70270373619255, 80.61333435304331, 77.34522620359562, 71.89837928784944, 123.09874029586345, 112.2050464643711, 98.04324448343105, 205.89081341520523, 546.8634303409154, 392.1729779337242, 118.74126276326649, 531.6122589768262, 645.9960442074957, 198.2652277331606, 785.4353252505977, 161.22666870608663, 1903.1283123617118, 334.4364006268149, 326.8108149447702, 174.29910130387745, 1.0865126086119146, 1.0865126086119146, 1.0865126086119146, 1.0865126086119146, 1.0865126086119146, 1.0865126086119146, 6.519075651671487, 1.0865126086119146, 1.0865126086119146, 1.0865126086119146, 3.2595378258357437, 1.0865126086119146, 1.0865126086119146, 1.0865126086119146, 1.0865126086119146, 1.0865126086119146, 1.0865126086119146, 2.173025217223829, 2.173025217223829, 1.0865126086119146, 1.0865126086119146, 1.0865126086119146, 1.0865126086119146, 1.0865126086119146, 1.0865126086119146, 1.0865126086119146, 1.0865126086119146, 1.0865126086119146, 1.0865126086119146, 1.0865126086119146, 2371.8570245998094, 1395.0821894576982, 1007.1971881832447, 927.881767754575, 729.0499603785946, 654.0805903843725, 496.53626213564496, 342.2514717127531, 372.67382475388666, 275.97420258742625, 322.6942447577386, 166.23642911762292, 151.02525259705612, 129.29500042481783, 121.68941216453442, 107.56474825257955, 246.6383621549046, 386.7984886658416, 83.66147086311742, 81.48844564589359, 143.4196643367727, 196.65878215875654, 123.86243738175826, 53.23911782198381, 52.1526052133719, 588.8898338676577, 1618.9037868317525, 40.20096651864084, 39.11445391002893, 35.85491608419318, 35.85491608419318, 64.10424390810296, 320.5212195405148, 156.4578156401157, 108.65126086119146, 76.05588260283402, 11339.932096082552, 180.36109302957783, 490.01718648397343, 144.50617694538462, 1182.125718169763, 186.8801686812493, 359.6356734505437, 1.043856884431361, 2.087713768862722, 1.043856884431361, 2.087713768862722, 1.043856884431361, 1.043856884431361, 1.043856884431361, 2.087713768862722, 1.043856884431361, 1.043856884431361, 1.043856884431361, 1.043856884431361, 1.043856884431361, 1.043856884431361, 1.043856884431361, 2.087713768862722, 1.043856884431361, 1.043856884431361, 1.043856884431361, 1.043856884431361, 1.043856884431361, 1.043856884431361, 3.1315706532940824, 1.043856884431361, 1.043856884431361, 1.043856884431361, 4.175427537725444, 2.087713768862722, 1.043856884431361, 1.043856884431361, 3485.438137116314, 1860.1529680566853, 616.9194186989342, 572.0335726683858, 386.2270472396035, 176.4118134689, 342.38505809348635, 195.20123738866448, 100.21026090541064, 97.07869025211656, 75.157695679058, 65.76298371917574, 33.40342030180355, 32.35956341737219, 349.6920562845059, 27.140278995215382, 26.096422110784022, 21.92099457305858, 19.83328080419586, 18.7894239197645, 13269.50871489146, 15.657853266470413, 13.570139497607691, 12.52628261317633, 367.437623319839, 9.39471195988225, 8.350855075450887, 7.3069981910195265, 7.3069981910195265, 6.263141306588165, 171.19252904674318, 128.3943967850574, 48.0174166838426, 30.271849648509463, 70.98226814133255, 69.93841125690119, 87.68397829223431, 131.52596743835147, 4040.7699996337983, 83.50855075450887, 34.44727718623491, 301.67463960066334, 262.0080779922716, 734.875246639678, 49.06127356827396, 36.53499095509763, 34.44727718623491, 1.0649300086152163, 1.0649300086152163, 1.0649300086152163, 1.0649300086152163, 1.0649300086152163, 1.0649300086152163, 11.714230094767379, 1.0649300086152163, 1.0649300086152163, 1.0649300086152163, 1.0649300086152163, 1.0649300086152163, 1.0649300086152163, 1.0649300086152163, 1.0649300086152163, 1.0649300086152163, 1.0649300086152163, 1.0649300086152163, 1.0649300086152163, 1.0649300086152163, 1.0649300086152163, 1.0649300086152163, 1.0649300086152163, 1.0649300086152163, 1.0649300086152163, 1.0649300086152163, 6.389580051691298, 1.0649300086152163, 1.0649300086152163, 1.0649300086152163, 39.402410318763, 36.207620292917355, 28.753110232610837, 21.298600172304326, 17.03888013784346, 104.3631408442912, 13.844090111997811, 13.844090111997811, 13.844090111997811, 13.844090111997811, 12.779160103382596, 12.779160103382596, 9.584370077536946, 8.51944006892173, 8.51944006892173, 7.4545100603065135, 7.4545100603065135, 7.4545100603065135, 6.389580051691298, 6.389580051691298, 6.389580051691298, 5.3246500430760815, 5.3246500430760815, 5.3246500430760815, 5.3246500430760815, 5.3246500430760815, 5.3246500430760815, 5.3246500430760815, 88.38919071506295, 526.0754242559168, 19.16874015507389, 95.84370077536947, 12796.198983520439, 15.973950129228243, 9.584370077536946, 10683.37784642785, 3670.8137396966504, 21.298600172304326, 12.779160103382596, 29.818040241226054, 14.909020120613027, 11.714230094767379, 11.714230094767379, 9.584370077536946, 31.947900258456485, 11.714230094767379, 10.649300086152163, 1.071398311594263, 1.071398311594263, 1.071398311594263, 1.071398311594263, 1.071398311594263, 1.071398311594263, 1.071398311594263, 1.071398311594263, 1.071398311594263, 1.071398311594263, 1.071398311594263, 1.071398311594263, 1.071398311594263, 1.071398311594263, 1.071398311594263, 4.285593246377052, 2.142796623188526, 1.071398311594263, 22.499364543479523, 1.071398311594263, 1.071398311594263, 1.071398311594263, 1.071398311594263, 1.071398311594263, 1.071398311594263, 3.2141949347827894, 5.356991557971315, 17.142372985508207, 1.071398311594263, 1.071398311594263, 1154.9673798986155, 646.0531818913406, 607.4828426739472, 747.8360214927957, 1164.609964702964, 494.9860199565495, 336.4190698405986, 252.85000153624608, 243.2074167318977, 193.9230943985616, 179.99491634783618, 170.35233154348782, 168.2095349202993, 145.71017037681978, 138.21038219565992, 77.14067843478693, 76.06928012319267, 563.5555118985824, 166.0667382971108, 41.78453415217626, 40.713135840582, 34.28474597101641, 29.999152724639366, 172.49512816667635, 25.713559478262315, 22.499364543479523, 79.28347505797547, 19.285169608696734, 18.213771297102472, 14529.232503529802, 189.63750115218454, 38.57033921739347, 134.99618726087712, 57.8555088260902, 647.1245802029349, 88.92605986232383, 66.42669531884431, 438.2019094420536, 2643.139634703047, 920.331149659472, 73.92648350000415, 1.0620252578184255, 1.0620252578184255, 2.124050515636851, 1.0620252578184255, 1.0620252578184255, 1.0620252578184255, 2.124050515636851, 1.0620252578184255, 1.0620252578184255, 1.0620252578184255, 1.0620252578184255, 4.248101031273702, 1.0620252578184255, 1.0620252578184255, 1.0620252578184255, 3.1860757734552765, 1.0620252578184255, 1.0620252578184255, 1.0620252578184255, 2.124050515636851, 1.0620252578184255, 1.0620252578184255, 1.0620252578184255, 1.0620252578184255, 2.124050515636851, 1.0620252578184255, 1.0620252578184255, 1.0620252578184255, 1.0620252578184255, 1.0620252578184255, 389.7632696193622, 71.1556922738345, 64.78354072692396, 35.04683350800804, 30.79873247673434, 28.67468196109749, 28.67468196109749, 173.11011702440337, 23.36455567200536, 21.24050515636851, 19.11645464073166, 18.054429382913234, 11.68227783600268, 11.68227783600268, 10.620252578184255, 9.55822732036583, 9.55822732036583, 8.496202062547404, 7.4341768047289785, 6.372151546910553, 6.372151546910553, 6.372151546910553, 6.372151546910553, 6.372151546910553, 48.85316185964757, 5.3101262890921275, 5.3101262890921275, 5.3101262890921275, 5.3101262890921275, 5.3101262890921275, 5.3101262890921275, 72.21771753165294, 5.3101262890921275, 5.3101262890921275, 5.3101262890921275, 212.4050515636851, 24.426580929823785, 13.806328351639532, 12.744303093821106, 41.4189850549186, 14081.392893414504, 16.992404125094808, 23.36455567200536, 12.744303093821106, 9613.45263377239, 16.992404125094808, 3130.8504600487186, 15.930378867276383, 15.930378867276383, 12.744303093821106, 13.806328351639532, 12.744303093821106, 12.744303093821106, 1.0647073632612731, 1.0647073632612731, 1.0647073632612731, 1.0647073632612731, 3.1941220897838196, 1.0647073632612731, 6.388244179567639, 1.0647073632612731, 1.0647073632612731, 1.0647073632612731, 3.1941220897838196, 1.0647073632612731, 2.1294147265225463, 1.0647073632612731, 1.0647073632612731, 1.0647073632612731, 1.0647073632612731, 2.1294147265225463, 1.0647073632612731, 1.0647073632612731, 2.1294147265225463, 1.0647073632612731, 8.517658906090185, 1.0647073632612731, 1.0647073632612731, 3.1941220897838196, 1.0647073632612731, 1.0647073632612731, 1.0647073632612731, 3.1941220897838196, 587.7184645202228, 396.0711391331936, 51.105953436541114, 36.20005035088329, 33.00592826109947, 76.65893015481167, 12.776488359135278, 12.776488359135278, 10.64707363261273, 10.64707363261273, 10.64707363261273, 9.582366269351459, 8.517658906090185, 6.388244179567639, 6.388244179567639, 6.388244179567639, 6.388244179567639, 6.388244179567639, 5.323536816306365, 5.323536816306365, 5.323536816306365, 5.323536816306365, 5.323536816306365, 5.323536816306365, 5.323536816306365, 5.323536816306365, 4.2588294530450925, 4.2588294530450925, 4.2588294530450925, 35.13534298762201, 4.2588294530450925, 7858.605048231457, 31.941220897838193, 48.976538710018566, 119.2472246852626, 10.64707363261273, 423.75353057798674, 14020.066559424446, 55.36478288958621, 9.582366269351459, 13.841195722396552, 21.29414726522546, 12.776488359135278, 3954.3231471523686, 15.970610448919096, 64.94714915893766, 26.617684081531827, 104.34132159960477, 71.3353933385053, 70.27068597524402, 17.03531781218037, 25.552976718270557, 11.711780995874005, 1.0600386195088691, 1.0600386195088691, 1.0600386195088691, 1.0600386195088691, 1.0600386195088691, 1.0600386195088691, 1.0600386195088691, 1.0600386195088691, 1.0600386195088691, 1.0600386195088691, 1.0600386195088691, 1.0600386195088691, 1.0600386195088691, 1.0600386195088691, 1.0600386195088691, 10.60038619508869, 1.0600386195088691, 1.0600386195088691, 1.0600386195088691, 1.0600386195088691, 1.0600386195088691, 1.0600386195088691, 1.0600386195088691, 1.0600386195088691, 1.0600386195088691, 1.0600386195088691, 1.0600386195088691, 1.0600386195088691, 1.0600386195088691, 1.0600386195088691, 161.12587016534812, 131.44478881909978, 99.64363023383369, 38.16139030231929, 32.861197204774946, 25.44092686821286, 21.20077239017738, 79.50289646316519, 15.900579292633036, 15.900579292633036, 14.840540673124169, 13.7805020536153, 13.7805020536153, 13.7805020536153, 13.7805020536153, 12.72046343410643, 12.72046343410643, 11.66042481459756, 10.60038619508869, 10.60038619508869, 7.420270336562084, 7.420270336562084, 7.420270336562084, 7.420270336562084, 6.360231717053215, 6.360231717053215, 6.360231717053215, 6.360231717053215, 6.360231717053215, 49.821815116916845, 43.461583399863635, 1636.699628521694, 60.42220131200554, 6.360231717053215, 1760.7241470042316, 23.32084962919512, 5348.954874041753, 2689.317977694001, 26.500965487721725, 124.0245184825377, 733.5467247001374, 20.140733770668515, 7422.390413801102, 4957.800623442981, 2018.3135315448867, 18.020656531650776, 14.840540673124169, 26.500965487721725, 27.5610041072306, 180.4860762838758, 1.0616828016698578, 4.246731206679431, 2.1233656033397157, 1.0616828016698578, 1.0616828016698578, 1.0616828016698578, 1.0616828016698578, 1.0616828016698578, 3.1850484050095735, 1.0616828016698578, 1.0616828016698578, 1.0616828016698578, 1.0616828016698578, 1.0616828016698578, 1.0616828016698578, 1.0616828016698578, 1.0616828016698578, 2.1233656033397157, 1.0616828016698578, 7.431779611689004, 4.246731206679431, 1.0616828016698578, 2.1233656033397157, 1.0616828016698578, 2.1233656033397157, 1.0616828016698578, 1.0616828016698578, 1.0616828016698578, 1.0616828016698578, 2504.5097291391944, 177.30102787886625, 156.0673718454691, 452.27687351135944, 76.44116172022976, 55.207505686832604, 54.14582288516275, 112.53837697700492, 29.727118446756016, 85.99630693525847, 23.35702163673687, 18.04860762838758, 16.986924826717726, 16.986924826717726, 14.863559223378008, 13.801876421708151, 12.740193620038294, 10.616828016698578, 9.55514521502872, 9.55514521502872, 8.493462413358863, 8.493462413358863, 8.493462413358863, 7.431779611689004, 7.431779611689004, 6.370096810019147, 6.370096810019147, 6.370096810019147, 6.370096810019147, 57.33087129017232, 43.52899486846417, 32.91216685176559, 488.3740887681345, 27.603752843416302, 257.9889208057754, 484.12735756145514, 3458.9625678403963, 1003.2902475780155, 3581.05609003243, 61.57760249685175, 31.850484050095734, 3470.6410786587653, 405.56283023788563, 8276.87912181821, 1568.10549806638, 208.08982912729212, 58.39255409184218, 128.46361900205278], \"Total\": [59309.0, 37361.0, 16623.0, 18396.0, 17410.0, 14198.0, 18148.0, 9837.0, 12230.0, 11357.0, 7643.0, 8930.0, 7125.0, 6609.0, 11314.0, 5508.0, 5137.0, 5139.0, 5063.0, 6148.0, 4709.0, 3697.0, 3487.0, 3506.0, 3290.0, 3256.0, 3233.0, 2867.0, 3062.0, 2719.0, 26.967690651086343, 8.98923021702878, 614.2640648303001, 652.2185924133104, 277.66733337044457, 50.938971229829754, 16.979657076609918, 8.98923021702878, 66.91982494899203, 21.97367386384813, 50.938971229829754, 8.98923021702878, 17.97846043405756, 8.98923021702878, 35.95692086811512, 16.979657076609918, 8.98923021702878, 336.59673145985545, 87.89469545539252, 8.98923021702878, 309.6290408087691, 21.97367386384813, 35.95692086811512, 512.3861223706405, 545.3466331664126, 21.97367386384813, 17.97846043405756, 9837.214267501828, 70.9150383787826, 66.91982494899203, 5063.933022259546, 1439.2756380820526, 1065.7231823966345, 889.0011147795692, 631.2437219069099, 649.3020271090982, 632.3334912740974, 618.4134500490208, 289.65297365981627, 356.6633646345099, 127.84682975329822, 118.85759953626943, 189.8524826831827, 103.8755491745548, 164.8476075058447, 78.90546523836373, 77.9066618809161, 147.89549185639768, 207.1049610001942, 111.92612015622248, 359.9073236972813, 109.93449597040822, 681.5646077620564, 325.22085698090865, 442.95205864336265, 1573.1046944314667, 1350.2298557368051, 447.3166043611841, 534.8601933319762, 659.0755897525364, 1.0897693671874757, 1.0897693671874757, 1.0897693671874757, 1.0897693671874757, 4.359077468749903, 1.0897693671874757, 5.448846835937379, 4.359077468749903, 1.0897693671874757, 1.0897693671874757, 1.0897693671874757, 3.2693081015624275, 6.538616203124855, 1.0897693671874757, 7.62838557031233, 1.0897693671874757, 1.0897693671874757, 5.448846835937379, 3.2693081015624275, 6.538616203124855, 1.0897693671874757, 1.0897693671874757, 43.590774687499035, 2.1795387343749515, 1.0897693671874757, 1.0897693671874757, 1.0897693671874757, 1.0897693671874757, 1.0897693671874757, 1.0897693671874757, 6609.44469847489, 1621.576818374964, 1237.9780011249725, 992.7798935077905, 866.3389028046743, 594.9231084746219, 453.34405674999, 389.04766408592883, 346.5466587656173, 295.32749850780596, 280.0707273671813, 448.98417931316357, 270.262803062494, 258.2753400234318, 220.13341217187013, 209.23571849999536, 166.7347131796838, 247.34990224218794, 159.10632760937148, 150.38817267187164, 141.67001773437187, 214.65972597736047, 127.50301596093466, 123.14393849218476, 99.16901241406029, 85.00201064062311, 80.64293317187321, 79.55316380468574, 77.37362507031078, 73.01454760156089, 519.2960160583201, 443.0911836594895, 4709.464684160759, 98.03333056411672, 309.78344344220125, 109.96129771162055, 165.43851784620944, 189.28283110440938, 1573.1046944314667, 252.5125784568477, 449.8128102136436, 471.3850998881144, 262.75436039805777, 718.2726368092349, 643.4126752190531, 447.3166043611841, 1.0758892519126997, 1.0758892519126997, 1.0758892519126997, 9.683003267214296, 1.0758892519126997, 1.0758892519126997, 3.2276677557380986, 1.0758892519126997, 1.0758892519126997, 1.0758892519126997, 4.303557007650799, 4.303557007650799, 20.44189578634129, 1.0758892519126997, 1.0758892519126997, 1.0758892519126997, 1.0758892519126997, 1.0758892519126997, 1.0758892519126997, 2.1517785038253994, 72.08457987815086, 1.0758892519126997, 1.0758892519126997, 1.0758892519126997, 77.46402613771437, 59.17390885519847, 1.0758892519126997, 3.2276677557380986, 1.0758892519126997, 5.3794462595634975, 7125.614515417809, 1192.0852911192712, 601.4220918191991, 588.5114207962466, 3697.449988228064, 842.3658282712667, 365.8023456503178, 421.7513456234438, 296.94543352790504, 200.1154008557621, 183.97706207707162, 566.0149073130033, 142.01738125247633, 211.93922338350433, 128.03082097761126, 116.19603920657156, 178.60037469117373, 176.43197331958845, 93.60236491640485, 86.07114015301596, 75.31224763388897, 261.4493648357828, 71.00869062623816, 67.78102287050007, 66.70513361858737, 2830.2642760367976, 61.325687359023874, 438.61045873808666, 344.4933513291337, 2130.5683009874015, 165.53164850702578, 95.74318417693279, 482.50830597845174, 84.99075996078483, 107.55709990369961, 1024.7723599133315, 931.4872813924649, 522.6879816859307, 643.4126752190531, 4709.464684160759, 471.3850998881144, 231.514444352886, 6.222391080181321, 3.1111955400906606, 12.444782160362642, 3.1111955400906606, 280.00759860815947, 3.1111955400906606, 38.37141166111815, 3.1111955400906606, 3.1111955400906606, 3.1111955400906606, 12.444782160362642, 12.444782160362642, 6.222391080181321, 3.1111955400906606, 3.1111955400906606, 3.1111955400906606, 3.1111955400906606, 887.7277941058685, 3.1111955400906606, 3.1111955400906606, 12.444782160362642, 3.1111955400906606, 3.1111955400906606, 3.1111955400906606, 6.222391080181321, 3.1111955400906606, 3.1111955400906606, 1.0370651800302204, 1.0370651800302204, 1.0370651800302204, 3506.3922539155396, 1894.7180839152124, 1205.069739195116, 678.2406277397641, 601.4978044175277, 601.5045961219289, 453.1974836732063, 207.41303600604405, 656.6012071957019, 151.41151628441216, 150.37445110438193, 145.18912520423083, 128.5960823237473, 276.9463232236452, 107.8547787231429, 87.1134751225385, 86.07640994250829, 163.8991229872369, 217.9167669518142, 77.77988850226653, 77.77988850226653, 67.40923670196432, 137.97911637260097, 40.445542021178596, 37.334346481087934, 36.29728130105771, 36.29728130105771, 18396.73965383363, 47.729615903029774, 55.019738908063786, 153.58683777500525, 126.38112374692619, 907.3227572464696, 1024.7723599133315, 931.4872813924649, 508.5010193049818, 522.6879816859307, 445.6278641694128, 3.2359443767348886, 12.943777506939554, 3.2359443767348886, 5.3932406278914815, 5.3932406278914815, 3.2359443767348886, 26.966203139457406, 3.2359443767348886, 20.494314385987625, 5.3932406278914815, 20.494314385987625, 6.471888753469777, 3.2359443767348886, 3.2359443767348886, 48.53916565102333, 3.2359443767348886, 5.3932406278914815, 5.3932406278914815, 3.2359443767348886, 26.966203139457406, 20.494314385987625, 35.59538814408377, 36.67403626966207, 102.47157192993814, 6.471888753469777, 3.2359443767348886, 10.786481255782963, 36.67403626966207, 183.37018134831035, 139.1456081996002, 5508.701967541879, 799.2782610535176, 671.9977822352786, 642.8742828446644, 642.8821473276981, 518.8297484031605, 586.7818214409275, 1352.3679410979748, 482.1557121334984, 451.9535646173061, 486.39045986768093, 351.6392889385246, 297.70688265960973, 261.0328463899477, 539.4160432161879, 226.5161063714422, 217.88692136681584, 210.33638448776776, 284.7709696357038, 185.52747759946695, 161.7972188367444, 160.7185707111661, 151.01073758096146, 146.69614507864827, 115.41534943687769, 115.41534943687769, 112.17940506014281, 106.78616443225133, 234.11263346401014, 582.519133104243, 227.55840811916295, 279.34779353545395, 584.1932134768502, 344.4557530325794, 382.04278346114626, 18396.73965383363, 534.8601933319762, 712.9668439018003, 508.5010193049818, 1.0589474795341893, 4.235789918136757, 645.9579625158556, 1.0589474795341893, 3.176842438602568, 1.0589474795341893, 7.412632356739326, 141.8989622575814, 1.0589474795341893, 1.0589474795341893, 1.0589474795341893, 2.1178949590683787, 1.0589474795341893, 2.1178949590683787, 3.176842438602568, 1.0589474795341893, 24.355792029286356, 1.0589474795341893, 1.0589474795341893, 1.0589474795341893, 1.0589474795341893, 1.0589474795341893, 3.176842438602568, 1.0589474795341893, 1.0589474795341893, 1.0589474795341893, 1.0589474795341893, 1.0589474795341893, 1.0589474795341893, 1.0589474795341893, 7643.48290727778, 5139.0721181794215, 2496.998156741619, 920.2592432599678, 720.0842860832488, 463.818996035975, 404.5179371820604, 340.981088410009, 321.9200337783936, 317.6842438602568, 683.0901740731892, 277.44423963795765, 355.8094309017719, 249.9116051700687, 414.1338560034762, 755.3125438728965, 209.67160094776952, 199.08212615242763, 198.0231786728934, 198.0231786728934, 181.0800190003464, 181.0800190003464, 150.3705420938549, 356.9356015135271, 141.8989622575814, 140.8400147780472, 133.42738242130787, 131.3094874622395, 365.3847406719435, 496.1085926238389, 1549.2072529480156, 170.36939946330045, 2130.5683009874015, 1.0798897224923134, 1.0798897224923134, 10.798897224923135, 4.319558889969254, 1.0798897224923134, 1.0798897224923134, 1.0798897224923134, 1.0798897224923134, 4.319558889969254, 1.0798897224923134, 5.399448612461567, 1.0798897224923134, 1.0798897224923134, 6.479338334953881, 5.399448612461567, 1.0798897224923134, 1.0798897224923134, 3.2396691674769404, 1.0798897224923134, 9.71900750243082, 1.0798897224923134, 5.399448612461567, 1.0798897224923134, 1.0798897224923134, 4.319558889969254, 3.2396691674769404, 1.0798897224923134, 1.0798897224923134, 1.0798897224923134, 3.2396691674769404, 2188.876914182969, 1212.716158358868, 848.7933218789583, 821.7960788166506, 714.8869962899115, 603.6583548732033, 530.1447673786812, 426.5564403844638, 353.1239392549865, 288.3305559054477, 268.8925409005861, 263.49309228812444, 332.61591417232773, 467.5444659467437, 311.0148629639059, 208.4187164410165, 358.4815033815318, 340.164322439613, 179.26169393372405, 149.02478170393925, 139.30577420150843, 137.1459947565238, 253.6119120556043, 196.5200783906176, 102.58952363676978, 96.1101853018159, 87.47106752187739, 82.07161890941583, 80.99172918692351, 71.27272168449268, 247.23683732395045, 239.53364345723736, 3062.2556147439495, 173.8886274967724, 122.01904723073336, 12230.477451215856, 173.78393648310654, 1259.0868694630599, 731.3918576379042, 16.52464848507353, 3.3049296970147064, 3.3049296970147064, 94.74131798108826, 13.219718788058826, 16.52464848507353, 175.16127394177943, 7.711502626367648, 30.84601050547059, 3.3049296970147064, 3.3049296970147064, 6.609859394029413, 3.3049296970147064, 3.3049296970147064, 89.23310181939706, 7.711502626367648, 3.3049296970147064, 7.711502626367648, 3.3049296970147064, 6.609859394029413, 3.3049296970147064, 13.219718788058826, 33.04929697014706, 3.3049296970147064, 3.3049296970147064, 3.3049296970147064, 3.3049296970147064, 15.423005252735296, 3.3049296970147064, 13.219718788058826, 16623.81206814738, 1031.0352255936978, 837.248856577059, 598.1922751596619, 546.4150432397648, 534.2969676840443, 378.900693872045, 441.73438846925444, 257.7845163671471, 327.1851974521277, 1012.2709903451954, 181.77113333580886, 118.97746909252943, 79.31831272835296, 78.21666949601472, 77.11502626367648, 77.11502626367648, 71.60681010198532, 57.28544808158824, 57.28544808158824, 56.18380484925001, 56.18380484925001, 55.082161616911776, 51.77723191989707, 47.37065899054413, 42.96408606119118, 39.65915636417648, 132.11795193154862, 424.4341929224999, 126.57986788797994, 448.7636445903267, 165.9563564686486, 138.75955181401466, 186.98564370771587, 623.442175518858, 95.8053333678502, 99.07062896916459, 445.6278641694128, 660.4136935680154, 1034.2444413257454, 232.56283444819286, 160.70631196195583, 536.4875282930419, 158.58349643370383, 31.865219720290316, 76.91604760070076, 60.4340374005506, 120.8680748011012, 124.16447684113125, 286.7869774826128, 199.981723761822, 36.26042244033036, 357.1102210032535, 38.45802380035038, 379.08623460345376, 38.45802380035038, 3256.8452155496725, 31.865219720290316, 1.098800680010011, 4.395202720040044, 1.098800680010011, 28.568817680260285, 3.2964020400300327, 9.8892061200901, 37.359223120340374, 1.098800680010011, 3.2964020400300327, 1.098800680010011, 6.592804080060065, 87.90405440080087, 15.383209520140154, 1.098800680010011, 1.098800680010011, 1.098800680010011, 2621.7384225038863, 1100.998281370031, 1171.281671690196, 725.2084488066073, 798.7909764889378, 673.5648168461368, 651.5888032459364, 777.9565665517442, 554.8943434050555, 614.2106691680784, 488.9663026044549, 352.7150182832135, 342.82581216312343, 338.4306094430834, 319.7509978829132, 387.81490454355406, 164.82010200150165, 161.5236999614716, 237.3437894344906, 114.27527072104114, 113.17647004103114, 258.1439240456723, 188.95659908338172, 425.76187814145146, 164.8345142197642, 374.63408974962493, 308.54841671069346, 11314.964942712397, 277.6118150103562, 589.7653587019349, 12230.477451215856, 1004.1684993613733, 1.065275288699192, 1.065275288699192, 1.065275288699192, 1.065275288699192, 9.587477598292729, 1.065275288699192, 13.848578753089496, 243.94804111211496, 6.391651732195152, 2.130550577398384, 3.195825866097576, 7.456927020894344, 1.065275288699192, 128.89830993260225, 1.065275288699192, 1.065275288699192, 1.065275288699192, 1.065275288699192, 3.195825866097576, 1.065275288699192, 1.065275288699192, 1.065275288699192, 22.370781062683033, 1.065275288699192, 7.456927020894344, 1.065275288699192, 2.130550577398384, 2.130550577398384, 1.065275288699192, 1.065275288699192, 5137.822717396203, 2419.2401806358653, 1773.6833556841545, 991.7712937789479, 855.4160568254512, 812.8050452774835, 768.0634831521174, 691.3636623657756, 945.9141591704396, 654.079027261304, 559.2695265670758, 552.8778748348807, 445.28507067626225, 697.7445366368828, 356.86722171422934, 351.5408452707333, 320.64786189845677, 377.13194627800226, 231.16473764772468, 198.1412036980497, 187.48845081105782, 183.22734965626103, 167.24822032577316, 129.96358522130143, 208.76574647637267, 120.37610762300869, 117.18028175691111, 116.11500646821193, 249.3071930122206, 280.1516909203165, 162.96570076670855, 201.39548729931977, 141.71994286105755, 150.19731564482453, 1350.2298557368051, 1964.695069840603, 1034.2444413257454, 444.52394939979376, 1068.910333821075, 589.7653587019349, 3062.2556147439495, 13.243257033170345, 3.310814258292586, 6.621628516585172, 6.621628516585172, 3.310814258292586, 108.15326577089115, 3.310814258292586, 3.310814258292586, 18.761280796991322, 18.761280796991322, 20.96849030251971, 3.310814258292586, 3.310814258292586, 3.310814258292586, 3.310814258292586, 3.310814258292586, 6.621628516585172, 6.621628516585172, 3.310814258292586, 3.310814258292586, 43.04058535780362, 37.522561593982644, 6.621628516585172, 3.310814258292586, 3.310814258292586, 3.310814258292586, 13.243257033170345, 3.310814258292586, 2090.227401735386, 6.621628516585172, 3290.8080400773565, 1228.3120898265495, 1135.609290594357, 2110.049133835771, 504.3473720132373, 503.24376726047313, 1007.5382944734145, 483.35966541970083, 165.54071291462932, 156.71187489251574, 141.26140835381702, 115.87849904024051, 81.66675170455045, 238.24792819730024, 56.28384239097396, 55.18023763820977, 48.5586091216246, 48.5586091216246, 157.73232065538838, 39.729771099511034, 187.4880694850759, 28.69372357186908, 27.590118819104884, 24.2793045608123, 328.7635332391165, 22.072095055283906, 146.5853161758614, 240.11283169365038, 408.2771209510471, 70.62109603140013, 1259.0868694630599, 276.7665845886131, 1004.1684993613733, 81.47271822391589, 67.1412608256959, 11314.964942712397, 362.47398060067127, 907.3227572464696, 157.16744978839756, 59309.90944491994, 222.3740830977091, 467.46250653988744, 536.4875282930419, 312.4420241673494, 9.804324448343104, 68.63027113840174, 6.536216298895404, 9.804324448343104, 5.44684691574617, 7.625585682044638, 5.44684691574617, 276.6998233199054, 7.625585682044638, 3.268108149447702, 3.268108149447702, 3.268108149447702, 19.60864889668621, 5.44684691574617, 5.44684691574617, 10.89369383149234, 3.268108149447702, 3.268108149447702, 15.251171364089275, 10.89369383149234, 5.44684691574617, 9.804324448343104, 5.44684691574617, 19.60864889668621, 5.44684691574617, 10.89369383149234, 10.89369383149234, 37.03855902707395, 3.268108149447702, 5.44684691574617, 3233.172454416547, 2867.206736317547, 2719.065980340488, 1848.6740785738648, 1676.539480666671, 1337.7096603641496, 964.0919040870721, 545.7740609577662, 520.7185651453339, 447.73081647433514, 379.1005453359334, 332.25766186051635, 383.4722582381453, 286.5041477682485, 260.3592825726669, 230.94630922763758, 180.83531760277285, 166.6735156218328, 310.46456064845705, 126.36684844531115, 105.6688301654757, 99.1326138665803, 92.59639756768489, 162.2919439947858, 81.70270373619255, 80.61333435304331, 77.34522620359562, 71.89837928784944, 124.16042309753331, 113.30668969670933, 99.11464279502532, 216.85768401496358, 619.4175234282791, 456.96636128326304, 123.04481977091729, 731.3918576379042, 1068.910333821075, 249.3984415907218, 1964.695069840603, 192.06423287099025, 12230.477451215856, 660.4136935680154, 712.9668439018003, 536.4875282930419, 1.0865126086119146, 1.0865126086119146, 1.0865126086119146, 1.0865126086119146, 1.0865126086119146, 1.0865126086119146, 6.519075651671487, 1.0865126086119146, 1.0865126086119146, 1.0865126086119146, 3.2595378258357437, 1.0865126086119146, 1.0865126086119146, 1.0865126086119146, 1.0865126086119146, 1.0865126086119146, 1.0865126086119146, 2.173025217223829, 2.173025217223829, 1.0865126086119146, 1.0865126086119146, 1.0865126086119146, 1.0865126086119146, 1.0865126086119146, 1.0865126086119146, 1.0865126086119146, 1.0865126086119146, 1.0865126086119146, 1.0865126086119146, 1.0865126086119146, 2372.9159720793436, 1395.0821894576982, 1007.1971881832447, 927.881767754575, 729.0499603785946, 654.0805903843725, 496.53626213564496, 342.2514717127531, 373.75247287946496, 275.97420258742625, 323.7840141249261, 166.23642911762292, 151.02525259705612, 129.29500042481783, 121.68941216453442, 107.56474825257955, 248.79283888535335, 392.247335501779, 83.66147086311742, 81.48844564589359, 144.50943370396018, 198.84695222191579, 124.89950256178848, 53.23911782198381, 52.1526052133719, 603.9101460519549, 1678.3925213780174, 40.20096651864084, 39.11445391002893, 35.85491608419318, 35.85491608419318, 65.14810079253432, 343.2782356133538, 164.0083525191638, 113.99900585594729, 78.21952597510709, 18148.075634162873, 200.7261523607669, 659.0755897525364, 210.23684842126517, 11314.964942712397, 671.0075262427044, 59309.90944491994, 1.043856884431361, 2.087713768862722, 1.043856884431361, 2.087713768862722, 1.043856884431361, 1.043856884431361, 1.043856884431361, 2.087713768862722, 1.043856884431361, 1.043856884431361, 1.043856884431361, 1.043856884431361, 1.043856884431361, 1.043856884431361, 1.043856884431361, 2.087713768862722, 1.043856884431361, 1.043856884431361, 1.043856884431361, 1.043856884431361, 1.043856884431361, 1.043856884431361, 3.1315706532940824, 1.043856884431361, 1.043856884431361, 1.043856884431361, 4.175427537725444, 2.087713768862722, 1.043856884431361, 1.043856884431361, 3487.5686876937125, 1860.1529680566853, 619.0488334254568, 574.1605279348194, 388.4342567451319, 176.4118134689, 345.5791801832702, 196.27263570025875, 100.21026090541064, 97.07869025211656, 75.157695679058, 65.76298371917574, 33.40342030180355, 32.35956341737219, 358.5208943066195, 27.140278995215382, 26.096422110784022, 21.92099457305858, 19.83328080419586, 18.7894239197645, 14198.469049555559, 15.657853266470413, 13.570139497607691, 12.52628261317633, 380.31864704031415, 9.39471195988225, 8.350855075450887, 7.3069981910195265, 7.3069981910195265, 6.263141306588165, 178.6051614034825, 133.79939469903925, 50.22462618937099, 31.33353245017932, 77.4714861209816, 76.28449066239574, 103.66241706255424, 165.45871253776218, 11314.964942712397, 111.50938680509056, 39.93309450888596, 948.7992198035982, 2096.658708496507, 17410.88490071642, 277.6118150103562, 137.79511674259822, 70.02570000641026, 1.0649300086152163, 1.0649300086152163, 1.0649300086152163, 1.0649300086152163, 1.0649300086152163, 1.0649300086152163, 11.714230094767379, 1.0649300086152163, 1.0649300086152163, 1.0649300086152163, 1.0649300086152163, 1.0649300086152163, 1.0649300086152163, 1.0649300086152163, 1.0649300086152163, 1.0649300086152163, 1.0649300086152163, 1.0649300086152163, 1.0649300086152163, 1.0649300086152163, 1.0649300086152163, 1.0649300086152163, 1.0649300086152163, 1.0649300086152163, 1.0649300086152163, 1.0649300086152163, 6.389580051691298, 1.0649300086152163, 1.0649300086152163, 1.0649300086152163, 39.402410318763, 36.207620292917355, 28.753110232610837, 21.298600172304326, 17.03888013784346, 106.48719135992805, 13.844090111997811, 13.844090111997811, 13.844090111997811, 13.844090111997811, 12.779160103382596, 12.779160103382596, 9.584370077536946, 8.51944006892173, 8.51944006892173, 7.4545100603065135, 7.4545100603065135, 7.4545100603065135, 6.389580051691298, 6.389580051691298, 6.389580051691298, 5.3246500430760815, 5.3246500430760815, 5.3246500430760815, 5.3246500430760815, 5.3246500430760815, 5.3246500430760815, 5.3246500430760815, 93.8474666105511, 597.4247583567392, 20.24462940698659, 137.79511674259822, 37361.01697146278, 19.1692080698879, 10.646052879206803, 59309.90944491994, 18148.075634162873, 28.818691410583302, 16.048468204945024, 53.75132597352619, 20.417236282304206, 14.981448267543161, 19.28776208057539, 11.791579583065337, 408.2771209510471, 30.334060637342095, 42.49645718079741, 1.071398311594263, 1.071398311594263, 1.071398311594263, 1.071398311594263, 1.071398311594263, 1.071398311594263, 1.071398311594263, 1.071398311594263, 1.071398311594263, 1.071398311594263, 1.071398311594263, 1.071398311594263, 1.071398311594263, 1.071398311594263, 1.071398311594263, 4.285593246377052, 2.142796623188526, 1.071398311594263, 22.499364543479523, 1.071398311594263, 1.071398311594263, 1.071398311594263, 1.071398311594263, 1.071398311594263, 1.071398311594263, 3.2141949347827894, 5.356991557971315, 17.142372985508207, 1.071398311594263, 1.071398311594263, 1154.9673798986155, 646.0531818913406, 607.4828426739472, 751.9537054467087, 1176.629971974304, 496.0298768409809, 336.4190698405986, 252.85000153624608, 243.2074167318977, 193.9230943985616, 179.99491634783618, 170.35233154348782, 168.2095349202993, 145.71017037681978, 138.21038219565992, 77.14067843478693, 76.06928012319267, 577.7766078312338, 168.2397635143346, 41.78453415217626, 40.713135840582, 34.28474597101641, 29.999152724639366, 175.68925025646018, 25.713559478262315, 22.499364543479523, 80.32733194240683, 19.285169608696734, 18.213771297102472, 17410.88490071642, 208.01132592700606, 39.6719824497317, 150.2529584015018, 61.07767510943992, 948.7992198035982, 102.00329226857353, 73.68615157905585, 718.2726368092349, 59309.90944491994, 14198.469049555559, 2096.658708496507, 1.0620252578184255, 1.0620252578184255, 2.124050515636851, 1.0620252578184255, 1.0620252578184255, 1.0620252578184255, 2.124050515636851, 1.0620252578184255, 1.0620252578184255, 1.0620252578184255, 1.0620252578184255, 4.248101031273702, 1.0620252578184255, 1.0620252578184255, 1.0620252578184255, 3.1860757734552765, 1.0620252578184255, 1.0620252578184255, 1.0620252578184255, 2.124050515636851, 1.0620252578184255, 1.0620252578184255, 1.0620252578184255, 1.0620252578184255, 2.124050515636851, 1.0620252578184255, 1.0620252578184255, 1.0620252578184255, 1.0620252578184255, 1.0620252578184255, 389.7632696193622, 71.1556922738345, 64.78354072692396, 35.04683350800804, 30.79873247673434, 28.67468196109749, 28.67468196109749, 176.3315617731702, 23.36455567200536, 21.24050515636851, 19.11645464073166, 18.054429382913234, 11.68227783600268, 11.68227783600268, 10.620252578184255, 9.55822732036583, 9.55822732036583, 8.496202062547404, 7.4341768047289785, 6.372151546910553, 6.372151546910553, 6.372151546910553, 6.372151546910553, 6.372151546910553, 49.954805091985804, 5.3101262890921275, 5.3101262890921275, 5.3101262890921275, 5.3101262890921275, 5.3101262890921275, 5.3101262890921275, 76.54252125270216, 5.3101262890921275, 5.3101262890921275, 5.3101262890921275, 262.24155009027385, 26.546658168841525, 14.871035714900806, 13.824192816313419, 51.15494280824528, 37361.01697146278, 20.186526214878626, 30.821482692899703, 14.853089986867683, 59309.90944491994, 21.303403541952623, 18148.075634162873, 20.16616878541314, 21.287370425247698, 17.004023128281972, 24.50737486162407, 20.435907853891184, 25.45167284823138, 1.0647073632612731, 1.0647073632612731, 1.0647073632612731, 1.0647073632612731, 3.1941220897838196, 1.0647073632612731, 6.388244179567639, 1.0647073632612731, 1.0647073632612731, 1.0647073632612731, 3.1941220897838196, 1.0647073632612731, 2.1294147265225463, 1.0647073632612731, 1.0647073632612731, 1.0647073632612731, 1.0647073632612731, 2.1294147265225463, 1.0647073632612731, 1.0647073632612731, 2.1294147265225463, 1.0647073632612731, 8.517658906090185, 1.0647073632612731, 1.0647073632612731, 3.1941220897838196, 1.0647073632612731, 1.0647073632612731, 1.0647073632612731, 3.1941220897838196, 589.7925948802832, 396.0711391331936, 51.105953436541114, 36.20005035088329, 33.00592826109947, 77.73881987730398, 12.776488359135278, 12.776488359135278, 10.64707363261273, 10.64707363261273, 10.64707363261273, 9.582366269351459, 8.517658906090185, 6.388244179567639, 6.388244179567639, 6.388244179567639, 6.388244179567639, 6.388244179567639, 5.323536816306365, 5.323536816306365, 5.323536816306365, 5.323536816306365, 5.323536816306365, 5.323536816306365, 5.323536816306365, 5.323536816306365, 4.2588294530450925, 4.2588294530450925, 4.2588294530450925, 37.258708590961724, 4.2588294530450925, 11357.90877422979, 35.16564801618123, 59.78136360928072, 179.79155728093016, 11.708756434282588, 860.2093441881489, 59309.90944491994, 84.71227139032999, 10.685971022115654, 17.080864889873492, 29.948478769703538, 15.887683899225939, 37361.01697146278, 22.551126457581066, 188.97166764147536, 51.410268557223745, 593.8142110477493, 329.3243141442807, 597.4247583567392, 35.50603215858292, 125.49049742844774, 17.11122960833557, 1.0600386195088691, 1.0600386195088691, 1.0600386195088691, 1.0600386195088691, 1.0600386195088691, 1.0600386195088691, 1.0600386195088691, 1.0600386195088691, 1.0600386195088691, 1.0600386195088691, 1.0600386195088691, 1.0600386195088691, 1.0600386195088691, 1.0600386195088691, 1.0600386195088691, 10.60038619508869, 1.0600386195088691, 1.0600386195088691, 1.0600386195088691, 1.0600386195088691, 1.0600386195088691, 1.0600386195088691, 1.0600386195088691, 1.0600386195088691, 1.0600386195088691, 1.0600386195088691, 1.0600386195088691, 1.0600386195088691, 1.0600386195088691, 1.0600386195088691, 161.12587016534812, 131.44478881909978, 99.64363023383369, 38.16139030231929, 32.861197204774946, 25.44092686821286, 21.20077239017738, 80.57878571507788, 15.900579292633036, 15.900579292633036, 14.840540673124169, 13.7805020536153, 13.7805020536153, 13.7805020536153, 13.7805020536153, 12.72046343410643, 12.72046343410643, 11.66042481459756, 10.60038619508869, 10.60038619508869, 7.420270336562084, 7.420270336562084, 7.420270336562084, 7.420270336562084, 6.360231717053215, 6.360231717053215, 6.360231717053215, 6.360231717053215, 6.360231717053215, 50.92541986968104, 44.526858688562825, 1844.7894576489862, 64.59762884973098, 6.360231717053215, 2096.658708496507, 25.318456344090404, 8930.010964074183, 6148.280545534397, 31.85795704569304, 188.97166764147536, 1736.8369722781529, 23.32578217567809, 59309.90944491994, 37361.01697146278, 17410.88490071642, 21.214778621434597, 16.958435632192547, 165.45871253776218, 11357.90877422979, 180.4860762838758, 1.0616828016698578, 4.246731206679431, 2.1233656033397157, 1.0616828016698578, 1.0616828016698578, 1.0616828016698578, 1.0616828016698578, 1.0616828016698578, 3.1850484050095735, 1.0616828016698578, 1.0616828016698578, 1.0616828016698578, 1.0616828016698578, 1.0616828016698578, 1.0616828016698578, 1.0616828016698578, 1.0616828016698578, 2.1233656033397157, 1.0616828016698578, 7.431779611689004, 4.246731206679431, 1.0616828016698578, 2.1233656033397157, 1.0616828016698578, 2.1233656033397157, 1.0616828016698578, 1.0616828016698578, 1.0616828016698578, 1.0616828016698578, 2504.5097291391944, 177.30102787886625, 156.0673718454691, 458.69866335688135, 76.44116172022976, 55.207505686832604, 54.14582288516275, 113.59841559651379, 29.727118446756016, 87.0612369438737, 23.35702163673687, 18.04860762838758, 16.986924826717726, 16.986924826717726, 14.863559223378008, 13.801876421708151, 12.740193620038294, 10.616828016698578, 9.55514521502872, 9.55514521502872, 8.493462413358863, 8.493462413358863, 8.493462413358863, 7.431779611689004, 7.431779611689004, 6.370096810019147, 6.370096810019147, 6.370096810019147, 6.370096810019147, 60.635800987187025, 46.723784894309816, 35.03006181083397, 593.8142110477493, 29.783291577791253, 329.3243141442807, 671.0075262427044, 6148.280545534397, 1736.8369722781529, 8930.010964074183, 81.81204147573355, 38.38910025322059, 11357.90877422979, 860.2093441881489, 59309.90944491994, 37361.01697146278, 1844.7894576489862, 179.79155728093016, 17410.88490071642], \"Category\": [\"Default\", \"Default\", \"Default\", \"Default\", \"Default\", \"Default\", \"Default\", \"Default\", \"Default\", \"Default\", \"Default\", \"Default\", \"Default\", \"Default\", \"Default\", \"Default\", \"Default\", \"Default\", \"Default\", \"Default\", \"Default\", \"Default\", \"Default\", \"Default\", \"Default\", \"Default\", \"Default\", \"Default\", \"Default\", \"Default\", \"Topic1\", \"Topic1\", \"Topic1\", \"Topic1\", \"Topic1\", \"Topic1\", \"Topic1\", \"Topic1\", \"Topic1\", \"Topic1\", \"Topic1\", \"Topic1\", \"Topic1\", \"Topic1\", \"Topic1\", \"Topic1\", \"Topic1\", \"Topic1\", \"Topic1\", \"Topic1\", \"Topic1\", \"Topic1\", \"Topic1\", \"Topic1\", \"Topic1\", \"Topic1\", \"Topic1\", \"Topic1\", \"Topic1\", \"Topic1\", \"Topic1\", \"Topic1\", \"Topic1\", \"Topic1\", \"Topic1\", \"Topic1\", \"Topic1\", \"Topic1\", \"Topic1\", \"Topic1\", \"Topic1\", \"Topic1\", \"Topic1\", \"Topic1\", \"Topic1\", \"Topic1\", \"Topic1\", \"Topic1\", \"Topic1\", \"Topic1\", \"Topic1\", \"Topic1\", \"Topic1\", \"Topic1\", \"Topic1\", \"Topic1\", \"Topic1\", \"Topic1\", \"Topic1\", \"Topic1\", \"Topic2\", \"Topic2\", \"Topic2\", \"Topic2\", \"Topic2\", \"Topic2\", \"Topic2\", \"Topic2\", \"Topic2\", \"Topic2\", \"Topic2\", \"Topic2\", \"Topic2\", \"Topic2\", \"Topic2\", \"Topic2\", \"Topic2\", \"Topic2\", \"Topic2\", \"Topic2\", \"Topic2\", \"Topic2\", \"Topic2\", \"Topic2\", \"Topic2\", \"Topic2\", \"Topic2\", \"Topic2\", \"Topic2\", \"Topic2\", \"Topic2\", \"Topic2\", \"Topic2\", \"Topic2\", \"Topic2\", \"Topic2\", \"Topic2\", \"Topic2\", \"Topic2\", \"Topic2\", \"Topic2\", \"Topic2\", \"Topic2\", \"Topic2\", \"Topic2\", \"Topic2\", \"Topic2\", \"Topic2\", \"Topic2\", \"Topic2\", \"Topic2\", \"Topic2\", \"Topic2\", \"Topic2\", \"Topic2\", \"Topic2\", \"Topic2\", \"Topic2\", \"Topic2\", \"Topic2\", \"Topic2\", \"Topic2\", \"Topic2\", \"Topic2\", \"Topic2\", \"Topic2\", \"Topic2\", \"Topic2\", \"Topic2\", \"Topic2\", \"Topic2\", \"Topic2\", \"Topic2\", \"Topic2\", \"Topic2\", \"Topic2\", \"Topic3\", \"Topic3\", \"Topic3\", \"Topic3\", \"Topic3\", \"Topic3\", \"Topic3\", \"Topic3\", \"Topic3\", \"Topic3\", \"Topic3\", \"Topic3\", \"Topic3\", \"Topic3\", \"Topic3\", \"Topic3\", \"Topic3\", \"Topic3\", \"Topic3\", \"Topic3\", \"Topic3\", \"Topic3\", \"Topic3\", \"Topic3\", \"Topic3\", \"Topic3\", \"Topic3\", \"Topic3\", \"Topic3\", \"Topic3\", \"Topic3\", \"Topic3\", \"Topic3\", \"Topic3\", \"Topic3\", \"Topic3\", \"Topic3\", \"Topic3\", \"Topic3\", \"Topic3\", \"Topic3\", \"Topic3\", \"Topic3\", \"Topic3\", \"Topic3\", \"Topic3\", \"Topic3\", \"Topic3\", \"Topic3\", \"Topic3\", \"Topic3\", \"Topic3\", \"Topic3\", \"Topic3\", \"Topic3\", \"Topic3\", \"Topic3\", \"Topic3\", \"Topic3\", \"Topic3\", \"Topic3\", \"Topic3\", \"Topic3\", \"Topic3\", \"Topic3\", \"Topic3\", \"Topic3\", \"Topic3\", \"Topic3\", \"Topic3\", \"Topic3\", \"Topic3\", \"Topic4\", \"Topic4\", \"Topic4\", \"Topic4\", \"Topic4\", \"Topic4\", \"Topic4\", \"Topic4\", \"Topic4\", \"Topic4\", \"Topic4\", \"Topic4\", \"Topic4\", \"Topic4\", \"Topic4\", \"Topic4\", \"Topic4\", \"Topic4\", \"Topic4\", \"Topic4\", \"Topic4\", \"Topic4\", \"Topic4\", \"Topic4\", \"Topic4\", \"Topic4\", \"Topic4\", \"Topic4\", \"Topic4\", \"Topic4\", \"Topic4\", \"Topic4\", \"Topic4\", \"Topic4\", \"Topic4\", \"Topic4\", \"Topic4\", \"Topic4\", \"Topic4\", \"Topic4\", \"Topic4\", \"Topic4\", \"Topic4\", \"Topic4\", \"Topic4\", \"Topic4\", \"Topic4\", \"Topic4\", \"Topic4\", \"Topic4\", \"Topic4\", \"Topic4\", \"Topic4\", \"Topic4\", \"Topic4\", \"Topic4\", \"Topic4\", \"Topic4\", \"Topic4\", \"Topic4\", \"Topic4\", \"Topic4\", \"Topic4\", \"Topic4\", \"Topic4\", \"Topic4\", \"Topic4\", \"Topic4\", \"Topic5\", \"Topic5\", \"Topic5\", \"Topic5\", \"Topic5\", \"Topic5\", \"Topic5\", \"Topic5\", \"Topic5\", \"Topic5\", \"Topic5\", \"Topic5\", \"Topic5\", \"Topic5\", \"Topic5\", \"Topic5\", \"Topic5\", \"Topic5\", \"Topic5\", \"Topic5\", \"Topic5\", \"Topic5\", \"Topic5\", \"Topic5\", \"Topic5\", \"Topic5\", \"Topic5\", \"Topic5\", \"Topic5\", \"Topic5\", \"Topic5\", \"Topic5\", \"Topic5\", \"Topic5\", \"Topic5\", \"Topic5\", \"Topic5\", \"Topic5\", \"Topic5\", \"Topic5\", \"Topic5\", \"Topic5\", \"Topic5\", \"Topic5\", \"Topic5\", \"Topic5\", \"Topic5\", \"Topic5\", \"Topic5\", \"Topic5\", \"Topic5\", \"Topic5\", \"Topic5\", \"Topic5\", \"Topic5\", \"Topic5\", \"Topic5\", \"Topic5\", \"Topic5\", \"Topic5\", \"Topic5\", \"Topic5\", \"Topic5\", \"Topic5\", \"Topic5\", \"Topic5\", \"Topic5\", \"Topic5\", \"Topic5\", \"Topic6\", \"Topic6\", \"Topic6\", \"Topic6\", \"Topic6\", \"Topic6\", \"Topic6\", \"Topic6\", \"Topic6\", \"Topic6\", \"Topic6\", \"Topic6\", \"Topic6\", \"Topic6\", \"Topic6\", \"Topic6\", \"Topic6\", \"Topic6\", \"Topic6\", \"Topic6\", \"Topic6\", \"Topic6\", \"Topic6\", \"Topic6\", \"Topic6\", \"Topic6\", \"Topic6\", \"Topic6\", \"Topic6\", \"Topic6\", \"Topic6\", \"Topic6\", \"Topic6\", \"Topic6\", \"Topic6\", \"Topic6\", \"Topic6\", \"Topic6\", \"Topic6\", \"Topic6\", \"Topic6\", \"Topic6\", \"Topic6\", \"Topic6\", \"Topic6\", \"Topic6\", \"Topic6\", \"Topic6\", \"Topic6\", \"Topic6\", \"Topic6\", \"Topic6\", \"Topic6\", \"Topic6\", \"Topic6\", \"Topic6\", \"Topic6\", \"Topic6\", \"Topic6\", \"Topic6\", \"Topic6\", \"Topic6\", \"Topic6\", \"Topic7\", \"Topic7\", \"Topic7\", \"Topic7\", \"Topic7\", \"Topic7\", \"Topic7\", \"Topic7\", \"Topic7\", \"Topic7\", \"Topic7\", \"Topic7\", \"Topic7\", \"Topic7\", \"Topic7\", \"Topic7\", \"Topic7\", \"Topic7\", \"Topic7\", \"Topic7\", \"Topic7\", \"Topic7\", \"Topic7\", \"Topic7\", \"Topic7\", \"Topic7\", \"Topic7\", \"Topic7\", \"Topic7\", \"Topic7\", \"Topic7\", \"Topic7\", \"Topic7\", \"Topic7\", \"Topic7\", \"Topic7\", \"Topic7\", \"Topic7\", \"Topic7\", \"Topic7\", \"Topic7\", \"Topic7\", \"Topic7\", \"Topic7\", \"Topic7\", \"Topic7\", \"Topic7\", \"Topic7\", \"Topic7\", \"Topic7\", \"Topic7\", \"Topic7\", \"Topic7\", \"Topic7\", \"Topic7\", \"Topic7\", \"Topic7\", \"Topic7\", \"Topic7\", \"Topic7\", \"Topic7\", \"Topic7\", \"Topic7\", \"Topic7\", \"Topic7\", \"Topic7\", \"Topic7\", \"Topic7\", \"Topic7\", \"Topic8\", \"Topic8\", \"Topic8\", \"Topic8\", \"Topic8\", \"Topic8\", \"Topic8\", \"Topic8\", \"Topic8\", \"Topic8\", \"Topic8\", \"Topic8\", \"Topic8\", \"Topic8\", \"Topic8\", \"Topic8\", \"Topic8\", \"Topic8\", \"Topic8\", \"Topic8\", \"Topic8\", \"Topic8\", \"Topic8\", \"Topic8\", \"Topic8\", \"Topic8\", \"Topic8\", \"Topic8\", \"Topic8\", \"Topic8\", \"Topic8\", \"Topic8\", \"Topic8\", \"Topic8\", \"Topic8\", \"Topic8\", \"Topic8\", \"Topic8\", \"Topic8\", \"Topic8\", \"Topic8\", \"Topic8\", \"Topic8\", \"Topic8\", \"Topic8\", \"Topic8\", \"Topic8\", \"Topic8\", \"Topic8\", \"Topic8\", \"Topic8\", \"Topic8\", \"Topic8\", \"Topic8\", \"Topic8\", \"Topic8\", \"Topic8\", \"Topic8\", \"Topic8\", \"Topic8\", \"Topic8\", \"Topic8\", \"Topic8\", \"Topic8\", \"Topic8\", \"Topic8\", \"Topic8\", \"Topic8\", \"Topic8\", \"Topic8\", \"Topic8\", \"Topic8\", \"Topic8\", \"Topic8\", \"Topic9\", \"Topic9\", \"Topic9\", \"Topic9\", \"Topic9\", \"Topic9\", \"Topic9\", \"Topic9\", \"Topic9\", \"Topic9\", \"Topic9\", \"Topic9\", \"Topic9\", \"Topic9\", \"Topic9\", \"Topic9\", \"Topic9\", \"Topic9\", \"Topic9\", \"Topic9\", \"Topic9\", \"Topic9\", \"Topic9\", \"Topic9\", \"Topic9\", \"Topic9\", \"Topic9\", \"Topic9\", \"Topic9\", \"Topic9\", \"Topic9\", \"Topic9\", \"Topic9\", \"Topic9\", \"Topic9\", \"Topic9\", \"Topic9\", \"Topic9\", \"Topic9\", \"Topic9\", \"Topic9\", \"Topic9\", \"Topic9\", \"Topic9\", \"Topic9\", \"Topic9\", \"Topic9\", \"Topic9\", \"Topic9\", \"Topic9\", \"Topic9\", \"Topic9\", \"Topic9\", \"Topic9\", \"Topic9\", \"Topic9\", \"Topic9\", \"Topic9\", \"Topic9\", \"Topic9\", \"Topic9\", \"Topic9\", \"Topic10\", \"Topic10\", \"Topic10\", \"Topic10\", \"Topic10\", \"Topic10\", \"Topic10\", \"Topic10\", \"Topic10\", \"Topic10\", \"Topic10\", \"Topic10\", \"Topic10\", \"Topic10\", \"Topic10\", \"Topic10\", \"Topic10\", \"Topic10\", \"Topic10\", \"Topic10\", \"Topic10\", \"Topic10\", \"Topic10\", \"Topic10\", \"Topic10\", \"Topic10\", \"Topic10\", \"Topic10\", \"Topic10\", \"Topic10\", \"Topic10\", \"Topic10\", \"Topic10\", \"Topic10\", \"Topic10\", \"Topic10\", \"Topic10\", \"Topic10\", \"Topic10\", \"Topic10\", \"Topic10\", \"Topic10\", \"Topic10\", \"Topic10\", \"Topic10\", \"Topic10\", \"Topic10\", \"Topic10\", \"Topic10\", \"Topic10\", \"Topic10\", \"Topic10\", \"Topic10\", \"Topic10\", \"Topic10\", \"Topic10\", \"Topic10\", \"Topic10\", \"Topic10\", \"Topic10\", \"Topic10\", \"Topic10\", \"Topic10\", \"Topic10\", \"Topic10\", \"Topic10\", \"Topic10\", \"Topic10\", \"Topic10\", \"Topic10\", \"Topic10\", \"Topic11\", \"Topic11\", \"Topic11\", \"Topic11\", \"Topic11\", \"Topic11\", \"Topic11\", \"Topic11\", \"Topic11\", \"Topic11\", \"Topic11\", \"Topic11\", \"Topic11\", \"Topic11\", \"Topic11\", \"Topic11\", \"Topic11\", \"Topic11\", \"Topic11\", \"Topic11\", \"Topic11\", \"Topic11\", \"Topic11\", \"Topic11\", \"Topic11\", \"Topic11\", \"Topic11\", \"Topic11\", \"Topic11\", \"Topic11\", \"Topic11\", \"Topic11\", \"Topic11\", \"Topic11\", \"Topic11\", \"Topic11\", \"Topic11\", \"Topic11\", \"Topic11\", \"Topic11\", \"Topic11\", \"Topic11\", \"Topic11\", \"Topic11\", \"Topic11\", \"Topic11\", \"Topic11\", \"Topic11\", \"Topic11\", \"Topic11\", \"Topic11\", \"Topic11\", \"Topic11\", \"Topic11\", \"Topic11\", \"Topic11\", \"Topic11\", \"Topic11\", \"Topic11\", \"Topic11\", \"Topic11\", \"Topic11\", \"Topic11\", \"Topic11\", \"Topic11\", \"Topic11\", \"Topic11\", \"Topic11\", \"Topic11\", \"Topic11\", \"Topic11\", \"Topic11\", \"Topic11\", \"Topic11\", \"Topic12\", \"Topic12\", \"Topic12\", \"Topic12\", \"Topic12\", \"Topic12\", \"Topic12\", \"Topic12\", \"Topic12\", \"Topic12\", \"Topic12\", \"Topic12\", \"Topic12\", \"Topic12\", \"Topic12\", \"Topic12\", \"Topic12\", \"Topic12\", \"Topic12\", \"Topic12\", \"Topic12\", \"Topic12\", \"Topic12\", \"Topic12\", \"Topic12\", \"Topic12\", \"Topic12\", \"Topic12\", \"Topic12\", \"Topic12\", \"Topic12\", \"Topic12\", \"Topic12\", \"Topic12\", \"Topic12\", \"Topic12\", \"Topic12\", \"Topic12\", \"Topic12\", \"Topic12\", \"Topic12\", \"Topic12\", \"Topic12\", \"Topic12\", \"Topic12\", \"Topic12\", \"Topic12\", \"Topic12\", \"Topic12\", \"Topic12\", \"Topic12\", \"Topic12\", \"Topic12\", \"Topic12\", \"Topic12\", \"Topic12\", \"Topic12\", \"Topic12\", \"Topic12\", \"Topic12\", \"Topic12\", \"Topic12\", \"Topic12\", \"Topic12\", \"Topic12\", \"Topic12\", \"Topic12\", \"Topic12\", \"Topic12\", \"Topic12\", \"Topic12\", \"Topic12\", \"Topic12\", \"Topic12\", \"Topic13\", \"Topic13\", \"Topic13\", \"Topic13\", \"Topic13\", \"Topic13\", \"Topic13\", \"Topic13\", \"Topic13\", \"Topic13\", \"Topic13\", \"Topic13\", \"Topic13\", \"Topic13\", \"Topic13\", \"Topic13\", \"Topic13\", \"Topic13\", \"Topic13\", \"Topic13\", \"Topic13\", \"Topic13\", \"Topic13\", \"Topic13\", \"Topic13\", \"Topic13\", \"Topic13\", \"Topic13\", \"Topic13\", \"Topic13\", \"Topic13\", \"Topic13\", \"Topic13\", \"Topic13\", \"Topic13\", \"Topic13\", \"Topic13\", \"Topic13\", \"Topic13\", \"Topic13\", \"Topic13\", \"Topic13\", \"Topic13\", \"Topic13\", \"Topic13\", \"Topic13\", \"Topic13\", \"Topic13\", \"Topic13\", \"Topic13\", \"Topic13\", \"Topic13\", \"Topic13\", \"Topic13\", \"Topic13\", \"Topic13\", \"Topic13\", \"Topic13\", \"Topic13\", \"Topic13\", \"Topic13\", \"Topic13\", \"Topic13\", \"Topic13\", \"Topic13\", \"Topic13\", \"Topic13\", \"Topic13\", \"Topic13\", \"Topic13\", \"Topic13\", \"Topic13\", \"Topic13\", \"Topic14\", \"Topic14\", \"Topic14\", \"Topic14\", \"Topic14\", \"Topic14\", \"Topic14\", \"Topic14\", \"Topic14\", \"Topic14\", \"Topic14\", \"Topic14\", \"Topic14\", \"Topic14\", \"Topic14\", \"Topic14\", \"Topic14\", \"Topic14\", \"Topic14\", \"Topic14\", \"Topic14\", \"Topic14\", \"Topic14\", \"Topic14\", \"Topic14\", \"Topic14\", \"Topic14\", \"Topic14\", \"Topic14\", \"Topic14\", \"Topic14\", \"Topic14\", \"Topic14\", \"Topic14\", \"Topic14\", \"Topic14\", \"Topic14\", \"Topic14\", \"Topic14\", \"Topic14\", \"Topic14\", \"Topic14\", \"Topic14\", \"Topic14\", \"Topic14\", \"Topic14\", \"Topic14\", \"Topic14\", \"Topic14\", \"Topic14\", \"Topic14\", \"Topic14\", \"Topic14\", \"Topic14\", \"Topic14\", \"Topic14\", \"Topic14\", \"Topic14\", \"Topic14\", \"Topic14\", \"Topic14\", \"Topic14\", \"Topic14\", \"Topic14\", \"Topic14\", \"Topic14\", \"Topic14\", \"Topic14\", \"Topic14\", \"Topic14\", \"Topic14\", \"Topic14\", \"Topic14\", \"Topic14\", \"Topic14\", \"Topic14\", \"Topic14\", \"Topic15\", \"Topic15\", \"Topic15\", \"Topic15\", \"Topic15\", \"Topic15\", \"Topic15\", \"Topic15\", \"Topic15\", \"Topic15\", \"Topic15\", \"Topic15\", \"Topic15\", \"Topic15\", \"Topic15\", \"Topic15\", \"Topic15\", \"Topic15\", \"Topic15\", \"Topic15\", \"Topic15\", \"Topic15\", \"Topic15\", \"Topic15\", \"Topic15\", \"Topic15\", \"Topic15\", \"Topic15\", \"Topic15\", \"Topic15\", \"Topic15\", \"Topic15\", \"Topic15\", \"Topic15\", \"Topic15\", \"Topic15\", \"Topic15\", \"Topic15\", \"Topic15\", \"Topic15\", \"Topic15\", \"Topic15\", \"Topic15\", \"Topic15\", \"Topic15\", \"Topic15\", \"Topic15\", \"Topic15\", \"Topic15\", \"Topic15\", \"Topic15\", \"Topic15\", \"Topic15\", \"Topic15\", \"Topic15\", \"Topic15\", \"Topic15\", \"Topic15\", \"Topic15\", \"Topic15\", \"Topic15\", \"Topic15\", \"Topic15\", \"Topic15\", \"Topic15\", \"Topic15\", \"Topic15\", \"Topic15\", \"Topic15\", \"Topic15\", \"Topic15\", \"Topic15\", \"Topic15\", \"Topic15\", \"Topic15\", \"Topic15\", \"Topic15\", \"Topic16\", \"Topic16\", \"Topic16\", \"Topic16\", \"Topic16\", \"Topic16\", \"Topic16\", \"Topic16\", \"Topic16\", \"Topic16\", \"Topic16\", \"Topic16\", \"Topic16\", \"Topic16\", \"Topic16\", \"Topic16\", \"Topic16\", \"Topic16\", \"Topic16\", \"Topic16\", \"Topic16\", \"Topic16\", \"Topic16\", \"Topic16\", \"Topic16\", \"Topic16\", \"Topic16\", \"Topic16\", \"Topic16\", \"Topic16\", \"Topic16\", \"Topic16\", \"Topic16\", \"Topic16\", \"Topic16\", \"Topic16\", \"Topic16\", \"Topic16\", \"Topic16\", \"Topic16\", \"Topic16\", \"Topic16\", \"Topic16\", \"Topic16\", \"Topic16\", \"Topic16\", \"Topic16\", \"Topic16\", \"Topic16\", \"Topic16\", \"Topic16\", \"Topic16\", \"Topic16\", \"Topic16\", \"Topic16\", \"Topic16\", \"Topic16\", \"Topic16\", \"Topic16\", \"Topic16\", \"Topic16\", \"Topic16\", \"Topic16\", \"Topic16\", \"Topic16\", \"Topic16\", \"Topic16\", \"Topic16\", \"Topic16\", \"Topic16\", \"Topic16\", \"Topic17\", \"Topic17\", \"Topic17\", \"Topic17\", \"Topic17\", \"Topic17\", \"Topic17\", \"Topic17\", \"Topic17\", \"Topic17\", \"Topic17\", \"Topic17\", \"Topic17\", \"Topic17\", \"Topic17\", \"Topic17\", \"Topic17\", \"Topic17\", \"Topic17\", \"Topic17\", \"Topic17\", \"Topic17\", \"Topic17\", \"Topic17\", \"Topic17\", \"Topic17\", \"Topic17\", \"Topic17\", \"Topic17\", \"Topic17\", \"Topic17\", \"Topic17\", \"Topic17\", \"Topic17\", \"Topic17\", \"Topic17\", \"Topic17\", \"Topic17\", \"Topic17\", \"Topic17\", \"Topic17\", \"Topic17\", \"Topic17\", \"Topic17\", \"Topic17\", \"Topic17\", \"Topic17\", \"Topic17\", \"Topic17\", \"Topic17\", \"Topic17\", \"Topic17\", \"Topic17\", \"Topic17\", \"Topic17\", \"Topic17\", \"Topic17\", \"Topic17\", \"Topic17\", \"Topic17\", \"Topic17\", \"Topic17\", \"Topic17\", \"Topic17\", \"Topic17\", \"Topic17\", \"Topic17\", \"Topic17\", \"Topic17\", \"Topic17\", \"Topic17\", \"Topic17\", \"Topic17\", \"Topic17\", \"Topic17\", \"Topic17\", \"Topic17\", \"Topic17\", \"Topic17\", \"Topic17\", \"Topic17\", \"Topic17\", \"Topic17\", \"Topic18\", \"Topic18\", \"Topic18\", \"Topic18\", \"Topic18\", \"Topic18\", \"Topic18\", \"Topic18\", \"Topic18\", \"Topic18\", \"Topic18\", \"Topic18\", \"Topic18\", \"Topic18\", \"Topic18\", \"Topic18\", \"Topic18\", \"Topic18\", \"Topic18\", \"Topic18\", \"Topic18\", \"Topic18\", \"Topic18\", \"Topic18\", \"Topic18\", \"Topic18\", \"Topic18\", \"Topic18\", \"Topic18\", \"Topic18\", \"Topic18\", \"Topic18\", \"Topic18\", \"Topic18\", \"Topic18\", \"Topic18\", \"Topic18\", \"Topic18\", \"Topic18\", \"Topic18\", \"Topic18\", \"Topic18\", \"Topic18\", \"Topic18\", \"Topic18\", \"Topic18\", \"Topic18\", \"Topic18\", \"Topic18\", \"Topic18\", \"Topic18\", \"Topic18\", \"Topic18\", \"Topic18\", \"Topic18\", \"Topic18\", \"Topic18\", \"Topic18\", \"Topic18\", \"Topic18\", \"Topic18\", \"Topic18\", \"Topic18\", \"Topic18\", \"Topic18\", \"Topic18\", \"Topic18\", \"Topic18\", \"Topic18\", \"Topic18\", \"Topic18\", \"Topic18\", \"Topic18\", \"Topic18\", \"Topic18\", \"Topic18\", \"Topic18\", \"Topic18\", \"Topic18\", \"Topic18\", \"Topic18\", \"Topic18\", \"Topic18\", \"Topic19\", \"Topic19\", \"Topic19\", \"Topic19\", \"Topic19\", \"Topic19\", \"Topic19\", \"Topic19\", \"Topic19\", \"Topic19\", \"Topic19\", \"Topic19\", \"Topic19\", \"Topic19\", \"Topic19\", \"Topic19\", \"Topic19\", \"Topic19\", \"Topic19\", \"Topic19\", \"Topic19\", \"Topic19\", \"Topic19\", \"Topic19\", \"Topic19\", \"Topic19\", \"Topic19\", \"Topic19\", \"Topic19\", \"Topic19\", \"Topic19\", \"Topic19\", \"Topic19\", \"Topic19\", \"Topic19\", \"Topic19\", \"Topic19\", \"Topic19\", \"Topic19\", \"Topic19\", \"Topic19\", \"Topic19\", \"Topic19\", \"Topic19\", \"Topic19\", \"Topic19\", \"Topic19\", \"Topic19\", \"Topic19\", \"Topic19\", \"Topic19\", \"Topic19\", \"Topic19\", \"Topic19\", \"Topic19\", \"Topic19\", \"Topic19\", \"Topic19\", \"Topic19\", \"Topic19\", \"Topic19\", \"Topic19\", \"Topic19\", \"Topic19\", \"Topic19\", \"Topic19\", \"Topic19\", \"Topic19\", \"Topic19\", \"Topic19\", \"Topic19\", \"Topic19\", \"Topic19\", \"Topic19\", \"Topic19\", \"Topic19\", \"Topic19\", \"Topic19\", \"Topic19\", \"Topic20\", \"Topic20\", \"Topic20\", \"Topic20\", \"Topic20\", \"Topic20\", \"Topic20\", \"Topic20\", \"Topic20\", \"Topic20\", \"Topic20\", \"Topic20\", \"Topic20\", \"Topic20\", \"Topic20\", \"Topic20\", \"Topic20\", \"Topic20\", \"Topic20\", \"Topic20\", \"Topic20\", \"Topic20\", \"Topic20\", \"Topic20\", \"Topic20\", \"Topic20\", \"Topic20\", \"Topic20\", \"Topic20\", \"Topic20\", \"Topic20\", \"Topic20\", \"Topic20\", \"Topic20\", \"Topic20\", \"Topic20\", \"Topic20\", \"Topic20\", \"Topic20\", \"Topic20\", \"Topic20\", \"Topic20\", \"Topic20\", \"Topic20\", \"Topic20\", \"Topic20\", \"Topic20\", \"Topic20\", \"Topic20\", \"Topic20\", \"Topic20\", \"Topic20\", \"Topic20\", \"Topic20\", \"Topic20\", \"Topic20\", \"Topic20\", \"Topic20\", \"Topic20\", \"Topic20\", \"Topic20\", \"Topic20\", \"Topic20\", \"Topic20\", \"Topic20\", \"Topic20\", \"Topic20\", \"Topic20\", \"Topic20\", \"Topic20\", \"Topic20\", \"Topic20\", \"Topic20\", \"Topic20\", \"Topic20\", \"Topic20\", \"Topic20\", \"Topic20\"], \"logprob\": [30.0, 29.0, 28.0, 27.0, 26.0, 25.0, 24.0, 23.0, 22.0, 21.0, 20.0, 19.0, 18.0, 17.0, 16.0, 15.0, 14.0, 13.0, 12.0, 11.0, 10.0, 9.0, 8.0, 7.0, 6.0, 5.0, 4.0, 3.0, 2.0, 1.0, -7.1252, -8.2238, -3.9994, -3.9395, -4.7934, -6.4892, -7.5878, -8.2238, -6.2164, -7.33, -6.4892, -8.2238, -7.5307, -8.2238, -6.8375, -7.5878, -8.2238, -4.601, -5.9437, -8.2238, -4.6845, -7.33, -6.8375, -4.1808, -4.1184, -7.33, -7.5307, -1.2259, -6.1584, -6.2164, -1.89, -3.148, -3.4485, -3.631, -3.9722, -3.9456, -3.9722, -3.9962, -4.7512, -4.5461, -5.569, -5.6419, -5.1793, -5.7767, -5.3212, -6.0516, -6.0644, -5.4306, -5.1079, -5.7115, -4.5746, -5.7297, -3.9769, -4.7898, -4.8681, -4.314, -4.4147, -5.0184, -5.1688, -5.3151, -10.302, -10.302, -10.302, -10.302, -8.9157, -10.302, -8.6926, -8.9157, -10.302, -10.302, -10.302, -9.2034, -8.5102, -10.302, -8.3561, -10.302, -10.302, -8.6926, -9.2034, -8.5102, -10.302, -10.302, -6.6131, -9.6088, -10.302, -10.302, -10.302, -10.302, -10.302, -10.302, -1.592, -2.9968, -3.2667, -3.4875, -3.6249, -4.0012, -4.2713, -4.4243, -4.5399, -4.6999, -4.7529, -4.2858, -4.7886, -4.8339, -4.9937, -5.0445, -5.2716, -4.8815, -5.3184, -5.3747, -5.4345, -5.0239, -5.5398, -5.5746, -5.7911, -5.9453, -5.9979, -6.0115, -6.0393, -6.0973, -4.1708, -4.3307, -2.1611, -5.8134, -4.7452, -5.7069, -5.3322, -5.2144, -3.3627, -5.0188, -4.6116, -4.8048, -5.1315, -4.7529, -4.8467, -4.9693, -10.3084, -10.3084, -10.3084, -8.1112, -10.3084, -10.3084, -9.2098, -10.3084, -10.3084, -10.3084, -8.9221, -8.9221, -7.364, -10.3084, -10.3084, -10.3084, -10.3084, -10.3084, -10.3084, -9.6153, -6.1037, -10.3084, -10.3084, -10.3084, -6.0318, -6.3011, -10.3084, -9.2098, -10.3084, -8.699, -1.5101, -3.2981, -3.9823, -4.004, -2.1858, -3.6504, -4.4795, -4.3397, -4.688, -5.0827, -5.1668, -4.0565, -5.4256, -5.0303, -5.5293, -5.6263, -5.2025, -5.2147, -5.8425, -5.9264, -6.0599, -4.8278, -6.1188, -6.1653, -6.1813, -2.4717, -6.2654, -4.3245, -4.5686, -2.7942, -5.2978, -5.8311, -4.317, -5.9517, -5.7441, -3.8392, -3.9249, -4.5401, -4.4223, -3.5049, -5.072, -5.4409, -8.5513, -9.2444, -7.8581, -9.2444, -4.7446, -9.2444, -6.7321, -9.2444, -9.2444, -9.2444, -7.8581, -7.8581, -8.5513, -9.2444, -9.2444, -9.2444, -9.2444, -3.5908, -9.2444, -9.2444, -7.8581, -9.2444, -9.2444, -9.2444, -8.5513, -9.2444, -9.2444, -10.343, -10.343, -10.343, -2.218, -2.8326, -3.2851, -3.8599, -3.98, -3.9817, -4.2631, -5.0447, -3.9053, -5.3594, -5.3663, -5.4014, -5.5228, -4.7633, -5.6986, -5.9122, -5.9242, -5.2868, -5.0055, -6.0255, -6.0255, -6.1686, -5.4602, -6.6795, -6.7595, -6.7877, -6.7877, -0.769, -6.5364, -6.4112, -5.5639, -5.7379, -4.2075, -4.5778, -4.6976, -5.1445, -5.2014, -5.4086, -9.2017, -7.8154, -9.2017, -8.6909, -8.6909, -9.2017, -7.0815, -9.2017, -7.3559, -8.6909, -7.3559, -8.5086, -9.2017, -9.2017, -6.4937, -9.2017, -8.6909, -8.6909, -9.2017, -7.0815, -7.3559, -6.8038, -6.774, -5.7465, -8.5086, -9.2017, -7.9978, -6.774, -5.1646, -5.4405, -1.7624, -3.6923, -3.8658, -3.9101, -3.9118, -4.1245, -4.0032, -3.1767, -4.1978, -4.2625, -4.1911, -4.5135, -4.6799, -4.8114, -4.0938, -4.9532, -4.9921, -5.0273, -4.7282, -5.1529, -5.2897, -5.2964, -5.3587, -5.3877, -5.6275, -5.6275, -5.656, -5.7052, -4.9297, -4.037, -4.9676, -4.7749, -4.1349, -4.6444, -4.5966, -2.2223, -4.5352, -4.4198, -4.7474, -10.3171, -8.9308, -3.9037, -10.3171, -9.2185, -10.3171, -8.3712, -5.4193, -10.3171, -10.3171, -10.3171, -9.624, -10.3171, -9.624, -9.2185, -10.3171, -7.1816, -10.3171, -10.3171, -10.3171, -10.3171, -10.3171, -9.2185, -10.3171, -10.3171, -10.3171, -10.3171, -10.3171, -10.3171, -10.3171, -1.4328, -1.8298, -2.5516, -3.5521, -3.795, -4.2349, -4.3717, -4.5426, -4.6001, -4.6133, -3.8557, -4.7488, -4.503, -4.8533, -4.3535, -3.7589, -5.0289, -5.0807, -5.086, -5.086, -5.1755, -5.1755, -5.3613, -4.506, -5.4193, -5.4268, -5.4808, -5.4968, -4.497, -4.2057, -3.1034, -5.3826, -5.3826, -10.2799, -10.2799, -7.9773, -8.8936, -10.2799, -10.2799, -10.2799, -10.2799, -8.8936, -10.2799, -8.6704, -10.2799, -10.2799, -8.4881, -8.6704, -10.2799, -10.2799, -9.1813, -10.2799, -8.0826, -10.2799, -8.6704, -10.2799, -10.2799, -8.8936, -9.1813, -10.2799, -10.2799, -10.2799, -9.1813, -2.667, -3.2561, -3.6129, -3.6452, -3.7846, -3.9537, -4.0855, -4.301, -4.4899, -4.6926, -4.7624, -4.7827, -4.553, -4.2161, -4.6204, -5.0172, -4.4808, -4.5337, -5.1679, -5.3526, -5.4201, -5.4357, -4.8288, -5.0814, -5.726, -5.7912, -5.8854, -5.9491, -5.9624, -6.0902, -4.8593, -4.8954, -2.4181, -5.2173, -5.5614, -1.2255, -5.23, -4.8076, -5.0595, -7.5492, -9.1587, -9.1587, -5.8029, -7.7724, -7.5492, -5.1884, -8.3114, -6.9251, -9.1587, -9.1587, -8.4655, -9.1587, -9.1587, -5.8628, -8.3114, -9.1587, -8.3114, -9.1587, -8.4655, -9.1587, -7.7724, -6.8561, -9.1587, -9.1587, -9.1587, -9.1587, -7.6182, -9.1587, -7.7724, -0.636, -3.4167, -3.624, -3.9602, -4.0507, -4.0731, -4.4195, -4.2683, -4.802, -4.5669, -3.4493, -5.1513, -5.5751, -5.9806, -5.9946, -6.0088, -6.0088, -6.0829, -6.306, -6.306, -6.3254, -6.3254, -6.3453, -6.4071, -6.4961, -6.5937, -6.6738, -5.4866, -4.3601, -5.5388, -4.3224, -5.2805, -5.4533, -5.1697, -4.0327, -5.8146, -5.7914, -4.6775, -4.5771, -4.325, -5.3975, -5.6622, -5.3373, -5.7034, -6.892, -6.0108, -6.252, -5.5589, -5.532, -4.6948, -5.0553, -6.7628, -4.4755, -6.704, -4.4158, -6.704, -2.265, -6.892, -10.2593, -8.873, -10.2593, -7.0012, -9.1607, -8.0621, -6.733, -10.2593, -9.1607, -10.2593, -8.4676, -5.8773, -7.6203, -10.2593, -10.2593, -10.2593, -2.482, -3.3496, -3.2886, -3.7671, -3.6718, -3.841, -3.8741, -3.6997, -4.0348, -3.935, -4.1613, -4.4879, -4.5163, -4.5292, -4.586, -4.3957, -5.2487, -5.2689, -4.8887, -5.615, -5.6246, -4.8083, -5.1177, -4.3649, -5.2689, -4.5131, -4.7103, -2.3736, -4.9218, -4.5622, -3.3616, -4.726, -10.29, -10.29, -10.29, -10.29, -8.0928, -10.29, -7.7251, -4.8563, -8.4983, -9.5969, -9.1914, -8.3441, -10.29, -5.4943, -10.29, -10.29, -10.29, -10.29, -9.1914, -10.29, -10.29, -10.29, -7.2455, -10.29, -8.3441, -10.29, -9.5969, -9.5969, -10.29, -10.29, -1.8089, -2.5621, -2.8725, -3.4538, -3.6017, -3.6528, -3.7094, -3.8146, -3.5045, -3.87, -4.0266, -4.0381, -4.2546, -3.81, -4.4759, -4.4909, -4.5829, -4.4236, -4.9101, -5.0643, -5.1196, -5.1425, -5.2338, -5.486, -5.017, -5.5627, -5.5896, -5.5987, -4.8433, -4.7294, -5.2662, -5.0697, -5.4072, -5.3556, -3.5448, -3.2806, -3.9253, -4.6733, -4.3061, -4.8305, -4.797, -7.7661, -9.1524, -8.4592, -8.4592, -9.1524, -5.666, -9.1524, -9.1524, -7.4178, -7.4178, -7.3065, -9.1524, -9.1524, -9.1524, -9.1524, -9.1524, -8.4592, -8.4592, -9.1524, -9.1524, -6.5874, -6.7246, -8.4592, -9.1524, -9.1524, -9.1524, -7.7661, -9.1524, -2.7045, -8.4592, -2.253, -3.2362, -3.3146, -2.7066, -4.1263, -4.1285, -3.4464, -4.1779, -5.2403, -5.2951, -5.3989, -5.597, -5.9469, -4.8897, -6.3191, -6.3389, -6.4668, -6.4668, -5.3022, -6.6675, -5.133, -6.9929, -7.0321, -7.1599, -4.5811, -7.2552, -5.3834, -4.9134, -4.4191, -6.1238, -3.4397, -4.885, -3.7618, -6.0169, -6.2079, -2.292, -4.9231, -4.29, -5.5875, -1.6228, -5.3834, -4.9678, -5.0252, -5.506, -8.0666, -6.1206, -8.472, -8.0666, -8.6543, -8.3179, -8.6543, -4.7264, -8.3179, -9.1652, -9.1652, -9.1652, -7.3734, -8.6543, -8.6543, -7.9612, -9.1652, -9.1652, -7.6247, -7.9612, -8.6543, -8.0666, -8.6543, -7.3734, -8.6543, -7.9612, -7.9612, -6.7374, -9.1652, -8.6543, -2.2691, -2.3887, -2.4413, -2.8278, -2.9249, -3.1523, -3.4782, -4.0472, -4.0942, -4.2452, -4.4116, -4.5435, -4.403, -4.6916, -4.7873, -4.9072, -5.1518, -5.2333, -4.6183, -5.5102, -5.6891, -5.7529, -5.8211, -5.2666, -5.9463, -5.9597, -6.0011, -6.0741, -5.5364, -5.6291, -5.764, -5.022, -4.0452, -4.3777, -5.5724, -4.0735, -3.8786, -5.0598, -3.6831, -5.2666, -2.7981, -4.5369, -4.56, -5.1886, -10.2655, -10.2655, -10.2655, -10.2655, -10.2655, -10.2655, -8.4737, -10.2655, -10.2655, -10.2655, -9.1669, -10.2655, -10.2655, -10.2655, -10.2655, -10.2655, -10.2655, -9.5723, -9.5723, -10.2655, -10.2655, -10.2655, -10.2655, -10.2655, -10.2655, -10.2655, -10.2655, -10.2655, -10.2655, -10.2655, -2.577, -3.1078, -3.4335, -3.5156, -3.7567, -3.8652, -4.1408, -4.5129, -4.4278, -4.7282, -4.5718, -5.2351, -5.331, -5.4864, -5.547, -5.6704, -4.8405, -4.3906, -5.9217, -5.948, -5.3827, -5.067, -5.5293, -6.3737, -6.3943, -3.9702, -2.959, -6.6546, -6.682, -6.769, -6.769, -6.188, -4.5785, -5.2957, -5.6603, -6.017, -1.0124, -5.1535, -4.154, -5.3751, -3.2734, -5.118, -4.4634, -10.2636, -9.5704, -10.2636, -9.5704, -10.2636, -10.2636, -10.2636, -9.5704, -10.2636, -10.2636, -10.2636, -10.2636, -10.2636, -10.2636, -10.2636, -9.5704, -10.2636, -10.2636, -10.2636, -10.2636, -10.2636, -10.2636, -9.165, -10.2636, -10.2636, -10.2636, -8.8773, -9.5704, -10.2636, -10.2636, -2.1501, -2.7781, -3.8818, -3.9573, -4.3501, -5.1337, -4.4706, -5.0325, -5.6992, -5.731, -5.9869, -6.1204, -6.7978, -6.8296, -4.4494, -7.0055, -7.0447, -7.219, -7.3191, -7.3732, -0.8133, -7.5555, -7.6986, -7.7787, -4.3999, -8.0663, -8.1841, -8.3177, -8.3177, -8.4718, -5.1637, -5.4514, -6.4349, -6.8963, -6.0441, -6.0589, -5.8328, -5.4273, -2.0023, -5.8815, -6.7671, -4.5971, -4.7381, -3.7068, -6.4134, -6.7082, -6.7671, -10.2353, -10.2353, -10.2353, -10.2353, -10.2353, -10.2353, -7.8374, -10.2353, -10.2353, -10.2353, -10.2353, -10.2353, -10.2353, -10.2353, -10.2353, -10.2353, -10.2353, -10.2353, -10.2353, -10.2353, -10.2353, -10.2353, -10.2353, -10.2353, -10.2353, -10.2353, -8.4435, -10.2353, -10.2353, -10.2353, -6.6244, -6.7089, -6.9395, -7.2396, -7.4627, -5.6503, -7.6704, -7.6704, -7.6704, -7.6704, -7.7504, -7.7504, -8.0381, -8.1559, -8.1559, -8.2894, -8.2894, -8.2894, -8.4435, -8.4435, -8.4435, -8.6259, -8.6259, -8.6259, -8.6259, -8.6259, -8.6259, -8.6259, -5.8165, -4.0328, -7.3449, -5.7355, -0.8413, -7.5273, -8.0381, -1.0218, -2.09, -7.2396, -7.7504, -6.9031, -7.5962, -7.8374, -7.8374, -8.0381, -6.8341, -7.8374, -7.9327, -10.2281, -10.2281, -10.2281, -10.2281, -10.2281, -10.2281, -10.2281, -10.2281, -10.2281, -10.2281, -10.2281, -10.2281, -10.2281, -10.2281, -10.2281, -8.8418, -9.5349, -10.2281, -7.1835, -10.2281, -10.2281, -10.2281, -10.2281, -10.2281, -10.2281, -9.1295, -8.6186, -7.4555, -10.2281, -10.2281, -3.2452, -3.8262, -3.8877, -3.6798, -3.2369, -4.0925, -4.4787, -4.7642, -4.8031, -5.0296, -5.1041, -5.1592, -5.1718, -5.3154, -5.3683, -5.9514, -5.9654, -3.9628, -5.1846, -6.5645, -6.5905, -6.7623, -6.8959, -5.1467, -7.05, -7.1835, -5.924, -7.3377, -7.3949, -0.7131, -5.0519, -6.6445, -5.3918, -6.2391, -3.8245, -5.8092, -6.1009, -4.2144, -2.4173, -3.4723, -5.994, -10.2368, -10.2368, -9.5437, -10.2368, -10.2368, -10.2368, -9.5437, -10.2368, -10.2368, -10.2368, -10.2368, -8.8506, -10.2368, -10.2368, -10.2368, -9.1382, -10.2368, -10.2368, -10.2368, -9.5437, -10.2368, -10.2368, -10.2368, -10.2368, -9.5437, -10.2368, -10.2368, -10.2368, -10.2368, -10.2368, -4.3315, -6.0322, -6.126, -6.7403, -6.8696, -6.941, -6.941, -5.1431, -7.1458, -7.2411, -7.3465, -7.4036, -7.839, -7.839, -7.9343, -8.0396, -8.0396, -8.1574, -8.2909, -8.4451, -8.4451, -8.4451, -8.4451, -8.4451, -6.4082, -8.6274, -8.6274, -8.6274, -8.6274, -8.6274, -8.6274, -6.0173, -8.6274, -8.6274, -8.6274, -4.9385, -7.1014, -7.6719, -7.7519, -6.5733, -0.7444, -7.4643, -7.1458, -7.7519, -1.1261, -7.4643, -2.248, -7.5288, -7.5288, -7.7519, -7.6719, -7.7519, -7.7519, -10.2284, -10.2284, -10.2284, -10.2284, -9.1298, -10.2284, -8.4366, -10.2284, -10.2284, -10.2284, -9.1298, -10.2284, -9.5352, -10.2284, -10.2284, -10.2284, -10.2284, -9.5352, -10.2284, -10.2284, -9.5352, -10.2284, -8.149, -10.2284, -10.2284, -9.1298, -10.2284, -10.2284, -10.2284, -9.1298, -3.9148, -4.3095, -6.3572, -6.702, -6.7944, -5.9517, -7.7435, -7.7435, -7.9258, -7.9258, -7.9258, -8.0312, -8.149, -8.4366, -8.4366, -8.4366, -8.4366, -8.4366, -8.619, -8.619, -8.619, -8.619, -8.619, -8.619, -8.619, -8.619, -8.8421, -8.8421, -8.8421, -6.7319, -8.8421, -1.3217, -6.8272, -6.3998, -5.5099, -7.9258, -4.2419, -0.7428, -6.2771, -8.0312, -7.6634, -7.2327, -7.7435, -2.0085, -7.5203, -6.1175, -7.0095, -5.6434, -6.0237, -6.0387, -7.4558, -7.0503, -7.8305, -10.2189, -10.2189, -10.2189, -10.2189, -10.2189, -10.2189, -10.2189, -10.2189, -10.2189, -10.2189, -10.2189, -10.2189, -10.2189, -10.2189, -10.2189, -7.9163, -10.2189, -10.2189, -10.2189, -10.2189, -10.2189, -10.2189, -10.2189, -10.2189, -10.2189, -10.2189, -10.2189, -10.2189, -10.2189, -10.2189, -5.195, -5.3986, -5.6756, -6.6354, -6.7849, -7.0409, -7.2232, -5.9014, -7.5109, -7.5109, -7.5799, -7.654, -7.654, -7.654, -7.654, -7.734, -7.734, -7.821, -7.9163, -7.9163, -8.273, -8.273, -8.273, -8.273, -8.4272, -8.4272, -8.4272, -8.4272, -8.4272, -6.3688, -6.5053, -2.8768, -6.1759, -8.4272, -2.8037, -7.1279, -1.6926, -2.3802, -7.0, -5.4567, -3.6793, -7.2745, -1.365, -1.7685, -2.6672, -7.3857, -7.5799, -7.0, -6.9608, -5.0808, -10.2166, -8.8303, -9.5235, -10.2166, -10.2166, -10.2166, -10.2166, -10.2166, -9.118, -10.2166, -10.2166, -10.2166, -10.2166, -10.2166, -10.2166, -10.2166, -10.2166, -9.5235, -10.2166, -8.2707, -8.8303, -10.2166, -9.5235, -10.2166, -9.5235, -10.2166, -10.2166, -10.2166, -10.2166, -2.4506, -5.0986, -5.2262, -4.1622, -5.94, -6.2654, -6.2848, -5.5532, -6.8844, -5.8222, -7.1256, -7.3834, -7.444, -7.444, -7.5776, -7.6517, -7.7317, -7.914, -8.0194, -8.0194, -8.1372, -8.1372, -8.1372, -8.2707, -8.2707, -8.4249, -8.4249, -8.4249, -8.4249, -6.2276, -6.503, -6.7826, -4.0854, -6.9585, -4.7236, -4.0941, -2.1277, -3.3654, -2.0931, -6.1562, -6.8154, -2.1244, -4.2712, -1.2553, -2.9188, -4.9385, -6.2093, -5.4208], \"loglift\": [30.0, 29.0, 28.0, 27.0, 26.0, 25.0, 24.0, 23.0, 22.0, 21.0, 20.0, 19.0, 18.0, 17.0, 16.0, 15.0, 14.0, 13.0, 12.0, 11.0, 10.0, 9.0, 8.0, 7.0, 6.0, 5.0, 4.0, 3.0, 2.0, 1.0, 2.9181, 2.9181, 2.9181, 2.9181, 2.9181, 2.9181, 2.9181, 2.9181, 2.9181, 2.9181, 2.9181, 2.9181, 2.9181, 2.9181, 2.9181, 2.9181, 2.9181, 2.9181, 2.9181, 2.9181, 2.9181, 2.9181, 2.9181, 2.9181, 2.9181, 2.9181, 2.9181, 2.9181, 2.9181, 2.9181, 2.9181, 2.9181, 2.9181, 2.9169, 2.9181, 2.9164, 2.9163, 2.9146, 2.9181, 2.915, 2.9181, 2.9181, 2.9124, 2.9181, 2.9117, 2.9181, 2.9181, 2.9108, 2.8969, 2.9086, 2.8775, 2.9083, 2.8366, 2.7636, 2.3764, 1.6631, 1.7152, 2.2163, 1.8871, 1.532, 2.95, 2.95, 2.95, 2.95, 2.95, 2.95, 2.95, 2.95, 2.95, 2.95, 2.95, 2.95, 2.95, 2.95, 2.95, 2.95, 2.95, 2.95, 2.95, 2.95, 2.95, 2.95, 2.95, 2.95, 2.95, 2.95, 2.95, 2.95, 2.95, 2.95, 2.9496, 2.95, 2.95, 2.95, 2.9487, 2.9483, 2.95, 2.95, 2.95, 2.95, 2.95, 2.9451, 2.95, 2.95, 2.95, 2.95, 2.95, 2.9457, 2.95, 2.95, 2.95, 2.945, 2.95, 2.95, 2.95, 2.95, 2.95, 2.95, 2.95, 2.95, 2.9147, 2.9134, 2.7195, 2.9393, 2.8569, 2.9309, 2.8972, 2.8803, 2.6144, 2.7877, 2.6175, 2.3774, 2.6352, 2.0082, 2.0245, 2.2654, 2.9564, 2.9564, 2.9564, 2.9564, 2.9564, 2.9564, 2.9564, 2.9564, 2.9564, 2.9564, 2.9564, 2.9564, 2.9564, 2.9564, 2.9564, 2.9564, 2.9564, 2.9564, 2.9564, 2.9564, 2.9564, 2.9564, 2.9564, 2.9564, 2.9564, 2.9564, 2.9564, 2.9564, 2.9564, 2.9564, 2.9564, 2.9564, 2.9564, 2.9564, 2.9368, 2.9513, 2.9564, 2.9538, 2.9564, 2.9564, 2.9564, 2.9428, 2.9564, 2.9513, 2.9564, 2.9564, 2.9503, 2.9503, 2.9564, 2.9564, 2.9564, 2.9439, 2.9564, 2.9564, 2.9564, 2.9182, 2.9564, 2.9298, 2.9272, 2.8796, 2.931, 2.9452, 2.842, 2.9437, 2.9158, 2.5665, 2.5762, 2.5389, 2.4488, 1.3757, 2.1103, 2.4524, 2.9585, 2.9585, 2.9585, 2.9585, 2.9585, 2.9585, 2.9585, 2.9585, 2.9585, 2.9585, 2.9585, 2.9585, 2.9585, 2.9585, 2.9585, 2.9585, 2.9585, 2.9585, 2.9585, 2.9585, 2.9585, 2.9585, 2.9585, 2.9585, 2.9585, 2.9585, 2.9585, 2.9585, 2.9585, 2.9585, 2.9576, 2.9585, 2.9585, 2.9585, 2.9585, 2.9568, 2.9585, 2.9585, 2.9456, 2.9585, 2.9585, 2.9585, 2.9585, 2.9508, 2.9585, 2.9585, 2.9585, 2.9519, 2.9483, 2.9585, 2.9585, 2.9585, 2.9506, 2.9585, 2.9585, 2.9585, 2.9585, 2.7491, 2.936, 2.919, 2.7398, 2.7608, 2.32, 1.8279, 1.8036, 1.9619, 1.8776, 1.8299, 2.9619, 2.9619, 2.9619, 2.9619, 2.9619, 2.9619, 2.9619, 2.9619, 2.9619, 2.9619, 2.9619, 2.9619, 2.9619, 2.9619, 2.9619, 2.9619, 2.9619, 2.9619, 2.9619, 2.9619, 2.9619, 2.9619, 2.9619, 2.9619, 2.9619, 2.9619, 2.9619, 2.9619, 2.9619, 2.9619, 2.9615, 2.9619, 2.9619, 2.9619, 2.9602, 2.9619, 2.96, 2.9516, 2.9619, 2.9619, 2.9598, 2.9619, 2.9619, 2.9619, 2.9537, 2.9619, 2.9619, 2.9619, 2.9581, 2.9619, 2.9619, 2.9619, 2.9619, 2.9619, 2.9619, 2.9619, 2.9619, 2.9619, 2.9524, 2.9336, 2.9429, 2.9306, 2.8328, 2.8516, 2.7958, 1.2957, 2.5208, 2.3487, 2.3591, 2.9635, 2.9635, 2.9635, 2.9635, 2.9635, 2.9635, 2.9635, 2.9635, 2.9635, 2.9635, 2.9635, 2.9635, 2.9635, 2.9635, 2.9635, 2.9635, 2.9635, 2.9635, 2.9635, 2.9635, 2.9635, 2.9635, 2.9635, 2.9635, 2.9635, 2.9635, 2.9635, 2.9635, 2.9635, 2.9635, 2.9635, 2.9635, 2.9635, 2.9612, 2.9635, 2.9635, 2.9635, 2.9635, 2.9635, 2.9635, 2.9557, 2.9635, 2.9606, 2.9635, 2.9582, 2.9519, 2.9635, 2.9635, 2.9635, 2.9635, 2.9635, 2.9635, 2.9635, 2.9544, 2.9635, 2.9635, 2.9635, 2.9635, 2.9399, 2.9255, 2.8891, 2.8173, 0.2911, 2.9812, 2.9812, 2.9812, 2.9812, 2.9812, 2.9812, 2.9812, 2.9812, 2.9812, 2.9812, 2.9812, 2.9812, 2.9812, 2.9812, 2.9812, 2.9812, 2.9812, 2.9812, 2.9812, 2.9812, 2.9812, 2.9812, 2.9812, 2.9812, 2.9812, 2.9812, 2.9812, 2.9812, 2.9812, 2.9812, 2.9798, 2.9812, 2.9812, 2.9812, 2.9812, 2.9812, 2.9793, 2.9812, 2.9812, 2.9812, 2.9812, 2.9812, 2.9779, 2.9744, 2.9777, 2.9812, 2.9753, 2.9748, 2.9812, 2.9812, 2.9812, 2.9812, 2.9733, 2.9758, 2.9812, 2.9812, 2.9812, 2.9812, 2.9812, 2.9812, 2.9683, 2.9639, 2.8929, 2.9622, 2.9724, 2.7008, 2.9501, 1.3922, 1.6835, 2.9839, 2.9839, 2.9839, 2.9839, 2.9839, 2.9839, 2.9839, 2.9839, 2.9839, 2.9839, 2.9839, 2.9839, 2.9839, 2.9839, 2.9839, 2.9839, 2.9839, 2.9839, 2.9839, 2.9839, 2.9839, 2.9839, 2.9839, 2.9839, 2.9839, 2.9839, 2.9839, 2.9839, 2.9839, 2.9839, 2.9833, 2.9829, 2.9839, 2.9839, 2.9839, 2.9839, 2.9811, 2.9789, 2.9839, 2.9805, 2.9686, 2.9839, 2.9839, 2.9839, 2.9839, 2.9839, 2.9839, 2.9839, 2.9839, 2.9839, 2.9839, 2.9839, 2.9839, 2.9839, 2.9839, 2.9839, 2.9839, 2.9677, 2.9271, 2.9583, 2.9091, 2.9457, 2.9519, 2.9372, 2.87, 2.961, 2.9507, 2.5609, 2.268, 2.0715, 2.4913, 2.5962, 1.7156, 2.5683, 2.9844, 2.9844, 2.9844, 2.9844, 2.9844, 2.9844, 2.9844, 2.9844, 2.9844, 2.9844, 2.9844, 2.9844, 2.9844, 2.9844, 2.9844, 2.9844, 2.9844, 2.9844, 2.9844, 2.9844, 2.9844, 2.9844, 2.9844, 2.9844, 2.9844, 2.9844, 2.9844, 2.9844, 2.9844, 2.9844, 2.9844, 2.9844, 2.9835, 2.9844, 2.983, 2.9844, 2.9844, 2.9815, 2.9844, 2.9826, 2.9844, 2.9844, 2.9844, 2.9844, 2.9844, 2.9817, 2.9844, 2.9844, 2.9797, 2.9844, 2.9844, 2.9761, 2.9787, 2.9191, 2.9641, 2.8988, 2.8958, 1.6304, 2.7899, 2.396, 0.5646, 1.7001, 2.9847, 2.9847, 2.9847, 2.9847, 2.9847, 2.9847, 2.9847, 2.9847, 2.9847, 2.9847, 2.9847, 2.9847, 2.9847, 2.9847, 2.9847, 2.9847, 2.9847, 2.9847, 2.9847, 2.9847, 2.9847, 2.9847, 2.9847, 2.9847, 2.9847, 2.9847, 2.9847, 2.9847, 2.9847, 2.9847, 2.9847, 2.9847, 2.9847, 2.9847, 2.9847, 2.9847, 2.9847, 2.9847, 2.9813, 2.9847, 2.9847, 2.9847, 2.9847, 2.9801, 2.9847, 2.9847, 2.9847, 2.9818, 2.9847, 2.9847, 2.9847, 2.9847, 2.9847, 2.9847, 2.9797, 2.9847, 2.9847, 2.9847, 2.9759, 2.9732, 2.9782, 2.963, 2.9768, 2.9704, 2.5851, 2.4742, 2.4712, 2.5677, 2.0574, 2.1278, 0.514, 2.9884, 2.9884, 2.9884, 2.9884, 2.9884, 2.9884, 2.9884, 2.9884, 2.9884, 2.9884, 2.9884, 2.9884, 2.9884, 2.9884, 2.9884, 2.9884, 2.9884, 2.9884, 2.9884, 2.9884, 2.9884, 2.9884, 2.9884, 2.9884, 2.9884, 2.9884, 2.9884, 2.9884, 2.9884, 2.9884, 2.9861, 2.9884, 2.9884, 2.9768, 2.9884, 2.9884, 2.9763, 2.9792, 2.9884, 2.9884, 2.9884, 2.9884, 2.9884, 2.9749, 2.9884, 2.9884, 2.9884, 2.9884, 2.9748, 2.9884, 2.9712, 2.9884, 2.9884, 2.9884, 2.9615, 2.9884, 2.9669, 2.9434, 2.9069, 2.9568, 2.7601, 2.8298, 2.6643, 2.9208, 2.9232, 1.712, 2.5219, 2.2375, 2.6931, 0.7246, 2.5501, 2.2228, 2.0277, 2.0875, 2.9886, 2.9886, 2.9886, 2.9886, 2.9886, 2.9886, 2.9886, 2.9886, 2.9886, 2.9886, 2.9886, 2.9886, 2.9886, 2.9886, 2.9886, 2.9886, 2.9886, 2.9886, 2.9886, 2.9886, 2.9886, 2.9886, 2.9886, 2.9886, 2.9886, 2.9886, 2.9886, 2.9886, 2.9886, 2.9886, 2.9876, 2.9882, 2.9886, 2.988, 2.9886, 2.987, 2.9886, 2.9886, 2.9886, 2.9886, 2.9886, 2.9886, 2.9857, 2.9886, 2.9886, 2.9886, 2.9886, 2.9886, 2.9815, 2.9886, 2.9886, 2.9886, 2.9886, 2.982, 2.9886, 2.9886, 2.9886, 2.9886, 2.98, 2.9788, 2.9777, 2.9367, 2.864, 2.8356, 2.953, 2.6695, 2.485, 2.7591, 2.0717, 2.8135, 1.1281, 2.3081, 2.2085, 1.8643, 2.9895, 2.9895, 2.9895, 2.9895, 2.9895, 2.9895, 2.9895, 2.9895, 2.9895, 2.9895, 2.9895, 2.9895, 2.9895, 2.9895, 2.9895, 2.9895, 2.9895, 2.9895, 2.9895, 2.9895, 2.9895, 2.9895, 2.9895, 2.9895, 2.9895, 2.9895, 2.9895, 2.9895, 2.9895, 2.9895, 2.989, 2.9895, 2.9895, 2.9895, 2.9895, 2.9895, 2.9895, 2.9895, 2.9866, 2.9895, 2.9861, 2.9895, 2.9895, 2.9895, 2.9895, 2.9895, 2.9808, 2.9755, 2.9895, 2.9895, 2.9819, 2.9784, 2.9811, 2.9895, 2.9895, 2.9643, 2.9534, 2.9895, 2.9895, 2.9895, 2.9895, 2.9733, 2.9209, 2.9423, 2.9414, 2.9614, 2.5192, 2.8825, 2.6931, 2.6146, 0.7307, 1.7112, -2.116, 3.0314, 3.0314, 3.0314, 3.0314, 3.0314, 3.0314, 3.0314, 3.0314, 3.0314, 3.0314, 3.0314, 3.0314, 3.0314, 3.0314, 3.0314, 3.0314, 3.0314, 3.0314, 3.0314, 3.0314, 3.0314, 3.0314, 3.0314, 3.0314, 3.0314, 3.0314, 3.0314, 3.0314, 3.0314, 3.0314, 3.0308, 3.0314, 3.028, 3.0277, 3.0257, 3.0314, 3.0222, 3.026, 3.0314, 3.0314, 3.0314, 3.0314, 3.0314, 3.0314, 3.0065, 3.0314, 3.0314, 3.0314, 3.0314, 3.0314, 2.9638, 3.0314, 3.0314, 3.0314, 2.997, 3.0314, 3.0314, 3.0314, 3.0314, 3.0314, 2.9891, 2.9902, 2.9865, 2.997, 2.944, 2.9446, 2.864, 2.8019, 2.0017, 2.7423, 2.8837, 1.8856, 0.9517, -0.1337, 1.2983, 1.7039, 2.322, 3.0397, 3.0397, 3.0397, 3.0397, 3.0397, 3.0397, 3.0397, 3.0397, 3.0397, 3.0397, 3.0397, 3.0397, 3.0397, 3.0397, 3.0397, 3.0397, 3.0397, 3.0397, 3.0397, 3.0397, 3.0397, 3.0397, 3.0397, 3.0397, 3.0397, 3.0397, 3.0397, 3.0397, 3.0397, 3.0397, 3.0397, 3.0397, 3.0397, 3.0397, 3.0397, 3.0196, 3.0397, 3.0397, 3.0397, 3.0397, 3.0397, 3.0397, 3.0397, 3.0397, 3.0397, 3.0397, 3.0397, 3.0397, 3.0397, 3.0397, 3.0397, 3.0397, 3.0397, 3.0397, 3.0397, 3.0397, 3.0397, 3.0397, 2.9798, 2.9125, 2.9851, 2.6767, 1.9682, 2.8574, 2.9347, 1.3256, 1.4416, 2.7373, 2.8119, 2.4505, 2.7253, 2.7937, 2.5411, 2.8325, 0.4919, 2.0883, 1.6558, 3.0409, 3.0409, 3.0409, 3.0409, 3.0409, 3.0409, 3.0409, 3.0409, 3.0409, 3.0409, 3.0409, 3.0409, 3.0409, 3.0409, 3.0409, 3.0409, 3.0409, 3.0409, 3.0409, 3.0409, 3.0409, 3.0409, 3.0409, 3.0409, 3.0409, 3.0409, 3.0409, 3.0409, 3.0409, 3.0409, 3.0409, 3.0409, 3.0409, 3.0354, 3.0306, 3.0388, 3.0409, 3.0409, 3.0409, 3.0409, 3.0409, 3.0409, 3.0409, 3.0409, 3.0409, 3.0409, 3.0409, 3.016, 3.0279, 3.0409, 3.0409, 3.0409, 3.0409, 3.0226, 3.0409, 3.0409, 3.0278, 3.0409, 3.0409, 2.86, 2.9484, 3.0127, 2.9338, 2.9867, 2.6582, 2.9037, 2.9372, 2.5467, -0.0699, 0.3047, -0.3041, 3.0409, 3.0409, 3.0409, 3.0409, 3.0409, 3.0409, 3.0409, 3.0409, 3.0409, 3.0409, 3.0409, 3.0409, 3.0409, 3.0409, 3.0409, 3.0409, 3.0409, 3.0409, 3.0409, 3.0409, 3.0409, 3.0409, 3.0409, 3.0409, 3.0409, 3.0409, 3.0409, 3.0409, 3.0409, 3.0409, 3.0409, 3.0409, 3.0409, 3.0409, 3.0409, 3.0409, 3.0409, 3.0225, 3.0409, 3.0409, 3.0409, 3.0409, 3.0409, 3.0409, 3.0409, 3.0409, 3.0409, 3.0409, 3.0409, 3.0409, 3.0409, 3.0409, 3.0409, 3.0409, 3.0186, 3.0409, 3.0409, 3.0409, 3.0409, 3.0409, 3.0409, 2.9827, 3.0409, 3.0409, 3.0409, 2.8301, 2.9577, 2.9666, 2.9596, 2.8298, 2.0651, 2.8687, 2.7639, 2.8878, 1.2213, 2.8148, 1.2836, 2.8051, 2.751, 2.7525, 2.4671, 2.5687, 2.3492, 3.0468, 3.0468, 3.0468, 3.0468, 3.0468, 3.0468, 3.0468, 3.0468, 3.0468, 3.0468, 3.0468, 3.0468, 3.0468, 3.0468, 3.0468, 3.0468, 3.0468, 3.0468, 3.0468, 3.0468, 3.0468, 3.0468, 3.0468, 3.0468, 3.0468, 3.0468, 3.0468, 3.0468, 3.0468, 3.0468, 3.0433, 3.0468, 3.0468, 3.0468, 3.0468, 3.0329, 3.0468, 3.0468, 3.0468, 3.0468, 3.0468, 3.0468, 3.0468, 3.0468, 3.0468, 3.0468, 3.0468, 3.0468, 3.0468, 3.0468, 3.0468, 3.0468, 3.0468, 3.0468, 3.0468, 3.0468, 3.0468, 3.0468, 3.0468, 2.9882, 3.0468, 2.6785, 2.9507, 2.8475, 2.6362, 2.9518, 2.3388, 1.6046, 2.6215, 2.9378, 2.8365, 2.7058, 2.8289, 0.801, 2.7018, 1.9788, 2.3886, 1.3079, 1.5172, 0.9066, 2.3124, 1.4554, 2.6677, 3.0607, 3.0607, 3.0607, 3.0607, 3.0607, 3.0607, 3.0607, 3.0607, 3.0607, 3.0607, 3.0607, 3.0607, 3.0607, 3.0607, 3.0607, 3.0607, 3.0607, 3.0607, 3.0607, 3.0607, 3.0607, 3.0607, 3.0607, 3.0607, 3.0607, 3.0607, 3.0607, 3.0607, 3.0607, 3.0607, 3.0607, 3.0607, 3.0607, 3.0607, 3.0607, 3.0607, 3.0607, 3.0473, 3.0607, 3.0607, 3.0607, 3.0607, 3.0607, 3.0607, 3.0607, 3.0607, 3.0607, 3.0607, 3.0607, 3.0607, 3.0607, 3.0607, 3.0607, 3.0607, 3.0607, 3.0607, 3.0607, 3.0607, 3.0607, 3.0388, 3.0365, 2.941, 2.9939, 3.0607, 2.8861, 2.9785, 2.5482, 2.2338, 2.8766, 2.6396, 2.1988, 2.9139, 0.9824, 1.041, 0.9059, 2.8975, 2.9273, 1.2292, -2.9606, 3.0615, 3.0615, 3.0615, 3.0615, 3.0615, 3.0615, 3.0615, 3.0615, 3.0615, 3.0615, 3.0615, 3.0615, 3.0615, 3.0615, 3.0615, 3.0615, 3.0615, 3.0615, 3.0615, 3.0615, 3.0615, 3.0615, 3.0615, 3.0615, 3.0615, 3.0615, 3.0615, 3.0615, 3.0615, 3.0615, 3.0615, 3.0615, 3.0615, 3.0474, 3.0615, 3.0615, 3.0615, 3.0521, 3.0615, 3.0492, 3.0615, 3.0615, 3.0615, 3.0615, 3.0615, 3.0615, 3.0615, 3.0615, 3.0615, 3.0615, 3.0615, 3.0615, 3.0615, 3.0615, 3.0615, 3.0615, 3.0615, 3.0615, 3.0615, 3.0054, 2.9906, 2.9991, 2.866, 2.9855, 2.8173, 2.735, 2.4863, 2.5127, 2.1477, 2.7773, 2.8747, 1.8759, 2.3096, 1.0922, -0.1093, 0.8793, 1.9369, -1.8477]}, \"token.table\": {\"Topic\": [18, 9, 2, 10, 19, 16, 5, 15, 11, 9, 20, 9, 3, 19, 1, 9, 2, 5, 6, 12, 16, 3, 5, 19, 11, 13, 18, 7, 18, 14, 19, 20, 14, 16, 19, 16, 14, 18, 19, 4, 11, 18, 11, 7, 7, 15, 8, 20, 10, 17, 8, 7, 15, 2, 18, 1, 5, 11, 15, 2, 8, 9, 15, 20, 6, 19, 20, 3, 4, 12, 9, 16, 20, 7, 5, 11, 3, 19, 13, 19, 7, 9, 12, 12, 20, 8, 2, 10, 12, 7, 5, 15, 17, 2, 3, 8, 15, 16, 17, 17, 8, 10, 20, 6, 17, 4, 19, 20, 19, 10, 19, 16, 8, 2, 20, 17, 19, 9, 7, 5, 8, 15, 2, 9, 3, 17, 5, 14, 20, 16, 5, 8, 15, 7, 13, 17, 11, 7, 7, 14, 7, 9, 19, 20, 1, 5, 19, 19, 6, 11, 15, 7, 6, 13, 14, 12, 1, 14, 1, 2, 10, 10, 3, 1, 3, 6, 8, 9, 11, 14, 4, 8, 16, 2, 11, 16, 20, 10, 4, 17, 3, 13, 17, 19, 16, 6, 3, 14, 3, 11, 17, 8, 10, 19, 4, 4, 14, 4, 12, 20, 1, 6, 11, 16, 19, 2, 3, 16, 11, 8, 17, 10, 20, 5, 19, 2, 11, 5, 19, 9, 18, 20, 18, 3, 6, 12, 16, 12, 19, 14, 16, 2, 3, 4, 9, 8, 15, 5, 19, 4, 10, 16, 3, 4, 16, 4, 4, 7, 18, 10, 20, 7, 1, 5, 2, 3, 12, 20, 16, 5, 3, 3, 13, 2, 4, 7, 17, 14, 18, 14, 19, 20, 20, 2, 3, 13, 9, 20, 4, 18, 6, 15, 7, 3, 2, 2, 2, 10, 4, 2, 11, 13, 19, 4, 4, 5, 10, 7, 11, 19, 11, 2, 11, 14, 14, 20, 2, 8, 10, 10, 20, 6, 9, 4, 8, 10, 11, 7, 18, 5, 18, 20, 13, 14, 7, 8, 9, 1, 2, 5, 9, 15, 1, 3, 5, 7, 5, 16, 13, 5, 2, 8, 1, 2, 17, 12, 12, 12, 12, 12, 10, 5, 6, 7, 5, 4, 2, 12, 14, 17, 14, 20, 20, 4, 5, 13, 20, 6, 19, 4, 19, 2, 9, 11, 3, 11, 12, 17, 5, 18, 8, 10, 11, 10, 4, 1, 11, 2, 15, 18, 13, 9, 3, 13, 20, 15, 5, 13, 15, 20, 4, 11, 10, 7, 5, 12, 2, 5, 11, 18, 3, 2, 3, 1, 5, 15, 11, 4, 1, 15, 18, 7, 1, 8, 7, 15, 17, 18, 3, 16, 18, 9, 1, 19, 5, 9, 10, 12, 1, 17, 3, 6, 15, 6, 7, 17, 16, 3, 12, 3, 4, 19, 5, 17, 18, 14, 15, 17, 18, 18, 10, 3, 6, 18, 3, 5, 13, 2, 17, 4, 7, 2, 4, 9, 11, 12, 3, 10, 8, 9, 2, 15, 17, 18, 7, 1, 10, 14, 15, 10, 8, 19, 19, 3, 5, 2, 15, 14, 17, 14, 12, 19, 8, 13, 5, 11, 20, 12, 2, 12, 4, 18, 1, 16, 19, 4, 18, 18, 20, 16, 8, 9, 12, 12, 19, 4, 2, 16, 17, 11, 17, 1, 14, 7, 12, 6, 19, 20, 20, 11, 1, 14, 16, 20, 2, 7, 14, 14, 15, 17, 2, 20, 20, 6, 10, 4, 16, 15, 13, 4, 11, 14, 19, 16, 15, 20, 15, 7, 19, 20, 9, 2, 11, 2, 3, 18, 20, 6, 5, 13, 16, 15, 14, 16, 2, 5, 15, 18, 17, 20, 15, 17, 12, 19, 6, 14, 20, 9, 5, 12, 12, 13, 3, 12, 8, 16, 1, 1, 20, 14, 1, 15, 5, 1, 5, 10, 10, 2, 10, 17, 9, 9, 12, 13, 5, 3, 20, 14, 7, 15, 18, 4, 17, 18, 8, 10, 11, 16, 4, 18, 17, 17, 6, 9, 14, 3, 11, 13, 15, 18, 9, 2, 8, 12, 8, 7, 6, 1, 8, 5, 14, 16, 19, 20, 20, 5, 9, 11, 14, 10, 12, 17, 2, 3, 15, 1, 7, 8, 18, 18, 19, 2, 9, 11, 13, 15, 16, 17, 18, 19, 20, 16, 2, 16, 7, 13, 16, 18, 19, 8, 12, 12, 20, 15, 4, 18, 18, 8, 11, 17, 17, 19, 8, 9, 3, 19, 8, 10, 12, 19, 17, 8, 9, 16, 18, 4, 18, 10, 15, 17, 18, 19, 20, 15, 20, 15, 9, 17, 16, 19, 14, 16, 19, 20, 7, 8, 16, 17, 9, 13, 18, 8, 9, 9, 20, 13, 3, 4, 5, 7, 8, 2, 2, 4, 5, 7, 15, 20, 18, 20, 3, 7, 8, 9, 1, 9, 11, 9, 19, 9, 6, 8, 12, 6, 12, 5, 11, 11, 14, 18, 7, 3, 15, 12, 8, 1, 2, 3, 15, 2, 13, 13, 16, 4, 10, 2, 14, 19, 11, 12, 20, 5, 8, 10, 7, 11, 11, 1, 3, 4, 10, 3, 5, 16, 8, 8, 18, 10, 20, 2, 11, 20, 9, 19, 7, 1, 2, 3, 16, 4, 16, 2, 17, 17, 1, 6, 10, 4, 18, 9, 13, 9, 11, 11, 14, 11, 20, 6, 10, 18, 8, 9, 15, 5, 16, 5, 13, 10, 11, 3, 18, 20, 14, 16, 12, 13, 6, 15, 6, 15, 17, 18, 11, 12, 2, 16, 18, 15, 3, 20, 18, 6, 16, 6, 8, 14, 2, 3, 16, 14, 12, 14, 16, 5, 10, 13, 16, 6, 6, 1, 1, 8, 14, 4, 8, 8, 1, 2, 1, 4, 11, 14, 17, 16, 10, 10, 16, 18, 15, 4, 2, 13, 14, 14, 6, 6, 5, 2, 4, 18, 1, 4, 12, 13, 18, 20, 11, 13, 2, 13, 18, 5, 6, 13, 17, 18, 10, 10, 6, 17, 10, 11, 19, 9, 9, 17, 12, 13, 20, 4, 1, 8, 5, 3, 17, 13, 3, 2, 8, 3, 5, 8, 10, 14, 10, 19, 20, 20, 2, 17, 18, 5, 4, 6, 3, 18, 4, 2, 20, 15, 5, 12, 15, 17, 10, 12, 3, 3, 5, 5, 16, 17, 7, 19, 17, 12, 20, 17, 14, 18, 8, 1, 2, 2, 19, 12, 4, 12, 7, 19, 9, 20, 12, 7, 12, 8, 5, 2, 4, 5, 8, 15, 7, 17, 4, 20, 12, 1, 7, 1, 19, 10, 12, 3, 13, 14, 16, 18, 18, 17, 3, 16, 1, 8, 11, 12, 16, 19, 9, 3, 9, 2, 15, 8, 9, 4, 7, 2, 14, 16, 18, 5, 12, 12, 15, 6, 8, 18, 19, 20, 19, 7, 5, 10, 14, 4, 5, 18, 7, 19, 5, 11, 12, 3, 8, 8, 2, 3, 1, 4, 14, 13, 6, 18, 18, 8, 16, 17, 13, 13, 10, 12, 7, 15, 1, 3, 11, 14, 15, 6, 7, 14, 15, 3, 11, 15, 10, 20, 14, 2, 13, 18, 17, 18, 11, 14, 18, 13, 20, 16, 14, 5, 5, 9, 7, 1, 3, 2, 11, 8, 8, 19, 8, 10, 17, 16, 1, 3, 4, 10, 4, 4, 13, 6, 17, 2, 3, 8, 10, 18, 20, 8, 14, 18, 1, 2, 6, 7, 11, 8, 10, 10, 7, 10, 12, 10, 9, 5, 19, 2, 6, 9, 11, 13, 6, 7, 8, 12, 8, 11, 14, 16, 17, 11, 2, 13, 5, 7, 9, 11, 13, 14, 3, 2, 13, 8, 13, 8, 17, 18, 20, 9, 14, 10, 15, 18, 19, 17, 6, 14, 17, 13, 19, 11, 1, 13, 7, 7, 13, 15, 17, 17, 13, 2, 18, 5, 7, 15, 16, 19, 15, 5, 18, 13, 1, 15, 10, 7, 16, 15, 2, 11, 12, 13, 14, 16, 17, 14, 1, 6, 8, 4, 1, 7, 10, 2, 9, 15, 10, 19, 4, 6, 6, 6, 12, 14, 15, 2, 10, 12, 20, 15, 14, 4, 9, 2, 19, 19, 19, 17, 9, 13, 1, 4, 9, 14, 5, 3, 7, 6, 11, 17, 17, 13, 16, 1, 6, 11, 14, 17, 18, 6, 11, 10, 1, 18, 1, 1, 9, 7, 9, 10, 18, 7, 19, 3, 7, 13, 15, 1, 4, 13, 6, 9, 7, 10, 11, 3, 13, 19, 12, 12, 10, 11, 20, 17, 4, 3, 15, 17, 1, 7, 9, 12, 20, 18, 7, 18, 20, 20, 14, 16, 19, 5, 6, 7, 2, 19, 20, 5, 8, 11, 5, 12, 5, 13, 2, 3, 18, 17, 18, 1, 2, 10, 17, 7, 3, 15, 3, 13, 12, 1, 17, 2, 20, 6, 12, 20, 15, 18, 1, 6, 8, 1, 1, 2, 11, 2, 13, 4, 9, 11, 19, 1, 16, 10, 1, 7, 19, 13, 9, 3, 4, 2, 16, 13, 14, 16, 3, 14, 19, 1, 15, 13, 17, 10, 7, 5, 13, 6, 6, 9, 6, 7, 3, 20, 15, 2, 1, 13, 6, 12, 1, 5, 1, 16, 2, 7, 13, 16, 7, 13, 17, 18, 5, 13, 8, 16, 2, 15, 19, 15, 20, 6, 20, 20, 6, 11, 8, 8, 6, 9, 18, 8, 7, 5, 7, 10, 16, 20, 9, 8, 12, 2, 3, 15, 11, 14, 20, 2, 3, 8, 11, 20, 6, 13, 11, 3, 2, 7, 14, 16, 17, 7, 4, 11, 13, 16, 18, 19, 15, 2, 6, 12, 2, 6, 17, 13, 11, 13, 16, 20, 5, 20, 13, 2, 5, 18, 3, 4, 13, 6, 17, 12, 16, 17, 19, 4, 2, 7, 13, 16, 17, 10, 14, 7, 8, 4, 5, 8, 15, 5, 12, 12, 4, 4, 1, 18, 1, 6, 10, 4, 2, 6, 9, 17, 3, 9, 20, 20, 12, 14, 14, 20, 16, 7, 10, 19, 15, 9, 17, 1, 15, 3, 2, 3, 15, 8, 9, 20, 20, 2, 10, 18, 11, 15, 7, 11, 14, 9, 9, 10, 12, 16, 19, 19, 9, 9, 1, 14, 8, 17, 14, 18, 8, 20, 5, 6, 14, 2, 11, 3, 3, 18, 20, 11, 1, 5, 13, 16, 8, 13, 6, 10, 4, 2, 14, 15, 17, 1, 3, 13, 17, 18, 8, 10, 3, 19, 7, 11, 11, 18, 4, 16, 20, 19, 8, 11, 11, 19, 8, 17, 18, 20, 5, 13, 3, 13, 8, 11, 11, 13, 14, 17, 11, 17, 16, 3, 5, 7, 14, 4, 5, 12, 14, 7, 11, 14, 15, 14, 16, 6, 4, 8, 19, 9, 6, 6, 6, 17, 12, 14, 15, 17, 4, 2, 15, 2, 1, 16, 2, 11, 12, 20, 10, 5, 10, 13, 3, 16, 16, 14, 4, 13, 7, 11, 15, 5, 8, 15, 2, 6, 20, 10, 16, 16, 9, 17, 13, 4, 19, 14, 5, 2, 5, 14, 19, 7, 14, 7, 19, 7, 2, 4, 1, 12, 12, 13, 20, 15, 3, 10, 18, 10, 17, 11, 7, 17, 19, 7, 9, 4, 15, 14, 12, 14, 16, 3, 10, 2, 8, 10, 20, 16, 12, 4, 14, 13, 17, 2, 17, 20, 8, 8, 14, 6, 11, 3, 17, 7, 11, 6, 8, 8, 8, 4, 17, 13, 11, 6, 13, 9, 11, 6, 15, 15, 4, 14, 6, 19, 12, 13, 1, 3, 5, 18, 1, 8, 20, 8, 17, 2, 11, 18, 15, 2, 5, 7, 13, 10, 12, 13, 8, 8, 19, 13, 3, 5, 12, 13, 10, 12, 3, 3, 15, 6, 13, 9, 11, 15, 14, 19, 4, 16, 5, 17], \"Freq\": [0.9979267887708488, 0.9100831644833794, 0.9489930280078196, 0.036267249478005845, 0.012089083159335282, 0.9333596937557044, 0.9758804136270303, 0.939028848760072, 1.0127240355065183, 1.0007427900640993, 0.9419009128029194, 1.0000997725378964, 0.9970610551413118, 0.9433618564419041, 1.001198076221345, 0.9903846201730894, 0.7180764812958251, 0.2778933751144834, 0.004446294001831734, 0.9887540048211598, 0.010089326579807753, 0.9868067576375665, 0.01147449718183217, 0.9433618564419041, 1.0003440526674792, 0.5069561115588872, 0.47879188313894905, 0.012863586063929332, 0.9904961269225585, 0.9976656128588997, 0.008802939677890092, 0.9947321836015806, 0.12496072867666554, 0.0352942516109666, 0.8399077984717862, 1.0051565932753737, 0.9888884960302288, 0.939225212960799, 1.0159281530912814, 0.9642595463197983, 0.09358063931957171, 0.9358063931957171, 0.9967336559985207, 0.9946145904557576, 0.9991273608298762, 0.939028848760072, 0.9077348915197364, 0.9419009128029194, 0.9853704732645118, 0.013315817206277185, 1.0374113045939846, 0.9260204807691537, 0.939028848760072, 0.9176253527669286, 0.939225212960799, 0.9955097627845864, 0.005267247422140669, 0.1696125600400757, 0.8480628002003784, 0.011854533138312962, 0.9849141282415019, 0.0029636332845782406, 0.06420712720054814, 0.9417045322747061, 0.9443338969368723, 0.8873641342715636, 0.11274999384757803, 0.6772235738859057, 0.3229985633375141, 0.917962277505103, 0.01637259437606596, 0.9496104738118257, 0.03274518875213192, 1.0002340544728259, 0.9964012634462901, 0.9061215054532006, 0.9294636954707142, 0.9433618564419041, 0.9203758815809421, 0.9433618564419041, 0.7554897212194633, 0.0889580970440234, 0.155594906870199, 1.0006012173291634, 0.9419009128029194, 0.9077348915197364, 1.0487146888764898, 0.2044920556628583, 0.7939103337499205, 0.9260204807691537, 1.001253304381333, 0.939028848760072, 1.0462191015998206, 0.010437832267233405, 0.010437832267233405, 0.98115623311994, 0.08160808782224106, 0.3672363952000848, 0.5712566147556875, 0.9415971914398387, 0.004011115715987311, 0.9907455818488659, 0.004011115715987311, 0.9443338969368724, 0.9415971914398387, 0.9910445337175702, 0.43735805158615726, 0.5625963184962879, 1.0035764430233023, 0.999287358230321, 0.9433618564419041, 0.9333596937557044, 0.9077348915197364, 0.18234342440502357, 0.8335699401372506, 0.9978119491377395, 0.9433618564419041, 1.0000913895421752, 0.9978050141621113, 0.9995095092169083, 0.0003630619357852918, 0.939028848760072, 0.9176253527669286, 0.9100831644833794, 0.9994233284631338, 0.9939081465198296, 0.49981649589787813, 0.4855360245865102, 0.014280471311367946, 0.9333596937557044, 1.0197950322402465, 0.9519447400905192, 0.048132037420307146, 0.9967369309806147, 0.0032152804225181117, 0.9415971914398387, 0.9061215054532006, 0.9260204807691537, 0.9260204807691536, 1.0112071600031334, 0.9936374208085941, 0.002939755682865663, 0.002939755682865663, 0.9419009128029194, 0.357102664174992, 0.6431587250062683, 0.9992188084680694, 1.0219753444787294, 0.9443338969368724, 1.0068016727257785, 1.043365387511191, 0.9260204807691536, 0.007473875365799248, 0.029895501463196993, 0.9566560468223038, 1.0709559904226202, 1.0011980762213453, 0.9579857305292843, 0.30068954428388817, 0.028883971002639505, 0.6702562501894551, 1.0002129916175926, 0.9998776117942534, 0.003754866716214842, 0.9260440038864854, 0.06899567591044772, 0.0009387166790537105, 0.9100831644833794, 0.9061215054532006, 0.9579857305292843, 0.3405146261393903, 0.6621117730488145, 1.0000282433096832, 0.9990276018027044, 0.019038500089662777, 0.9761558227790732, 0.005192318206271666, 0.9998791778087812, 0.9642595463197983, 0.9415971914398387, 0.026129267330992113, 0.026129267330992113, 0.940653623915716, 0.9433618564419041, 0.9333596937557044, 1.0009939307530848, 0.9294636954707143, 0.9579857305292843, 0.012274047335104812, 0.9328275974679656, 0.04909618934041925, 0.9967285083353968, 0.022458355012069605, 0.965709265518993, 0.9999421284985859, 0.9642595463197983, 0.9579857305292843, 0.9642595463197983, 1.0009106760748412, 0.9419009128029194, 0.006821965706307715, 0.01364393141261543, 0.9755410960020031, 1.0003965778376058, 0.9957708484664543, 1.0000177700048043, 0.9883427332425081, 0.011765984919553668, 1.0127240355065183, 0.020018094318626996, 0.9808866216127229, 0.9834256541314269, 0.9419009128029194, 0.9270863929456786, 0.9433618564419041, 0.9176253527669286, 1.010673986851647, 0.9270863929456786, 1.0376980420860946, 0.0016840284071941633, 0.175138954348193, 0.8218058627107517, 1.056628364580899, 0.002173300637454192, 0.997544992591474, 0.9987219496017662, 0.0014950927389247998, 1.004796546998829, 0.9433618564419041, 0.9579857305292843, 0.9333596937557044, 0.9176253527669286, 0.9576308778520454, 0.018594774327224183, 0.018594774327224183, 0.9985083806717102, 0.9390288487600719, 0.9953980218995707, 0.9966161547894309, 0.0021143567633599932, 0.9969192139242368, 0.0010571783816799966, 0.6838526008082035, 0.3145507253325018, 0.0010735519635921562, 0.9918098190717924, 0.9945141684052397, 0.006101313916596562, 0.939225212960799, 0.9960665594744583, 0.004299567882623561, 0.9260204807691537, 1.0000132264270003, 0.9984007308645769, 1.0705629115614166, 0.9294636954707143, 1.0490997457201177, 0.9419009128029194, 0.9333596937557044, 0.9984007308645769, 1.0008301949401293, 0.8911763687218336, 0.10777016551984964, 0.9176253527669286, 0.9642595463197983, 0.07233695401151646, 0.940380402149714, 0.9966903524975247, 0.0032307628930227706, 0.7977821051271266, 0.1631827033214577, 0.04230662678704459, 0.9419009128029195, 0.39632417858908975, 0.6014802239763832, 0.001554212465055254, 0.9990097828941252, 0.0012518919585139414, 0.9991123010060559, 0.939225212960799, 0.977052296555888, 0.02463157050140894, 0.9260204807691536, 1.0001246781673183, 0.998933928328555, 0.999241069238987, 1.0015910713207652, 1.0002208899481748, 0.964259546319798, 0.9176253527669286, 0.012784531579982269, 0.9716244000786525, 0.012784531579982269, 0.9889841500715877, 0.8110132708700303, 0.18894652342789714, 0.9387244880345439, 0.9260204807691537, 0.019636558766899043, 0.9818279383449522, 0.9981494708507913, 0.9176253527669286, 0.99858288356067, 0.9579857305292843, 0.9991894178638773, 0.9419009128029194, 0.9176253527669286, 0.9950170926274035, 1.0002398542229152, 0.9984615009094695, 0.9419009128029194, 0.9443338969368724, 0.9986753309375137, 1.000306632163529, 0.9077348915197364, 0.9387244880345439, 1.0010485203102026, 0.29220576863537023, 0.7012938447248885, 0.9270863929456786, 0.939225212960799, 0.9973068488501503, 0.9203758815809421, 0.9579857305292845, 0.04537375413961992, 0.03889178926253136, 0.913957047669487, 1.0011980762213453, 0.06674922091253813, 0.06674922091253813, 0.06674922091253813, 0.8009906509504575, 1.001198076221345, 0.03221790258693326, 0.9701168445621015, 0.9260204807691537, 1.0043435923578186, 0.9987543219806263, 0.9985777538721333, 1.0009845836877256, 0.386992187352485, 0.6105876733783652, 0.0016808894893392055, 0.9984483566674881, 0.9415971914398387, 1.0010848459406045, 0.998662257945112, 0.9999757341892529, 1.0043587271526422, 0.917962277505103, 0.9387244880345439, 0.9270863929456785, 0.005579088408004695, 0.9930777366248357, 0.9998741675984385, 0.9642595463197983, 0.9176253527669286, 0.013146870496386666, 0.9649802944347813, 0.018405618694941332, 1.0316769405699986, 1.0001957552231087, 1.0007697198531018, 0.8008498760823959, 0.17579631426198936, 0.006510974602295902, 0.013021949204591803, 0.1179354065066803, 0.8845155488001023, 0.998697387259791, 1.0219753444787294, 0.999800757492325, 0.00827541122308334, 0.9909804939642298, 0.06362640618947182, 0.7444289524168203, 0.19724185918736264, 0.9415971914398387, 0.9996518595999961, 0.939225212960799, 0.9717185051010795, 0.023700451343928768, 0.9061215054532006, 0.9994739926531123, 0.9642595463197983, 0.35525722646954383, 0.6430605491790476, 0.9176253527669286, 0.9390288487600719, 0.939225212960799, 0.9970738717126874, 0.9100831644833796, 1.0001837592565297, 0.9203758815809421, 0.9419009128029194, 0.939028848760072, 0.9986278241955154, 0.0015554950532640428, 1.056407454855081, 0.9419009128029194, 0.5279268002200921, 0.4717174749356981, 0.9387244880345439, 0.9260204807691537, 0.9270863929456786, 0.9986200508423715, 0.0009116302025108336, 0.0012155069366811115, 0.9976273182810222, 0.939225212960799, 1.0005403310067102, 0.014133903359502936, 0.9858397593253297, 1.0011980762213453, 1.001253304381333, 0.9859802911980755, 0.9995156079889471, 0.9642595463197983, 0.9914995201264236, 0.009096325872719482, 0.939225212960799, 0.9260204807691537, 1.0011980762213453, 1.0085943239108182, 0.9924189757233756, 0.0042776679988076535, 0.0021388339994038268, 0.939225212960799, 0.9294636954707142, 1.0019890830024472, 0.939225212960799, 0.9928179976182322, 1.0011980762213453, 0.9433618564419041, 1.0010257985180333, 0.040492756406722306, 0.659132090398313, 0.30144607547226604, 1.0011980762213453, 0.9415971914398387, 0.9946892179598873, 0.999882949697865, 0.939028848760072, 0.9443338969368724, 0.9988535522903229, 0.9415971914398387, 0.9984778119247071, 0.03250847949102718, 0.9671272648580586, 0.9294636954707142, 0.9642595463197983, 1.0107448461877544, 1.008888133499709, 0.9415971914398387, 0.939225212960799, 0.9579857305292843, 0.23523844738525396, 0.7645249540020753, 0.939225212960799, 0.939225212960799, 0.9387244880345439, 0.9294636954707142, 0.9443338969368724, 0.9392252129607989, 0.9982185104298051, 0.0023710653454389673, 1.0040464162701188, 0.9945425398192953, 0.004042855852923965, 0.9642595463197983, 0.9260204807691537, 0.9821637453136998, 0.018188217505809255, 0.028320149535922576, 0.9628850842213675, 0.917962277505103, 0.9294636954707142, 1.043027208927271, 0.002570837609694466, 0.9974849925614528, 0.10409910558597701, 0.7286937391018391, 0.10409910558597701, 0.03469970186199234, 0.9260204807691537, 1.001198076221345, 0.1350537677657257, 0.8489093973845614, 0.01929339539510367, 0.9985158566991644, 0.9833794658130478, 1.0062526468713644, 0.9433618564419041, 0.0017042109408644522, 0.9986676113465689, 0.9993939485580409, 0.939028848760072, 1.0218514458979033, 1.0113451315464932, 0.999917765872317, 0.998958949049671, 0.9433618564419041, 1.0043024331707722, 0.9203758815809421, 1.0001027437027368, 0.9061215054532006, 0.9419009128029194, 1.0097585052556133, 0.9955807366838652, 0.004454499940419979, 0.003391022568545409, 0.9969606351523503, 0.002659738206638495, 0.9947420892827971, 0.002659738206638495, 0.1888255090564939, 0.8182438725781402, 0.2155929488063675, 0.7834222646766593, 0.9979317480406902, 0.9973877203118093, 0.9100831644833794, 0.917962277505103, 1.0002746844548784, 0.9433618564419041, 0.9642595463197983, 0.09983164497778084, 0.8984848048000276, 0.9415971914398387, 0.9813957789705998, 0.016001018135390215, 1.0011980762213453, 0.9579857305292843, 0.14224241762011883, 0.8578311954936397, 0.9443338969368724, 0.42260730956068715, 0.5774865551626284, 1.014354829172375, 0.9949569471642988, 0.01310882449783397, 0.9176177148483778, 0.05243529799133588, 0.01310882449783397, 0.012907974921745695, 0.06453987460872847, 0.9164662194439442, 0.9962370664131328, 0.0017416731930299525, 0.0017416731930299525, 0.06715174495660366, 0.9401244293924512, 1.0091795494316995, 0.9995581014361047, 0.9387244880345439, 1.0028299281725899, 0.9333596937557044, 1.0112618371262312, 0.9998042208759533, 0.9912041327584581, 0.009177816044059796, 1.0378178747400582, 0.9433618564419041, 0.9916946746154359, 0.011486168070925482, 0.9878104540995915, 0.939028848760072, 0.9869079488356775, 0.00808940941668588, 0.00404470470834294, 0.9997125670461364, 0.3724405260104068, 0.6262518474397211, 1.0002609692123374, 0.9992981770624316, 0.9394678300585886, 0.0854061663689626, 0.9995874760129658, 0.04877800354140639, 0.9511710690574247, 0.999205174796671, 1.0172812528234112, 0.31829705768783634, 0.681914557364338, 1.004427751001638, 0.0016738509511232404, 0.8804456002908245, 0.11716956657862683, 0.9415971914398387, 0.9419009128029194, 0.9766432814297702, 0.01878160156595712, 0.917962277505103, 0.9433618564419041, 1.0003902469833534, 0.9579857305292843, 1.0091795494316995, 1.0010914809317175, 0.9270863929456786, 1.0005404740170682, 0.917962277505103, 0.9203758815809421, 0.00034877150201046705, 0.9995791247619985, 0.9077348915197364, 0.9333596937557044, 1.0011980762213453, 1.0011980762213453, 0.9419009128029194, 0.9579857305292843, 0.9993643801110498, 1.0085865412608181, 0.9270863929456785, 0.9979947281007342, 0.0015401153211431083, 0.9999173464778498, 0.9387244880345439, 1.0056168249500586, 0.9995136205100064, 1.0357569105838225, 0.9100831644833794, 0.00502899334802973, 0.00502899334802973, 0.9907116895618567, 0.9758804136270303, 0.999173472631018, 0.9419009128029194, 0.9579857305292843, 0.427930073454338, 0.05835410092559155, 0.5251869083303239, 0.9990325515031151, 0.0008555802610646147, 0.939225212960799, 0.40125910608524284, 0.5985045461849767, 1.0571417563620673, 0.9333596937557043, 0.9642595463197983, 0.939225212960799, 0.9415971914398387, 0.9415971914398387, 0.9999859666924762, 0.8248928453980146, 0.17650545600219525, 0.9294636954707142, 0.3626286678697637, 0.2307636977353042, 0.39559491040337863, 0.03296624253361489, 0.9100831644833794, 0.022601879137216608, 0.09363635642561166, 0.8830877062898203, 0.9985083806717101, 0.9260204807691537, 0.9443338969368724, 0.999808488329296, 0.9077348915197364, 0.0006338711567133161, 0.9346078055095227, 0.06479571824180565, 0.857420336405872, 0.1286130504608808, 0.9419009128029195, 0.0108394588330062, 0.1336866589404098, 0.8527040948631543, 0.9579857305292843, 0.9387244880345439, 1.0097585052556133, 0.9415971914398387, 0.9176253527669286, 0.9922377328128195, 0.010444607713819153, 0.016727621111753223, 0.08363810555876612, 0.06691048444701289, 0.819653434475908, 0.34396690684510767, 0.6561830222891284, 0.0002697694221714993, 0.0018378041885433389, 0.10396239106934153, 0.006069811998858734, 0.18012167106613292, 0.04456253642495454, 0.1620808409584139, 0.23638545617777626, 0.12513929070980423, 0.13955509420709372, 0.9333596937557044, 0.38982412199890726, 0.6097963051268621, 0.004981911864691608, 0.8967441356444894, 0.09465632542914056, 0.9392252129607989, 1.0042239116962204, 0.9960736847423978, 0.00452760765791999, 0.917962277505103, 0.9419009128029194, 0.9977181518075764, 0.9632906489898343, 0.036350590527918274, 0.939225212960799, 0.9725730980568605, 0.9998912071790862, 1.0033412695670412, 0.9040685967836584, 0.07533904973197153, 0.004213297522478509, 0.994338215304928, 0.9958539594329081, 0.9433618564419041, 0.48908737530097035, 0.004542607200937805, 0.505743601704409, 0.9433618564419041, 1.0462191015998206, 0.9967285083353968, 0.9750891048036208, 0.9778053934583569, 0.9392252129607989, 0.9996452177443778, 0.939225212960799, 8.029760009722086e-05, 0.34249603028134606, 0.37689016898965566, 0.1058322369281371, 0.132705167094007, 0.04196887898414744, 0.9390288487600719, 0.9942287412919706, 0.989787164909265, 0.39146780545287724, 0.6361351838609255, 1.0000282433096832, 1.0376980420860946, 0.04221497093291084, 0.8344779764411723, 0.11590450522804636, 0.007351722829132773, 0.9260204807691537, 0.9077348915197364, 0.9333596937557044, 0.9415971914398387, 0.22171841435083336, 0.04434368287016668, 0.7094989259226668, 0.6782558735204108, 0.3235716093858841, 1.0008079659272056, 0.9419009128029195, 0.9203758815809421, 0.002957774935682398, 0.004436662403523597, 0.9901151597196829, 0.0022183312017617987, 0.9077348915197364, 0.9974188617031834, 0.999747466049572, 0.04889255820839587, 0.0733388373125938, 0.024446279104197936, 0.08556197686469277, 0.757834652230136, 0.9393777005059792, 0.05367872574319882, 0.05570861254329622, 0.011141722508659245, 0.9269913127204491, 0.004456689003463698, 0.9999782186810208, 0.01191021727493916, 0.9875555157137054, 1.000190408491635, 1.0159281530912814, 0.9997725198237706, 0.14578456166176254, 0.015619774463760273, 0.8382612295551347, 0.9443338969368724, 1.0199580861167812, 0.5953104435796868, 0.406475410401184, 0.03982110274866036, 0.9557064659678486, 0.939225212960799, 0.9260204807691537, 0.9294636954707142, 0.939028848760072, 1.0199580861167812, 0.9077348915197364, 0.2847871483607205, 0.7151462988968986, 0.9294636954707142, 0.9390288487600719, 0.0030884786041789217, 0.9975785891497917, 1.0025522995792406, 0.9333596937557044, 0.004790057836969804, 0.996332030089719, 1.003897821830486, 0.06192177748977327, 0.9288266623465989, 0.0026077505700007548, 0.9961607177402884, 1.0465565697810217, 0.9918132890711632, 0.007415426460345146, 0.9387244880345439, 0.9260204807691537, 1.001838565888398, 0.9997459197632798, 0.9960973519433812, 0.003234082311504484, 1.0028299281725899, 0.9987591936646601, 0.6047138889813931, 0.3714671032314272, 0.021596924606478322, 1.0027304034229647, 1.0374113045939846, 0.939225212960799, 1.0002801921679567, 0.9419009128029194, 0.9998774852278298, 1.0015027165535375, 0.9419009128029194, 0.9975911610683198, 0.9433618564419041, 0.9961735474940896, 0.8578785585586783, 0.07072117149408459, 0.07379600503730567, 0.9987543219806263, 0.9642595463197983, 0.9333596937557044, 0.9176253527669286, 0.9415971914398387, 0.9415971914398387, 1.001198076221345, 0.9443338969368724, 0.9387244880345439, 0.9642595463197983, 1.056628364580899, 0.9984407532681735, 0.9203758815809421, 1.0010914809317175, 0.9816316309076341, 0.9061215054532006, 0.9579857305292843, 0.9061215054532006, 0.9419009128029194, 0.9443338969368724, 0.9992873582303209, 1.017493980707532, 1.0287662103890347, 0.9880902928676691, 0.939028848760072, 0.9270863929456785, 0.9990892496539934, 0.9270863929456786, 0.9955086066079578, 0.9387244880345439, 1.004080587123817, 0.006540241425700231, 0.006540241425700231, 0.9853963748055015, 0.9579857305292843, 1.0005932310177676, 0.9999046728982139, 0.9203758815809421, 1.000712040037581, 0.939028848760072, 0.9853918924558669, 0.939028848760072, 0.8421458857775156, 0.148613979843091, 0.0005409282315309126, 0.9996353718691264, 0.12744686677142875, 0.8725208571274738, 0.939225212960799, 0.939028848760072, 1.004248130738473, 0.9419009128029194, 0.939225212960799, 0.9443338969368724, 0.9999176818676367, 0.9917755429800805, 0.005603251655254693, 0.0028016258276273463, 0.5642944591654179, 0.4285243637271219, 0.006364223223670127, 0.9879227846083244, 0.917962277505103, 0.00201600759689841, 0.9979237604647129, 0.9989535551895298, 0.9387244880345439, 0.9203758815809421, 0.9916946746154359, 1.0011916970142232, 0.9975358066234566, 1.001198076221345, 0.0060256806143422015, 0.9641088982947523, 0.03012840307171101, 0.002639213958097687, 0.9976228761609258, 1.0049922013254227, 0.9978911582377038, 0.0015814439908679934, 0.9801793207638789, 0.004828469560413197, 0.01448540868123959, 0.9579857305292843, 0.9415971914398387, 0.9852130100754657, 1.0010982081697297, 0.9995180739263049, 0.9790012749722886, 0.017075603633237593, 0.939028848760072, 0.997282133522531, 0.012747059182961163, 0.986622380761194, 0.9579857305292843, 0.9979018026346713, 0.996796891211143, 0.9443338969368724, 1.001253304381333, 1.0002217072421076, 0.9642595463197983, 0.9392252129607989, 0.2503506465198516, 0.0015172766455748585, 0.0015172766455748585, 0.7434655563316807, 0.003034553291149717, 0.9419009128029194, 0.999311244526068, 0.9203758815809421, 0.004019408293583609, 0.9927938485151515, 0.004019408293583609, 0.9979812347591717, 0.9983988147004337, 1.000093477623386, 0.9414273671585613, 0.06724481193989724, 1.000230603791909, 0.9993598018549571, 0.9977250999229547, 0.0028104932392195906, 0.9949199608289189, 0.007056169934956872, 0.9433618564419041, 1.0000015609742523, 0.9880902928676691, 0.9415971914398387, 0.9955365544773652, 0.2786853987273487, 0.7213033849413731, 0.9642595463197983, 0.0009698989667634035, 0.9989959357663055, 0.9270863929456786, 0.9948171826007872, 0.004748530704538363, 0.9203758815809421, 0.99992845216705, 0.028826844334012915, 0.9656992851894327, 0.9724425702484353, 0.0029028136425326427, 0.026125322782793784, 0.0005734654078806333, 0.9992634732320036, 0.9387244880345439, 0.5989914258245882, 0.40100734639705554, 0.9973068488501502, 0.9984545276677064, 0.0011542826909453252, 0.939225212960799, 1.000003300256013, 0.9991723919624116, 0.9443338969368724, 0.9294636954707142, 0.939225212960799, 0.9999728628501611, 0.935108583104222, 0.06868029141443438, 0.9390288487600719, 1.0094940723186279, 1.0002324816211265, 0.939028848760072, 0.9415971914398387, 0.006161735298654925, 0.992039383083443, 0.999759269077743, 1.0032306554287076, 1.0005189785255344, 0.005671134480657424, 0.011342268961314848, 0.9811062651537343, 0.9260204807691537, 1.0159281530912814, 0.9843970637780132, 0.9906538406636892, 0.008054096265558449, 0.9415971914398387, 0.9979018026346711, 0.939225212960799, 1.0008359060345813, 0.49629277749937256, 0.5052349897065684, 0.9176253527669286, 0.9433618564419041, 0.917962277505103, 0.9903206151392521, 1.001958825773544, 1.000158072129826, 0.9433618564419041, 0.9916948498648647, 0.007747616014569255, 1.0036387567389127, 0.2734512257846539, 0.7273802605871794, 0.9994441898382251, 1.0025469133017222, 0.08456226903688868, 0.36971410648686215, 0.5467049021454664, 0.2938693522002413, 0.7346733805006033, 0.9989354792549138, 1.0006073696499647, 0.984713560140268, 0.020951352343409956, 1.0014133936419307, 0.0018862772237563223, 0.9978406513670944, 0.0789937574715854, 0.908428210923232, 0.9387244880345439, 1.0004139790774176, 0.004807430535541672, 0.06730402749758341, 0.004807430535541672, 0.9134118017529177, 0.009614861071083345, 0.9392252129607989, 1.0113451315464932, 1.0000540984333852, 1.0111396682353462, 0.01118385737519449, 0.28146041060906135, 0.3821151269858118, 0.3243318638806402, 0.9778053934583569, 0.9433618564419041, 1.0029487935122958, 0.9294636954707142, 1.0112035160926438, 0.9988734308765004, 0.9942658398636055, 0.9963775945202988, 0.00305637298932607, 0.9642595463197983, 1.0040011528339243, 0.9176253527669286, 1.0036040986497266, 0.9882632051530986, 1.0435835699564433, 1.0020713217868733, 0.9970969566003705, 0.9992245119071941, 1.0112618371262312, 0.9443338969368724, 8.804437681951823e-05, 0.6919407574245937, 0.00246524255094651, 0.30560203194054775, 0.9905299492639994, 1.0010398614896927, 0.9270863929456786, 0.9940742084858029, 0.00613626054620866, 0.28687431110492256, 0.50999877529764, 0.2071870024646663, 0.9986856665332218, 0.0013705658735588587, 0.8480725563370072, 0.1439629339460969, 0.007852523669787104, 0.030281426808481657, 0.969005657871413, 0.9077348915197364, 1.0023292314838756, 0.9294636954707142, 0.999246423051323, 1.0013464519474828, 0.9579857305292843, 0.9203758815809421, 0.9443338969368724, 0.9998203879905279, 0.939225212960799, 0.025206706049214916, 0.9830615359193817, 0.9415971914398387, 1.000127421671094, 0.9203758815809421, 0.39573010627363436, 0.604353779320964, 0.9260204807691537, 0.939028848760072, 1.001198076221345, 0.24213208209272846, 0.008967854892323277, 0.7532998109551553, 1.0243951077382603, 0.9282166716322834, 0.07035856551315639, 0.001290982853452411, 0.939028848760072, 0.9294636954707142, 0.9061215054532006, 0.9390288487600719, 0.9990095468991477, 0.9419009128029194, 0.9579857305292843, 0.9176253527669286, 0.9203758815809421, 0.939225212960799, 0.9415971914398387, 0.9392252129607989, 0.023609330350552994, 0.3187259597324654, 0.6492565846402074, 0.9203758815809421, 0.9419009128029194, 1.0000282433096832, 0.9963051597504557, 1.008888133499709, 0.9999288952485534, 1.0005080942878177, 0.9260204807691537, 1.0002597462530025, 0.9294636954707142, 0.027375298930900935, 0.9733439619875888, 1.0008359060345813, 0.9959868948619329, 1.02912202520935, 0.9447872171628291, 0.05418979051058621, 1.0065349287805172, 0.998176339155406, 1.0011980762213453, 0.6581364256557566, 0.33863414924729335, 0.0019131872838830135, 0.9939290708219458, 0.9929038799613925, 0.0072474735763605296, 0.9443338969368724, 0.9415971914398387, 0.794145460433892, 0.20575586929423567, 0.9985083806717101, 0.036037739196215404, 0.4929032715869462, 0.4719781326988211, 0.9990792831192069, 0.9948313355496414, 1.033147734256879, 0.9214093467412607, 0.07189340444318754, 0.0029344246711505116, 0.0029344246711505116, 0.9884961877671279, 0.9077348915197364, 0.9387244880345439, 0.9387244880345439, 0.9153383494520502, 0.08457817784804887, 0.917962277505103, 0.9387244880345439, 0.9996913529863585, 1.0020024651029051, 0.9433618564419041, 0.9176253527669286, 0.9443338969368724, 0.9100831644833794, 0.9061215054532006, 0.9203758815809421, 0.9889945639850312, 0.0013239552396051286, 0.0052958209584205145, 0.003971865718815386, 0.9077348915197364, 0.10016754396807179, 0.8514241237286101, 0.025041885992017947, 0.9886770510118306, 0.9061215054532006, 0.0069199634540716886, 0.9895547739322514, 0.001060542393260247, 8.837853277168725e-05, 0.2582420727588702, 0.27901102796021665, 0.10446342573613433, 0.3571376509303882, 0.978382837337594, 0.9996301204433325, 0.0003025972818051559, 0.03515268284891963, 0.9646134497017098, 0.1335627105055659, 0.10017203287917442, 0.701204230154221, 0.033390677626391474, 0.9100831644833796, 1.0036040986497266, 0.1043339919264435, 0.834671935411548, 0.05216699596322175, 0.9433618564419041, 0.9415971914398387, 0.03919259636728232, 0.9574191398293251, 0.9986636878907379, 0.9203758815809421, 1.0159281530912814, 1.0127240355065183, 1.001198076221345, 0.9999314719411428, 1.000102119230686, 0.00033061356592019547, 0.6248596395891695, 0.20228040008217293, 0.17252517914935533, 1.0271969361161877, 0.9203758815809421, 0.9176253527669286, 0.9392252129607989, 1.000195554805489, 0.9996490205244991, 0.9390288487600719, 0.15694666148330322, 0.8475119720098373, 0.939028848760072, 1.0113669741225586, 0.939225212960799, 0.9203758815809421, 0.9988738880492659, 0.0011248579820374617, 0.9387244880345439, 0.9916484577296659, 0.008195441799418727, 0.939028848760072, 0.9103133365247617, 0.07424541397187773, 0.012912245908152648, 0.17541079963935918, 0.011439834759088642, 0.003813278253029547, 0.808414989642264, 0.9579857305292843, 0.9917256119042648, 0.008934464972110492, 0.9077348915197364, 0.9642595463197983, 1.001198076221345, 0.9260204807691537, 0.99687556251456, 0.04706274670124094, 0.7059412005186141, 0.25884510685682516, 0.9887500556931746, 0.01070848435768781, 0.998697387259791, 0.9995581014361047, 1.00035370438228, 0.007257151223058243, 0.02902860489223297, 0.26851459525315496, 0.6966865174135912, 0.9176253527669286, 0.0006185874796959807, 0.9990187797090089, 0.00030929373984799036, 0.9390288487600719, 0.9579857305292843, 0.002578549685131283, 0.9978987281458066, 1.0013081679563656, 0.9433618564419041, 0.9433618564419041, 0.9826686004603168, 0.9415971914398387, 1.015092760385308, 1.0737718618444325, 0.004568983375484171, 0.986900409104581, 0.006091977833978895, 0.0015229944584947237, 0.9270863929456785, 1.0044204451054495, 0.9979909844558754, 0.8628310040598899, 0.13500076934270386, 0.9415971914398387, 0.9415971914398387, 0.011887796072832645, 0.9866870740451096, 1.0011980762213453, 0.9443338969368724, 0.005148876457907996, 0.9937331563762433, 0.9415971914398387, 0.939225212960799, 0.9443338969368724, 1.0571417563620673, 1.0003720663532303, 0.9996139020501089, 0.9392252129607989, 1.0011980762213453, 1.0011980762213453, 1.0006460894972231, 0.0016281058766928558, 0.9980289024127207, 1.010934064037201, 0.939225212960799, 0.9922650224696319, 0.005088538576767343, 0.98067587433081, 0.0002704566669417568, 0.01920242335286473, 1.0112618371262312, 0.023182256651133607, 0.001655875475080972, 0.9753106548226924, 0.0008537656006833684, 0.998905752799541, 0.019861418215667788, 0.9781748471216385, 0.9061215054532006, 0.02631601896415565, 0.9561486890309887, 0.017544012642770435, 1.0031340352117621, 0.917962277505103, 0.9387244880345439, 1.0090898583456098, 0.9419009128029194, 0.9415971914398387, 1.0031409796391448, 0.0493958165346752, 0.9385205141588288, 0.9415971914398387, 0.007886064908345081, 0.9936441784514802, 0.9928179976182322, 1.0199580861167812, 0.996241350080011, 0.939225212960799, 0.17563513436480435, 0.8196306270357536, 1.0203926555364962, 1.0360910040832114, 0.9579857305292843, 0.9333596937557044, 0.9433618564419041, 1.002136243803186, 1.0015662543269859, 0.9260204807691537, 0.9176253527669285, 0.9433618564419041, 0.9419009128029194, 0.9909759954738414, 0.008542896512705529, 1.0027744660348752, 0.9964012634462901, 0.917962277505103, 1.0003281454029256, 1.000933945614285, 0.9982957134497356, 0.9294636954707142, 0.9392252129607989, 0.996985261524535, 0.939225212960799, 0.5824558097555327, 0.41765242172392847, 0.9387244880345439, 0.9415971914398387, 0.9260204807691537, 0.9983128580981746, 1.0172812528234112, 0.9940097854339583, 0.9203758815809421, 1.0490997457201177, 0.9995701118697656, 0.9415971914398387, 0.9951711572261056, 0.99730684885015, 0.9925483131416792, 0.002927871130211443, 0.004391806695317165, 0.939028848760072, 0.939225212960799, 1.0011980762213453, 0.9948474243954151, 0.004829356429103957, 1.001198076221345, 1.001198076221345, 0.9988910666651067, 0.9061215054532006, 0.9999763459639607, 0.9203758815809421, 0.020823543517987764, 0.008329417407195104, 0.9578830018274371, 0.012494126110792658, 1.001198076221345, 0.9333596937557044, 0.9387244880345439, 0.008349557795446171, 0.9810730409649251, 0.008349557795446171, 0.9940059521074175, 1.0042296987402808, 0.9726236731893996, 0.024164563309053404, 0.9176253527669286, 0.9333596937557044, 0.9823770642801932, 0.015349641629378019, 0.9333596937557044, 0.9735289970706791, 0.025079201329689625, 0.9433618564419041, 1.0011980762213453, 0.9390288487600719, 0.9203758815809421, 0.9415971914398387, 1.0001785235875562, 0.9260204807691537, 0.9270863929456786, 0.9203758815809421, 1.000712040037581, 1.0002484039923452, 0.9100831644833794, 0.9976430685381473, 0.9260204807691537, 1.0327374394119047, 0.9419009128029194, 0.939028848760072, 0.9993317197941208, 1.0011980762213453, 1.0040464162701188, 0.9443338969368724, 0.9997347792368795, 0.0020559613777623082, 0.9971412682147195, 0.9939451037678202, 0.006761531318148437, 0.0030064706990595214, 0.9981482720877611, 0.9998327922210235, 0.9333596937557044, 0.09388171219032752, 0.04694085609516376, 0.7979945536177839, 0.04694085609516376, 0.9972926677298248, 0.00351159390045713, 0.9833794658130478, 1.0070459853679967, 0.18693372860816762, 0.8100461573020596, 0.9433618564419041, 0.9393152667437307, 0.09393152667437307, 0.05709381875488005, 0.9420480094555208, 0.9419009128029194, 0.999882949697865, 1.0148560861075848, 1.0012590924641942, 1.0590240401063593, 0.08274740833306944, 0.9182293053734157, 0.939225212960799, 1.0001893712115615, 1.0003996358510132, 0.979968184182516, 0.004394476162253434, 0.004394476162253434, 0.004394476162253434, 0.004394476162253434, 1.0007787375762247, 0.008825604231106949, 0.9884676738839783, 0.39068803642803157, 0.05581257663257594, 0.5581257663257594, 0.025103139434609602, 0.9762332002348177, 0.9847145906575977, 0.13049174884958398, 0.21606010875095052, 0.1754151377978014, 0.4642083524649135, 0.012835253985204981, 0.9998829496978648, 0.9999410862970517, 1.0571417563620673, 0.9294636954707142, 0.9636842612696727, 0.013541230837512965, 0.018054974450017285, 0.0022568718062521607, 0.9415971914398387, 1.018622528846069, 0.9995642436678913, 0.0033995394433887108, 0.0067990788867774215, 0.9901158628869621, 0.14141085577809967, 0.8484651346685981, 0.939028848760072, 0.022172564965711967, 0.9634987321463927, 0.016125501793245067, 0.9988311361976303, 0.5107719275475192, 0.5107719275475192, 0.9203758815809421, 0.026217799633930224, 0.9351015202768447, 0.04078324387500257, 0.9419009128029194, 0.9270863929456786, 0.9419009128029194, 0.9977183926381642, 0.9176253527669286, 1.0017510688876126, 0.939225212960799, 0.9294636954707144, 0.008006437011270677, 0.9927981893975639, 0.9443338969368724, 0.9415971914398387, 0.9835310116126104, 0.9333596937557043, 0.9415971914398387, 1.0062526468713644, 0.964259546319798, 0.011501614733471416, 0.983388059711806, 0.005750807366735708, 0.23488105388863784, 0.7516193724436411, 0.9973947685367028, 0.9579857305292843, 0.9998337074971296, 1.0054909567603232, 0.8229077010602974, 0.17407662907044755, 0.007912574048656706, 1.0112618371262312, 0.9270863929456785, 1.001730698266025, 0.917962277505103, 1.0001487905177984, 0.9642595463197983, 1.0011980762213453, 0.939225212960799, 1.0011980762213453, 0.9443338969368724, 0.9387244880345439, 0.9975098755032396, 0.9647676556481316, 0.03466231098137, 1.0000475258847392, 0.9415971914398387, 0.0634157292753903, 0.9371435548474344, 0.9419009128029194, 1.0465565697810217, 1.005387256315113, 0.9579857305292843, 0.9574407241730676, 0.03191469080576892, 0.9333596937557044, 0.9667176575686051, 0.023017087084966786, 0.005754271771241696, 0.9390288487600719, 0.9987276285564357, 0.9415971914398387, 0.9996648479269786, 0.939028848760072, 0.9988266578192752, 0.9176253527669286, 0.9955684305693392, 0.004718333794167484, 1.0374113045939846, 0.9949374666562474, 0.005292220567320464, 0.9995683156275881, 0.00265159186292548, 0.9969985404599804, 1.017493980707532, 0.9209431063002985, 0.07837813670640839, 0.20411617834565948, 0.7958148276356062, 0.9579857305292843, 1.0042296987402808, 0.5544577944010178, 0.42389739633105344, 0.020347075023890566, 0.9333596937557044, 0.9433618564419041, 0.9433618564419041, 1.0010914809317173, 1.0010914809317175, 0.9948582359266898, 0.006066208755650547, 1.0287662103890347, 1.0271969361161877, 0.9896429519238629, 0.00868107852564792, 0.04947572145759122, 0.9400387076942331, 0.9996770501114476, 0.9443338969368724, 0.9579857305292843, 0.9176253527669286, 1.0571417563620673, 0.9294636954707142, 0.01112399286288474, 0.661877575341642, 0.32259579302365743, 0.9061215054532006, 0.022316863534976153, 0.971641904676654, 0.003433363620765562, 0.001716681810382781, 0.9833794658130478, 0.9203758815809421, 0.9999368210430195, 1.0013061205701803, 0.9642595463197983, 0.9894593955120101, 0.010200612324866083, 0.939028848760072, 0.9415971914398387, 1.001198076221345, 0.02843684266929638, 0.02843684266929638, 0.02843684266929638, 0.9099789654174841, 0.8918228856385447, 0.10746786571543614, 0.012410214315414786, 0.9928171452331829, 0.9985401569739668, 0.9061215054532006, 1.0571417563620673, 0.9392252129607989, 0.9642595463197983, 0.9333596937557044, 0.9419009128029194, 0.9433618564419041, 0.011374142722625323, 0.9886025716415175, 0.9863674441080111, 0.012591924818400142, 0.9839692343047677, 0.01513798822007335, 0.9944737548996695, 0.9983021650665673, 0.00267556758165584, 0.9979867079576283, 0.9294636954707142, 0.9970738717126872, 0.9994699129109944, 0.0005413920683839271, 0.9816316309076341, 0.1759360778436714, 0.019548453093741265, 0.801486576843392, 0.9890173386900638, 0.012679709470385435, 0.9333596937557044, 0.9966384466314147, 0.0055990923968057, 0.998853552290323, 0.9579857305292845, 0.0017117624390883598, 0.8781341312523285, 0.11982337073618518, 1.0084060321360886, 0.9260204807691537, 0.042622354598012, 0.010655588649503, 0.9376918011562639, 0.9935159799749045, 0.005094953743461049, 1.0000650777397042, 0.32313957806116006, 0.6552552555129079, 0.022440248476469447, 1.0617636918972762, 1.0000007381897245, 1.0000554622840792, 0.19835200441708753, 0.7934080176683501, 1.0199580861167812, 0.0673260581390234, 0.0673260581390234, 0.8752387558073043, 0.9918098190717924, 0.9969266429724687, 0.00465853571482462, 1.0093878880436213, 1.001198076221345, 0.9991471611569874, 0.02305659595467685, 0.02766791514561222, 0.9499317533326862, 0.9419009128029194, 0.9387244880345439, 0.2853924059961845, 0.02378270049968204, 0.6896983144907791, 0.9998776117942534, 0.9333596937557044, 0.9333596937557044, 0.9579857305292843, 0.9642595463197983, 0.9203758815809421, 1.000565957754148, 1.0090898583456098, 0.939028848760072, 0.31107808023215766, 0.05184634670535961, 0.6221561604643153, 0.730720509106418, 0.26260268296011896, 0.00761167196985852, 0.9387244880345439, 0.9333596937557044, 0.9333596937557044, 1.0000689155783653, 0.9415971914398387, 0.9203758815809421, 0.9642595463197983, 0.9433618564419041, 0.9579857305292843, 0.9270863929456786, 0.10451269773565093, 0.8941641917383468, 0.9579857305292843, 0.9433618564419041, 1.0002481408570882, 0.9579857305292843, 1.0002434964033224, 0.9433618564419041, 1.0289116452990597, 0.9176253527669285, 0.964259546319798, 0.9981400819363949, 0.002803764275102233, 1.0199580861167812, 0.9203758815809421, 0.9419009128029194, 0.939028848760072, 0.9294636954707142, 1.0000345053952906, 1.033147734256879, 0.22711431730091877, 0.746232756845876, 1.0571417563620673, 0.9260204807691536, 0.9415971914398387, 0.9433618564419041, 0.9981286329601944, 1.000631067863682, 0.9642595463197983, 0.939028848760072, 0.9579857305292843, 0.917962277505103, 0.01244906280115193, 0.9834759612910025, 0.9294636954707142, 0.9387244880345439, 0.9176253527669286, 1.0590240401063593, 0.9999007206321275, 0.9419009128029194, 0.9333596937557044, 1.0097585052556133, 0.9974986124268551, 0.001662497687378092, 1.0040464162701188, 0.9415971914398387, 1.0705629115614166, 0.9415971914398387, 1.0007697198531018, 0.9921753465448281, 0.9950170926274035, 0.9579857305292843, 0.05957588449797392, 0.9383201808430893, 0.9918837085328374, 0.005667906905901928, 0.9260204807691537, 0.9967336559985207, 0.9443338969368724, 0.9997027686868676, 0.9985083806717101, 0.9077348915197364, 0.9929722005297269, 0.00722161600385256, 0.9203758815809421, 0.9061215054532006, 0.9443338969368724, 1.0040464162701186, 0.2768459677601929, 0.7229862323521583, 1.0011359358503684, 0.939028848760072, 1.056407454855081, 0.9980086304409911, 0.9579857305292843, 0.9443338969368724, 0.9433618564419041, 0.9920617005583201, 0.006441959094534546, 0.03639236126183605, 0.9624542920120523, 0.0010599716872379432, 1.033147734256879, 0.9613585976678297, 0.03889890279580814, 0.9419009128029194, 0.9992404249390646, 0.9415971914398387, 0.9176253527669286, 0.9990570444740416, 0.999820387990528, 0.9390288487600719, 0.851442733324042, 0.0039601987596467065, 0.1227661615490479, 0.019800993798233534, 0.6000931228964976, 0.39955309709393605, 0.9998767882955751, 0.9996785729812199, 0.9972298808244993, 0.9433618564419041, 0.995000953060478, 0.9294636954707142, 0.5413996503505923, 0.45864685405348105, 0.9992652428593086, 1.0007889169955053, 1.0097585052556133, 0.9294636954707142, 0.9294636954707142, 0.939028848760072, 0.0004214224236198798, 0.9996139888263549, 0.982803879192527, 0.018200071836898646, 0.939028848760072, 0.9579857305292843, 1.0376980420860946, 0.09499749749435472, 0.8956906906610588, 0.9758804136270303, 0.9415971914398387], \"Term\": [\"#\", \"abrasive\", \"absolute\", \"absolute\", \"absolute\", \"absolutley\", \"absurd\", \"abysmal\", \"accept\", \"access\", \"accoun\", \"account\", \"accurate\", \"accuraye\", \"ace\", \"achievement\", \"action\", \"action\", \"action\", \"active\", \"active\", \"actual\", \"actual\", \"acutaull\", \"ad\", \"addict\", \"addict\", \"addicted\", \"addicted\", \"addicting\", \"addiction\", \"addiction\", \"addictive\", \"addictive\", \"addictive\", \"additive\", \"adictive\", \"adjustable\", \"adrenaline\", \"adv\", \"adventure\", \"adventure\", \"advertise\", \"advertisement\", \"advertising\", \"advisor\", \"affected\", \"african\", \"age\", \"age\", \"aggravation\", \"agh\", \"airpush\", \"akshay\", \"algood\", \"algorithm\", \"algorithm\", \"ally\", \"ally\", \"alot\", \"alot\", \"alot\", \"alright\", \"alright\", \"alternate\", \"amazing\", \"amazing\", \"amount\", \"amount\", \"analysis\", \"animation\", \"animation\", \"animation\", \"annoying\", \"answer\", \"anus\", \"anym\", \"anymre\", \"aouth\", \"apear\", \"app\", \"app\", \"app\", \"application\", \"applyied\", \"approach\", \"arm\", \"asap\", \"asap\", \"aslatest\", \"ass\", \"asss\", \"aswell\", \"attention\", \"attention\", \"attention\", \"attractive\", \"attractive\", \"attractive\", \"authority\", \"auto\", \"auto\", \"auto\", \"autobet\", \"autofold\", \"award\", \"awesome\", \"awesome\", \"awesomeness\", \"awful\", \"awkward\", \"awns\", \"awsm\", \"awsome\", \"awsome\", \"baby\", \"bacground\", \"back\", \"background\", \"bad\", \"bad\", \"badbeat\", \"baddd\", \"badness\", \"balance\", \"balanced\", \"ball\", \"ball\", \"ball\", \"ballz\", \"bandwidth\", \"bank\", \"bank\", \"bar\", \"bar\", \"bare\", \"barrier\", \"baseuh\", \"bash\", \"bastard\", \"battery\", \"battery\", \"battery\", \"bcas\", \"beat\", \"beat\", \"beautiful\", \"beauty\", \"becausr\", \"beer\", \"begginer\", \"begging\", \"beginner\", \"beginner\", \"beginner\", \"believable\", \"belive\", \"bern\", \"bet\", \"bet\", \"bet\", \"beta\", \"betting\", \"big\", \"big\", \"big\", \"big\", \"bigger\", \"bike\", \"billing\", \"billion\", \"billion\", \"billionaire\", \"bingo\", \"bit\", \"bit\", \"bit\", \"black\", \"blackjack\", \"blah\", \"blast\", \"blast\", \"blast\", \"bleeb\", \"bleh\", \"blind\", \"blk\", \"bloodsucking\", \"bloody\", \"bloody\", \"bloody\", \"bogus\", \"bomb\", \"bomb\", \"bonus\", \"boooooo\", \"boooooooooo\", \"booster\", \"boot\", \"borderline\", \"bored\", \"bored\", \"bored\", \"boring\", \"boss\", \"bot\", \"bother\", \"bother\", \"bout\", \"boy\", \"boy\", \"boyfriend\", \"bozo\", \"bragging\", \"bread\", \"breed\", \"briefcase\", \"briliant\", \"brill\", \"brilliant\", \"brilliant\", \"brilliant\", \"bring\", \"buddy\", \"buddy\", \"bug\", \"bug\", \"buggy\", \"buglevel\", \"bullchit\", \"buls\", \"bumili\", \"bunch\", \"bunch\", \"bunch\", \"burn\", \"bus\", \"business\", \"busy\", \"button\", \"button\", \"button\", \"buy\", \"buy\", \"buy\", \"buyer\", \"buying\", \"buying\", \"byeeeeeeeeee\", \"call\", \"call\", \"canvasser\", \"card\", \"care\", \"career\", \"carnival\", \"carrier\", \"carzy\", \"cas\", \"case\", \"cash\", \"casino\", \"casino\", \"casinoesque\", \"cgip\", \"challange\", \"challange\", \"challenge\", \"challenge\", \"challenging\", \"challenging\", \"challenging\", \"championship\", \"chance\", \"chance\", \"chance\", \"change\", \"change\", \"charge\", \"charged\", \"chat\", \"chat\", \"chatter\", \"cheap\", \"cheat\", \"cheater\", \"cheating\", \"check\", \"checkbox\", \"cheekier\", \"cheer\", \"cheer\", \"cheer\", \"cherry\", \"chip\", \"chip\", \"chipp\", \"chuckie\", \"cip\", \"cip\", \"claim\", \"clarification\", \"class\", \"classy\", \"clean\", \"cleaner\", \"climax\", \"clock\", \"close\", \"closing\", \"clover\", \"clumky\", \"code\", \"coin\", \"coincidental\", \"collapse\", \"collect\", \"collectible\", \"collectible\", \"collecting\", \"college\", \"colour\", \"combos\", \"comfort\", \"comment\", \"comment\", \"comment\", \"common\", \"communicate\", \"communicate\", \"communicate\", \"communicate\", \"community\", \"company\", \"company\", \"compensated\", \"compensation\", \"competition\", \"competitive\", \"complaint\", \"complete\", \"complete\", \"computer\", \"computer\", \"conclusion\", \"connect\", \"connected\", \"connection\", \"connectivity\", \"connetion\", \"consent\", \"consequence\", \"constant\", \"constant\", \"contact\", \"contract\", \"contrary\", \"control\", \"control\", \"control\", \"coo\", \"cool\", \"cos\", \"cost\", \"cost\", \"cost\", \"cost\", \"costly\", \"costly\", \"count\", \"counter\", \"country\", \"couple\", \"couple\", \"coz\", \"coz\", \"coz\", \"crahe\", \"crap\", \"crapped\", \"crappy\", \"crappy\", \"crapy\", \"crash\", \"crave\", \"crazy\", \"crazy\", \"crease\", \"creat\", \"creating\", \"creator\", \"credibility\", \"credit\", \"csnt\", \"cumputer\", \"curruption\", \"customer\", \"customer\", \"customization\", \"cyanogenmod\", \"daily\", \"daily\", \"dammm\", \"damnnnn\", \"database\", \"datum\", \"day\", \"day\", \"day\", \"deadly\", \"deal\", \"dealer\", \"dealer\", \"dealing\", \"death\", \"decade\", \"decent\", \"deception\", \"deck\", \"deck\", \"declare\", \"deductee\", \"degree\", \"delay\", \"delete\", \"delete\", \"delete\", \"demoralizing\", \"deselected\", \"design\", \"designation\", \"detail\", \"deuce\", \"developement\", \"developer\", \"device\", \"device\", \"device\", \"diamond\", \"diaplay\", \"difference\", \"difficult\", \"dificult\", \"diifferent\", \"disable\", \"disapointing\", \"disconnect\", \"disconnected\", \"disconnected\", \"discontinue\", \"discouraging\", \"disgraceful\", \"disgusting\", \"dismal\", \"displeasure\", \"disruptive\", \"dissatisfied\", \"dissatisfied\", \"disturb\", \"diversity\", \"divide\", \"doeant\", \"doesbt\", \"doest\", \"dollar\", \"dollar\", \"donk\", \"donkey\", \"donkey\", \"donwload\", \"doo\", \"double\", \"double\", \"doubt\", \"doubt\", \"dough\", \"dous\", \"downgrade\", \"download\", \"download\", \"downside\", \"downside\", \"downside\", \"downside\", \"dpake\", \"draw\", \"drink\", \"drink\", \"drink\", \"droid\", \"droidx\", \"drug\", \"dserve\", \"due\", \"due\", \"dumb\", \"dumbness\", \"dunno\", \"earth\", \"easy\", \"edge\", \"effective\", \"effort\", \"eighth\", \"email\", \"emergency\", \"emoticon\", \"encounter\", \"end\", \"end\", \"enjoy\", \"enjoy\", \"enjoyable\", \"enjoyable\", \"enjoyable\", \"enjoying\", \"enjoying\", \"entertaining\", \"entertaining\", \"entertainment\", \"entire\", \"entre\", \"equipment\", \"error\", \"etcetcetc\", \"eternity\", \"event\", \"event\", \"everthing\", \"everyday\", \"everyday\", \"everyhand\", \"everytable\", \"everytime\", \"everytime\", \"evethough\", \"excellent\", \"excellent\", \"exception\", \"exceptional\", \"excited\", \"excited\", \"excited\", \"excited\", \"excitement\", \"excitement\", \"excitement\", \"exciting\", \"exciting\", \"exciting\", \"exellent\", \"exellent\", \"exercise\", \"exit\", \"exiting\", \"expensive\", \"experence\", \"experiance\", \"experience\", \"extra\", \"extra\", \"extreme\", \"faaaake\", \"fab\", \"fabulous\", \"fabulous\", \"fac\", \"face\", \"face\", \"face\", \"facebook\", \"fact\", \"fact\", \"fair\", \"fake\", \"fame\", \"fame\", \"family\", \"fan\", \"fan\", \"fantastic\", \"fantasy\", \"fast\", \"fast\", \"favor\", \"favorite\", \"favorite\", \"favorite\", \"favourable\", \"favourate\", \"favourite\", \"favourite\", \"fbconnect\", \"feasible\", \"feature\", \"featuresi\", \"female\", \"figure\", \"filing\", \"fine\", \"firewall\", \"firework\", \"fix\", \"fix\", \"fixd\", \"fixit\", \"flawed\", \"flip\", \"flipped\", \"floor\", \"flop\", \"flow\", \"fluke\", \"flush\", \"flush\", \"fold\", \"foldz\", \"fool\", \"force\", \"foreigner\", \"forexample\", \"format\", \"format\", \"format\", \"forum\", \"fraud\", \"frauding\", \"freaken\", \"freaking\", \"freaking\", \"freaking\", \"free\", \"free\", \"freepoint\", \"freeze\", \"freeze\", \"freezez\", \"fren\", \"frend\", \"frezze\", \"friand\", \"friccn\", \"friend\", \"friendly\", \"friendly\", \"frigin\", \"froze\", \"froze\", \"froze\", \"froze\", \"frust\", \"frustrating\", \"frustrating\", \"frustrating\", \"frustration\", \"fuh\", \"fuker\", \"full\", \"fulltilt\", \"fun\", \"fun\", \"fun\", \"funn\", \"funn\", \"funner\", \"funny\", \"funny\", \"funny\", \"fuuuuuuu\", \"fycj\", \"fyi\", \"gajs\", \"galore\", \"gamble\", \"gamble\", \"gambler\", \"gambler\", \"gambler\", \"gambler\", \"gambling\", \"gambling\", \"game\", \"game\", \"game\", \"game\", \"game\", \"game\", \"game\", \"game\", \"game\", \"game\", \"gameike\", \"gameplay\", \"gameplay\", \"gaming\", \"gaming\", \"gaming\", \"gamw\", \"gane\", \"garbage\", \"garbage\", \"gas\", \"gate\", \"gem\", \"generous\", \"generous\", \"ggggrrrrrrrrrr\", \"ghost\", \"gift\", \"girl\", \"girlfriend\", \"girlfriend\", \"give\", \"give\", \"glad\", \"glinche\", \"glitch\", \"glitch\", \"glitch\", \"glitchez\", \"glitching\", \"glitchy\", \"gmail\", \"gme\", \"goddamn\", \"gold\", \"gona\", \"good\", \"good\", \"good\", \"good\", \"good\", \"good\", \"goof\", \"goood\", \"gooood\", \"grafic\", \"grafic\", \"graphic\", \"grate\", \"great\", \"great\", \"great\", \"great\", \"gree\", \"grief\", \"grinder\", \"grrrrrrr\", \"gsme\", \"gsme\", \"gsme\", \"guess\", \"guess\", \"guest\", \"guide\", \"gusest\", \"guy\", \"guy\", \"guy\", \"guy\", \"gve\", \"hack\", \"hacker\", \"haha\", \"haha\", \"haha\", \"haha\", \"haha\", \"hahaha\", \"hahaha\", \"half\", \"half\", \"half\", \"half\", \"hand\", \"happy\", \"happy\", \"hard\", \"hat\", \"hate\", \"head\", \"head\", \"head\", \"heartache\", \"heck\", \"hell\", \"hell\", \"helpful\", \"helpful\", \"hermit\", \"herpe\", \"het\", \"hgyjfkkxtt\", \"hiccup\", \"hideous\", \"high\", \"high\", \"hihgh\", \"hmm\", \"hold\", \"hold\", \"holdem\", \"holl\", \"home\", \"home\", \"honest\", \"hooked\", \"hooked\", \"hope\", \"hope\", \"horrendous\", \"horrible\", \"horrible\", \"horriblr\", \"horribpe\", \"hot\", \"hour\", \"house\", \"house\", \"hrs\", \"htc\", \"huge\", \"huge\", \"huge\", \"hundred\", \"hurt\", \"hustling\", \"icon\", \"idgaf\", \"idiot\", \"idk\", \"ilike\", \"ill\", \"ilost\", \"important\", \"impossible\", \"impossible\", \"impossible\", \"improvement\", \"improvment\", \"imternet\", \"inatalled\", \"inbetween\", \"incoming\", \"inconsistent\", \"indictment\", \"indie\", \"inexplicable\", \"infinite\", \"info\", \"infomercial\", \"information\", \"ing\", \"injoyable\", \"inposible\", \"inr\", \"inst\", \"instaling\", \"install\", \"installed\", \"installing\", \"instruction\", \"intalling\", \"intelligence\", \"intense\", \"intentional\", \"interactive\", \"interation\", \"interested\", \"interesting\", \"interesting\", \"interesting\", \"interet\", \"interface\", \"internet\", \"invade\", \"invite\", \"involuntary\", \"io\", \"irrelivant\", \"irritated\", \"irritated\", \"issue\", \"issue\", \"item\", \"item\", \"itune\", \"iust\", \"jackpot\", \"java\", \"jelous\", \"jjmxhdjckckcmv\", \"job\", \"join\", \"join\", \"join\", \"joke\", \"joke\", \"joke\", \"joy\", \"jst\", \"jump\", \"jump\", \"junk\", \"junki\", \"kazoo\", \"key\", \"kick\", \"kicked\", \"kicker\", \"kill\", \"kill\", \"kill\", \"killer\", \"killer\", \"killing\", \"kind\", \"kind\", \"king\", \"king\", \"king\", \"kingme\", \"knockout\", \"lady\", \"lag\", \"late\", \"layout\", \"layout\", \"lcd\", \"leader\", \"league\", \"league\", \"learner\", \"learning\", \"leave\", \"leptop\", \"letter\", \"level\", \"leveling\", \"lier\", \"life\", \"life\", \"life\", \"life\", \"life\", \"lime\", \"limit\", \"limitless\", \"line\", \"line\", \"line\", \"link\", \"list\", \"live\", \"lmao\", \"lmao\", \"load\", \"loading\", \"lobby\", \"lobby\", \"lock\", \"lock\", \"lode\", \"log\", \"logged\", \"loggs\", \"login\", \"lol\", \"lol\", \"lollipop\", \"long\", \"long\", \"loophole\", \"loose\", \"loose\", \"lootss\", \"lose\", \"loser\", \"loser\", \"loss\", \"loss\", \"loss\", \"lot\", \"lot\", \"lottory\", \"love\", \"love\", \"lovely\", \"low\", \"low\", \"lse\", \"luck\", \"lucky\", \"luckybonus\", \"lust\", \"lway\", \"machine\", \"mad\", \"mad\", \"madness\", \"mail\", \"main\", \"mainstream\", \"majician\", \"major\", \"major\", \"make\", \"maker\", \"man\", \"market\", \"market\", \"market\", \"marshalled\", \"marvellous\", \"marvelous\", \"match\", \"match\", \"matching\", \"mate\", \"mater\", \"math\", \"matter\", \"matter\", \"mattress\", \"maveric\", \"mbp\", \"mega\", \"menu\", \"message\", \"messy\", \"meter\", \"meter\", \"mid\", \"middle\", \"middle\", \"mil\", \"mill\", \"million\", \"million\", \"million\", \"millionaire\", \"millionaire\", \"min\", \"mind\", \"mini\", \"mini\", \"minor\", \"minute\", \"minute\", \"mission\", \"mission\", \"mist\", \"mobile\", \"mode\", \"mode\", \"mode\", \"mode\", \"mode\", \"modification\", \"mom\", \"money\", \"monkey\", \"month\", \"month\", \"month\", \"month\", \"mood\", \"moon\", \"morning\", \"motive\", \"mouth\", \"move\", \"multiplayer\", \"multiple\", \"multiple\", \"multiplication\", \"music\", \"myth\", \"navigate\", \"neat\", \"needless\", \"negative\", \"net\", \"network\", \"news\", \"nfc\", \"nice\", \"nice\", \"nice\", \"nice\", \"nicee\", \"night\", \"ninja\", \"note\", \"note\", \"notice\", \"notice\", \"notice\", \"notification\", \"notification\", \"number\", \"number\", \"number\", \"numerous\", \"numerous\", \"obscure\", \"obvious\", \"occurance\", \"odd\", \"offer\", \"offerng\", \"ogni\", \"okai\", \"okey\", \"olso\", \"omaha\", \"omaha\", \"onex\", \"online\", \"onther\", \"open\", \"open\", \"operable\", \"oppinion\", \"opponent\", \"opportunity\", \"opportunity\", \"opportunity\", \"opposition\", \"option\", \"option\", \"option\", \"optn\", \"orderd\", \"organization\", \"orientation\", \"original\", \"oso\", \"otherfeature\", \"otomatikly\", \"ouath\", \"outlast\", \"outof\", \"output\", \"outstanding\", \"outstanding\", \"outstanding\", \"oversized\", \"overtime\", \"pace\", \"paced\", \"pack\", \"package\", \"page\", \"painful\", \"pair\", \"paralegal\", \"part\", \"part\", \"pass\", \"passer\", \"passtime\", \"past\", \"past\", \"pastime\", \"patience\", \"pattern\", \"pay\", \"pay\", \"pay\", \"payment\", \"payout\", \"payout\", \"pedophile\", \"peep\", \"people\", \"people\", \"percent\", \"perfect\", \"perfect\", \"perfect\", \"period\", \"perk\", \"persist\", \"person\", \"person\", \"person\", \"person\", \"phenomenal\", \"philosophy\", \"phn\", \"phome\", \"phone\", \"phone\", \"php\", \"phuq\", \"picture\", \"piece\", \"pimping\", \"piont\", \"pitty\", \"pix\", \"pizza\", \"pkese\", \"place\", \"place\", \"place\", \"place\", \"placing\", \"plain\", \"plain\", \"plain\", \"planet\", \"plater\", \"platform\", \"platform\", \"play\", \"play\", \"play\", \"play\", \"play\", \"play\", \"played\", \"player\", \"player\", \"playing\", \"playing\", \"playstore\", \"playstore\", \"playstore\", \"playstore\", \"ple\", \"pleasant\", \"pleased\", \"pleased\", \"pleased\", \"pleasing\", \"pleasurable\", \"plenty\", \"plenty\", \"plss\", \"plxxx\", \"ply\", \"plzzz\", \"pocket\", \"point\", \"pointless\", \"poker\", \"poker\", \"poker\", \"poker\", \"poket\", \"pokker\", \"polictic\", \"poof\", \"poor\", \"pop\", \"popularity\", \"porker\", \"porker\", \"portrate\", \"positive\", \"positon\", \"poss\", \"pot\", \"pot\", \"potato\", \"power\", \"power\", \"powerup\", \"ppl\", \"ppl\", \"ppl\", \"practice\", \"practice\", \"practice\", \"practice\", \"prayer\", \"predictable\", \"predictable\", \"prediction\", \"preferable\", \"premium\", \"presidential\", \"press\", \"pretty\", \"pretty\", \"pretty\", \"previous\", \"previous\", \"price\", \"private\", \"prize\", \"pro\", \"pro\", \"pro\", \"pro\", \"problame\", \"problem\", \"problem\", \"problem\", \"producer\", \"production\", \"profile\", \"profile\", \"program\", \"progressive\", \"progresz\", \"promo\", \"prrfect\", \"public\", \"pull\", \"purchase\", \"purchase\", \"purchase\", \"purchase\", \"purchaser\", \"purpose\", \"push\", \"put\", \"put\", \"pvp\", \"pxx\", \"quality\", \"quality\", \"queen\", \"queer\", \"quick\", \"quick\", \"quirk\", \"quitting\", \"quote\", \"racism\", \"raise\", \"random\", \"randomized\", \"randomizer\", \"randomness\", \"rate\", \"rating\", \"rating\", \"razr\", \"react\", \"ready\", \"ready\", \"real\", \"real\", \"real\", \"realism\", \"realistic\", \"realistic\", \"realistic\", \"reason\", \"reason\", \"recent\", \"recent\", \"recive\", \"recommend\", \"recommend\", \"recommend\", \"reconnect\", \"reconnecting\", \"recycle\", \"redeem\", \"rediliculous\", \"refreshing\", \"refund\", \"regard\", \"regard\", \"reign\", \"reinstall\", \"reinstall\", \"reinstalling\", \"rejoin\", \"relaxing\", \"relevant\", \"relief\", \"relief\", \"reliever\", \"reliver\", \"remembery\", \"renind\", \"reocurring\", \"report\", \"request\", \"requested\", \"reraise\", \"respawnable\", \"respon\", \"response\", \"response\", \"rest\", \"result\", \"reveal\", \"review\", \"reward\", \"rid\", \"ridance\", \"ridden\", \"ride\", \"ridicule\", \"ridiculous\", \"ridiculous\", \"rightful\", \"rigid\", \"ringtone\", \"rip\", \"rise\", \"risk\", \"risking\", \"risky\", \"river\", \"rlsr\", \"robot\", \"rock\", \"room\", \"room\", \"room\", \"roommate\", \"root\", \"rotation\", \"round\", \"round\", \"row\", \"royal\", \"rubbish\", \"rubish\", \"ruin\", \"ruind\", \"run\", \"run\", \"run\", \"run\", \"runner\", \"rythyms\", \"sabotage\", \"sad\", \"sad\", \"sad\", \"safe\", \"sake\", \"sale\", \"sale\", \"sanction\", \"sapce\", \"satisfied\", \"satisfied\", \"saving\", \"scam\", \"scam\", \"sccreen\", \"scenario\", \"scene\", \"scoreboard\", \"scream\", \"screen\", \"screwed\", \"scrub\", \"sdcard\", \"search\", \"seat\", \"seize\", \"select\", \"selecting\", \"selling\", \"selowole\", \"sending\", \"sense\", \"sequence\", \"series\", \"serval\", \"server\", \"service\", \"service\", \"set\", \"set\", \"setting\", \"setting\", \"setup\", \"sevaral\", \"sex\", \"sex\", \"sex\", \"sex\", \"shame\", \"shame\", \"shark\", \"sharp\", \"sharpen\", \"sharpen\", \"sheeple\", \"sheer\", \"sheer\", \"shocking\", \"shocking\", \"shooter\", \"shootout\", \"shop\", \"short\", \"shorten\", \"show\", \"show\", \"showen\", \"shut\", \"sick\", \"side\", \"side\", \"side\", \"side\", \"side\", \"sign\", \"signal\", \"signal\", \"silly\", \"silly\", \"silly\", \"simple\", \"simple\", \"simulation\", \"single\", \"single\", \"single\", \"single\", \"single\", \"sit\", \"site\", \"sixth\", \"sketchy\", \"skill\", \"skill\", \"skill\", \"skill\", \"slang\", \"slick\", \"slot\", \"slow\", \"slow\", \"slow\", \"sluggish\", \"sluggish\", \"slum\", \"small\", \"small\", \"small\", \"smart\", \"smartphone\", \"smartphone\", \"smith\", \"smooth\", \"smooth\", \"smooth\", \"smtn\", \"snap\", \"snowman\", \"social\", \"socialization\", \"software\", \"softwer\", \"sole\", \"solid\", \"solid\", \"solituon\", \"solvable\", \"solve\", \"sometine\", \"song\", \"soooo\", \"soooooooooooooo\", \"sound\", \"sound\", \"sound\", \"source\", \"source\", \"space\", \"spacificly\", \"spam\", \"spare\", \"special\", \"special\", \"special\", \"spectacular\", \"speech\", \"speed\", \"speedy\", \"spin\", \"spinner\", \"split\", \"splitter\", \"splitting\", \"sposse\", \"squat\", \"stack\", \"stake\", \"stake\", \"star\", \"stare\", \"start\", \"start\", \"stash\", \"stating\", \"step\", \"stiring\", \"stirring\", \"stirring\", \"stoop\", \"stop\", \"stop\", \"stop\", \"stoped\", \"store\", \"straighf\", \"straight\", \"straigth\", \"strange\", \"strate\", \"streak\", \"streak\", \"strenght\", \"strength\", \"strength\", \"stress\", \"stuck\", \"stuck\", \"stud\", \"stuff\", \"stuff\", \"stupid\", \"stupid\", \"stvarno\", \"success\", \"suck\", \"suck\", \"suck\", \"suckie\", \"suckssss\", \"sucky\", \"sudden\", \"suggestion\", \"suit\", \"suit\", \"suks\", \"sumtime\", \"super\", \"super\", \"superb\", \"superb\", \"support\", \"surf\", \"surplus\", \"susceptible\", \"suspense\", \"suxxxxx\", \"sweet\", \"sweet\", \"sweet\", \"swore\", \"system\", \"system\", \"system\", \"system\", \"tabel\", \"tabke\", \"table\", \"tablet\", \"takin\", \"talk\", \"talk\", \"taunament\", \"taxis\", \"ten\", \"tension\", \"tension\", \"tension\", \"tension\", \"terrible\", \"terrible\", \"test\", \"test\", \"text\", \"texture\", \"thankful\", \"thankz\", \"theam\", \"thecard\", \"thenk\", \"thik\", \"thing\", \"thing\", \"tho\", \"tho\", \"thousand\", \"thousand\", \"thrill\", \"thumb\", \"ticket\", \"ticket\", \"tiday\", \"tier\", \"time\", \"time\", \"timeout\", \"timepass\", \"timepass\", \"timepass\", \"timer\", \"timer\", \"timespan\", \"tip\", \"tip\", \"tired\", \"tmobile\", \"today\", \"today\", \"today\", \"toe\", \"toggle\", \"token\", \"token\", \"token\", \"ton\", \"ton\", \"top\", \"total\", \"total\", \"total\", \"tourament\", \"tournament\", \"tourney\", \"town\", \"town\", \"traffic\", \"train\", \"train\", \"train\", \"transaction\", \"trash\", \"trash\", \"trillion\", \"trip\", \"trophy\", \"trouble\", \"trouble\", \"trouble\", \"troublesome\", \"troyble\", \"true\", \"true\", \"true\", \"trust\", \"tryd\", \"ttttttttttyt\", \"tube\", \"tuff\", \"tun\", \"turn\", \"tutorial\", \"twll\", \"tym\", \"tym\", \"tym\", \"type\", \"type\", \"type\", \"typing\", \"uber\", \"uinstalled\", \"unable\", \"unbeleivable\", \"unberable\", \"uncomfortable\", \"uncomfortalble\", \"uncompatible\", \"unethical\", \"unfair\", \"unfair\", \"uniinstall\", \"uninsalling\", \"uninstall\", \"uninstalle\", \"uninstalled\", \"uninstlled\", \"unlock\", \"unpleasant\", \"unpredictability\", \"unrealistic\", \"unrealistic\", \"unreliable\", \"unsatisfactory\", \"unstalling\", \"unsufficient\", \"unworthy\", \"update\", \"updated\", \"updating\", \"updating\", \"upgrading\", \"upward\", \"usable\", \"useing\", \"useless\", \"user\", \"utility\", \"uuuuggggh\", \"vailable\", \"vain\", \"variety\", \"variety\", \"veloper\", \"ver\", \"verdict\", \"verge\", \"version\", \"vibe\", \"vibrat\", \"vid\", \"video\", \"video\", \"vip\", \"voof\", \"vulgar\", \"waaaaaaaay\", \"wack\", \"waist\", \"wait\", \"waited\", \"waiting\", \"waiting\", \"wallet\", \"wallet\", \"wana\", \"wanna\", \"wasent\", \"waste\", \"waster\", \"wasting\", \"watch\", \"watch\", \"wath\", \"wayy\", \"wbat\", \"web\", \"week\", \"week\", \"weekly\", \"wery\", \"whack\", \"wheel\", \"whomever\", \"widespread\", \"width\", \"wifi\", \"wifi\", \"win\", \"win\", \"win\", \"wining\", \"winner\", \"winner\", \"winng\", \"winning\", \"wna\", \"woint\", \"woman\", \"wonderful\", \"wood\", \"word\", \"word\", \"word\", \"word\", \"work\", \"work\", \"world\", \"worth\", \"worthless\", \"woykd\", \"wpt\", \"wrath\", \"wrong\", \"wrong\", \"wsop\", \"wtf\", \"wud\", \"wun\", \"yar\", \"yday\", \"year\", \"year\", \"yesterday\", \"yesterday\", \"yousuck\", \"yyyyyyyy\", \"zyng\", \"zynga\", \"zynga\", \"zyngas\", \"zzzzzzz\"]}, \"R\": 30, \"lambda.step\": 0.01, \"plot.opts\": {\"xlab\": \"PC1\", \"ylab\": \"PC2\"}, \"topic.order\": [19, 12, 16, 3, 9, 18, 8, 6, 14, 11, 1, 4, 13, 20, 10, 5, 15, 7, 17, 2]};\n",
       "\n",
       "function LDAvis_load_lib(url, callback){\n",
       "  var s = document.createElement('script');\n",
       "  s.src = url;\n",
       "  s.async = true;\n",
       "  s.onreadystatechange = s.onload = callback;\n",
       "  s.onerror = function(){console.warn(\"failed to load library \" + url);};\n",
       "  document.getElementsByTagName(\"head\")[0].appendChild(s);\n",
       "}\n",
       "\n",
       "if(typeof(LDAvis) !== \"undefined\"){\n",
       "   // already loaded: just create the visualization\n",
       "   !function(LDAvis){\n",
       "       new LDAvis(\"#\" + \"ldavis_el389657492790566893037781\", ldavis_el389657492790566893037781_data);\n",
       "   }(LDAvis);\n",
       "}else if(typeof define === \"function\" && define.amd){\n",
       "   // require.js is available: use it to load d3/LDAvis\n",
       "   require.config({paths: {d3: \"https://cdnjs.cloudflare.com/ajax/libs/d3/3.5.5/d3.min\"}});\n",
       "   require([\"d3\"], function(d3){\n",
       "      window.d3 = d3;\n",
       "      LDAvis_load_lib(\"https://cdn.rawgit.com/bmabey/pyLDAvis/files/ldavis.v1.0.0.js\", function(){\n",
       "        new LDAvis(\"#\" + \"ldavis_el389657492790566893037781\", ldavis_el389657492790566893037781_data);\n",
       "      });\n",
       "    });\n",
       "}else{\n",
       "    // require.js not available: dynamically load d3 & LDAvis\n",
       "    LDAvis_load_lib(\"https://cdnjs.cloudflare.com/ajax/libs/d3/3.5.5/d3.min.js\", function(){\n",
       "         LDAvis_load_lib(\"https://cdn.rawgit.com/bmabey/pyLDAvis/files/ldavis.v1.0.0.js\", function(){\n",
       "                 new LDAvis(\"#\" + \"ldavis_el389657492790566893037781\", ldavis_el389657492790566893037781_data);\n",
       "            })\n",
       "         });\n",
       "}\n",
       "</script>"
      ],
      "text/plain": [
       "PreparedData(topic_coordinates=              x         y  topics  cluster      Freq\n",
       "topic                                               \n",
       "18     0.148440  0.048748       1        1  5.403781\n",
       "11     0.150962  0.074872       2        1  5.234112\n",
       "15     0.156577  0.101562       3        1  5.200749\n",
       "2      0.167559  0.280173       4        1  5.189631\n",
       "8      0.171201  0.264381       5        1  5.172176\n",
       "17     0.143771  0.018180       6        1  5.163582\n",
       "7      0.166235 -0.120157       7        1  5.073150\n",
       "5      0.146970  0.026436       8        1  5.059725\n",
       "13     0.138596 -0.234446       9        1  5.057121\n",
       "10     0.154270 -0.025106      10        1  5.055672\n",
       "0     -0.125816 -0.108461      11        1  5.036886\n",
       "3      0.172469 -0.082743      12        1  5.036018\n",
       "12     0.005499 -0.077349      13        1  5.031395\n",
       "19     0.110390 -0.242586      14        1  4.824610\n",
       "9     -0.332494  0.031361      15        1  4.784833\n",
       "4     -0.084251 -0.100640      16        1  4.779177\n",
       "14    -0.328909  0.034094      17        1  4.779144\n",
       "6     -0.333527  0.048938      18        1  4.750876\n",
       "16    -0.320897  0.016543      19        1  4.685440\n",
       "1     -0.307044  0.046200      20        1  4.681924, topic_info=         Term          Freq         Total Category  logprob  loglift\n",
       "42       game  59309.000000  59309.000000  Default  30.0000  30.0000\n",
       "103      good  37361.000000  37361.000000  Default  29.0000  29.0000\n",
       "34       time  16623.000000  16623.000000  Default  28.0000  28.0000\n",
       "33       chip  18396.000000  18396.000000  Default  27.0000  27.0000\n",
       "181     great  17410.000000  17410.000000  Default  26.0000  26.0000\n",
       "...       ...           ...           ...      ...      ...      ...\n",
       "42       game   8276.879122  59309.909445  Topic20  -1.2553   1.0922\n",
       "103      good   1568.105498  37361.016971  Topic20  -2.9188  -0.1093\n",
       "550   amazing    208.089829   1844.789458  Topic20  -4.9385   0.8793\n",
       "4240    sweet     58.392554    179.791557  Topic20  -6.2093   1.9369\n",
       "181     great    128.463619  17410.884901  Topic20  -5.4208  -1.8477\n",
       "\n",
       "[1483 rows x 6 columns], token_table=      Topic      Freq      Term\n",
       "term                           \n",
       "3247     18  0.997927         #\n",
       "1813      9  0.910083  abrasive\n",
       "99        2  0.948993  absolute\n",
       "99       10  0.036267  absolute\n",
       "99       19  0.012089  absolute\n",
       "...     ...       ...       ...\n",
       "4137     19  1.037698      zyng\n",
       "334       4  0.094997     zynga\n",
       "334      16  0.895691     zynga\n",
       "2776      5  0.975880    zyngas\n",
       "6568     17  0.941597   zzzzzzz\n",
       "\n",
       "[1896 rows x 3 columns], R=30, lambda_step=0.01, plot_opts={'xlab': 'PC1', 'ylab': 'PC2'}, topic_order=[19, 12, 16, 3, 9, 18, 8, 6, 14, 11, 1, 4, 13, 20, 10, 5, 15, 7, 17, 2])"
      ]
     },
     "execution_count": 100,
     "metadata": {},
     "output_type": "execute_result"
    }
   ],
   "source": [
    "pyLDAvis.enable_notebook()\n",
    "vis = pyLDAvis.gensim.prepare(final_model, corpus, id2word)\n",
    "vis"
   ]
  },
  {
   "cell_type": "markdown",
   "metadata": {
    "colab": {},
    "colab_type": "code",
    "id": "SjFr-lRWE8Bv"
   },
   "source": [
    "### Find dominant topic in each review"
   ]
  },
  {
   "cell_type": "code",
   "execution_count": 52,
   "metadata": {},
   "outputs": [],
   "source": [
    "def format_topics_sentences(ldamodel=lda_model, corpus=corpus, texts=df['content']):\n",
    "    # Init output\n",
    "    sent_topics_df = pd.DataFrame()\n",
    "\n",
    "    # Get main topic in each document\n",
    "    for i, row in enumerate(ldamodel[corpus]):\n",
    "        row = sorted(row, key=lambda x: (x[1]), reverse=True)\n",
    "        # Get the Dominant topic, Perc Contribution and Keywords for each document\n",
    "        for j, (topic_num, prop_topic) in enumerate(row):\n",
    "            if j == 0:  # => dominant topic\n",
    "                wp = ldamodel.show_topic(topic_num)\n",
    "                topic_keywords = \", \".join([word for word, prop in wp])\n",
    "                sent_topics_df = sent_topics_df.append(pd.Series([int(topic_num), round(prop_topic,4), topic_keywords]), ignore_index=True)\n",
    "            else:\n",
    "                break\n",
    "    sent_topics_df.columns = ['Dominant_Topic', 'Perc_Contribution', 'Topic_Keywords']\n",
    "\n",
    "    # Add original text to the end of the output\n",
    "    contents = pd.Series(texts)\n",
    "    sent_topics_df = pd.concat([sent_topics_df, contents], axis=1)\n",
    "    return(sent_topics_df)"
   ]
  },
  {
   "cell_type": "code",
   "execution_count": 53,
   "metadata": {},
   "outputs": [],
   "source": [
    "# Using the original reviews\n",
    "df_topic_sents_keywords = format_topics_sentences(ldamodel=optimal_model, corpus=corpus, texts=df['content'])"
   ]
  },
  {
   "cell_type": "code",
   "execution_count": 54,
   "metadata": {},
   "outputs": [],
   "source": [
    "# Save this dataframe\n",
    "with open('df_topic_sents_keywords.pkl', 'wb') as fp:   #Pickling\n",
    "    pickle.dump(df_topic_sents_keywords, fp)"
   ]
  },
  {
   "cell_type": "code",
   "execution_count": 55,
   "metadata": {},
   "outputs": [],
   "source": [
    "with open('df_topic_sents_keywords.pkl', 'rb') as fp:   # Unpickling\n",
    "    df_topic_sents_keywords = pickle.load(fp)                 # This will be used to create our corpus"
   ]
  },
  {
   "cell_type": "code",
   "execution_count": 60,
   "metadata": {},
   "outputs": [],
   "source": [
    "df_topic_sents_keywords = df_topic_sents_keywords[~df_topic_sents_keywords['content'].isna()]"
   ]
  },
  {
   "cell_type": "code",
   "execution_count": 63,
   "metadata": {},
   "outputs": [
    {
     "data": {
      "text/html": [
       "<div>\n",
       "<style scoped>\n",
       "    .dataframe tbody tr th:only-of-type {\n",
       "        vertical-align: middle;\n",
       "    }\n",
       "\n",
       "    .dataframe tbody tr th {\n",
       "        vertical-align: top;\n",
       "    }\n",
       "\n",
       "    .dataframe thead th {\n",
       "        text-align: right;\n",
       "    }\n",
       "</style>\n",
       "<table border=\"1\" class=\"dataframe\">\n",
       "  <thead>\n",
       "    <tr style=\"text-align: right;\">\n",
       "      <th></th>\n",
       "      <th>Review_No</th>\n",
       "      <th>Dominant_Topic</th>\n",
       "      <th>Topic_Perc_Contrib</th>\n",
       "      <th>Keywords</th>\n",
       "      <th>Text</th>\n",
       "    </tr>\n",
       "  </thead>\n",
       "  <tbody>\n",
       "    <tr>\n",
       "      <th>0</th>\n",
       "      <td>0</td>\n",
       "      <td>15.0</td>\n",
       "      <td>0.0764</td>\n",
       "      <td>money, real, win, big, lose, people, loose, amount, buy, fake</td>\n",
       "      <td>They have the antention to make you loose in order to buy very very bad ecperince not recommend at all</td>\n",
       "    </tr>\n",
       "    <tr>\n",
       "      <th>1</th>\n",
       "      <td>1</td>\n",
       "      <td>11.0</td>\n",
       "      <td>0.0865</td>\n",
       "      <td>player, people, fair, bot, high, level, low, computer, stake, cheater</td>\n",
       "      <td>Zynga is rigged and only favors Facebook players</td>\n",
       "    </tr>\n",
       "    <tr>\n",
       "      <th>2</th>\n",
       "      <td>2</td>\n",
       "      <td>12.0</td>\n",
       "      <td>0.0807</td>\n",
       "      <td>poker, year, playing, site, play, experience, online, point, world, realistic</td>\n",
       "      <td>Hopeless poker game.. Restriction betting.</td>\n",
       "    </tr>\n",
       "    <tr>\n",
       "      <th>3</th>\n",
       "      <td>3</td>\n",
       "      <td>8.0</td>\n",
       "      <td>0.1034</td>\n",
       "      <td>bad, chip, guy, crap, luck, poor, customer, due, system, horrible</td>\n",
       "      <td>Very bad !! After a few months playing, they cut off all stakes tables except 2 ( 100k/200k &amp; 1m/2m ) other stakes do mot exist any more , and not returning high stakes tables for over a month now! Not responding to emails to fix this huge problem in the contact center at all ! Don't get this app.</td>\n",
       "    </tr>\n",
       "    <tr>\n",
       "      <th>4</th>\n",
       "      <td>4</td>\n",
       "      <td>13.0</td>\n",
       "      <td>0.0844</td>\n",
       "      <td>star, play, account, reason, log, app, change, download, facebook, rate</td>\n",
       "      <td>👍 👍I tried a lot to log in but not responsed I loged in by Facebook from 2010 why now not worked</td>\n",
       "    </tr>\n",
       "    <tr>\n",
       "      <th>5</th>\n",
       "      <td>5</td>\n",
       "      <td>0.0</td>\n",
       "      <td>0.0500</td>\n",
       "      <td>game, day, play, gift, thing, hour, ad, stupid, happy, week</td>\n",
       "      <td>Never opens</td>\n",
       "    </tr>\n",
       "    <tr>\n",
       "      <th>6</th>\n",
       "      <td>6</td>\n",
       "      <td>0.0</td>\n",
       "      <td>0.0648</td>\n",
       "      <td>game, day, play, gift, thing, hour, ad, stupid, happy, week</td>\n",
       "      <td>WARNING! If you close all during one of their ads, they will turn your media volume off!</td>\n",
       "    </tr>\n",
       "    <tr>\n",
       "      <th>7</th>\n",
       "      <td>7</td>\n",
       "      <td>8.0</td>\n",
       "      <td>0.0648</td>\n",
       "      <td>bad, chip, guy, crap, luck, poor, customer, due, system, horrible</td>\n",
       "      <td>Since update it does not let me enter big tables. Only 1-2mill.</td>\n",
       "    </tr>\n",
       "    <tr>\n",
       "      <th>8</th>\n",
       "      <td>8</td>\n",
       "      <td>18.0</td>\n",
       "      <td>0.0686</td>\n",
       "      <td>hand, card, full, pair, pot, straight, flush, kind, random, person</td>\n",
       "      <td>Totally buyers algorithm</td>\n",
       "    </tr>\n",
       "    <tr>\n",
       "      <th>9</th>\n",
       "      <td>9</td>\n",
       "      <td>5.0</td>\n",
       "      <td>0.0660</td>\n",
       "      <td>time, long, alot, waste, worth, terrible, winning, mil, garbage, half</td>\n",
       "      <td>Bots win every time so you buy more chips</td>\n",
       "    </tr>\n",
       "  </tbody>\n",
       "</table>\n",
       "</div>"
      ],
      "text/plain": [
       "   Review_No  Dominant_Topic  Topic_Perc_Contrib  \\\n",
       "0          0            15.0              0.0764   \n",
       "1          1            11.0              0.0865   \n",
       "2          2            12.0              0.0807   \n",
       "3          3             8.0              0.1034   \n",
       "4          4            13.0              0.0844   \n",
       "5          5             0.0              0.0500   \n",
       "6          6             0.0              0.0648   \n",
       "7          7             8.0              0.0648   \n",
       "8          8            18.0              0.0686   \n",
       "9          9             5.0              0.0660   \n",
       "\n",
       "                                                                        Keywords  \\\n",
       "0                  money, real, win, big, lose, people, loose, amount, buy, fake   \n",
       "1          player, people, fair, bot, high, level, low, computer, stake, cheater   \n",
       "2  poker, year, playing, site, play, experience, online, point, world, realistic   \n",
       "3              bad, chip, guy, crap, luck, poor, customer, due, system, horrible   \n",
       "4        star, play, account, reason, log, app, change, download, facebook, rate   \n",
       "5                    game, day, play, gift, thing, hour, ad, stupid, happy, week   \n",
       "6                    game, day, play, gift, thing, hour, ad, stupid, happy, week   \n",
       "7              bad, chip, guy, crap, luck, poor, customer, due, system, horrible   \n",
       "8             hand, card, full, pair, pot, straight, flush, kind, random, person   \n",
       "9          time, long, alot, waste, worth, terrible, winning, mil, garbage, half   \n",
       "\n",
       "                                                                                                                                                                                                                                                                                                         Text  \n",
       "0                                                                                                                                                                                                      They have the antention to make you loose in order to buy very very bad ecperince not recommend at all  \n",
       "1                                                                                                                                                                                                                                                            Zynga is rigged and only favors Facebook players  \n",
       "2                                                                                                                                                                                                                                                                  Hopeless poker game.. Restriction betting.  \n",
       "3  Very bad !! After a few months playing, they cut off all stakes tables except 2 ( 100k/200k & 1m/2m ) other stakes do mot exist any more , and not returning high stakes tables for over a month now! Not responding to emails to fix this huge problem in the contact center at all ! Don't get this app.  \n",
       "4                                                                                                                                                                                                            👍 👍I tried a lot to log in but not responsed I loged in by Facebook from 2010 why now not worked  \n",
       "5                                                                                                                                                                                                                                                                                                 Never opens  \n",
       "6                                                                                                                                                                                                                    WARNING! If you close all during one of their ads, they will turn your media volume off!  \n",
       "7                                                                                                                                                                                                                                             Since update it does not let me enter big tables. Only 1-2mill.  \n",
       "8                                                                                                                                                                                                                                                                                    Totally buyers algorithm  \n",
       "9                                                                                                                                                                                                                                                                   Bots win every time so you buy more chips  "
      ]
     },
     "execution_count": 63,
     "metadata": {},
     "output_type": "execute_result"
    }
   ],
   "source": [
    "# Format\n",
    "df_dominant_topic = df_topic_sents_keywords.reset_index()\n",
    "df_dominant_topic.columns = ['Review_No', 'Dominant_Topic', 'Topic_Perc_Contrib', 'Keywords', 'Text']\n",
    "\n",
    "# Show\n",
    "df_dominant_topic.head(10)"
   ]
  },
  {
   "cell_type": "markdown",
   "metadata": {},
   "source": [
    "### Rating Distribution by Topic"
   ]
  },
  {
   "cell_type": "code",
   "execution_count": 145,
   "metadata": {},
   "outputs": [],
   "source": [
    "# Removed null reviews from original dataframe\n",
    "df = df[~df['content'].isna()]\n",
    "df = df.reset_index(drop=True)"
   ]
  },
  {
   "cell_type": "code",
   "execution_count": 151,
   "metadata": {},
   "outputs": [
    {
     "data": {
      "text/plain": [
       "True"
      ]
     },
     "execution_count": 151,
     "metadata": {},
     "output_type": "execute_result"
    }
   ],
   "source": [
    "df['content'].equals(df_dominant_topic['Text'])"
   ]
  },
  {
   "cell_type": "code",
   "execution_count": 155,
   "metadata": {},
   "outputs": [],
   "source": [
    "df_dominant_topic[['Rating', 'Version', 'Date']] = df[['score', 'reviewCreatedVersion', 'at']]"
   ]
  },
  {
   "cell_type": "code",
   "execution_count": 159,
   "metadata": {},
   "outputs": [
    {
     "data": {
      "text/html": [
       "<div>\n",
       "<style scoped>\n",
       "    .dataframe tbody tr th:only-of-type {\n",
       "        vertical-align: middle;\n",
       "    }\n",
       "\n",
       "    .dataframe tbody tr th {\n",
       "        vertical-align: top;\n",
       "    }\n",
       "\n",
       "    .dataframe thead th {\n",
       "        text-align: right;\n",
       "    }\n",
       "</style>\n",
       "<table border=\"1\" class=\"dataframe\">\n",
       "  <thead>\n",
       "    <tr style=\"text-align: right;\">\n",
       "      <th></th>\n",
       "      <th>Review_No</th>\n",
       "      <th>Dominant_Topic</th>\n",
       "      <th>Topic_Perc_Contrib</th>\n",
       "      <th>Keywords</th>\n",
       "      <th>Text</th>\n",
       "      <th>Rating</th>\n",
       "      <th>Version</th>\n",
       "      <th>Date</th>\n",
       "    </tr>\n",
       "  </thead>\n",
       "  <tbody>\n",
       "    <tr>\n",
       "      <th>0</th>\n",
       "      <td>0</td>\n",
       "      <td>15.0</td>\n",
       "      <td>0.0764</td>\n",
       "      <td>money, real, win, big, lose, people, loose, amount, buy, fake</td>\n",
       "      <td>They have the antention to make you loose in order to buy very very bad ecperince not recommend at all</td>\n",
       "      <td>1</td>\n",
       "      <td>NaN</td>\n",
       "      <td>2020-06-22 00:40:06</td>\n",
       "    </tr>\n",
       "  </tbody>\n",
       "</table>\n",
       "</div>"
      ],
      "text/plain": [
       "   Review_No  Dominant_Topic  Topic_Perc_Contrib  \\\n",
       "0          0            15.0              0.0764   \n",
       "\n",
       "                                                        Keywords  \\\n",
       "0  money, real, win, big, lose, people, loose, amount, buy, fake   \n",
       "\n",
       "                                                                                                     Text  \\\n",
       "0  They have the antention to make you loose in order to buy very very bad ecperince not recommend at all   \n",
       "\n",
       "   Rating Version                 Date  \n",
       "0       1     NaN  2020-06-22 00:40:06  "
      ]
     },
     "execution_count": 159,
     "metadata": {},
     "output_type": "execute_result"
    }
   ],
   "source": [
    "df_dominant_topic.head(1)"
   ]
  },
  {
   "cell_type": "code",
   "execution_count": 169,
   "metadata": {},
   "outputs": [],
   "source": [
    "df_dom_topic_rating = df_dominant_topic.groupby(['Dominant_Topic', 'Rating'])['Review_No'].count().reset_index().pivot_table('Review_No', ['Dominant_Topic'], 'Rating')"
   ]
  },
  {
   "cell_type": "code",
   "execution_count": 177,
   "metadata": {},
   "outputs": [
    {
     "data": {
      "text/html": [
       "<div>\n",
       "<style scoped>\n",
       "    .dataframe tbody tr th:only-of-type {\n",
       "        vertical-align: middle;\n",
       "    }\n",
       "\n",
       "    .dataframe tbody tr th {\n",
       "        vertical-align: top;\n",
       "    }\n",
       "\n",
       "    .dataframe thead th {\n",
       "        text-align: right;\n",
       "    }\n",
       "</style>\n",
       "<table border=\"1\" class=\"dataframe\">\n",
       "  <thead>\n",
       "    <tr style=\"text-align: right;\">\n",
       "      <th>Rating</th>\n",
       "      <th>1</th>\n",
       "      <th>2</th>\n",
       "      <th>3</th>\n",
       "      <th>4</th>\n",
       "      <th>5</th>\n",
       "    </tr>\n",
       "    <tr>\n",
       "      <th>Dominant_Topic</th>\n",
       "      <th></th>\n",
       "      <th></th>\n",
       "      <th></th>\n",
       "      <th></th>\n",
       "      <th></th>\n",
       "    </tr>\n",
       "  </thead>\n",
       "  <tbody>\n",
       "    <tr>\n",
       "      <th>0.0</th>\n",
       "      <td>5909</td>\n",
       "      <td>1423</td>\n",
       "      <td>3088</td>\n",
       "      <td>7362</td>\n",
       "      <td>21818</td>\n",
       "    </tr>\n",
       "    <tr>\n",
       "      <th>1.0</th>\n",
       "      <td>289</td>\n",
       "      <td>94</td>\n",
       "      <td>334</td>\n",
       "      <td>1836</td>\n",
       "      <td>8613</td>\n",
       "    </tr>\n",
       "    <tr>\n",
       "      <th>2.0</th>\n",
       "      <td>2518</td>\n",
       "      <td>642</td>\n",
       "      <td>936</td>\n",
       "      <td>1296</td>\n",
       "      <td>2476</td>\n",
       "    </tr>\n",
       "    <tr>\n",
       "      <th>3.0</th>\n",
       "      <td>3174</td>\n",
       "      <td>1016</td>\n",
       "      <td>1234</td>\n",
       "      <td>1367</td>\n",
       "      <td>1017</td>\n",
       "    </tr>\n",
       "    <tr>\n",
       "      <th>4.0</th>\n",
       "      <td>588</td>\n",
       "      <td>219</td>\n",
       "      <td>538</td>\n",
       "      <td>2718</td>\n",
       "      <td>9769</td>\n",
       "    </tr>\n",
       "    <tr>\n",
       "      <th>5.0</th>\n",
       "      <td>2138</td>\n",
       "      <td>482</td>\n",
       "      <td>681</td>\n",
       "      <td>1625</td>\n",
       "      <td>2851</td>\n",
       "    </tr>\n",
       "    <tr>\n",
       "      <th>6.0</th>\n",
       "      <td>401</td>\n",
       "      <td>101</td>\n",
       "      <td>415</td>\n",
       "      <td>2113</td>\n",
       "      <td>8602</td>\n",
       "    </tr>\n",
       "    <tr>\n",
       "      <th>7.0</th>\n",
       "      <td>2669</td>\n",
       "      <td>740</td>\n",
       "      <td>825</td>\n",
       "      <td>1079</td>\n",
       "      <td>1472</td>\n",
       "    </tr>\n",
       "    <tr>\n",
       "      <th>8.0</th>\n",
       "      <td>3360</td>\n",
       "      <td>434</td>\n",
       "      <td>563</td>\n",
       "      <td>791</td>\n",
       "      <td>1164</td>\n",
       "    </tr>\n",
       "    <tr>\n",
       "      <th>9.0</th>\n",
       "      <td>338</td>\n",
       "      <td>99</td>\n",
       "      <td>454</td>\n",
       "      <td>1981</td>\n",
       "      <td>7837</td>\n",
       "    </tr>\n",
       "    <tr>\n",
       "      <th>10.0</th>\n",
       "      <td>3717</td>\n",
       "      <td>901</td>\n",
       "      <td>954</td>\n",
       "      <td>1032</td>\n",
       "      <td>820</td>\n",
       "    </tr>\n",
       "    <tr>\n",
       "      <th>11.0</th>\n",
       "      <td>2078</td>\n",
       "      <td>408</td>\n",
       "      <td>587</td>\n",
       "      <td>1036</td>\n",
       "      <td>1659</td>\n",
       "    </tr>\n",
       "    <tr>\n",
       "      <th>12.0</th>\n",
       "      <td>852</td>\n",
       "      <td>206</td>\n",
       "      <td>411</td>\n",
       "      <td>1382</td>\n",
       "      <td>4156</td>\n",
       "    </tr>\n",
       "    <tr>\n",
       "      <th>13.0</th>\n",
       "      <td>2244</td>\n",
       "      <td>558</td>\n",
       "      <td>669</td>\n",
       "      <td>866</td>\n",
       "      <td>967</td>\n",
       "    </tr>\n",
       "    <tr>\n",
       "      <th>14.0</th>\n",
       "      <td>272</td>\n",
       "      <td>84</td>\n",
       "      <td>390</td>\n",
       "      <td>1853</td>\n",
       "      <td>6852</td>\n",
       "    </tr>\n",
       "    <tr>\n",
       "      <th>15.0</th>\n",
       "      <td>1990</td>\n",
       "      <td>396</td>\n",
       "      <td>539</td>\n",
       "      <td>864</td>\n",
       "      <td>1902</td>\n",
       "    </tr>\n",
       "    <tr>\n",
       "      <th>16.0</th>\n",
       "      <td>166</td>\n",
       "      <td>34</td>\n",
       "      <td>163</td>\n",
       "      <td>1324</td>\n",
       "      <td>8171</td>\n",
       "    </tr>\n",
       "    <tr>\n",
       "      <th>17.0</th>\n",
       "      <td>1542</td>\n",
       "      <td>681</td>\n",
       "      <td>982</td>\n",
       "      <td>1441</td>\n",
       "      <td>1315</td>\n",
       "    </tr>\n",
       "    <tr>\n",
       "      <th>18.0</th>\n",
       "      <td>2747</td>\n",
       "      <td>697</td>\n",
       "      <td>780</td>\n",
       "      <td>738</td>\n",
       "      <td>920</td>\n",
       "    </tr>\n",
       "    <tr>\n",
       "      <th>19.0</th>\n",
       "      <td>284</td>\n",
       "      <td>105</td>\n",
       "      <td>449</td>\n",
       "      <td>2566</td>\n",
       "      <td>7351</td>\n",
       "    </tr>\n",
       "  </tbody>\n",
       "</table>\n",
       "</div>"
      ],
      "text/plain": [
       "Rating             1     2     3     4      5\n",
       "Dominant_Topic                               \n",
       "0.0             5909  1423  3088  7362  21818\n",
       "1.0              289    94   334  1836   8613\n",
       "2.0             2518   642   936  1296   2476\n",
       "3.0             3174  1016  1234  1367   1017\n",
       "4.0              588   219   538  2718   9769\n",
       "5.0             2138   482   681  1625   2851\n",
       "6.0              401   101   415  2113   8602\n",
       "7.0             2669   740   825  1079   1472\n",
       "8.0             3360   434   563   791   1164\n",
       "9.0              338    99   454  1981   7837\n",
       "10.0            3717   901   954  1032    820\n",
       "11.0            2078   408   587  1036   1659\n",
       "12.0             852   206   411  1382   4156\n",
       "13.0            2244   558   669   866    967\n",
       "14.0             272    84   390  1853   6852\n",
       "15.0            1990   396   539   864   1902\n",
       "16.0             166    34   163  1324   8171\n",
       "17.0            1542   681   982  1441   1315\n",
       "18.0            2747   697   780   738    920\n",
       "19.0             284   105   449  2566   7351"
      ]
     },
     "execution_count": 177,
     "metadata": {},
     "output_type": "execute_result"
    }
   ],
   "source": [
    "df_dom_topic_rating"
   ]
  },
  {
   "cell_type": "markdown",
   "metadata": {},
   "source": [
    "### Topic Distribution"
   ]
  },
  {
   "cell_type": "code",
   "execution_count": 167,
   "metadata": {},
   "outputs": [],
   "source": [
    "df_dominant_topics_dist = df_topic_sents_keywords[['Dominant_Topic', 'Topic_Keywords']].groupby(['Dominant_Topic', 'Topic_Keywords'])['Topic_Keywords'].count().reset_index(name='Num_Reviews')\n",
    "\n",
    "df_dominant_topics_dist['Perc_Reviews'] = ((df_dominant_topics_dist['Num_Reviews'])/(df_dominant_topics_dist['Num_Reviews'].sum()))*100\n",
    "\n",
    "df_dominant_topics_dist['Dominant_Topic'] = df_dominant_topics_dist['Dominant_Topic'] + 1"
   ]
  },
  {
   "cell_type": "code",
   "execution_count": 194,
   "metadata": {},
   "outputs": [],
   "source": [
    "df_dominant_topics_dist['1_Star'] = df_dom_topic_rating.iloc[:,:1]\n",
    "df_dominant_topics_dist['2_Star'] = df_dom_topic_rating.iloc[:,1:2]\n",
    "df_dominant_topics_dist['3_Star'] = df_dom_topic_rating.iloc[:,2:3]\n",
    "df_dominant_topics_dist['4_Star'] = df_dom_topic_rating.iloc[:,3:4]\n",
    "df_dominant_topics_dist['5_Star'] = df_dom_topic_rating.iloc[:,4:5]"
   ]
  },
  {
   "cell_type": "code",
   "execution_count": 195,
   "metadata": {},
   "outputs": [
    {
     "data": {
      "text/html": [
       "<div>\n",
       "<style scoped>\n",
       "    .dataframe tbody tr th:only-of-type {\n",
       "        vertical-align: middle;\n",
       "    }\n",
       "\n",
       "    .dataframe tbody tr th {\n",
       "        vertical-align: top;\n",
       "    }\n",
       "\n",
       "    .dataframe thead th {\n",
       "        text-align: right;\n",
       "    }\n",
       "</style>\n",
       "<table border=\"1\" class=\"dataframe\">\n",
       "  <thead>\n",
       "    <tr style=\"text-align: right;\">\n",
       "      <th></th>\n",
       "      <th>Dominant_Topic</th>\n",
       "      <th>Topic_Keywords</th>\n",
       "      <th>Num_Reviews</th>\n",
       "      <th>Perc_Reviews</th>\n",
       "      <th>1_Star</th>\n",
       "      <th>2_Star</th>\n",
       "      <th>3_Star</th>\n",
       "      <th>4_Star</th>\n",
       "      <th>5_Star</th>\n",
       "    </tr>\n",
       "  </thead>\n",
       "  <tbody>\n",
       "    <tr>\n",
       "      <th>0</th>\n",
       "      <td>1.0</td>\n",
       "      <td>game, day, play, gift, thing, hour, ad, stupid, happy, week</td>\n",
       "      <td>39600</td>\n",
       "      <td>20.143446</td>\n",
       "      <td>5909</td>\n",
       "      <td>1423</td>\n",
       "      <td>3088</td>\n",
       "      <td>7362</td>\n",
       "      <td>21818</td>\n",
       "    </tr>\n",
       "    <tr>\n",
       "      <th>1</th>\n",
       "      <td>2.0</td>\n",
       "      <td>game, love, nice, awesome, cool, good, excellent, brilliant, lol, interesting</td>\n",
       "      <td>11166</td>\n",
       "      <td>5.679841</td>\n",
       "      <td>289</td>\n",
       "      <td>94</td>\n",
       "      <td>334</td>\n",
       "      <td>1836</td>\n",
       "      <td>8613</td>\n",
       "    </tr>\n",
       "    <tr>\n",
       "      <th>2</th>\n",
       "      <td>3.0</td>\n",
       "      <td>chip, free, spin, bonus, coin, gold, purchase, lucky, video, daily</td>\n",
       "      <td>7868</td>\n",
       "      <td>4.002238</td>\n",
       "      <td>2518</td>\n",
       "      <td>642</td>\n",
       "      <td>936</td>\n",
       "      <td>1296</td>\n",
       "      <td>2476</td>\n",
       "    </tr>\n",
       "    <tr>\n",
       "      <th>3</th>\n",
       "      <td>4.0</td>\n",
       "      <td>problem, fix, connection, app, issue, error, bug, internet, work, open</td>\n",
       "      <td>7808</td>\n",
       "      <td>3.971718</td>\n",
       "      <td>3174</td>\n",
       "      <td>1016</td>\n",
       "      <td>1234</td>\n",
       "      <td>1367</td>\n",
       "      <td>1017</td>\n",
       "    </tr>\n",
       "    <tr>\n",
       "      <th>4</th>\n",
       "      <td>5.0</td>\n",
       "      <td>great, game, slow, graphic, fun, enjoyable, fast, job, fantastic, bit</td>\n",
       "      <td>13832</td>\n",
       "      <td>7.035963</td>\n",
       "      <td>588</td>\n",
       "      <td>219</td>\n",
       "      <td>538</td>\n",
       "      <td>2718</td>\n",
       "      <td>9769</td>\n",
       "    </tr>\n",
       "    <tr>\n",
       "      <th>5</th>\n",
       "      <td>6.0</td>\n",
       "      <td>time, long, alot, waste, worth, terrible, winning, mil, garbage, half</td>\n",
       "      <td>7777</td>\n",
       "      <td>3.955949</td>\n",
       "      <td>2138</td>\n",
       "      <td>482</td>\n",
       "      <td>681</td>\n",
       "      <td>1625</td>\n",
       "      <td>2851</td>\n",
       "    </tr>\n",
       "    <tr>\n",
       "      <th>6</th>\n",
       "      <td>7.0</td>\n",
       "      <td>game, nice, good, enjoy, perfect, wonderful, sweet, brilliant, addicted, entertaining</td>\n",
       "      <td>11632</td>\n",
       "      <td>5.916883</td>\n",
       "      <td>401</td>\n",
       "      <td>101</td>\n",
       "      <td>415</td>\n",
       "      <td>2113</td>\n",
       "      <td>8602</td>\n",
       "    </tr>\n",
       "    <tr>\n",
       "      <th>7</th>\n",
       "      <td>8.0</td>\n",
       "      <td>app, phone, notification, annoying, uninstalled, uninstall, message, turn, minute, delete</td>\n",
       "      <td>6785</td>\n",
       "      <td>3.451345</td>\n",
       "      <td>2669</td>\n",
       "      <td>740</td>\n",
       "      <td>825</td>\n",
       "      <td>1079</td>\n",
       "      <td>1472</td>\n",
       "    </tr>\n",
       "    <tr>\n",
       "      <th>8</th>\n",
       "      <td>9.0</td>\n",
       "      <td>bad, chip, guy, crap, luck, poor, customer, due, system, horrible</td>\n",
       "      <td>6312</td>\n",
       "      <td>3.210743</td>\n",
       "      <td>3360</td>\n",
       "      <td>434</td>\n",
       "      <td>563</td>\n",
       "      <td>791</td>\n",
       "      <td>1164</td>\n",
       "    </tr>\n",
       "    <tr>\n",
       "      <th>9</th>\n",
       "      <td>10.0</td>\n",
       "      <td>good, game, poker, favorite, favourite, pro, token, gooood, multiplayer, stuff</td>\n",
       "      <td>10709</td>\n",
       "      <td>5.447378</td>\n",
       "      <td>338</td>\n",
       "      <td>99</td>\n",
       "      <td>454</td>\n",
       "      <td>1981</td>\n",
       "      <td>7837</td>\n",
       "    </tr>\n",
       "    <tr>\n",
       "      <th>10</th>\n",
       "      <td>11.0</td>\n",
       "      <td>update, version, screen, work, load, button, bet, force, close, fold</td>\n",
       "      <td>7424</td>\n",
       "      <td>3.776387</td>\n",
       "      <td>3717</td>\n",
       "      <td>901</td>\n",
       "      <td>954</td>\n",
       "      <td>1032</td>\n",
       "      <td>820</td>\n",
       "    </tr>\n",
       "    <tr>\n",
       "      <th>11</th>\n",
       "      <td>12.0</td>\n",
       "      <td>player, people, fair, bot, high, level, low, computer, stake, cheater</td>\n",
       "      <td>5768</td>\n",
       "      <td>2.934025</td>\n",
       "      <td>2078</td>\n",
       "      <td>408</td>\n",
       "      <td>587</td>\n",
       "      <td>1036</td>\n",
       "      <td>1659</td>\n",
       "    </tr>\n",
       "    <tr>\n",
       "      <th>12</th>\n",
       "      <td>13.0</td>\n",
       "      <td>poker, year, playing, site, play, experience, online, point, world, realistic</td>\n",
       "      <td>7007</td>\n",
       "      <td>3.564271</td>\n",
       "      <td>852</td>\n",
       "      <td>206</td>\n",
       "      <td>411</td>\n",
       "      <td>1382</td>\n",
       "      <td>4156</td>\n",
       "    </tr>\n",
       "    <tr>\n",
       "      <th>13</th>\n",
       "      <td>14.0</td>\n",
       "      <td>star, play, account, reason, log, app, change, download, facebook, rate</td>\n",
       "      <td>5304</td>\n",
       "      <td>2.698001</td>\n",
       "      <td>2244</td>\n",
       "      <td>558</td>\n",
       "      <td>669</td>\n",
       "      <td>866</td>\n",
       "      <td>967</td>\n",
       "    </tr>\n",
       "    <tr>\n",
       "      <th>14</th>\n",
       "      <td>15.0</td>\n",
       "      <td>good, game, poker, mind, practice, market, blast, baby, girl, boy</td>\n",
       "      <td>9451</td>\n",
       "      <td>4.807467</td>\n",
       "      <td>272</td>\n",
       "      <td>84</td>\n",
       "      <td>390</td>\n",
       "      <td>1853</td>\n",
       "      <td>6852</td>\n",
       "    </tr>\n",
       "    <tr>\n",
       "      <th>15</th>\n",
       "      <td>16.0</td>\n",
       "      <td>money, real, win, big, lose, people, loose, amount, buy, fake</td>\n",
       "      <td>5691</td>\n",
       "      <td>2.894857</td>\n",
       "      <td>1990</td>\n",
       "      <td>396</td>\n",
       "      <td>539</td>\n",
       "      <td>864</td>\n",
       "      <td>1902</td>\n",
       "    </tr>\n",
       "    <tr>\n",
       "      <th>16</th>\n",
       "      <td>17.0</td>\n",
       "      <td>game, love, good, awesome, great, addictive, amazing, excellent, beautiful, busy</td>\n",
       "      <td>9858</td>\n",
       "      <td>5.014497</td>\n",
       "      <td>166</td>\n",
       "      <td>34</td>\n",
       "      <td>163</td>\n",
       "      <td>1324</td>\n",
       "      <td>8171</td>\n",
       "    </tr>\n",
       "    <tr>\n",
       "      <th>17</th>\n",
       "      <td>18.0</td>\n",
       "      <td>table, friend, tournament, option, buddy, place, sit, room, top, small</td>\n",
       "      <td>5961</td>\n",
       "      <td>3.032199</td>\n",
       "      <td>1542</td>\n",
       "      <td>681</td>\n",
       "      <td>982</td>\n",
       "      <td>1441</td>\n",
       "      <td>1315</td>\n",
       "    </tr>\n",
       "    <tr>\n",
       "      <th>18</th>\n",
       "      <td>19.0</td>\n",
       "      <td>hand, card, full, pair, pot, straight, flush, kind, random, person</td>\n",
       "      <td>5882</td>\n",
       "      <td>2.992014</td>\n",
       "      <td>2747</td>\n",
       "      <td>697</td>\n",
       "      <td>780</td>\n",
       "      <td>738</td>\n",
       "      <td>920</td>\n",
       "    </tr>\n",
       "    <tr>\n",
       "      <th>19</th>\n",
       "      <td>20.0</td>\n",
       "      <td>fun, play, lot, easy, great, challenge, exciting, quick, control, simple</td>\n",
       "      <td>10755</td>\n",
       "      <td>5.470777</td>\n",
       "      <td>284</td>\n",
       "      <td>105</td>\n",
       "      <td>449</td>\n",
       "      <td>2566</td>\n",
       "      <td>7351</td>\n",
       "    </tr>\n",
       "  </tbody>\n",
       "</table>\n",
       "</div>"
      ],
      "text/plain": [
       "    Dominant_Topic  \\\n",
       "0              1.0   \n",
       "1              2.0   \n",
       "2              3.0   \n",
       "3              4.0   \n",
       "4              5.0   \n",
       "5              6.0   \n",
       "6              7.0   \n",
       "7              8.0   \n",
       "8              9.0   \n",
       "9             10.0   \n",
       "10            11.0   \n",
       "11            12.0   \n",
       "12            13.0   \n",
       "13            14.0   \n",
       "14            15.0   \n",
       "15            16.0   \n",
       "16            17.0   \n",
       "17            18.0   \n",
       "18            19.0   \n",
       "19            20.0   \n",
       "\n",
       "                                                                               Topic_Keywords  \\\n",
       "0                                 game, day, play, gift, thing, hour, ad, stupid, happy, week   \n",
       "1               game, love, nice, awesome, cool, good, excellent, brilliant, lol, interesting   \n",
       "2                          chip, free, spin, bonus, coin, gold, purchase, lucky, video, daily   \n",
       "3                      problem, fix, connection, app, issue, error, bug, internet, work, open   \n",
       "4                       great, game, slow, graphic, fun, enjoyable, fast, job, fantastic, bit   \n",
       "5                       time, long, alot, waste, worth, terrible, winning, mil, garbage, half   \n",
       "6       game, nice, good, enjoy, perfect, wonderful, sweet, brilliant, addicted, entertaining   \n",
       "7   app, phone, notification, annoying, uninstalled, uninstall, message, turn, minute, delete   \n",
       "8                           bad, chip, guy, crap, luck, poor, customer, due, system, horrible   \n",
       "9              good, game, poker, favorite, favourite, pro, token, gooood, multiplayer, stuff   \n",
       "10                       update, version, screen, work, load, button, bet, force, close, fold   \n",
       "11                      player, people, fair, bot, high, level, low, computer, stake, cheater   \n",
       "12              poker, year, playing, site, play, experience, online, point, world, realistic   \n",
       "13                    star, play, account, reason, log, app, change, download, facebook, rate   \n",
       "14                          good, game, poker, mind, practice, market, blast, baby, girl, boy   \n",
       "15                              money, real, win, big, lose, people, loose, amount, buy, fake   \n",
       "16           game, love, good, awesome, great, addictive, amazing, excellent, beautiful, busy   \n",
       "17                     table, friend, tournament, option, buddy, place, sit, room, top, small   \n",
       "18                         hand, card, full, pair, pot, straight, flush, kind, random, person   \n",
       "19                   fun, play, lot, easy, great, challenge, exciting, quick, control, simple   \n",
       "\n",
       "    Num_Reviews  Perc_Reviews  1_Star  2_Star  3_Star  4_Star  5_Star  \n",
       "0         39600     20.143446    5909    1423    3088    7362   21818  \n",
       "1         11166      5.679841     289      94     334    1836    8613  \n",
       "2          7868      4.002238    2518     642     936    1296    2476  \n",
       "3          7808      3.971718    3174    1016    1234    1367    1017  \n",
       "4         13832      7.035963     588     219     538    2718    9769  \n",
       "5          7777      3.955949    2138     482     681    1625    2851  \n",
       "6         11632      5.916883     401     101     415    2113    8602  \n",
       "7          6785      3.451345    2669     740     825    1079    1472  \n",
       "8          6312      3.210743    3360     434     563     791    1164  \n",
       "9         10709      5.447378     338      99     454    1981    7837  \n",
       "10         7424      3.776387    3717     901     954    1032     820  \n",
       "11         5768      2.934025    2078     408     587    1036    1659  \n",
       "12         7007      3.564271     852     206     411    1382    4156  \n",
       "13         5304      2.698001    2244     558     669     866     967  \n",
       "14         9451      4.807467     272      84     390    1853    6852  \n",
       "15         5691      2.894857    1990     396     539     864    1902  \n",
       "16         9858      5.014497     166      34     163    1324    8171  \n",
       "17         5961      3.032199    1542     681     982    1441    1315  \n",
       "18         5882      2.992014    2747     697     780     738     920  \n",
       "19        10755      5.470777     284     105     449    2566    7351  "
      ]
     },
     "execution_count": 195,
     "metadata": {},
     "output_type": "execute_result"
    }
   ],
   "source": [
    "df_dominant_topics_dist"
   ]
  },
  {
   "cell_type": "code",
   "execution_count": 197,
   "metadata": {},
   "outputs": [],
   "source": [
    "df_dominant_topics_dist.to_csv('topic_dist.csv', index=False)"
   ]
  },
  {
   "cell_type": "code",
   "execution_count": null,
   "metadata": {},
   "outputs": [],
   "source": []
  }
 ],
 "metadata": {
  "colab": {
   "collapsed_sections": [],
   "name": "topic_modelling.ipynb",
   "provenance": []
  },
  "kernelspec": {
   "display_name": "game-reviews-env",
   "language": "python",
   "name": "game-reviews-env"
  },
  "language_info": {
   "codemirror_mode": {
    "name": "ipython",
    "version": 3
   },
   "file_extension": ".py",
   "mimetype": "text/x-python",
   "name": "python",
   "nbconvert_exporter": "python",
   "pygments_lexer": "ipython3",
   "version": "3.7.4"
  }
 },
 "nbformat": 4,
 "nbformat_minor": 1
}
